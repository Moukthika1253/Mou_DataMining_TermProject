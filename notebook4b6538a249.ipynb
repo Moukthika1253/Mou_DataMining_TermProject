{
 "cells": [
  {
   "cell_type": "code",
   "execution_count": 1,
   "id": "f8a866fc",
   "metadata": {
    "_cell_guid": "b1076dfc-b9ad-4769-8c92-a6c4dae69d19",
    "_uuid": "8f2839f25d086af736a60e9eeb907d3b93b6e0e5",
    "execution": {
     "iopub.execute_input": "2023-03-07T02:27:31.741211Z",
     "iopub.status.busy": "2023-03-07T02:27:31.740592Z",
     "iopub.status.idle": "2023-03-07T02:27:33.073305Z",
     "shell.execute_reply": "2023-03-07T02:27:33.072380Z"
    },
    "papermill": {
     "duration": 1.349096,
     "end_time": "2023-03-07T02:27:33.076111",
     "exception": false,
     "start_time": "2023-03-07T02:27:31.727015",
     "status": "completed"
    },
    "tags": []
   },
   "outputs": [
    {
     "name": "stdout",
     "output_type": "stream",
     "text": [
      "/kaggle/input/titanic/train.csv\n",
      "/kaggle/input/titanic/test.csv\n",
      "/kaggle/input/titanic/gender_submission.csv\n"
     ]
    }
   ],
   "source": [
    "import pandas as pd \n",
    "import numpy as np\n",
    "import os\n",
    "import category_encoders as c\n",
    "\n",
    "for dirname, _, filenames in os.walk('/kaggle/input'):\n",
    "    for filename in filenames:\n",
    "        print(os.path.join(dirname, filename))\n",
    "\n"
   ]
  },
  {
   "cell_type": "markdown",
   "id": "8d1bfe85",
   "metadata": {
    "papermill": {
     "duration": 0.009897,
     "end_time": "2023-03-07T02:27:33.097935",
     "exception": false,
     "start_time": "2023-03-07T02:27:33.088038",
     "status": "completed"
    },
    "tags": []
   },
   "source": [
    "# loading training data"
   ]
  },
  {
   "cell_type": "code",
   "execution_count": 2,
   "id": "fa58ae67",
   "metadata": {
    "execution": {
     "iopub.execute_input": "2023-03-07T02:27:33.120785Z",
     "iopub.status.busy": "2023-03-07T02:27:33.119646Z",
     "iopub.status.idle": "2023-03-07T02:27:33.167348Z",
     "shell.execute_reply": "2023-03-07T02:27:33.166301Z"
    },
    "papermill": {
     "duration": 0.06212,
     "end_time": "2023-03-07T02:27:33.170272",
     "exception": false,
     "start_time": "2023-03-07T02:27:33.108152",
     "status": "completed"
    },
    "tags": []
   },
   "outputs": [
    {
     "data": {
      "text/html": [
       "<div>\n",
       "<style scoped>\n",
       "    .dataframe tbody tr th:only-of-type {\n",
       "        vertical-align: middle;\n",
       "    }\n",
       "\n",
       "    .dataframe tbody tr th {\n",
       "        vertical-align: top;\n",
       "    }\n",
       "\n",
       "    .dataframe thead th {\n",
       "        text-align: right;\n",
       "    }\n",
       "</style>\n",
       "<table border=\"1\" class=\"dataframe\">\n",
       "  <thead>\n",
       "    <tr style=\"text-align: right;\">\n",
       "      <th></th>\n",
       "      <th>PassengerId</th>\n",
       "      <th>Survived</th>\n",
       "      <th>Pclass</th>\n",
       "      <th>Name</th>\n",
       "      <th>Sex</th>\n",
       "      <th>Age</th>\n",
       "      <th>SibSp</th>\n",
       "      <th>Parch</th>\n",
       "      <th>Ticket</th>\n",
       "      <th>Fare</th>\n",
       "      <th>Cabin</th>\n",
       "      <th>Embarked</th>\n",
       "    </tr>\n",
       "  </thead>\n",
       "  <tbody>\n",
       "    <tr>\n",
       "      <th>0</th>\n",
       "      <td>1</td>\n",
       "      <td>0</td>\n",
       "      <td>3</td>\n",
       "      <td>Braund, Mr. Owen Harris</td>\n",
       "      <td>male</td>\n",
       "      <td>22.0</td>\n",
       "      <td>1</td>\n",
       "      <td>0</td>\n",
       "      <td>A/5 21171</td>\n",
       "      <td>7.2500</td>\n",
       "      <td>NaN</td>\n",
       "      <td>S</td>\n",
       "    </tr>\n",
       "    <tr>\n",
       "      <th>1</th>\n",
       "      <td>2</td>\n",
       "      <td>1</td>\n",
       "      <td>1</td>\n",
       "      <td>Cumings, Mrs. John Bradley (Florence Briggs Th...</td>\n",
       "      <td>female</td>\n",
       "      <td>38.0</td>\n",
       "      <td>1</td>\n",
       "      <td>0</td>\n",
       "      <td>PC 17599</td>\n",
       "      <td>71.2833</td>\n",
       "      <td>C85</td>\n",
       "      <td>C</td>\n",
       "    </tr>\n",
       "    <tr>\n",
       "      <th>2</th>\n",
       "      <td>3</td>\n",
       "      <td>1</td>\n",
       "      <td>3</td>\n",
       "      <td>Heikkinen, Miss. Laina</td>\n",
       "      <td>female</td>\n",
       "      <td>26.0</td>\n",
       "      <td>0</td>\n",
       "      <td>0</td>\n",
       "      <td>STON/O2. 3101282</td>\n",
       "      <td>7.9250</td>\n",
       "      <td>NaN</td>\n",
       "      <td>S</td>\n",
       "    </tr>\n",
       "    <tr>\n",
       "      <th>3</th>\n",
       "      <td>4</td>\n",
       "      <td>1</td>\n",
       "      <td>1</td>\n",
       "      <td>Futrelle, Mrs. Jacques Heath (Lily May Peel)</td>\n",
       "      <td>female</td>\n",
       "      <td>35.0</td>\n",
       "      <td>1</td>\n",
       "      <td>0</td>\n",
       "      <td>113803</td>\n",
       "      <td>53.1000</td>\n",
       "      <td>C123</td>\n",
       "      <td>S</td>\n",
       "    </tr>\n",
       "    <tr>\n",
       "      <th>4</th>\n",
       "      <td>5</td>\n",
       "      <td>0</td>\n",
       "      <td>3</td>\n",
       "      <td>Allen, Mr. William Henry</td>\n",
       "      <td>male</td>\n",
       "      <td>35.0</td>\n",
       "      <td>0</td>\n",
       "      <td>0</td>\n",
       "      <td>373450</td>\n",
       "      <td>8.0500</td>\n",
       "      <td>NaN</td>\n",
       "      <td>S</td>\n",
       "    </tr>\n",
       "  </tbody>\n",
       "</table>\n",
       "</div>"
      ],
      "text/plain": [
       "   PassengerId  Survived  Pclass  \\\n",
       "0            1         0       3   \n",
       "1            2         1       1   \n",
       "2            3         1       3   \n",
       "3            4         1       1   \n",
       "4            5         0       3   \n",
       "\n",
       "                                                Name     Sex   Age  SibSp  \\\n",
       "0                            Braund, Mr. Owen Harris    male  22.0      1   \n",
       "1  Cumings, Mrs. John Bradley (Florence Briggs Th...  female  38.0      1   \n",
       "2                             Heikkinen, Miss. Laina  female  26.0      0   \n",
       "3       Futrelle, Mrs. Jacques Heath (Lily May Peel)  female  35.0      1   \n",
       "4                           Allen, Mr. William Henry    male  35.0      0   \n",
       "\n",
       "   Parch            Ticket     Fare Cabin Embarked  \n",
       "0      0         A/5 21171   7.2500   NaN        S  \n",
       "1      0          PC 17599  71.2833   C85        C  \n",
       "2      0  STON/O2. 3101282   7.9250   NaN        S  \n",
       "3      0            113803  53.1000  C123        S  \n",
       "4      0            373450   8.0500   NaN        S  "
      ]
     },
     "execution_count": 2,
     "metadata": {},
     "output_type": "execute_result"
    }
   ],
   "source": [
    "training_data = pd.read_csv(\"/kaggle/input/titanic/train.csv\")\n",
    "training_data.head() #displays top 5 rows from train.csv"
   ]
  },
  {
   "cell_type": "markdown",
   "id": "4d253aad",
   "metadata": {
    "papermill": {
     "duration": 0.011992,
     "end_time": "2023-03-07T02:27:33.193621",
     "exception": false,
     "start_time": "2023-03-07T02:27:33.181629",
     "status": "completed"
    },
    "tags": []
   },
   "source": [
    "# loading test data"
   ]
  },
  {
   "cell_type": "code",
   "execution_count": 3,
   "id": "a4970f7b",
   "metadata": {
    "execution": {
     "iopub.execute_input": "2023-03-07T02:27:33.217597Z",
     "iopub.status.busy": "2023-03-07T02:27:33.216843Z",
     "iopub.status.idle": "2023-03-07T02:27:33.244099Z",
     "shell.execute_reply": "2023-03-07T02:27:33.242836Z"
    },
    "papermill": {
     "duration": 0.041992,
     "end_time": "2023-03-07T02:27:33.246582",
     "exception": false,
     "start_time": "2023-03-07T02:27:33.204590",
     "status": "completed"
    },
    "tags": []
   },
   "outputs": [
    {
     "data": {
      "text/html": [
       "<div>\n",
       "<style scoped>\n",
       "    .dataframe tbody tr th:only-of-type {\n",
       "        vertical-align: middle;\n",
       "    }\n",
       "\n",
       "    .dataframe tbody tr th {\n",
       "        vertical-align: top;\n",
       "    }\n",
       "\n",
       "    .dataframe thead th {\n",
       "        text-align: right;\n",
       "    }\n",
       "</style>\n",
       "<table border=\"1\" class=\"dataframe\">\n",
       "  <thead>\n",
       "    <tr style=\"text-align: right;\">\n",
       "      <th></th>\n",
       "      <th>PassengerId</th>\n",
       "      <th>Pclass</th>\n",
       "      <th>Name</th>\n",
       "      <th>Sex</th>\n",
       "      <th>Age</th>\n",
       "      <th>SibSp</th>\n",
       "      <th>Parch</th>\n",
       "      <th>Ticket</th>\n",
       "      <th>Fare</th>\n",
       "      <th>Cabin</th>\n",
       "      <th>Embarked</th>\n",
       "    </tr>\n",
       "  </thead>\n",
       "  <tbody>\n",
       "    <tr>\n",
       "      <th>0</th>\n",
       "      <td>892</td>\n",
       "      <td>3</td>\n",
       "      <td>Kelly, Mr. James</td>\n",
       "      <td>male</td>\n",
       "      <td>34.5</td>\n",
       "      <td>0</td>\n",
       "      <td>0</td>\n",
       "      <td>330911</td>\n",
       "      <td>7.8292</td>\n",
       "      <td>NaN</td>\n",
       "      <td>Q</td>\n",
       "    </tr>\n",
       "    <tr>\n",
       "      <th>1</th>\n",
       "      <td>893</td>\n",
       "      <td>3</td>\n",
       "      <td>Wilkes, Mrs. James (Ellen Needs)</td>\n",
       "      <td>female</td>\n",
       "      <td>47.0</td>\n",
       "      <td>1</td>\n",
       "      <td>0</td>\n",
       "      <td>363272</td>\n",
       "      <td>7.0000</td>\n",
       "      <td>NaN</td>\n",
       "      <td>S</td>\n",
       "    </tr>\n",
       "    <tr>\n",
       "      <th>2</th>\n",
       "      <td>894</td>\n",
       "      <td>2</td>\n",
       "      <td>Myles, Mr. Thomas Francis</td>\n",
       "      <td>male</td>\n",
       "      <td>62.0</td>\n",
       "      <td>0</td>\n",
       "      <td>0</td>\n",
       "      <td>240276</td>\n",
       "      <td>9.6875</td>\n",
       "      <td>NaN</td>\n",
       "      <td>Q</td>\n",
       "    </tr>\n",
       "    <tr>\n",
       "      <th>3</th>\n",
       "      <td>895</td>\n",
       "      <td>3</td>\n",
       "      <td>Wirz, Mr. Albert</td>\n",
       "      <td>male</td>\n",
       "      <td>27.0</td>\n",
       "      <td>0</td>\n",
       "      <td>0</td>\n",
       "      <td>315154</td>\n",
       "      <td>8.6625</td>\n",
       "      <td>NaN</td>\n",
       "      <td>S</td>\n",
       "    </tr>\n",
       "    <tr>\n",
       "      <th>4</th>\n",
       "      <td>896</td>\n",
       "      <td>3</td>\n",
       "      <td>Hirvonen, Mrs. Alexander (Helga E Lindqvist)</td>\n",
       "      <td>female</td>\n",
       "      <td>22.0</td>\n",
       "      <td>1</td>\n",
       "      <td>1</td>\n",
       "      <td>3101298</td>\n",
       "      <td>12.2875</td>\n",
       "      <td>NaN</td>\n",
       "      <td>S</td>\n",
       "    </tr>\n",
       "  </tbody>\n",
       "</table>\n",
       "</div>"
      ],
      "text/plain": [
       "   PassengerId  Pclass                                          Name     Sex  \\\n",
       "0          892       3                              Kelly, Mr. James    male   \n",
       "1          893       3              Wilkes, Mrs. James (Ellen Needs)  female   \n",
       "2          894       2                     Myles, Mr. Thomas Francis    male   \n",
       "3          895       3                              Wirz, Mr. Albert    male   \n",
       "4          896       3  Hirvonen, Mrs. Alexander (Helga E Lindqvist)  female   \n",
       "\n",
       "    Age  SibSp  Parch   Ticket     Fare Cabin Embarked  \n",
       "0  34.5      0      0   330911   7.8292   NaN        Q  \n",
       "1  47.0      1      0   363272   7.0000   NaN        S  \n",
       "2  62.0      0      0   240276   9.6875   NaN        Q  \n",
       "3  27.0      0      0   315154   8.6625   NaN        S  \n",
       "4  22.0      1      1  3101298  12.2875   NaN        S  "
      ]
     },
     "execution_count": 3,
     "metadata": {},
     "output_type": "execute_result"
    }
   ],
   "source": [
    "testing_data=pd.read_csv(\"/kaggle/input/titanic/test.csv\")\n",
    "testing_data.head()"
   ]
  },
  {
   "cell_type": "markdown",
   "id": "85cb6239",
   "metadata": {
    "papermill": {
     "duration": 0.010249,
     "end_time": "2023-03-07T02:27:33.267588",
     "exception": false,
     "start_time": "2023-03-07T02:27:33.257339",
     "status": "completed"
    },
    "tags": []
   },
   "source": [
    "# % of women survived"
   ]
  },
  {
   "cell_type": "code",
   "execution_count": 4,
   "id": "3c0b780f",
   "metadata": {
    "execution": {
     "iopub.execute_input": "2023-03-07T02:27:33.290523Z",
     "iopub.status.busy": "2023-03-07T02:27:33.290082Z",
     "iopub.status.idle": "2023-03-07T02:27:33.302962Z",
     "shell.execute_reply": "2023-03-07T02:27:33.301473Z"
    },
    "papermill": {
     "duration": 0.028043,
     "end_time": "2023-03-07T02:27:33.305974",
     "exception": false,
     "start_time": "2023-03-07T02:27:33.277931",
     "status": "completed"
    },
    "tags": []
   },
   "outputs": [
    {
     "name": "stdout",
     "output_type": "stream",
     "text": [
      "percentage of women survived:  0.7420382165605095\n"
     ]
    }
   ],
   "source": [
    "women_survived=training_data.loc[training_data.Sex==\"female\"][\"Survived\"]\n",
    "women_per=sum(women_survived)/len(women_survived)\n",
    "print(\"percentage of women survived: \",women_per)"
   ]
  },
  {
   "cell_type": "markdown",
   "id": "23e12ebc",
   "metadata": {
    "papermill": {
     "duration": 0.010185,
     "end_time": "2023-03-07T02:27:33.326690",
     "exception": false,
     "start_time": "2023-03-07T02:27:33.316505",
     "status": "completed"
    },
    "tags": []
   },
   "source": [
    "# % of men survived"
   ]
  },
  {
   "cell_type": "code",
   "execution_count": 5,
   "id": "5e2b9f53",
   "metadata": {
    "execution": {
     "iopub.execute_input": "2023-03-07T02:27:33.349634Z",
     "iopub.status.busy": "2023-03-07T02:27:33.349025Z",
     "iopub.status.idle": "2023-03-07T02:27:33.357552Z",
     "shell.execute_reply": "2023-03-07T02:27:33.356141Z"
    },
    "papermill": {
     "duration": 0.023269,
     "end_time": "2023-03-07T02:27:33.360401",
     "exception": false,
     "start_time": "2023-03-07T02:27:33.337132",
     "status": "completed"
    },
    "tags": []
   },
   "outputs": [
    {
     "name": "stdout",
     "output_type": "stream",
     "text": [
      "percentage of men survived:  0.18890814558058924\n"
     ]
    }
   ],
   "source": [
    "men_survived=training_data.loc[training_data.Sex==\"male\"][\"Survived\"]\n",
    "men_per=sum(men_survived)/len(men_survived)\n",
    "print(\"percentage of men survived: \",men_per)"
   ]
  },
  {
   "cell_type": "markdown",
   "id": "d8dea9e6",
   "metadata": {
    "papermill": {
     "duration": 0.010946,
     "end_time": "2023-03-07T02:27:33.382935",
     "exception": false,
     "start_time": "2023-03-07T02:27:33.371989",
     "status": "completed"
    },
    "tags": []
   },
   "source": [
    "# check if any missing values in train data"
   ]
  },
  {
   "cell_type": "code",
   "execution_count": 6,
   "id": "73cac123",
   "metadata": {
    "execution": {
     "iopub.execute_input": "2023-03-07T02:27:33.408022Z",
     "iopub.status.busy": "2023-03-07T02:27:33.406969Z",
     "iopub.status.idle": "2023-03-07T02:27:33.416997Z",
     "shell.execute_reply": "2023-03-07T02:27:33.416115Z"
    },
    "papermill": {
     "duration": 0.02506,
     "end_time": "2023-03-07T02:27:33.419145",
     "exception": false,
     "start_time": "2023-03-07T02:27:33.394085",
     "status": "completed"
    },
    "tags": []
   },
   "outputs": [
    {
     "data": {
      "text/plain": [
       "PassengerId      0\n",
       "Survived         0\n",
       "Pclass           0\n",
       "Name             0\n",
       "Sex              0\n",
       "Age            177\n",
       "SibSp            0\n",
       "Parch            0\n",
       "Ticket           0\n",
       "Fare             0\n",
       "Cabin          687\n",
       "Embarked         2\n",
       "dtype: int64"
      ]
     },
     "execution_count": 6,
     "metadata": {},
     "output_type": "execute_result"
    }
   ],
   "source": [
    "training_data.isna().sum()"
   ]
  },
  {
   "cell_type": "markdown",
   "id": "dd026c17",
   "metadata": {
    "papermill": {
     "duration": 0.010214,
     "end_time": "2023-03-07T02:27:33.440020",
     "exception": false,
     "start_time": "2023-03-07T02:27:33.429806",
     "status": "completed"
    },
    "tags": []
   },
   "source": [
    "By fixing the missing values in columns Age=177, Cabin=687, Embarked=2 performance can be increased"
   ]
  },
  {
   "cell_type": "markdown",
   "id": "a61e61ac",
   "metadata": {
    "papermill": {
     "duration": 0.010465,
     "end_time": "2023-03-07T02:27:33.461151",
     "exception": false,
     "start_time": "2023-03-07T02:27:33.450686",
     "status": "completed"
    },
    "tags": []
   },
   "source": [
    "# check if any missing values in test data"
   ]
  },
  {
   "cell_type": "code",
   "execution_count": 7,
   "id": "6ee3f6bd",
   "metadata": {
    "execution": {
     "iopub.execute_input": "2023-03-07T02:27:33.484671Z",
     "iopub.status.busy": "2023-03-07T02:27:33.483516Z",
     "iopub.status.idle": "2023-03-07T02:27:33.494273Z",
     "shell.execute_reply": "2023-03-07T02:27:33.493358Z"
    },
    "papermill": {
     "duration": 0.025048,
     "end_time": "2023-03-07T02:27:33.496685",
     "exception": false,
     "start_time": "2023-03-07T02:27:33.471637",
     "status": "completed"
    },
    "tags": []
   },
   "outputs": [
    {
     "data": {
      "text/plain": [
       "PassengerId      0\n",
       "Pclass           0\n",
       "Name             0\n",
       "Sex              0\n",
       "Age             86\n",
       "SibSp            0\n",
       "Parch            0\n",
       "Ticket           0\n",
       "Fare             1\n",
       "Cabin          327\n",
       "Embarked         0\n",
       "dtype: int64"
      ]
     },
     "execution_count": 7,
     "metadata": {},
     "output_type": "execute_result"
    }
   ],
   "source": [
    "testing_data.isna().sum()"
   ]
  },
  {
   "cell_type": "markdown",
   "id": "32a9d7d0",
   "metadata": {
    "papermill": {
     "duration": 0.010693,
     "end_time": "2023-03-07T02:27:33.518719",
     "exception": false,
     "start_time": "2023-03-07T02:27:33.508026",
     "status": "completed"
    },
    "tags": []
   },
   "source": [
    "By fixing the missing values in columns Age=86, Cabin=327 performance can be increased"
   ]
  },
  {
   "cell_type": "markdown",
   "id": "f96e4e98",
   "metadata": {
    "papermill": {
     "duration": 0.011125,
     "end_time": "2023-03-07T02:27:33.540851",
     "exception": false,
     "start_time": "2023-03-07T02:27:33.529726",
     "status": "completed"
    },
    "tags": []
   },
   "source": [
    "# Replacing the missing values in train.csv "
   ]
  },
  {
   "cell_type": "code",
   "execution_count": 8,
   "id": "d09bce0e",
   "metadata": {
    "execution": {
     "iopub.execute_input": "2023-03-07T02:27:33.565380Z",
     "iopub.status.busy": "2023-03-07T02:27:33.564629Z",
     "iopub.status.idle": "2023-03-07T02:27:33.579028Z",
     "shell.execute_reply": "2023-03-07T02:27:33.577938Z"
    },
    "papermill": {
     "duration": 0.029506,
     "end_time": "2023-03-07T02:27:33.581654",
     "exception": false,
     "start_time": "2023-03-07T02:27:33.552148",
     "status": "completed"
    },
    "tags": []
   },
   "outputs": [],
   "source": [
    "training_data['Age']=training_data['Age'].fillna(training_data['Age'].median())\n",
    "training_data['Fare']=training_data['Fare'].fillna(training_data['Fare'].median())\n",
    "training_data['Cabin']=training_data['Cabin'].fillna(training_data['Cabin'].mode()[0])\n",
    "training_data['Embarked']=training_data['Embarked'].fillna(training_data['Embarked'].mode()[0])"
   ]
  },
  {
   "cell_type": "markdown",
   "id": "67df5a65",
   "metadata": {
    "papermill": {
     "duration": 0.010746,
     "end_time": "2023-03-07T02:27:33.603620",
     "exception": false,
     "start_time": "2023-03-07T02:27:33.592874",
     "status": "completed"
    },
    "tags": []
   },
   "source": [
    "Since the type of data in Age column is numerical, I have replaced the missing values with their mean. For the categorical data in columns Cabin,Embarked, replaced missing values with their most repeated value(mode)"
   ]
  },
  {
   "cell_type": "code",
   "execution_count": 9,
   "id": "fa0396d3",
   "metadata": {
    "execution": {
     "iopub.execute_input": "2023-03-07T02:27:33.628120Z",
     "iopub.status.busy": "2023-03-07T02:27:33.626896Z",
     "iopub.status.idle": "2023-03-07T02:27:33.636763Z",
     "shell.execute_reply": "2023-03-07T02:27:33.635599Z"
    },
    "papermill": {
     "duration": 0.024346,
     "end_time": "2023-03-07T02:27:33.639188",
     "exception": false,
     "start_time": "2023-03-07T02:27:33.614842",
     "status": "completed"
    },
    "tags": []
   },
   "outputs": [
    {
     "data": {
      "text/plain": [
       "PassengerId    0\n",
       "Survived       0\n",
       "Pclass         0\n",
       "Name           0\n",
       "Sex            0\n",
       "Age            0\n",
       "SibSp          0\n",
       "Parch          0\n",
       "Ticket         0\n",
       "Fare           0\n",
       "Cabin          0\n",
       "Embarked       0\n",
       "dtype: int64"
      ]
     },
     "execution_count": 9,
     "metadata": {},
     "output_type": "execute_result"
    }
   ],
   "source": [
    "training_data.isna().sum()"
   ]
  },
  {
   "cell_type": "markdown",
   "id": "10d31bc0",
   "metadata": {
    "papermill": {
     "duration": 0.011096,
     "end_time": "2023-03-07T02:27:33.661627",
     "exception": false,
     "start_time": "2023-03-07T02:27:33.650531",
     "status": "completed"
    },
    "tags": []
   },
   "source": [
    "# Replacing missing values in test.csv"
   ]
  },
  {
   "cell_type": "code",
   "execution_count": 10,
   "id": "0ecf7c3f",
   "metadata": {
    "execution": {
     "iopub.execute_input": "2023-03-07T02:27:33.686769Z",
     "iopub.status.busy": "2023-03-07T02:27:33.686311Z",
     "iopub.status.idle": "2023-03-07T02:27:33.697286Z",
     "shell.execute_reply": "2023-03-07T02:27:33.696200Z"
    },
    "papermill": {
     "duration": 0.026824,
     "end_time": "2023-03-07T02:27:33.699729",
     "exception": false,
     "start_time": "2023-03-07T02:27:33.672905",
     "status": "completed"
    },
    "tags": []
   },
   "outputs": [],
   "source": [
    "testing_data['Age']=testing_data['Age'].fillna(testing_data['Age'].median())\n",
    "testing_data['Fare']=testing_data['Fare'].fillna(testing_data['Fare'].median())\n",
    "testing_data['Cabin']=training_data['Cabin'].fillna(testing_data['Cabin'].mode()[0])\n",
    "testing_data['Embarked']=testing_data['Embarked'].fillna(testing_data['Embarked'].mode()[0])"
   ]
  },
  {
   "cell_type": "markdown",
   "id": "66be073f",
   "metadata": {
    "papermill": {
     "duration": 0.010679,
     "end_time": "2023-03-07T02:27:33.721411",
     "exception": false,
     "start_time": "2023-03-07T02:27:33.710732",
     "status": "completed"
    },
    "tags": []
   },
   "source": [
    "Since the type of data in columns Age,Fare is numerical, I have replaced the missing values with their mean. For the categorical data in columns Cabin,Embarked, replaced missing values with their most repeated value(mode)"
   ]
  },
  {
   "cell_type": "code",
   "execution_count": 11,
   "id": "a977b2a5",
   "metadata": {
    "execution": {
     "iopub.execute_input": "2023-03-07T02:27:33.745752Z",
     "iopub.status.busy": "2023-03-07T02:27:33.744942Z",
     "iopub.status.idle": "2023-03-07T02:27:33.755511Z",
     "shell.execute_reply": "2023-03-07T02:27:33.754289Z"
    },
    "papermill": {
     "duration": 0.025752,
     "end_time": "2023-03-07T02:27:33.758035",
     "exception": false,
     "start_time": "2023-03-07T02:27:33.732283",
     "status": "completed"
    },
    "tags": []
   },
   "outputs": [
    {
     "data": {
      "text/plain": [
       "PassengerId    0\n",
       "Pclass         0\n",
       "Name           0\n",
       "Sex            0\n",
       "Age            0\n",
       "SibSp          0\n",
       "Parch          0\n",
       "Ticket         0\n",
       "Fare           0\n",
       "Cabin          0\n",
       "Embarked       0\n",
       "dtype: int64"
      ]
     },
     "execution_count": 11,
     "metadata": {},
     "output_type": "execute_result"
    }
   ],
   "source": [
    "testing_data.isna().sum()"
   ]
  },
  {
   "cell_type": "markdown",
   "id": "e3c51cc0",
   "metadata": {
    "papermill": {
     "duration": 0.010525,
     "end_time": "2023-03-07T02:27:33.779584",
     "exception": false,
     "start_time": "2023-03-07T02:27:33.769059",
     "status": "completed"
    },
    "tags": []
   },
   "source": [
    "# converting training categorical data to numerical data"
   ]
  },
  {
   "cell_type": "code",
   "execution_count": 12,
   "id": "16accd1c",
   "metadata": {
    "execution": {
     "iopub.execute_input": "2023-03-07T02:27:33.804467Z",
     "iopub.status.busy": "2023-03-07T02:27:33.804052Z",
     "iopub.status.idle": "2023-03-07T02:27:33.818918Z",
     "shell.execute_reply": "2023-03-07T02:27:33.817789Z"
    },
    "papermill": {
     "duration": 0.030207,
     "end_time": "2023-03-07T02:27:33.821557",
     "exception": false,
     "start_time": "2023-03-07T02:27:33.791350",
     "status": "completed"
    },
    "tags": []
   },
   "outputs": [],
   "source": [
    "training_data['Name'] =training_data['Name'].astype('category').cat.codes\n",
    "training_data['Sex'] =training_data['Sex'].astype('category').cat.codes\n",
    "training_data['Embarked'] =training_data['Embarked'].astype('category').cat.codes\n",
    "training_data['Cabin'] =training_data['Cabin'].astype('category').cat.codes\n",
    "training_data['Ticket'] =training_data['Ticket'].astype('category').cat.codes"
   ]
  },
  {
   "cell_type": "markdown",
   "id": "43cc29fb",
   "metadata": {
    "papermill": {
     "duration": 0.01069,
     "end_time": "2023-03-07T02:27:33.843448",
     "exception": false,
     "start_time": "2023-03-07T02:27:33.832758",
     "status": "completed"
    },
    "tags": []
   },
   "source": [
    "# converting testing categorical data to numerical data"
   ]
  },
  {
   "cell_type": "code",
   "execution_count": 13,
   "id": "a26d07bb",
   "metadata": {
    "execution": {
     "iopub.execute_input": "2023-03-07T02:27:33.867615Z",
     "iopub.status.busy": "2023-03-07T02:27:33.867187Z",
     "iopub.status.idle": "2023-03-07T02:27:33.881066Z",
     "shell.execute_reply": "2023-03-07T02:27:33.879783Z"
    },
    "papermill": {
     "duration": 0.029594,
     "end_time": "2023-03-07T02:27:33.884102",
     "exception": false,
     "start_time": "2023-03-07T02:27:33.854508",
     "status": "completed"
    },
    "tags": []
   },
   "outputs": [],
   "source": [
    "testing_data['Name'] =testing_data['Name'].astype('category').cat.codes\n",
    "testing_data['Sex'] =testing_data['Sex'].astype('category').cat.codes\n",
    "testing_data['Embarked'] =testing_data['Embarked'].astype('category').cat.codes\n",
    "testing_data['Cabin'] =testing_data['Cabin'].astype('category').cat.codes\n",
    "testing_data['Ticket'] =testing_data['Ticket'].astype('category').cat.codes"
   ]
  },
  {
   "cell_type": "markdown",
   "id": "29ee0ec8",
   "metadata": {
    "papermill": {
     "duration": 0.010612,
     "end_time": "2023-03-07T02:27:33.905763",
     "exception": false,
     "start_time": "2023-03-07T02:27:33.895151",
     "status": "completed"
    },
    "tags": []
   },
   "source": [
    "# Encoding training data"
   ]
  },
  {
   "cell_type": "code",
   "execution_count": 14,
   "id": "8ed60ee0",
   "metadata": {
    "execution": {
     "iopub.execute_input": "2023-03-07T02:27:33.929778Z",
     "iopub.status.busy": "2023-03-07T02:27:33.929385Z",
     "iopub.status.idle": "2023-03-07T02:27:34.039424Z",
     "shell.execute_reply": "2023-03-07T02:27:34.038194Z"
    },
    "papermill": {
     "duration": 0.125122,
     "end_time": "2023-03-07T02:27:34.041893",
     "exception": false,
     "start_time": "2023-03-07T02:27:33.916771",
     "status": "completed"
    },
    "tags": []
   },
   "outputs": [
    {
     "data": {
      "text/html": [
       "<div>\n",
       "<style scoped>\n",
       "    .dataframe tbody tr th:only-of-type {\n",
       "        vertical-align: middle;\n",
       "    }\n",
       "\n",
       "    .dataframe tbody tr th {\n",
       "        vertical-align: top;\n",
       "    }\n",
       "\n",
       "    .dataframe thead th {\n",
       "        text-align: right;\n",
       "    }\n",
       "</style>\n",
       "<table border=\"1\" class=\"dataframe\">\n",
       "  <thead>\n",
       "    <tr style=\"text-align: right;\">\n",
       "      <th></th>\n",
       "      <th>PassengerId</th>\n",
       "      <th>Survived</th>\n",
       "      <th>Pclass</th>\n",
       "      <th>Name_0</th>\n",
       "      <th>Name_1</th>\n",
       "      <th>Name_2</th>\n",
       "      <th>Name_3</th>\n",
       "      <th>Name_4</th>\n",
       "      <th>Name_5</th>\n",
       "      <th>Name_6</th>\n",
       "      <th>...</th>\n",
       "      <th>Cabin_0</th>\n",
       "      <th>Cabin_1</th>\n",
       "      <th>Cabin_2</th>\n",
       "      <th>Cabin_3</th>\n",
       "      <th>Cabin_4</th>\n",
       "      <th>Cabin_5</th>\n",
       "      <th>Cabin_6</th>\n",
       "      <th>Cabin_7</th>\n",
       "      <th>Embarked_0</th>\n",
       "      <th>Embarked_1</th>\n",
       "    </tr>\n",
       "  </thead>\n",
       "  <tbody>\n",
       "    <tr>\n",
       "      <th>0</th>\n",
       "      <td>1</td>\n",
       "      <td>0</td>\n",
       "      <td>3</td>\n",
       "      <td>0</td>\n",
       "      <td>0</td>\n",
       "      <td>0</td>\n",
       "      <td>0</td>\n",
       "      <td>0</td>\n",
       "      <td>0</td>\n",
       "      <td>0</td>\n",
       "      <td>...</td>\n",
       "      <td>0</td>\n",
       "      <td>0</td>\n",
       "      <td>0</td>\n",
       "      <td>0</td>\n",
       "      <td>0</td>\n",
       "      <td>0</td>\n",
       "      <td>0</td>\n",
       "      <td>1</td>\n",
       "      <td>0</td>\n",
       "      <td>1</td>\n",
       "    </tr>\n",
       "    <tr>\n",
       "      <th>1</th>\n",
       "      <td>2</td>\n",
       "      <td>1</td>\n",
       "      <td>1</td>\n",
       "      <td>0</td>\n",
       "      <td>0</td>\n",
       "      <td>0</td>\n",
       "      <td>0</td>\n",
       "      <td>0</td>\n",
       "      <td>0</td>\n",
       "      <td>0</td>\n",
       "      <td>...</td>\n",
       "      <td>0</td>\n",
       "      <td>0</td>\n",
       "      <td>0</td>\n",
       "      <td>0</td>\n",
       "      <td>0</td>\n",
       "      <td>0</td>\n",
       "      <td>1</td>\n",
       "      <td>0</td>\n",
       "      <td>1</td>\n",
       "      <td>0</td>\n",
       "    </tr>\n",
       "    <tr>\n",
       "      <th>2</th>\n",
       "      <td>3</td>\n",
       "      <td>1</td>\n",
       "      <td>3</td>\n",
       "      <td>0</td>\n",
       "      <td>0</td>\n",
       "      <td>0</td>\n",
       "      <td>0</td>\n",
       "      <td>0</td>\n",
       "      <td>0</td>\n",
       "      <td>0</td>\n",
       "      <td>...</td>\n",
       "      <td>0</td>\n",
       "      <td>0</td>\n",
       "      <td>0</td>\n",
       "      <td>0</td>\n",
       "      <td>0</td>\n",
       "      <td>0</td>\n",
       "      <td>0</td>\n",
       "      <td>1</td>\n",
       "      <td>0</td>\n",
       "      <td>1</td>\n",
       "    </tr>\n",
       "    <tr>\n",
       "      <th>3</th>\n",
       "      <td>4</td>\n",
       "      <td>1</td>\n",
       "      <td>1</td>\n",
       "      <td>0</td>\n",
       "      <td>0</td>\n",
       "      <td>0</td>\n",
       "      <td>0</td>\n",
       "      <td>0</td>\n",
       "      <td>0</td>\n",
       "      <td>0</td>\n",
       "      <td>...</td>\n",
       "      <td>0</td>\n",
       "      <td>0</td>\n",
       "      <td>0</td>\n",
       "      <td>0</td>\n",
       "      <td>0</td>\n",
       "      <td>0</td>\n",
       "      <td>1</td>\n",
       "      <td>1</td>\n",
       "      <td>0</td>\n",
       "      <td>1</td>\n",
       "    </tr>\n",
       "    <tr>\n",
       "      <th>4</th>\n",
       "      <td>5</td>\n",
       "      <td>0</td>\n",
       "      <td>3</td>\n",
       "      <td>0</td>\n",
       "      <td>0</td>\n",
       "      <td>0</td>\n",
       "      <td>0</td>\n",
       "      <td>0</td>\n",
       "      <td>0</td>\n",
       "      <td>0</td>\n",
       "      <td>...</td>\n",
       "      <td>0</td>\n",
       "      <td>0</td>\n",
       "      <td>0</td>\n",
       "      <td>0</td>\n",
       "      <td>0</td>\n",
       "      <td>0</td>\n",
       "      <td>0</td>\n",
       "      <td>1</td>\n",
       "      <td>0</td>\n",
       "      <td>1</td>\n",
       "    </tr>\n",
       "    <tr>\n",
       "      <th>...</th>\n",
       "      <td>...</td>\n",
       "      <td>...</td>\n",
       "      <td>...</td>\n",
       "      <td>...</td>\n",
       "      <td>...</td>\n",
       "      <td>...</td>\n",
       "      <td>...</td>\n",
       "      <td>...</td>\n",
       "      <td>...</td>\n",
       "      <td>...</td>\n",
       "      <td>...</td>\n",
       "      <td>...</td>\n",
       "      <td>...</td>\n",
       "      <td>...</td>\n",
       "      <td>...</td>\n",
       "      <td>...</td>\n",
       "      <td>...</td>\n",
       "      <td>...</td>\n",
       "      <td>...</td>\n",
       "      <td>...</td>\n",
       "      <td>...</td>\n",
       "    </tr>\n",
       "    <tr>\n",
       "      <th>886</th>\n",
       "      <td>887</td>\n",
       "      <td>0</td>\n",
       "      <td>2</td>\n",
       "      <td>1</td>\n",
       "      <td>1</td>\n",
       "      <td>0</td>\n",
       "      <td>1</td>\n",
       "      <td>1</td>\n",
       "      <td>1</td>\n",
       "      <td>0</td>\n",
       "      <td>...</td>\n",
       "      <td>0</td>\n",
       "      <td>0</td>\n",
       "      <td>0</td>\n",
       "      <td>0</td>\n",
       "      <td>0</td>\n",
       "      <td>0</td>\n",
       "      <td>0</td>\n",
       "      <td>1</td>\n",
       "      <td>0</td>\n",
       "      <td>1</td>\n",
       "    </tr>\n",
       "    <tr>\n",
       "      <th>887</th>\n",
       "      <td>888</td>\n",
       "      <td>1</td>\n",
       "      <td>1</td>\n",
       "      <td>1</td>\n",
       "      <td>1</td>\n",
       "      <td>0</td>\n",
       "      <td>1</td>\n",
       "      <td>1</td>\n",
       "      <td>1</td>\n",
       "      <td>1</td>\n",
       "      <td>...</td>\n",
       "      <td>1</td>\n",
       "      <td>0</td>\n",
       "      <td>0</td>\n",
       "      <td>1</td>\n",
       "      <td>0</td>\n",
       "      <td>0</td>\n",
       "      <td>1</td>\n",
       "      <td>0</td>\n",
       "      <td>0</td>\n",
       "      <td>1</td>\n",
       "    </tr>\n",
       "    <tr>\n",
       "      <th>888</th>\n",
       "      <td>889</td>\n",
       "      <td>0</td>\n",
       "      <td>3</td>\n",
       "      <td>1</td>\n",
       "      <td>1</td>\n",
       "      <td>0</td>\n",
       "      <td>1</td>\n",
       "      <td>1</td>\n",
       "      <td>1</td>\n",
       "      <td>1</td>\n",
       "      <td>...</td>\n",
       "      <td>0</td>\n",
       "      <td>0</td>\n",
       "      <td>0</td>\n",
       "      <td>0</td>\n",
       "      <td>0</td>\n",
       "      <td>0</td>\n",
       "      <td>0</td>\n",
       "      <td>1</td>\n",
       "      <td>0</td>\n",
       "      <td>1</td>\n",
       "    </tr>\n",
       "    <tr>\n",
       "      <th>889</th>\n",
       "      <td>890</td>\n",
       "      <td>1</td>\n",
       "      <td>1</td>\n",
       "      <td>1</td>\n",
       "      <td>1</td>\n",
       "      <td>0</td>\n",
       "      <td>1</td>\n",
       "      <td>1</td>\n",
       "      <td>1</td>\n",
       "      <td>1</td>\n",
       "      <td>...</td>\n",
       "      <td>1</td>\n",
       "      <td>0</td>\n",
       "      <td>0</td>\n",
       "      <td>1</td>\n",
       "      <td>0</td>\n",
       "      <td>0</td>\n",
       "      <td>1</td>\n",
       "      <td>1</td>\n",
       "      <td>1</td>\n",
       "      <td>0</td>\n",
       "    </tr>\n",
       "    <tr>\n",
       "      <th>890</th>\n",
       "      <td>891</td>\n",
       "      <td>0</td>\n",
       "      <td>3</td>\n",
       "      <td>1</td>\n",
       "      <td>1</td>\n",
       "      <td>0</td>\n",
       "      <td>1</td>\n",
       "      <td>1</td>\n",
       "      <td>1</td>\n",
       "      <td>1</td>\n",
       "      <td>...</td>\n",
       "      <td>0</td>\n",
       "      <td>0</td>\n",
       "      <td>0</td>\n",
       "      <td>0</td>\n",
       "      <td>0</td>\n",
       "      <td>0</td>\n",
       "      <td>0</td>\n",
       "      <td>1</td>\n",
       "      <td>1</td>\n",
       "      <td>1</td>\n",
       "    </tr>\n",
       "  </tbody>\n",
       "</table>\n",
       "<p>891 rows × 39 columns</p>\n",
       "</div>"
      ],
      "text/plain": [
       "     PassengerId  Survived  Pclass  Name_0  Name_1  Name_2  Name_3  Name_4  \\\n",
       "0              1         0       3       0       0       0       0       0   \n",
       "1              2         1       1       0       0       0       0       0   \n",
       "2              3         1       3       0       0       0       0       0   \n",
       "3              4         1       1       0       0       0       0       0   \n",
       "4              5         0       3       0       0       0       0       0   \n",
       "..           ...       ...     ...     ...     ...     ...     ...     ...   \n",
       "886          887         0       2       1       1       0       1       1   \n",
       "887          888         1       1       1       1       0       1       1   \n",
       "888          889         0       3       1       1       0       1       1   \n",
       "889          890         1       1       1       1       0       1       1   \n",
       "890          891         0       3       1       1       0       1       1   \n",
       "\n",
       "     Name_5  Name_6  ...  Cabin_0  Cabin_1  Cabin_2  Cabin_3  Cabin_4  \\\n",
       "0         0       0  ...        0        0        0        0        0   \n",
       "1         0       0  ...        0        0        0        0        0   \n",
       "2         0       0  ...        0        0        0        0        0   \n",
       "3         0       0  ...        0        0        0        0        0   \n",
       "4         0       0  ...        0        0        0        0        0   \n",
       "..      ...     ...  ...      ...      ...      ...      ...      ...   \n",
       "886       1       0  ...        0        0        0        0        0   \n",
       "887       1       1  ...        1        0        0        1        0   \n",
       "888       1       1  ...        0        0        0        0        0   \n",
       "889       1       1  ...        1        0        0        1        0   \n",
       "890       1       1  ...        0        0        0        0        0   \n",
       "\n",
       "     Cabin_5  Cabin_6  Cabin_7  Embarked_0  Embarked_1  \n",
       "0          0        0        1           0           1  \n",
       "1          0        1        0           1           0  \n",
       "2          0        0        1           0           1  \n",
       "3          0        1        1           0           1  \n",
       "4          0        0        1           0           1  \n",
       "..       ...      ...      ...         ...         ...  \n",
       "886        0        0        1           0           1  \n",
       "887        0        1        0           0           1  \n",
       "888        0        0        1           0           1  \n",
       "889        0        1        1           1           0  \n",
       "890        0        0        1           1           1  \n",
       "\n",
       "[891 rows x 39 columns]"
      ]
     },
     "execution_count": 14,
     "metadata": {},
     "output_type": "execute_result"
    }
   ],
   "source": [
    "encoder=c.BinaryEncoder(cols=['Name','Sex','Ticket','Cabin','Embarked'],return_df=True)\n",
    "encoder.fit_transform(training_data)"
   ]
  },
  {
   "cell_type": "markdown",
   "id": "06aaf9e8",
   "metadata": {
    "papermill": {
     "duration": 0.011183,
     "end_time": "2023-03-07T02:27:34.064681",
     "exception": false,
     "start_time": "2023-03-07T02:27:34.053498",
     "status": "completed"
    },
    "tags": []
   },
   "source": [
    "# Encoding testing data"
   ]
  },
  {
   "cell_type": "code",
   "execution_count": 15,
   "id": "6032e005",
   "metadata": {
    "execution": {
     "iopub.execute_input": "2023-03-07T02:27:34.089364Z",
     "iopub.status.busy": "2023-03-07T02:27:34.088924Z",
     "iopub.status.idle": "2023-03-07T02:27:34.185864Z",
     "shell.execute_reply": "2023-03-07T02:27:34.184871Z"
    },
    "papermill": {
     "duration": 0.112402,
     "end_time": "2023-03-07T02:27:34.188484",
     "exception": false,
     "start_time": "2023-03-07T02:27:34.076082",
     "status": "completed"
    },
    "tags": []
   },
   "outputs": [
    {
     "data": {
      "text/html": [
       "<div>\n",
       "<style scoped>\n",
       "    .dataframe tbody tr th:only-of-type {\n",
       "        vertical-align: middle;\n",
       "    }\n",
       "\n",
       "    .dataframe tbody tr th {\n",
       "        vertical-align: top;\n",
       "    }\n",
       "\n",
       "    .dataframe thead th {\n",
       "        text-align: right;\n",
       "    }\n",
       "</style>\n",
       "<table border=\"1\" class=\"dataframe\">\n",
       "  <thead>\n",
       "    <tr style=\"text-align: right;\">\n",
       "      <th></th>\n",
       "      <th>PassengerId</th>\n",
       "      <th>Pclass</th>\n",
       "      <th>Name_0</th>\n",
       "      <th>Name_1</th>\n",
       "      <th>Name_2</th>\n",
       "      <th>Name_3</th>\n",
       "      <th>Name_4</th>\n",
       "      <th>Name_5</th>\n",
       "      <th>Name_6</th>\n",
       "      <th>Name_7</th>\n",
       "      <th>...</th>\n",
       "      <th>Fare</th>\n",
       "      <th>Cabin_0</th>\n",
       "      <th>Cabin_1</th>\n",
       "      <th>Cabin_2</th>\n",
       "      <th>Cabin_3</th>\n",
       "      <th>Cabin_4</th>\n",
       "      <th>Cabin_5</th>\n",
       "      <th>Cabin_6</th>\n",
       "      <th>Embarked_0</th>\n",
       "      <th>Embarked_1</th>\n",
       "    </tr>\n",
       "  </thead>\n",
       "  <tbody>\n",
       "    <tr>\n",
       "      <th>0</th>\n",
       "      <td>892</td>\n",
       "      <td>3</td>\n",
       "      <td>0</td>\n",
       "      <td>0</td>\n",
       "      <td>0</td>\n",
       "      <td>0</td>\n",
       "      <td>0</td>\n",
       "      <td>0</td>\n",
       "      <td>0</td>\n",
       "      <td>0</td>\n",
       "      <td>...</td>\n",
       "      <td>7.8292</td>\n",
       "      <td>0</td>\n",
       "      <td>0</td>\n",
       "      <td>0</td>\n",
       "      <td>0</td>\n",
       "      <td>0</td>\n",
       "      <td>0</td>\n",
       "      <td>1</td>\n",
       "      <td>0</td>\n",
       "      <td>1</td>\n",
       "    </tr>\n",
       "    <tr>\n",
       "      <th>1</th>\n",
       "      <td>893</td>\n",
       "      <td>3</td>\n",
       "      <td>0</td>\n",
       "      <td>0</td>\n",
       "      <td>0</td>\n",
       "      <td>0</td>\n",
       "      <td>0</td>\n",
       "      <td>0</td>\n",
       "      <td>0</td>\n",
       "      <td>1</td>\n",
       "      <td>...</td>\n",
       "      <td>7.0000</td>\n",
       "      <td>0</td>\n",
       "      <td>0</td>\n",
       "      <td>0</td>\n",
       "      <td>0</td>\n",
       "      <td>0</td>\n",
       "      <td>1</td>\n",
       "      <td>0</td>\n",
       "      <td>1</td>\n",
       "      <td>0</td>\n",
       "    </tr>\n",
       "    <tr>\n",
       "      <th>2</th>\n",
       "      <td>894</td>\n",
       "      <td>2</td>\n",
       "      <td>0</td>\n",
       "      <td>0</td>\n",
       "      <td>0</td>\n",
       "      <td>0</td>\n",
       "      <td>0</td>\n",
       "      <td>0</td>\n",
       "      <td>0</td>\n",
       "      <td>1</td>\n",
       "      <td>...</td>\n",
       "      <td>9.6875</td>\n",
       "      <td>0</td>\n",
       "      <td>0</td>\n",
       "      <td>0</td>\n",
       "      <td>0</td>\n",
       "      <td>0</td>\n",
       "      <td>0</td>\n",
       "      <td>1</td>\n",
       "      <td>0</td>\n",
       "      <td>1</td>\n",
       "    </tr>\n",
       "    <tr>\n",
       "      <th>3</th>\n",
       "      <td>895</td>\n",
       "      <td>3</td>\n",
       "      <td>0</td>\n",
       "      <td>0</td>\n",
       "      <td>0</td>\n",
       "      <td>0</td>\n",
       "      <td>0</td>\n",
       "      <td>0</td>\n",
       "      <td>1</td>\n",
       "      <td>0</td>\n",
       "      <td>...</td>\n",
       "      <td>8.6625</td>\n",
       "      <td>0</td>\n",
       "      <td>0</td>\n",
       "      <td>0</td>\n",
       "      <td>0</td>\n",
       "      <td>0</td>\n",
       "      <td>1</td>\n",
       "      <td>1</td>\n",
       "      <td>1</td>\n",
       "      <td>0</td>\n",
       "    </tr>\n",
       "    <tr>\n",
       "      <th>4</th>\n",
       "      <td>896</td>\n",
       "      <td>3</td>\n",
       "      <td>0</td>\n",
       "      <td>0</td>\n",
       "      <td>0</td>\n",
       "      <td>0</td>\n",
       "      <td>0</td>\n",
       "      <td>0</td>\n",
       "      <td>1</td>\n",
       "      <td>0</td>\n",
       "      <td>...</td>\n",
       "      <td>12.2875</td>\n",
       "      <td>0</td>\n",
       "      <td>0</td>\n",
       "      <td>0</td>\n",
       "      <td>0</td>\n",
       "      <td>0</td>\n",
       "      <td>0</td>\n",
       "      <td>1</td>\n",
       "      <td>1</td>\n",
       "      <td>0</td>\n",
       "    </tr>\n",
       "    <tr>\n",
       "      <th>...</th>\n",
       "      <td>...</td>\n",
       "      <td>...</td>\n",
       "      <td>...</td>\n",
       "      <td>...</td>\n",
       "      <td>...</td>\n",
       "      <td>...</td>\n",
       "      <td>...</td>\n",
       "      <td>...</td>\n",
       "      <td>...</td>\n",
       "      <td>...</td>\n",
       "      <td>...</td>\n",
       "      <td>...</td>\n",
       "      <td>...</td>\n",
       "      <td>...</td>\n",
       "      <td>...</td>\n",
       "      <td>...</td>\n",
       "      <td>...</td>\n",
       "      <td>...</td>\n",
       "      <td>...</td>\n",
       "      <td>...</td>\n",
       "      <td>...</td>\n",
       "    </tr>\n",
       "    <tr>\n",
       "      <th>413</th>\n",
       "      <td>1305</td>\n",
       "      <td>3</td>\n",
       "      <td>1</td>\n",
       "      <td>1</td>\n",
       "      <td>0</td>\n",
       "      <td>0</td>\n",
       "      <td>1</td>\n",
       "      <td>1</td>\n",
       "      <td>1</td>\n",
       "      <td>1</td>\n",
       "      <td>...</td>\n",
       "      <td>8.0500</td>\n",
       "      <td>0</td>\n",
       "      <td>0</td>\n",
       "      <td>0</td>\n",
       "      <td>0</td>\n",
       "      <td>0</td>\n",
       "      <td>0</td>\n",
       "      <td>1</td>\n",
       "      <td>1</td>\n",
       "      <td>0</td>\n",
       "    </tr>\n",
       "    <tr>\n",
       "      <th>414</th>\n",
       "      <td>1306</td>\n",
       "      <td>1</td>\n",
       "      <td>1</td>\n",
       "      <td>1</td>\n",
       "      <td>0</td>\n",
       "      <td>0</td>\n",
       "      <td>1</td>\n",
       "      <td>1</td>\n",
       "      <td>1</td>\n",
       "      <td>1</td>\n",
       "      <td>...</td>\n",
       "      <td>108.9000</td>\n",
       "      <td>0</td>\n",
       "      <td>0</td>\n",
       "      <td>0</td>\n",
       "      <td>0</td>\n",
       "      <td>0</td>\n",
       "      <td>0</td>\n",
       "      <td>1</td>\n",
       "      <td>1</td>\n",
       "      <td>1</td>\n",
       "    </tr>\n",
       "    <tr>\n",
       "      <th>415</th>\n",
       "      <td>1307</td>\n",
       "      <td>3</td>\n",
       "      <td>1</td>\n",
       "      <td>1</td>\n",
       "      <td>0</td>\n",
       "      <td>1</td>\n",
       "      <td>0</td>\n",
       "      <td>0</td>\n",
       "      <td>0</td>\n",
       "      <td>0</td>\n",
       "      <td>...</td>\n",
       "      <td>7.2500</td>\n",
       "      <td>0</td>\n",
       "      <td>0</td>\n",
       "      <td>0</td>\n",
       "      <td>0</td>\n",
       "      <td>0</td>\n",
       "      <td>0</td>\n",
       "      <td>1</td>\n",
       "      <td>1</td>\n",
       "      <td>0</td>\n",
       "    </tr>\n",
       "    <tr>\n",
       "      <th>416</th>\n",
       "      <td>1308</td>\n",
       "      <td>3</td>\n",
       "      <td>1</td>\n",
       "      <td>1</td>\n",
       "      <td>0</td>\n",
       "      <td>1</td>\n",
       "      <td>0</td>\n",
       "      <td>0</td>\n",
       "      <td>0</td>\n",
       "      <td>0</td>\n",
       "      <td>...</td>\n",
       "      <td>8.0500</td>\n",
       "      <td>0</td>\n",
       "      <td>0</td>\n",
       "      <td>0</td>\n",
       "      <td>0</td>\n",
       "      <td>0</td>\n",
       "      <td>0</td>\n",
       "      <td>1</td>\n",
       "      <td>1</td>\n",
       "      <td>0</td>\n",
       "    </tr>\n",
       "    <tr>\n",
       "      <th>417</th>\n",
       "      <td>1309</td>\n",
       "      <td>3</td>\n",
       "      <td>1</td>\n",
       "      <td>1</td>\n",
       "      <td>0</td>\n",
       "      <td>1</td>\n",
       "      <td>0</td>\n",
       "      <td>0</td>\n",
       "      <td>0</td>\n",
       "      <td>1</td>\n",
       "      <td>...</td>\n",
       "      <td>22.3583</td>\n",
       "      <td>0</td>\n",
       "      <td>0</td>\n",
       "      <td>0</td>\n",
       "      <td>0</td>\n",
       "      <td>0</td>\n",
       "      <td>0</td>\n",
       "      <td>1</td>\n",
       "      <td>1</td>\n",
       "      <td>1</td>\n",
       "    </tr>\n",
       "  </tbody>\n",
       "</table>\n",
       "<p>418 rows × 35 columns</p>\n",
       "</div>"
      ],
      "text/plain": [
       "     PassengerId  Pclass  Name_0  Name_1  Name_2  Name_3  Name_4  Name_5  \\\n",
       "0            892       3       0       0       0       0       0       0   \n",
       "1            893       3       0       0       0       0       0       0   \n",
       "2            894       2       0       0       0       0       0       0   \n",
       "3            895       3       0       0       0       0       0       0   \n",
       "4            896       3       0       0       0       0       0       0   \n",
       "..           ...     ...     ...     ...     ...     ...     ...     ...   \n",
       "413         1305       3       1       1       0       0       1       1   \n",
       "414         1306       1       1       1       0       0       1       1   \n",
       "415         1307       3       1       1       0       1       0       0   \n",
       "416         1308       3       1       1       0       1       0       0   \n",
       "417         1309       3       1       1       0       1       0       0   \n",
       "\n",
       "     Name_6  Name_7  ...      Fare  Cabin_0  Cabin_1  Cabin_2  Cabin_3  \\\n",
       "0         0       0  ...    7.8292        0        0        0        0   \n",
       "1         0       1  ...    7.0000        0        0        0        0   \n",
       "2         0       1  ...    9.6875        0        0        0        0   \n",
       "3         1       0  ...    8.6625        0        0        0        0   \n",
       "4         1       0  ...   12.2875        0        0        0        0   \n",
       "..      ...     ...  ...       ...      ...      ...      ...      ...   \n",
       "413       1       1  ...    8.0500        0        0        0        0   \n",
       "414       1       1  ...  108.9000        0        0        0        0   \n",
       "415       0       0  ...    7.2500        0        0        0        0   \n",
       "416       0       0  ...    8.0500        0        0        0        0   \n",
       "417       0       1  ...   22.3583        0        0        0        0   \n",
       "\n",
       "     Cabin_4  Cabin_5  Cabin_6  Embarked_0  Embarked_1  \n",
       "0          0        0        1           0           1  \n",
       "1          0        1        0           1           0  \n",
       "2          0        0        1           0           1  \n",
       "3          0        1        1           1           0  \n",
       "4          0        0        1           1           0  \n",
       "..       ...      ...      ...         ...         ...  \n",
       "413        0        0        1           1           0  \n",
       "414        0        0        1           1           1  \n",
       "415        0        0        1           1           0  \n",
       "416        0        0        1           1           0  \n",
       "417        0        0        1           1           1  \n",
       "\n",
       "[418 rows x 35 columns]"
      ]
     },
     "execution_count": 15,
     "metadata": {},
     "output_type": "execute_result"
    }
   ],
   "source": [
    "encoder=c.BinaryEncoder(cols=['Name','Sex','Ticket','Cabin','Embarked'],return_df=True)\n",
    "encoder.fit_transform(testing_data)"
   ]
  },
  {
   "cell_type": "markdown",
   "id": "f078833b",
   "metadata": {
    "papermill": {
     "duration": 0.012391,
     "end_time": "2023-03-07T02:27:34.213612",
     "exception": false,
     "start_time": "2023-03-07T02:27:34.201221",
     "status": "completed"
    },
    "tags": []
   },
   "source": [
    "# Correlation of Training data"
   ]
  },
  {
   "cell_type": "code",
   "execution_count": 16,
   "id": "0a95c6c7",
   "metadata": {
    "execution": {
     "iopub.execute_input": "2023-03-07T02:27:34.241429Z",
     "iopub.status.busy": "2023-03-07T02:27:34.240978Z",
     "iopub.status.idle": "2023-03-07T02:27:34.256072Z",
     "shell.execute_reply": "2023-03-07T02:27:34.254829Z"
    },
    "papermill": {
     "duration": 0.03189,
     "end_time": "2023-03-07T02:27:34.258650",
     "exception": false,
     "start_time": "2023-03-07T02:27:34.226760",
     "status": "completed"
    },
    "tags": []
   },
   "outputs": [
    {
     "data": {
      "text/plain": [
       "Survived    1.000000\n",
       "Pclass     -0.338481\n",
       "Name       -0.057343\n",
       "Sex        -0.543351\n",
       "Age        -0.064910\n",
       "SibSp      -0.035322\n",
       "Parch       0.081629\n",
       "Ticket     -0.164549\n",
       "Fare        0.257307\n",
       "Cabin       0.175690\n",
       "Embarked   -0.167675\n",
       "Name: Survived, dtype: float64"
      ]
     },
     "execution_count": 16,
     "metadata": {},
     "output_type": "execute_result"
    }
   ],
   "source": [
    "names=['Survived','Pclass','Name','Sex','Age','SibSp', 'Parch','Ticket','Fare','Cabin','Embarked','PassengerId']\n",
    "l=training_data[training_data.columns[1:]].corr()['Survived']\n",
    "l\n",
    "\n"
   ]
  },
  {
   "cell_type": "markdown",
   "id": "98dbc062",
   "metadata": {
    "papermill": {
     "duration": 0.012787,
     "end_time": "2023-03-07T02:27:34.283776",
     "exception": false,
     "start_time": "2023-03-07T02:27:34.270989",
     "status": "completed"
    },
    "tags": []
   },
   "source": [
    "# Correlation coefficient threshold selection of training_data"
   ]
  },
  {
   "cell_type": "code",
   "execution_count": 17,
   "id": "2c9c8160",
   "metadata": {
    "execution": {
     "iopub.execute_input": "2023-03-07T02:27:34.311731Z",
     "iopub.status.busy": "2023-03-07T02:27:34.310725Z",
     "iopub.status.idle": "2023-03-07T02:27:34.316701Z",
     "shell.execute_reply": "2023-03-07T02:27:34.315874Z"
    },
    "papermill": {
     "duration": 0.02373,
     "end_time": "2023-03-07T02:27:34.320123",
     "exception": false,
     "start_time": "2023-03-07T02:27:34.296393",
     "status": "completed"
    },
    "tags": []
   },
   "outputs": [
    {
     "name": "stdout",
     "output_type": "stream",
     "text": [
      "Survived\n",
      "Pclass\n",
      "Sex\n",
      "Ticket\n",
      "Fare\n",
      "Cabin\n",
      "Embarked\n"
     ]
    }
   ],
   "source": [
    "for i in range(len(l)):\n",
    "    if abs(l[i]) > 0.15:\n",
    "        print(names[i])"
   ]
  },
  {
   "cell_type": "markdown",
   "id": "248378fa",
   "metadata": {
    "papermill": {
     "duration": 0.011887,
     "end_time": "2023-03-07T02:27:34.345263",
     "exception": false,
     "start_time": "2023-03-07T02:27:34.333376",
     "status": "completed"
    },
    "tags": []
   },
   "source": [
    "# Normalization of training_data"
   ]
  },
  {
   "cell_type": "code",
   "execution_count": 18,
   "id": "27775e91",
   "metadata": {
    "execution": {
     "iopub.execute_input": "2023-03-07T02:27:34.372119Z",
     "iopub.status.busy": "2023-03-07T02:27:34.371330Z",
     "iopub.status.idle": "2023-03-07T02:27:34.396212Z",
     "shell.execute_reply": "2023-03-07T02:27:34.394310Z"
    },
    "papermill": {
     "duration": 0.041802,
     "end_time": "2023-03-07T02:27:34.399282",
     "exception": false,
     "start_time": "2023-03-07T02:27:34.357480",
     "status": "completed"
    },
    "tags": []
   },
   "outputs": [
    {
     "name": "stdout",
     "output_type": "stream",
     "text": [
      "     PassengerId  Survived  Pclass      Name  Sex       Age  SibSp     Parch  \\\n",
      "0              1         0     1.0  0.121348  1.0  0.271174  0.125  0.000000   \n",
      "1              2         1     0.0  0.213483  0.0  0.472229  0.125  0.000000   \n",
      "2              3         1     1.0  0.396629  0.0  0.321438  0.000  0.000000   \n",
      "3              4         1     0.0  0.305618  0.0  0.434531  0.125  0.000000   \n",
      "4              5         0     1.0  0.016854  1.0  0.434531  0.000  0.000000   \n",
      "..           ...       ...     ...       ...  ...       ...    ...       ...   \n",
      "886          887         0     0.5  0.615730  1.0  0.334004  0.000  0.000000   \n",
      "887          888         1     0.0  0.340449  0.0  0.233476  0.000  0.000000   \n",
      "888          889         0     1.0  0.464045  0.0  0.346569  0.125  0.333333   \n",
      "889          890         1     0.0  0.091011  1.0  0.321438  0.000  0.000000   \n",
      "890          891         0     1.0  0.247191  1.0  0.396833  0.000  0.000000   \n",
      "\n",
      "       Ticket      Fare     Cabin  Embarked  \n",
      "0    0.769118  0.014151  0.321918       1.0  \n",
      "1    0.876471  0.139136  0.554795       0.0  \n",
      "2    0.983824  0.015469  0.321918       1.0  \n",
      "3    0.072059  0.103644  0.376712       1.0  \n",
      "4    0.694118  0.015713  0.321918       1.0  \n",
      "..        ...       ...       ...       ...  \n",
      "886  0.148529  0.025374  0.321918       1.0  \n",
      "887  0.020588  0.058556  0.205479       1.0  \n",
      "888  0.992647  0.045771  0.321918       1.0  \n",
      "889  0.011765  0.058556  0.410959       0.0  \n",
      "890  0.685294  0.015127  0.321918       0.5  \n",
      "\n",
      "[891 rows x 12 columns]\n"
     ]
    }
   ],
   "source": [
    "t=training_data[['Pclass','Name','Sex','Age','SibSp','Parch','Ticket','Fare','Cabin','Embarked']]\n",
    "training_data[['Pclass','Name','Sex','Age','SibSp','Parch','Ticket','Fare','Cabin','Embarked']]=(t-t.min())/(t.max()-t.min())\n",
    "print(training_data)"
   ]
  },
  {
   "cell_type": "code",
   "execution_count": 19,
   "id": "4bf08db9",
   "metadata": {
    "execution": {
     "iopub.execute_input": "2023-03-07T02:27:34.428114Z",
     "iopub.status.busy": "2023-03-07T02:27:34.427689Z",
     "iopub.status.idle": "2023-03-07T02:27:34.453160Z",
     "shell.execute_reply": "2023-03-07T02:27:34.451406Z"
    },
    "papermill": {
     "duration": 0.042971,
     "end_time": "2023-03-07T02:27:34.455797",
     "exception": false,
     "start_time": "2023-03-07T02:27:34.412826",
     "status": "completed"
    },
    "tags": []
   },
   "outputs": [
    {
     "name": "stdout",
     "output_type": "stream",
     "text": [
      "     PassengerId  Pclass      Name  Sex       Age  SibSp     Parch    Ticket  \\\n",
      "0            892     1.0  0.494005  1.0  0.452723  0.000  0.000000  0.419890   \n",
      "1            893     1.0  0.966427  0.0  0.617566  0.125  0.000000  0.610497   \n",
      "2            894     0.5  0.645084  1.0  0.815377  0.000  0.000000  0.201657   \n",
      "3            895     1.0  0.978417  1.0  0.353818  0.000  0.000000  0.406077   \n",
      "4            896     1.0  0.426859  0.0  0.287881  0.125  0.111111  0.381215   \n",
      "..           ...     ...       ...  ...       ...    ...       ...       ...   \n",
      "413         1305     1.0  0.846523  1.0  0.353818  0.000  0.000000  0.737569   \n",
      "414         1306     0.0  0.678657  0.0  0.512066  0.000  0.000000  0.895028   \n",
      "415         1307     1.0  0.796163  1.0  0.505473  0.000  0.000000  0.955801   \n",
      "416         1308     1.0  0.920863  1.0  0.353818  0.000  0.000000  0.607735   \n",
      "417         1309     1.0  0.724221  1.0  0.353818  0.125  0.111111  0.290055   \n",
      "\n",
      "         Fare     Cabin  Embarked  \n",
      "0    0.015282  0.277778       0.5  \n",
      "1    0.013663  0.569444       1.0  \n",
      "2    0.018909  0.277778       0.5  \n",
      "3    0.016908  0.347222       1.0  \n",
      "4    0.023984  0.277778       1.0  \n",
      "..        ...       ...       ...  \n",
      "413  0.015713  0.277778       1.0  \n",
      "414  0.212559  0.277778       0.0  \n",
      "415  0.014151  0.277778       1.0  \n",
      "416  0.015713  0.277778       1.0  \n",
      "417  0.043640  0.277778       0.0  \n",
      "\n",
      "[418 rows x 11 columns]\n"
     ]
    }
   ],
   "source": [
    "t=testing_data[['Pclass','Name','Sex','Age','SibSp','Parch','Ticket','Fare','Cabin','Embarked']]\n",
    "testing_data[['Pclass','Name','Sex','Age','SibSp','Parch','Ticket','Fare','Cabin','Embarked']]=(t-t.min())/(t.max()-t.min())\n",
    "print(testing_data)"
   ]
  },
  {
   "cell_type": "markdown",
   "id": "4f0c602b",
   "metadata": {
    "papermill": {
     "duration": 0.012618,
     "end_time": "2023-03-07T02:27:34.481474",
     "exception": false,
     "start_time": "2023-03-07T02:27:34.468856",
     "status": "completed"
    },
    "tags": []
   },
   "source": [
    "# Accuracy score calculation using correlation threshold"
   ]
  },
  {
   "cell_type": "code",
   "execution_count": 20,
   "id": "76858c0c",
   "metadata": {
    "execution": {
     "iopub.execute_input": "2023-03-07T02:27:34.509095Z",
     "iopub.status.busy": "2023-03-07T02:27:34.508234Z",
     "iopub.status.idle": "2023-03-07T02:27:35.022526Z",
     "shell.execute_reply": "2023-03-07T02:27:35.021142Z"
    },
    "papermill": {
     "duration": 0.531084,
     "end_time": "2023-03-07T02:27:35.025256",
     "exception": false,
     "start_time": "2023-03-07T02:27:34.494172",
     "status": "completed"
    },
    "tags": []
   },
   "outputs": [
    {
     "name": "stdout",
     "output_type": "stream",
     "text": [
      "0.8303030303030303\n"
     ]
    }
   ],
   "source": [
    "from sklearn.ensemble import RandomForestClassifier\n",
    "from sklearn.model_selection import train_test_split\n",
    "from sklearn import metrics\n",
    "\n",
    "y = training_data[\"Survived\"]\n",
    "\n",
    "features = [\"Pclass\", \"Sex\",\"Ticket\",\"Fare\",\"Cabin\",\"Embarked\"]\n",
    "X = pd.get_dummies(training_data[features])\n",
    "X_train, X_test, y_train, y_test = train_test_split(X, y,  test_size=0.37, random_state=42)\n",
    "#X_test = pd.get_dummies(testing_data[features])\n",
    "\n",
    "model = RandomForestClassifier(n_estimators=100, max_depth=5, random_state=1)\n",
    "model.fit(X, y)\n",
    "predictions = model.predict(X_test)\n",
    "print(metrics.accuracy_score(y_test,predictions))"
   ]
  },
  {
   "cell_type": "markdown",
   "id": "df0fd802",
   "metadata": {
    "papermill": {
     "duration": 0.013119,
     "end_time": "2023-03-07T02:27:35.051598",
     "exception": false,
     "start_time": "2023-03-07T02:27:35.038479",
     "status": "completed"
    },
    "tags": []
   },
   "source": [
    "# Chi-Square test"
   ]
  },
  {
   "cell_type": "code",
   "execution_count": 21,
   "id": "ee70c39f",
   "metadata": {
    "execution": {
     "iopub.execute_input": "2023-03-07T02:27:35.078912Z",
     "iopub.status.busy": "2023-03-07T02:27:35.078494Z",
     "iopub.status.idle": "2023-03-07T02:27:35.107518Z",
     "shell.execute_reply": "2023-03-07T02:27:35.106315Z"
    },
    "papermill": {
     "duration": 0.0459,
     "end_time": "2023-03-07T02:27:35.110275",
     "exception": false,
     "start_time": "2023-03-07T02:27:35.064375",
     "status": "completed"
    },
    "tags": []
   },
   "outputs": [
    {
     "data": {
      "text/plain": [
       "(array([ 3.31293407, 27.23293299,  0.48940327, 92.70244698,  0.27599064,\n",
       "         0.32273317,  1.68291652,  4.22302274,  8.81917152,  1.94851225,\n",
       "         5.10126233]),\n",
       " array([6.87366651e-02, 1.80360185e-07, 4.84193611e-01, 6.07783826e-22,\n",
       "        5.99341214e-01, 5.69969720e-01, 1.94537366e-01, 3.98790577e-02,\n",
       "        2.98081972e-03, 1.62747260e-01, 2.39084381e-02]))"
      ]
     },
     "execution_count": 21,
     "metadata": {},
     "output_type": "execute_result"
    }
   ],
   "source": [
    "from sklearn.feature_selection import chi2\n",
    "X = training_data.drop('Survived',axis=1)\n",
    "y = training_data['Survived']\n",
    "chi_scores = chi2(X,y)\n",
    "chi_scores"
   ]
  },
  {
   "cell_type": "code",
   "execution_count": 22,
   "id": "cbcce009",
   "metadata": {
    "execution": {
     "iopub.execute_input": "2023-03-07T02:27:35.139056Z",
     "iopub.status.busy": "2023-03-07T02:27:35.138313Z",
     "iopub.status.idle": "2023-03-07T02:27:35.434292Z",
     "shell.execute_reply": "2023-03-07T02:27:35.433060Z"
    },
    "papermill": {
     "duration": 0.313466,
     "end_time": "2023-03-07T02:27:35.436883",
     "exception": false,
     "start_time": "2023-03-07T02:27:35.123417",
     "status": "completed"
    },
    "tags": []
   },
   "outputs": [
    {
     "data": {
      "text/plain": [
       "<AxesSubplot:>"
      ]
     },
     "execution_count": 22,
     "metadata": {},
     "output_type": "execute_result"
    },
    {
     "data": {
      "image/png": "[encoded data removed]",
      "text/plain": [
       "<Figure size 640x480 with 1 Axes>"
      ]
     },
     "metadata": {},
     "output_type": "display_data"
    }
   ],
   "source": [
    "p_values = pd.Series(chi_scores[1],index = X.columns)\n",
    "p_values.sort_values(ascending = False , inplace = True)\n",
    "p_values.plot.bar()"
   ]
  },
  {
   "cell_type": "code",
   "execution_count": 23,
   "id": "5274b4aa",
   "metadata": {
    "execution": {
     "iopub.execute_input": "2023-03-07T02:27:35.466055Z",
     "iopub.status.busy": "2023-03-07T02:27:35.465621Z",
     "iopub.status.idle": "2023-03-07T02:27:35.667995Z",
     "shell.execute_reply": "2023-03-07T02:27:35.666574Z"
    },
    "papermill": {
     "duration": 0.219896,
     "end_time": "2023-03-07T02:27:35.670627",
     "exception": false,
     "start_time": "2023-03-07T02:27:35.450731",
     "status": "completed"
    },
    "tags": []
   },
   "outputs": [
    {
     "name": "stdout",
     "output_type": "stream",
     "text": [
      "0.8272727272727273\n"
     ]
    }
   ],
   "source": [
    "from sklearn.ensemble import RandomForestClassifier\n",
    "from sklearn.model_selection import train_test_split\n",
    "from sklearn import metrics\n",
    "\n",
    "y = training_data[\"Survived\"]\n",
    "\n",
    "features = [\"Pclass\", \"Sex\",\"Fare\",\"Embarked\",\"Ticket\"]\n",
    "X = pd.get_dummies(training_data[features])\n",
    "X_train, X_test, y_train, y_test = train_test_split(X, y,  test_size=0.37, random_state=42)\n",
    "#X_test = pd.get_dummies(testing_data[features])\n",
    "\n",
    "model = RandomForestClassifier(n_estimators=100, max_depth=5, random_state=1)\n",
    "model.fit(X, y)\n",
    "predictions_rf = model.predict(X_test)\n",
    "print(metrics.accuracy_score(y_test,predictions_rf))\n"
   ]
  },
  {
   "cell_type": "code",
   "execution_count": 24,
   "id": "19ea6fbf",
   "metadata": {
    "execution": {
     "iopub.execute_input": "2023-03-07T02:27:35.699212Z",
     "iopub.status.busy": "2023-03-07T02:27:35.698793Z",
     "iopub.status.idle": "2023-03-07T02:27:35.727605Z",
     "shell.execute_reply": "2023-03-07T02:27:35.726438Z"
    },
    "papermill": {
     "duration": 0.045853,
     "end_time": "2023-03-07T02:27:35.730087",
     "exception": false,
     "start_time": "2023-03-07T02:27:35.684234",
     "status": "completed"
    },
    "tags": []
   },
   "outputs": [
    {
     "data": {
      "text/plain": [
       "array([0, 1, 0, 0, 1, 0, 1, 0, 1, 0, 0, 0, 1, 0, 1, 1, 0, 0, 0, 1, 0, 0,\n",
       "       1, 0, 1, 0, 1, 0, 0, 0, 0, 0, 0, 0, 1, 0, 0, 0, 0, 1, 0, 0, 0, 1,\n",
       "       1, 0, 0, 0, 1, 1, 0, 0, 1, 1, 0, 0, 0, 0, 0, 1, 0, 0, 0, 1, 0, 1,\n",
       "       1, 0, 0, 1, 1, 0, 1, 0, 1, 0, 0, 1, 0, 1, 0, 0, 0, 0, 0, 0, 1, 0,\n",
       "       1, 0, 0, 0, 1, 0, 0, 0, 1, 0, 0, 0, 1, 0, 0, 0, 1, 0, 0, 0, 0, 0,\n",
       "       0, 1, 1, 1, 1, 0, 0, 1, 1, 1, 1, 0, 1, 0, 0, 1, 0, 1, 0, 0, 0, 0,\n",
       "       0, 0, 0, 0, 0, 0, 0, 0, 0, 1, 0, 0, 0, 0, 0, 0, 0, 0, 1, 0, 0, 1,\n",
       "       0, 0, 1, 0, 0, 0, 1, 0, 1, 0, 0, 1, 0, 0, 1, 0, 0, 0, 0, 0, 0, 1,\n",
       "       1, 1, 1, 1, 0, 0, 1, 0, 1, 0, 1, 0, 0, 0, 0, 0, 0, 0, 0, 0, 1, 0,\n",
       "       0, 0, 1, 0, 0, 1, 0, 0, 1, 0, 1, 0, 0, 0, 0, 1, 0, 0, 1, 0, 1, 0,\n",
       "       1, 0, 1, 0, 1, 1, 0, 1, 0, 0, 0, 1, 0, 0, 0, 0, 1, 0, 1, 1, 1, 1,\n",
       "       1, 0, 0, 0, 1, 0, 1, 1, 1, 0, 1, 0, 0, 0, 0, 0, 1, 0, 0, 0, 1, 1,\n",
       "       0, 0, 0, 0, 0, 0, 1, 0, 1, 1, 0, 1, 0, 0, 0, 0, 0, 0, 1, 1, 0, 0,\n",
       "       0, 0, 0, 0, 0, 1, 0, 0, 0, 0, 1, 0, 0, 0, 0, 0, 0, 0, 1, 1, 0, 0,\n",
       "       1, 0, 0, 0, 0, 1, 1, 1, 0, 0, 0, 0, 0, 0, 0, 0, 1, 0, 1, 0, 0, 0,\n",
       "       1, 0, 0, 1, 0, 0, 0, 0, 0, 0, 0, 0, 0, 1, 0, 0, 0, 1, 0, 1, 1, 0,\n",
       "       0, 0, 0, 0, 1, 0, 0, 0, 0, 1, 1, 0, 1, 0, 0, 0, 1, 0, 0, 1, 0, 0,\n",
       "       1, 1, 0, 0, 0, 0, 0, 0, 0, 1, 0, 1, 0, 0, 0, 0, 1, 1, 0, 0, 0, 1,\n",
       "       0, 1, 0, 0, 1, 0, 1, 0, 0, 0, 0, 0, 1, 0, 1, 1, 0, 0, 1, 0, 0, 0])"
      ]
     },
     "execution_count": 24,
     "metadata": {},
     "output_type": "execute_result"
    }
   ],
   "source": [
    "test_predict = model.predict(testing_data[features])\n",
    "test_predict\n"
   ]
  },
  {
   "cell_type": "markdown",
   "id": "c686172c",
   "metadata": {
    "papermill": {
     "duration": 0.013283,
     "end_time": "2023-03-07T02:27:35.757028",
     "exception": false,
     "start_time": "2023-03-07T02:27:35.743745",
     "status": "completed"
    },
    "tags": []
   },
   "source": [
    "# Generating output csv"
   ]
  },
  {
   "cell_type": "code",
   "execution_count": 25,
   "id": "51eac832",
   "metadata": {
    "execution": {
     "iopub.execute_input": "2023-03-07T02:27:35.785934Z",
     "iopub.status.busy": "2023-03-07T02:27:35.785527Z",
     "iopub.status.idle": "2023-03-07T02:27:35.795661Z",
     "shell.execute_reply": "2023-03-07T02:27:35.794270Z"
    },
    "papermill": {
     "duration": 0.027538,
     "end_time": "2023-03-07T02:27:35.798080",
     "exception": false,
     "start_time": "2023-03-07T02:27:35.770542",
     "status": "completed"
    },
    "tags": []
   },
   "outputs": [
    {
     "name": "stdout",
     "output_type": "stream",
     "text": [
      "Your submission was successfully saved!\n"
     ]
    }
   ],
   "source": [
    "output = pd.DataFrame({'PassengerId': testing_data.PassengerId, 'Survived': test_predict})\n",
    "output.to_csv('submission.csv', index=False)\n",
    "print(\"Your submission was successfully saved!\")"
   ]
  },
  {
   "cell_type": "markdown",
   "id": "635fe62d",
   "metadata": {
    "papermill": {
     "duration": 0.013477,
     "end_time": "2023-03-07T02:27:35.825171",
     "exception": false,
     "start_time": "2023-03-07T02:27:35.811694",
     "status": "completed"
    },
    "tags": []
   },
   "source": [
    "# using RandomForest Classifier for prediction"
   ]
  }
 ],
 "metadata": {
  "kernelspec": {
   "display_name": "Python 3",
   "language": "python",
   "name": "python3"
  },
  "language_info": {
   "codemirror_mode": {
    "name": "ipython",
    "version": 3
   },
   "file_extension": ".py",
   "mimetype": "text/x-python",
   "name": "python",
   "nbconvert_exporter": "python",
   "pygments_lexer": "ipython3",
   "version": "3.7.12"
  },
  "papermill": {
   "default_parameters": {},
   "duration": 15.277006,
   "end_time": "2023-03-07T02:27:36.661586",
   "environment_variables": {},
   "exception": null,
   "input_path": "__notebook__.ipynb",
   "output_path": "__notebook__.ipynb",
   "parameters": {},
   "start_time": "2023-03-07T02:27:21.384580",
   "version": "2.3.4"
  }
 },
 "nbformat": 4,
 "nbformat_minor": 5
}
