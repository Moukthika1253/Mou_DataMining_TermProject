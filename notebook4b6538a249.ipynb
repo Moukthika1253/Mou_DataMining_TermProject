{
 "cells": [
  {
   "cell_type": "code",
   "execution_count": 1,
   "id": "1bf09aed",
   "metadata": {
    "_cell_guid": "b1076dfc-b9ad-4769-8c92-a6c4dae69d19",
    "_uuid": "8f2839f25d086af736a60e9eeb907d3b93b6e0e5",
    "execution": {
     "iopub.execute_input": "2023-03-07T06:53:23.625475Z",
     "iopub.status.busy": "2023-03-07T06:53:23.624816Z",
     "iopub.status.idle": "2023-03-07T06:53:25.097339Z",
     "shell.execute_reply": "2023-03-07T06:53:25.095833Z"
    },
    "papermill": {
     "duration": 1.489508,
     "end_time": "2023-03-07T06:53:25.100759",
     "exception": false,
     "start_time": "2023-03-07T06:53:23.611251",
     "status": "completed"
    },
    "tags": []
   },
   "outputs": [
    {
     "name": "stdout",
     "output_type": "stream",
     "text": [
      "/kaggle/input/titanic/train.csv\n",
      "/kaggle/input/titanic/test.csv\n",
      "/kaggle/input/titanic/gender_submission.csv\n"
     ]
    }
   ],
   "source": [
    "import pandas as pd \n",
    "import numpy as np\n",
    "import os\n",
    "import category_encoders as c\n",
    "import seaborn as sns\n",
    "\n",
    "for dirname, _, filenames in os.walk('/kaggle/input'):\n",
    "    for filename in filenames:\n",
    "        print(os.path.join(dirname, filename))\n",
    "\n"
   ]
  },
  {
   "cell_type": "markdown",
   "id": "5e5c5376",
   "metadata": {
    "papermill": {
     "duration": 0.009655,
     "end_time": "2023-03-07T06:53:25.120657",
     "exception": false,
     "start_time": "2023-03-07T06:53:25.111002",
     "status": "completed"
    },
    "tags": []
   },
   "source": [
    "# loading training data"
   ]
  },
  {
   "cell_type": "code",
   "execution_count": 2,
   "id": "db5572b4",
   "metadata": {
    "execution": {
     "iopub.execute_input": "2023-03-07T06:53:25.143122Z",
     "iopub.status.busy": "2023-03-07T06:53:25.142003Z",
     "iopub.status.idle": "2023-03-07T06:53:25.189819Z",
     "shell.execute_reply": "2023-03-07T06:53:25.188808Z"
    },
    "papermill": {
     "duration": 0.061728,
     "end_time": "2023-03-07T06:53:25.192443",
     "exception": false,
     "start_time": "2023-03-07T06:53:25.130715",
     "status": "completed"
    },
    "tags": []
   },
   "outputs": [
    {
     "data": {
      "text/html": [
       "<div>\n",
       "<style scoped>\n",
       "    .dataframe tbody tr th:only-of-type {\n",
       "        vertical-align: middle;\n",
       "    }\n",
       "\n",
       "    .dataframe tbody tr th {\n",
       "        vertical-align: top;\n",
       "    }\n",
       "\n",
       "    .dataframe thead th {\n",
       "        text-align: right;\n",
       "    }\n",
       "</style>\n",
       "<table border=\"1\" class=\"dataframe\">\n",
       "  <thead>\n",
       "    <tr style=\"text-align: right;\">\n",
       "      <th></th>\n",
       "      <th>PassengerId</th>\n",
       "      <th>Survived</th>\n",
       "      <th>Pclass</th>\n",
       "      <th>Name</th>\n",
       "      <th>Sex</th>\n",
       "      <th>Age</th>\n",
       "      <th>SibSp</th>\n",
       "      <th>Parch</th>\n",
       "      <th>Ticket</th>\n",
       "      <th>Fare</th>\n",
       "      <th>Cabin</th>\n",
       "      <th>Embarked</th>\n",
       "    </tr>\n",
       "  </thead>\n",
       "  <tbody>\n",
       "    <tr>\n",
       "      <th>0</th>\n",
       "      <td>1</td>\n",
       "      <td>0</td>\n",
       "      <td>3</td>\n",
       "      <td>Braund, Mr. Owen Harris</td>\n",
       "      <td>male</td>\n",
       "      <td>22.0</td>\n",
       "      <td>1</td>\n",
       "      <td>0</td>\n",
       "      <td>A/5 21171</td>\n",
       "      <td>7.2500</td>\n",
       "      <td>NaN</td>\n",
       "      <td>S</td>\n",
       "    </tr>\n",
       "    <tr>\n",
       "      <th>1</th>\n",
       "      <td>2</td>\n",
       "      <td>1</td>\n",
       "      <td>1</td>\n",
       "      <td>Cumings, Mrs. John Bradley (Florence Briggs Th...</td>\n",
       "      <td>female</td>\n",
       "      <td>38.0</td>\n",
       "      <td>1</td>\n",
       "      <td>0</td>\n",
       "      <td>PC 17599</td>\n",
       "      <td>71.2833</td>\n",
       "      <td>C85</td>\n",
       "      <td>C</td>\n",
       "    </tr>\n",
       "    <tr>\n",
       "      <th>2</th>\n",
       "      <td>3</td>\n",
       "      <td>1</td>\n",
       "      <td>3</td>\n",
       "      <td>Heikkinen, Miss. Laina</td>\n",
       "      <td>female</td>\n",
       "      <td>26.0</td>\n",
       "      <td>0</td>\n",
       "      <td>0</td>\n",
       "      <td>STON/O2. 3101282</td>\n",
       "      <td>7.9250</td>\n",
       "      <td>NaN</td>\n",
       "      <td>S</td>\n",
       "    </tr>\n",
       "    <tr>\n",
       "      <th>3</th>\n",
       "      <td>4</td>\n",
       "      <td>1</td>\n",
       "      <td>1</td>\n",
       "      <td>Futrelle, Mrs. Jacques Heath (Lily May Peel)</td>\n",
       "      <td>female</td>\n",
       "      <td>35.0</td>\n",
       "      <td>1</td>\n",
       "      <td>0</td>\n",
       "      <td>113803</td>\n",
       "      <td>53.1000</td>\n",
       "      <td>C123</td>\n",
       "      <td>S</td>\n",
       "    </tr>\n",
       "    <tr>\n",
       "      <th>4</th>\n",
       "      <td>5</td>\n",
       "      <td>0</td>\n",
       "      <td>3</td>\n",
       "      <td>Allen, Mr. William Henry</td>\n",
       "      <td>male</td>\n",
       "      <td>35.0</td>\n",
       "      <td>0</td>\n",
       "      <td>0</td>\n",
       "      <td>373450</td>\n",
       "      <td>8.0500</td>\n",
       "      <td>NaN</td>\n",
       "      <td>S</td>\n",
       "    </tr>\n",
       "  </tbody>\n",
       "</table>\n",
       "</div>"
      ],
      "text/plain": [
       "   PassengerId  Survived  Pclass  \\\n",
       "0            1         0       3   \n",
       "1            2         1       1   \n",
       "2            3         1       3   \n",
       "3            4         1       1   \n",
       "4            5         0       3   \n",
       "\n",
       "                                                Name     Sex   Age  SibSp  \\\n",
       "0                            Braund, Mr. Owen Harris    male  22.0      1   \n",
       "1  Cumings, Mrs. John Bradley (Florence Briggs Th...  female  38.0      1   \n",
       "2                             Heikkinen, Miss. Laina  female  26.0      0   \n",
       "3       Futrelle, Mrs. Jacques Heath (Lily May Peel)  female  35.0      1   \n",
       "4                           Allen, Mr. William Henry    male  35.0      0   \n",
       "\n",
       "   Parch            Ticket     Fare Cabin Embarked  \n",
       "0      0         A/5 21171   7.2500   NaN        S  \n",
       "1      0          PC 17599  71.2833   C85        C  \n",
       "2      0  STON/O2. 3101282   7.9250   NaN        S  \n",
       "3      0            113803  53.1000  C123        S  \n",
       "4      0            373450   8.0500   NaN        S  "
      ]
     },
     "execution_count": 2,
     "metadata": {},
     "output_type": "execute_result"
    }
   ],
   "source": [
    "training_data = pd.read_csv(\"/kaggle/input/titanic/train.csv\")\n",
    "training_data.head() #displays top 5 rows from train.csv"
   ]
  },
  {
   "cell_type": "markdown",
   "id": "2475b427",
   "metadata": {
    "papermill": {
     "duration": 0.009617,
     "end_time": "2023-03-07T06:53:25.212227",
     "exception": false,
     "start_time": "2023-03-07T06:53:25.202610",
     "status": "completed"
    },
    "tags": []
   },
   "source": [
    "# loading test data"
   ]
  },
  {
   "cell_type": "code",
   "execution_count": 3,
   "id": "54816e18",
   "metadata": {
    "execution": {
     "iopub.execute_input": "2023-03-07T06:53:25.234676Z",
     "iopub.status.busy": "2023-03-07T06:53:25.233887Z",
     "iopub.status.idle": "2023-03-07T06:53:25.258406Z",
     "shell.execute_reply": "2023-03-07T06:53:25.257499Z"
    },
    "papermill": {
     "duration": 0.038265,
     "end_time": "2023-03-07T06:53:25.260675",
     "exception": false,
     "start_time": "2023-03-07T06:53:25.222410",
     "status": "completed"
    },
    "tags": []
   },
   "outputs": [
    {
     "data": {
      "text/html": [
       "<div>\n",
       "<style scoped>\n",
       "    .dataframe tbody tr th:only-of-type {\n",
       "        vertical-align: middle;\n",
       "    }\n",
       "\n",
       "    .dataframe tbody tr th {\n",
       "        vertical-align: top;\n",
       "    }\n",
       "\n",
       "    .dataframe thead th {\n",
       "        text-align: right;\n",
       "    }\n",
       "</style>\n",
       "<table border=\"1\" class=\"dataframe\">\n",
       "  <thead>\n",
       "    <tr style=\"text-align: right;\">\n",
       "      <th></th>\n",
       "      <th>PassengerId</th>\n",
       "      <th>Pclass</th>\n",
       "      <th>Name</th>\n",
       "      <th>Sex</th>\n",
       "      <th>Age</th>\n",
       "      <th>SibSp</th>\n",
       "      <th>Parch</th>\n",
       "      <th>Ticket</th>\n",
       "      <th>Fare</th>\n",
       "      <th>Cabin</th>\n",
       "      <th>Embarked</th>\n",
       "    </tr>\n",
       "  </thead>\n",
       "  <tbody>\n",
       "    <tr>\n",
       "      <th>0</th>\n",
       "      <td>892</td>\n",
       "      <td>3</td>\n",
       "      <td>Kelly, Mr. James</td>\n",
       "      <td>male</td>\n",
       "      <td>34.5</td>\n",
       "      <td>0</td>\n",
       "      <td>0</td>\n",
       "      <td>330911</td>\n",
       "      <td>7.8292</td>\n",
       "      <td>NaN</td>\n",
       "      <td>Q</td>\n",
       "    </tr>\n",
       "    <tr>\n",
       "      <th>1</th>\n",
       "      <td>893</td>\n",
       "      <td>3</td>\n",
       "      <td>Wilkes, Mrs. James (Ellen Needs)</td>\n",
       "      <td>female</td>\n",
       "      <td>47.0</td>\n",
       "      <td>1</td>\n",
       "      <td>0</td>\n",
       "      <td>363272</td>\n",
       "      <td>7.0000</td>\n",
       "      <td>NaN</td>\n",
       "      <td>S</td>\n",
       "    </tr>\n",
       "    <tr>\n",
       "      <th>2</th>\n",
       "      <td>894</td>\n",
       "      <td>2</td>\n",
       "      <td>Myles, Mr. Thomas Francis</td>\n",
       "      <td>male</td>\n",
       "      <td>62.0</td>\n",
       "      <td>0</td>\n",
       "      <td>0</td>\n",
       "      <td>240276</td>\n",
       "      <td>9.6875</td>\n",
       "      <td>NaN</td>\n",
       "      <td>Q</td>\n",
       "    </tr>\n",
       "    <tr>\n",
       "      <th>3</th>\n",
       "      <td>895</td>\n",
       "      <td>3</td>\n",
       "      <td>Wirz, Mr. Albert</td>\n",
       "      <td>male</td>\n",
       "      <td>27.0</td>\n",
       "      <td>0</td>\n",
       "      <td>0</td>\n",
       "      <td>315154</td>\n",
       "      <td>8.6625</td>\n",
       "      <td>NaN</td>\n",
       "      <td>S</td>\n",
       "    </tr>\n",
       "    <tr>\n",
       "      <th>4</th>\n",
       "      <td>896</td>\n",
       "      <td>3</td>\n",
       "      <td>Hirvonen, Mrs. Alexander (Helga E Lindqvist)</td>\n",
       "      <td>female</td>\n",
       "      <td>22.0</td>\n",
       "      <td>1</td>\n",
       "      <td>1</td>\n",
       "      <td>3101298</td>\n",
       "      <td>12.2875</td>\n",
       "      <td>NaN</td>\n",
       "      <td>S</td>\n",
       "    </tr>\n",
       "  </tbody>\n",
       "</table>\n",
       "</div>"
      ],
      "text/plain": [
       "   PassengerId  Pclass                                          Name     Sex  \\\n",
       "0          892       3                              Kelly, Mr. James    male   \n",
       "1          893       3              Wilkes, Mrs. James (Ellen Needs)  female   \n",
       "2          894       2                     Myles, Mr. Thomas Francis    male   \n",
       "3          895       3                              Wirz, Mr. Albert    male   \n",
       "4          896       3  Hirvonen, Mrs. Alexander (Helga E Lindqvist)  female   \n",
       "\n",
       "    Age  SibSp  Parch   Ticket     Fare Cabin Embarked  \n",
       "0  34.5      0      0   330911   7.8292   NaN        Q  \n",
       "1  47.0      1      0   363272   7.0000   NaN        S  \n",
       "2  62.0      0      0   240276   9.6875   NaN        Q  \n",
       "3  27.0      0      0   315154   8.6625   NaN        S  \n",
       "4  22.0      1      1  3101298  12.2875   NaN        S  "
      ]
     },
     "execution_count": 3,
     "metadata": {},
     "output_type": "execute_result"
    }
   ],
   "source": [
    "testing_data=pd.read_csv(\"/kaggle/input/titanic/test.csv\")\n",
    "testing_data.head()"
   ]
  },
  {
   "cell_type": "markdown",
   "id": "a545a8eb",
   "metadata": {
    "papermill": {
     "duration": 0.010203,
     "end_time": "2023-03-07T06:53:25.281508",
     "exception": false,
     "start_time": "2023-03-07T06:53:25.271305",
     "status": "completed"
    },
    "tags": []
   },
   "source": [
    "# % of women survived"
   ]
  },
  {
   "cell_type": "code",
   "execution_count": 4,
   "id": "4c8e5815",
   "metadata": {
    "execution": {
     "iopub.execute_input": "2023-03-07T06:53:25.306970Z",
     "iopub.status.busy": "2023-03-07T06:53:25.305942Z",
     "iopub.status.idle": "2023-03-07T06:53:25.321532Z",
     "shell.execute_reply": "2023-03-07T06:53:25.320362Z"
    },
    "papermill": {
     "duration": 0.032459,
     "end_time": "2023-03-07T06:53:25.324381",
     "exception": false,
     "start_time": "2023-03-07T06:53:25.291922",
     "status": "completed"
    },
    "tags": []
   },
   "outputs": [
    {
     "name": "stdout",
     "output_type": "stream",
     "text": [
      "percentage of women survived:  0.7420382165605095\n"
     ]
    }
   ],
   "source": [
    "women_survived=training_data.loc[training_data.Sex==\"female\"][\"Survived\"]\n",
    "women_per=sum(women_survived)/len(women_survived)\n",
    "print(\"percentage of women survived: \",women_per)"
   ]
  },
  {
   "cell_type": "markdown",
   "id": "26b1ce1d",
   "metadata": {
    "papermill": {
     "duration": 0.009996,
     "end_time": "2023-03-07T06:53:25.344844",
     "exception": false,
     "start_time": "2023-03-07T06:53:25.334848",
     "status": "completed"
    },
    "tags": []
   },
   "source": [
    "# % of men survived"
   ]
  },
  {
   "cell_type": "code",
   "execution_count": 5,
   "id": "dc6c7255",
   "metadata": {
    "execution": {
     "iopub.execute_input": "2023-03-07T06:53:25.367304Z",
     "iopub.status.busy": "2023-03-07T06:53:25.366912Z",
     "iopub.status.idle": "2023-03-07T06:53:25.375536Z",
     "shell.execute_reply": "2023-03-07T06:53:25.374020Z"
    },
    "papermill": {
     "duration": 0.022995,
     "end_time": "2023-03-07T06:53:25.378052",
     "exception": false,
     "start_time": "2023-03-07T06:53:25.355057",
     "status": "completed"
    },
    "tags": []
   },
   "outputs": [
    {
     "name": "stdout",
     "output_type": "stream",
     "text": [
      "percentage of men survived:  0.18890814558058924\n"
     ]
    }
   ],
   "source": [
    "men_survived=training_data.loc[training_data.Sex==\"male\"][\"Survived\"]\n",
    "men_per=sum(men_survived)/len(men_survived)\n",
    "print(\"percentage of men survived: \",men_per)"
   ]
  },
  {
   "cell_type": "markdown",
   "id": "25f56ea9",
   "metadata": {
    "papermill": {
     "duration": 0.01059,
     "end_time": "2023-03-07T06:53:25.399045",
     "exception": false,
     "start_time": "2023-03-07T06:53:25.388455",
     "status": "completed"
    },
    "tags": []
   },
   "source": [
    "# check if any missing values in train data"
   ]
  },
  {
   "cell_type": "code",
   "execution_count": 6,
   "id": "0d6b9d4f",
   "metadata": {
    "execution": {
     "iopub.execute_input": "2023-03-07T06:53:25.422481Z",
     "iopub.status.busy": "2023-03-07T06:53:25.421703Z",
     "iopub.status.idle": "2023-03-07T06:53:25.431325Z",
     "shell.execute_reply": "2023-03-07T06:53:25.430344Z"
    },
    "papermill": {
     "duration": 0.024199,
     "end_time": "2023-03-07T06:53:25.433876",
     "exception": false,
     "start_time": "2023-03-07T06:53:25.409677",
     "status": "completed"
    },
    "tags": []
   },
   "outputs": [
    {
     "data": {
      "text/plain": [
       "PassengerId      0\n",
       "Survived         0\n",
       "Pclass           0\n",
       "Name             0\n",
       "Sex              0\n",
       "Age            177\n",
       "SibSp            0\n",
       "Parch            0\n",
       "Ticket           0\n",
       "Fare             0\n",
       "Cabin          687\n",
       "Embarked         2\n",
       "dtype: int64"
      ]
     },
     "execution_count": 6,
     "metadata": {},
     "output_type": "execute_result"
    }
   ],
   "source": [
    "training_data.isna().sum()"
   ]
  },
  {
   "cell_type": "markdown",
   "id": "78367690",
   "metadata": {
    "papermill": {
     "duration": 0.010166,
     "end_time": "2023-03-07T06:53:25.454645",
     "exception": false,
     "start_time": "2023-03-07T06:53:25.444479",
     "status": "completed"
    },
    "tags": []
   },
   "source": [
    "By fixing the missing values in columns Age=177, Cabin=687, Embarked=2 performance can be increased"
   ]
  },
  {
   "cell_type": "markdown",
   "id": "77c8144c",
   "metadata": {
    "papermill": {
     "duration": 0.010159,
     "end_time": "2023-03-07T06:53:25.475281",
     "exception": false,
     "start_time": "2023-03-07T06:53:25.465122",
     "status": "completed"
    },
    "tags": []
   },
   "source": [
    "# check if any missing values in test data"
   ]
  },
  {
   "cell_type": "code",
   "execution_count": 7,
   "id": "e79746b2",
   "metadata": {
    "execution": {
     "iopub.execute_input": "2023-03-07T06:53:25.498530Z",
     "iopub.status.busy": "2023-03-07T06:53:25.497833Z",
     "iopub.status.idle": "2023-03-07T06:53:25.506328Z",
     "shell.execute_reply": "2023-03-07T06:53:25.505241Z"
    },
    "papermill": {
     "duration": 0.02295,
     "end_time": "2023-03-07T06:53:25.508783",
     "exception": false,
     "start_time": "2023-03-07T06:53:25.485833",
     "status": "completed"
    },
    "tags": []
   },
   "outputs": [
    {
     "data": {
      "text/plain": [
       "PassengerId      0\n",
       "Pclass           0\n",
       "Name             0\n",
       "Sex              0\n",
       "Age             86\n",
       "SibSp            0\n",
       "Parch            0\n",
       "Ticket           0\n",
       "Fare             1\n",
       "Cabin          327\n",
       "Embarked         0\n",
       "dtype: int64"
      ]
     },
     "execution_count": 7,
     "metadata": {},
     "output_type": "execute_result"
    }
   ],
   "source": [
    "testing_data.isna().sum()"
   ]
  },
  {
   "cell_type": "markdown",
   "id": "7ef2bb43",
   "metadata": {
    "papermill": {
     "duration": 0.010508,
     "end_time": "2023-03-07T06:53:25.529996",
     "exception": false,
     "start_time": "2023-03-07T06:53:25.519488",
     "status": "completed"
    },
    "tags": []
   },
   "source": [
    "By fixing the missing values in columns Age=86, Cabin=327 performance can be increased"
   ]
  },
  {
   "cell_type": "markdown",
   "id": "3ca023cc",
   "metadata": {
    "papermill": {
     "duration": 0.010368,
     "end_time": "2023-03-07T06:53:25.551098",
     "exception": false,
     "start_time": "2023-03-07T06:53:25.540730",
     "status": "completed"
    },
    "tags": []
   },
   "source": [
    "# Replacing the missing values in train.csv "
   ]
  },
  {
   "cell_type": "code",
   "execution_count": 8,
   "id": "a3ef0c7f",
   "metadata": {
    "execution": {
     "iopub.execute_input": "2023-03-07T06:53:25.575351Z",
     "iopub.status.busy": "2023-03-07T06:53:25.574183Z",
     "iopub.status.idle": "2023-03-07T06:53:25.589289Z",
     "shell.execute_reply": "2023-03-07T06:53:25.587873Z"
    },
    "papermill": {
     "duration": 0.030068,
     "end_time": "2023-03-07T06:53:25.591881",
     "exception": false,
     "start_time": "2023-03-07T06:53:25.561813",
     "status": "completed"
    },
    "tags": []
   },
   "outputs": [],
   "source": [
    "training_data['Age']=training_data['Age'].fillna(training_data['Age'].median())\n",
    "training_data['Fare']=training_data['Fare'].fillna(training_data['Fare'].median())\n",
    "training_data['Cabin']=training_data['Cabin'].fillna(training_data['Cabin'].mode()[0])\n",
    "training_data['Embarked']=training_data['Embarked'].fillna(training_data['Embarked'].mode()[0])"
   ]
  },
  {
   "cell_type": "markdown",
   "id": "e7d1acca",
   "metadata": {
    "papermill": {
     "duration": 0.010517,
     "end_time": "2023-03-07T06:53:25.613397",
     "exception": false,
     "start_time": "2023-03-07T06:53:25.602880",
     "status": "completed"
    },
    "tags": []
   },
   "source": [
    "Since the type of data in Age column is numerical, I have replaced the missing values with their mean. For the categorical data in columns Cabin,Embarked, replaced missing values with their most repeated value(mode)"
   ]
  },
  {
   "cell_type": "code",
   "execution_count": 9,
   "id": "32451089",
   "metadata": {
    "execution": {
     "iopub.execute_input": "2023-03-07T06:53:25.636771Z",
     "iopub.status.busy": "2023-03-07T06:53:25.636323Z",
     "iopub.status.idle": "2023-03-07T06:53:25.647049Z",
     "shell.execute_reply": "2023-03-07T06:53:25.645780Z"
    },
    "papermill": {
     "duration": 0.025218,
     "end_time": "2023-03-07T06:53:25.649326",
     "exception": false,
     "start_time": "2023-03-07T06:53:25.624108",
     "status": "completed"
    },
    "tags": []
   },
   "outputs": [
    {
     "data": {
      "text/plain": [
       "PassengerId    0\n",
       "Survived       0\n",
       "Pclass         0\n",
       "Name           0\n",
       "Sex            0\n",
       "Age            0\n",
       "SibSp          0\n",
       "Parch          0\n",
       "Ticket         0\n",
       "Fare           0\n",
       "Cabin          0\n",
       "Embarked       0\n",
       "dtype: int64"
      ]
     },
     "execution_count": 9,
     "metadata": {},
     "output_type": "execute_result"
    }
   ],
   "source": [
    "training_data.isna().sum()"
   ]
  },
  {
   "cell_type": "markdown",
   "id": "8592e729",
   "metadata": {
    "papermill": {
     "duration": 0.01045,
     "end_time": "2023-03-07T06:53:25.670569",
     "exception": false,
     "start_time": "2023-03-07T06:53:25.660119",
     "status": "completed"
    },
    "tags": []
   },
   "source": [
    "# Replacing missing values in test.csv"
   ]
  },
  {
   "cell_type": "code",
   "execution_count": 10,
   "id": "54e9ead9",
   "metadata": {
    "execution": {
     "iopub.execute_input": "2023-03-07T06:53:25.693972Z",
     "iopub.status.busy": "2023-03-07T06:53:25.693536Z",
     "iopub.status.idle": "2023-03-07T06:53:25.705722Z",
     "shell.execute_reply": "2023-03-07T06:53:25.704483Z"
    },
    "papermill": {
     "duration": 0.027167,
     "end_time": "2023-03-07T06:53:25.708397",
     "exception": false,
     "start_time": "2023-03-07T06:53:25.681230",
     "status": "completed"
    },
    "tags": []
   },
   "outputs": [],
   "source": [
    "testing_data['Age']=testing_data['Age'].fillna(testing_data['Age'].median())\n",
    "testing_data['Fare']=testing_data['Fare'].fillna(testing_data['Fare'].median())\n",
    "testing_data['Cabin']=training_data['Cabin'].fillna(testing_data['Cabin'].mode()[0])\n",
    "testing_data['Embarked']=testing_data['Embarked'].fillna(testing_data['Embarked'].mode()[0])"
   ]
  },
  {
   "cell_type": "markdown",
   "id": "ece911d7",
   "metadata": {
    "papermill": {
     "duration": 0.010531,
     "end_time": "2023-03-07T06:53:25.729998",
     "exception": false,
     "start_time": "2023-03-07T06:53:25.719467",
     "status": "completed"
    },
    "tags": []
   },
   "source": [
    "Since the type of data in columns Age,Fare is numerical, I have replaced the missing values with their mean. For the categorical data in columns Cabin,Embarked, replaced missing values with their most repeated value(mode)"
   ]
  },
  {
   "cell_type": "code",
   "execution_count": 11,
   "id": "c432bcba",
   "metadata": {
    "execution": {
     "iopub.execute_input": "2023-03-07T06:53:25.754349Z",
     "iopub.status.busy": "2023-03-07T06:53:25.753917Z",
     "iopub.status.idle": "2023-03-07T06:53:25.764192Z",
     "shell.execute_reply": "2023-03-07T06:53:25.763012Z"
    },
    "papermill": {
     "duration": 0.025605,
     "end_time": "2023-03-07T06:53:25.766901",
     "exception": false,
     "start_time": "2023-03-07T06:53:25.741296",
     "status": "completed"
    },
    "tags": []
   },
   "outputs": [
    {
     "data": {
      "text/plain": [
       "PassengerId    0\n",
       "Pclass         0\n",
       "Name           0\n",
       "Sex            0\n",
       "Age            0\n",
       "SibSp          0\n",
       "Parch          0\n",
       "Ticket         0\n",
       "Fare           0\n",
       "Cabin          0\n",
       "Embarked       0\n",
       "dtype: int64"
      ]
     },
     "execution_count": 11,
     "metadata": {},
     "output_type": "execute_result"
    }
   ],
   "source": [
    "testing_data.isna().sum()"
   ]
  },
  {
   "cell_type": "markdown",
   "id": "3a39b45a",
   "metadata": {
    "papermill": {
     "duration": 0.010826,
     "end_time": "2023-03-07T06:53:25.789034",
     "exception": false,
     "start_time": "2023-03-07T06:53:25.778208",
     "status": "completed"
    },
    "tags": []
   },
   "source": [
    "# converting training categorical data to numerical data"
   ]
  },
  {
   "cell_type": "code",
   "execution_count": 12,
   "id": "b6bfd5b3",
   "metadata": {
    "execution": {
     "iopub.execute_input": "2023-03-07T06:53:25.813252Z",
     "iopub.status.busy": "2023-03-07T06:53:25.812850Z",
     "iopub.status.idle": "2023-03-07T06:53:25.831302Z",
     "shell.execute_reply": "2023-03-07T06:53:25.829902Z"
    },
    "papermill": {
     "duration": 0.033693,
     "end_time": "2023-03-07T06:53:25.833858",
     "exception": false,
     "start_time": "2023-03-07T06:53:25.800165",
     "status": "completed"
    },
    "tags": []
   },
   "outputs": [],
   "source": [
    "training_data['Name'] =training_data['Name'].astype('category').cat.codes\n",
    "training_data['Sex'] =training_data['Sex'].astype('category').cat.codes\n",
    "training_data['Embarked'] =training_data['Embarked'].astype('category').cat.codes\n",
    "training_data['Cabin'] =training_data['Cabin'].astype('category').cat.codes\n",
    "training_data['Ticket'] =training_data['Ticket'].astype('category').cat.codes"
   ]
  },
  {
   "cell_type": "markdown",
   "id": "eb39c2c0",
   "metadata": {
    "papermill": {
     "duration": 0.010731,
     "end_time": "2023-03-07T06:53:25.856023",
     "exception": false,
     "start_time": "2023-03-07T06:53:25.845292",
     "status": "completed"
    },
    "tags": []
   },
   "source": [
    "# converting testing categorical data to numerical data"
   ]
  },
  {
   "cell_type": "code",
   "execution_count": 13,
   "id": "8bc1521a",
   "metadata": {
    "execution": {
     "iopub.execute_input": "2023-03-07T06:53:25.880487Z",
     "iopub.status.busy": "2023-03-07T06:53:25.880007Z",
     "iopub.status.idle": "2023-03-07T06:53:25.893255Z",
     "shell.execute_reply": "2023-03-07T06:53:25.891915Z"
    },
    "papermill": {
     "duration": 0.028709,
     "end_time": "2023-03-07T06:53:25.896347",
     "exception": false,
     "start_time": "2023-03-07T06:53:25.867638",
     "status": "completed"
    },
    "tags": []
   },
   "outputs": [],
   "source": [
    "testing_data['Name'] =testing_data['Name'].astype('category').cat.codes\n",
    "testing_data['Sex'] =testing_data['Sex'].astype('category').cat.codes\n",
    "testing_data['Embarked'] =testing_data['Embarked'].astype('category').cat.codes\n",
    "testing_data['Cabin'] =testing_data['Cabin'].astype('category').cat.codes\n",
    "testing_data['Ticket'] =testing_data['Ticket'].astype('category').cat.codes"
   ]
  },
  {
   "cell_type": "markdown",
   "id": "77b583d8",
   "metadata": {
    "papermill": {
     "duration": 0.010673,
     "end_time": "2023-03-07T06:53:25.918795",
     "exception": false,
     "start_time": "2023-03-07T06:53:25.908122",
     "status": "completed"
    },
    "tags": []
   },
   "source": [
    "# Encoding training data"
   ]
  },
  {
   "cell_type": "code",
   "execution_count": 14,
   "id": "ec0ca785",
   "metadata": {
    "execution": {
     "iopub.execute_input": "2023-03-07T06:53:25.942873Z",
     "iopub.status.busy": "2023-03-07T06:53:25.942256Z",
     "iopub.status.idle": "2023-03-07T06:53:26.057064Z",
     "shell.execute_reply": "2023-03-07T06:53:26.055408Z"
    },
    "papermill": {
     "duration": 0.130274,
     "end_time": "2023-03-07T06:53:26.060045",
     "exception": false,
     "start_time": "2023-03-07T06:53:25.929771",
     "status": "completed"
    },
    "tags": []
   },
   "outputs": [
    {
     "data": {
      "text/html": [
       "<div>\n",
       "<style scoped>\n",
       "    .dataframe tbody tr th:only-of-type {\n",
       "        vertical-align: middle;\n",
       "    }\n",
       "\n",
       "    .dataframe tbody tr th {\n",
       "        vertical-align: top;\n",
       "    }\n",
       "\n",
       "    .dataframe thead th {\n",
       "        text-align: right;\n",
       "    }\n",
       "</style>\n",
       "<table border=\"1\" class=\"dataframe\">\n",
       "  <thead>\n",
       "    <tr style=\"text-align: right;\">\n",
       "      <th></th>\n",
       "      <th>PassengerId</th>\n",
       "      <th>Survived</th>\n",
       "      <th>Pclass</th>\n",
       "      <th>Name_0</th>\n",
       "      <th>Name_1</th>\n",
       "      <th>Name_2</th>\n",
       "      <th>Name_3</th>\n",
       "      <th>Name_4</th>\n",
       "      <th>Name_5</th>\n",
       "      <th>Name_6</th>\n",
       "      <th>...</th>\n",
       "      <th>Cabin_0</th>\n",
       "      <th>Cabin_1</th>\n",
       "      <th>Cabin_2</th>\n",
       "      <th>Cabin_3</th>\n",
       "      <th>Cabin_4</th>\n",
       "      <th>Cabin_5</th>\n",
       "      <th>Cabin_6</th>\n",
       "      <th>Cabin_7</th>\n",
       "      <th>Embarked_0</th>\n",
       "      <th>Embarked_1</th>\n",
       "    </tr>\n",
       "  </thead>\n",
       "  <tbody>\n",
       "    <tr>\n",
       "      <th>0</th>\n",
       "      <td>1</td>\n",
       "      <td>0</td>\n",
       "      <td>3</td>\n",
       "      <td>0</td>\n",
       "      <td>0</td>\n",
       "      <td>0</td>\n",
       "      <td>0</td>\n",
       "      <td>0</td>\n",
       "      <td>0</td>\n",
       "      <td>0</td>\n",
       "      <td>...</td>\n",
       "      <td>0</td>\n",
       "      <td>0</td>\n",
       "      <td>0</td>\n",
       "      <td>0</td>\n",
       "      <td>0</td>\n",
       "      <td>0</td>\n",
       "      <td>0</td>\n",
       "      <td>1</td>\n",
       "      <td>0</td>\n",
       "      <td>1</td>\n",
       "    </tr>\n",
       "    <tr>\n",
       "      <th>1</th>\n",
       "      <td>2</td>\n",
       "      <td>1</td>\n",
       "      <td>1</td>\n",
       "      <td>0</td>\n",
       "      <td>0</td>\n",
       "      <td>0</td>\n",
       "      <td>0</td>\n",
       "      <td>0</td>\n",
       "      <td>0</td>\n",
       "      <td>0</td>\n",
       "      <td>...</td>\n",
       "      <td>0</td>\n",
       "      <td>0</td>\n",
       "      <td>0</td>\n",
       "      <td>0</td>\n",
       "      <td>0</td>\n",
       "      <td>0</td>\n",
       "      <td>1</td>\n",
       "      <td>0</td>\n",
       "      <td>1</td>\n",
       "      <td>0</td>\n",
       "    </tr>\n",
       "    <tr>\n",
       "      <th>2</th>\n",
       "      <td>3</td>\n",
       "      <td>1</td>\n",
       "      <td>3</td>\n",
       "      <td>0</td>\n",
       "      <td>0</td>\n",
       "      <td>0</td>\n",
       "      <td>0</td>\n",
       "      <td>0</td>\n",
       "      <td>0</td>\n",
       "      <td>0</td>\n",
       "      <td>...</td>\n",
       "      <td>0</td>\n",
       "      <td>0</td>\n",
       "      <td>0</td>\n",
       "      <td>0</td>\n",
       "      <td>0</td>\n",
       "      <td>0</td>\n",
       "      <td>0</td>\n",
       "      <td>1</td>\n",
       "      <td>0</td>\n",
       "      <td>1</td>\n",
       "    </tr>\n",
       "    <tr>\n",
       "      <th>3</th>\n",
       "      <td>4</td>\n",
       "      <td>1</td>\n",
       "      <td>1</td>\n",
       "      <td>0</td>\n",
       "      <td>0</td>\n",
       "      <td>0</td>\n",
       "      <td>0</td>\n",
       "      <td>0</td>\n",
       "      <td>0</td>\n",
       "      <td>0</td>\n",
       "      <td>...</td>\n",
       "      <td>0</td>\n",
       "      <td>0</td>\n",
       "      <td>0</td>\n",
       "      <td>0</td>\n",
       "      <td>0</td>\n",
       "      <td>0</td>\n",
       "      <td>1</td>\n",
       "      <td>1</td>\n",
       "      <td>0</td>\n",
       "      <td>1</td>\n",
       "    </tr>\n",
       "    <tr>\n",
       "      <th>4</th>\n",
       "      <td>5</td>\n",
       "      <td>0</td>\n",
       "      <td>3</td>\n",
       "      <td>0</td>\n",
       "      <td>0</td>\n",
       "      <td>0</td>\n",
       "      <td>0</td>\n",
       "      <td>0</td>\n",
       "      <td>0</td>\n",
       "      <td>0</td>\n",
       "      <td>...</td>\n",
       "      <td>0</td>\n",
       "      <td>0</td>\n",
       "      <td>0</td>\n",
       "      <td>0</td>\n",
       "      <td>0</td>\n",
       "      <td>0</td>\n",
       "      <td>0</td>\n",
       "      <td>1</td>\n",
       "      <td>0</td>\n",
       "      <td>1</td>\n",
       "    </tr>\n",
       "    <tr>\n",
       "      <th>...</th>\n",
       "      <td>...</td>\n",
       "      <td>...</td>\n",
       "      <td>...</td>\n",
       "      <td>...</td>\n",
       "      <td>...</td>\n",
       "      <td>...</td>\n",
       "      <td>...</td>\n",
       "      <td>...</td>\n",
       "      <td>...</td>\n",
       "      <td>...</td>\n",
       "      <td>...</td>\n",
       "      <td>...</td>\n",
       "      <td>...</td>\n",
       "      <td>...</td>\n",
       "      <td>...</td>\n",
       "      <td>...</td>\n",
       "      <td>...</td>\n",
       "      <td>...</td>\n",
       "      <td>...</td>\n",
       "      <td>...</td>\n",
       "      <td>...</td>\n",
       "    </tr>\n",
       "    <tr>\n",
       "      <th>886</th>\n",
       "      <td>887</td>\n",
       "      <td>0</td>\n",
       "      <td>2</td>\n",
       "      <td>1</td>\n",
       "      <td>1</td>\n",
       "      <td>0</td>\n",
       "      <td>1</td>\n",
       "      <td>1</td>\n",
       "      <td>1</td>\n",
       "      <td>0</td>\n",
       "      <td>...</td>\n",
       "      <td>0</td>\n",
       "      <td>0</td>\n",
       "      <td>0</td>\n",
       "      <td>0</td>\n",
       "      <td>0</td>\n",
       "      <td>0</td>\n",
       "      <td>0</td>\n",
       "      <td>1</td>\n",
       "      <td>0</td>\n",
       "      <td>1</td>\n",
       "    </tr>\n",
       "    <tr>\n",
       "      <th>887</th>\n",
       "      <td>888</td>\n",
       "      <td>1</td>\n",
       "      <td>1</td>\n",
       "      <td>1</td>\n",
       "      <td>1</td>\n",
       "      <td>0</td>\n",
       "      <td>1</td>\n",
       "      <td>1</td>\n",
       "      <td>1</td>\n",
       "      <td>1</td>\n",
       "      <td>...</td>\n",
       "      <td>1</td>\n",
       "      <td>0</td>\n",
       "      <td>0</td>\n",
       "      <td>1</td>\n",
       "      <td>0</td>\n",
       "      <td>0</td>\n",
       "      <td>1</td>\n",
       "      <td>0</td>\n",
       "      <td>0</td>\n",
       "      <td>1</td>\n",
       "    </tr>\n",
       "    <tr>\n",
       "      <th>888</th>\n",
       "      <td>889</td>\n",
       "      <td>0</td>\n",
       "      <td>3</td>\n",
       "      <td>1</td>\n",
       "      <td>1</td>\n",
       "      <td>0</td>\n",
       "      <td>1</td>\n",
       "      <td>1</td>\n",
       "      <td>1</td>\n",
       "      <td>1</td>\n",
       "      <td>...</td>\n",
       "      <td>0</td>\n",
       "      <td>0</td>\n",
       "      <td>0</td>\n",
       "      <td>0</td>\n",
       "      <td>0</td>\n",
       "      <td>0</td>\n",
       "      <td>0</td>\n",
       "      <td>1</td>\n",
       "      <td>0</td>\n",
       "      <td>1</td>\n",
       "    </tr>\n",
       "    <tr>\n",
       "      <th>889</th>\n",
       "      <td>890</td>\n",
       "      <td>1</td>\n",
       "      <td>1</td>\n",
       "      <td>1</td>\n",
       "      <td>1</td>\n",
       "      <td>0</td>\n",
       "      <td>1</td>\n",
       "      <td>1</td>\n",
       "      <td>1</td>\n",
       "      <td>1</td>\n",
       "      <td>...</td>\n",
       "      <td>1</td>\n",
       "      <td>0</td>\n",
       "      <td>0</td>\n",
       "      <td>1</td>\n",
       "      <td>0</td>\n",
       "      <td>0</td>\n",
       "      <td>1</td>\n",
       "      <td>1</td>\n",
       "      <td>1</td>\n",
       "      <td>0</td>\n",
       "    </tr>\n",
       "    <tr>\n",
       "      <th>890</th>\n",
       "      <td>891</td>\n",
       "      <td>0</td>\n",
       "      <td>3</td>\n",
       "      <td>1</td>\n",
       "      <td>1</td>\n",
       "      <td>0</td>\n",
       "      <td>1</td>\n",
       "      <td>1</td>\n",
       "      <td>1</td>\n",
       "      <td>1</td>\n",
       "      <td>...</td>\n",
       "      <td>0</td>\n",
       "      <td>0</td>\n",
       "      <td>0</td>\n",
       "      <td>0</td>\n",
       "      <td>0</td>\n",
       "      <td>0</td>\n",
       "      <td>0</td>\n",
       "      <td>1</td>\n",
       "      <td>1</td>\n",
       "      <td>1</td>\n",
       "    </tr>\n",
       "  </tbody>\n",
       "</table>\n",
       "<p>891 rows × 39 columns</p>\n",
       "</div>"
      ],
      "text/plain": [
       "     PassengerId  Survived  Pclass  Name_0  Name_1  Name_2  Name_3  Name_4  \\\n",
       "0              1         0       3       0       0       0       0       0   \n",
       "1              2         1       1       0       0       0       0       0   \n",
       "2              3         1       3       0       0       0       0       0   \n",
       "3              4         1       1       0       0       0       0       0   \n",
       "4              5         0       3       0       0       0       0       0   \n",
       "..           ...       ...     ...     ...     ...     ...     ...     ...   \n",
       "886          887         0       2       1       1       0       1       1   \n",
       "887          888         1       1       1       1       0       1       1   \n",
       "888          889         0       3       1       1       0       1       1   \n",
       "889          890         1       1       1       1       0       1       1   \n",
       "890          891         0       3       1       1       0       1       1   \n",
       "\n",
       "     Name_5  Name_6  ...  Cabin_0  Cabin_1  Cabin_2  Cabin_3  Cabin_4  \\\n",
       "0         0       0  ...        0        0        0        0        0   \n",
       "1         0       0  ...        0        0        0        0        0   \n",
       "2         0       0  ...        0        0        0        0        0   \n",
       "3         0       0  ...        0        0        0        0        0   \n",
       "4         0       0  ...        0        0        0        0        0   \n",
       "..      ...     ...  ...      ...      ...      ...      ...      ...   \n",
       "886       1       0  ...        0        0        0        0        0   \n",
       "887       1       1  ...        1        0        0        1        0   \n",
       "888       1       1  ...        0        0        0        0        0   \n",
       "889       1       1  ...        1        0        0        1        0   \n",
       "890       1       1  ...        0        0        0        0        0   \n",
       "\n",
       "     Cabin_5  Cabin_6  Cabin_7  Embarked_0  Embarked_1  \n",
       "0          0        0        1           0           1  \n",
       "1          0        1        0           1           0  \n",
       "2          0        0        1           0           1  \n",
       "3          0        1        1           0           1  \n",
       "4          0        0        1           0           1  \n",
       "..       ...      ...      ...         ...         ...  \n",
       "886        0        0        1           0           1  \n",
       "887        0        1        0           0           1  \n",
       "888        0        0        1           0           1  \n",
       "889        0        1        1           1           0  \n",
       "890        0        0        1           1           1  \n",
       "\n",
       "[891 rows x 39 columns]"
      ]
     },
     "execution_count": 14,
     "metadata": {},
     "output_type": "execute_result"
    }
   ],
   "source": [
    "encoder=c.BinaryEncoder(cols=['Name','Sex','Ticket','Cabin','Embarked'],return_df=True)\n",
    "encoder.fit_transform(training_data)"
   ]
  },
  {
   "cell_type": "markdown",
   "id": "d5cc142f",
   "metadata": {
    "papermill": {
     "duration": 0.011721,
     "end_time": "2023-03-07T06:53:26.083756",
     "exception": false,
     "start_time": "2023-03-07T06:53:26.072035",
     "status": "completed"
    },
    "tags": []
   },
   "source": [
    "# Encoding testing data"
   ]
  },
  {
   "cell_type": "code",
   "execution_count": 15,
   "id": "a64bac14",
   "metadata": {
    "execution": {
     "iopub.execute_input": "2023-03-07T06:53:26.109574Z",
     "iopub.status.busy": "2023-03-07T06:53:26.109128Z",
     "iopub.status.idle": "2023-03-07T06:53:26.203293Z",
     "shell.execute_reply": "2023-03-07T06:53:26.202163Z"
    },
    "papermill": {
     "duration": 0.109865,
     "end_time": "2023-03-07T06:53:26.206031",
     "exception": false,
     "start_time": "2023-03-07T06:53:26.096166",
     "status": "completed"
    },
    "tags": []
   },
   "outputs": [
    {
     "data": {
      "text/html": [
       "<div>\n",
       "<style scoped>\n",
       "    .dataframe tbody tr th:only-of-type {\n",
       "        vertical-align: middle;\n",
       "    }\n",
       "\n",
       "    .dataframe tbody tr th {\n",
       "        vertical-align: top;\n",
       "    }\n",
       "\n",
       "    .dataframe thead th {\n",
       "        text-align: right;\n",
       "    }\n",
       "</style>\n",
       "<table border=\"1\" class=\"dataframe\">\n",
       "  <thead>\n",
       "    <tr style=\"text-align: right;\">\n",
       "      <th></th>\n",
       "      <th>PassengerId</th>\n",
       "      <th>Pclass</th>\n",
       "      <th>Name_0</th>\n",
       "      <th>Name_1</th>\n",
       "      <th>Name_2</th>\n",
       "      <th>Name_3</th>\n",
       "      <th>Name_4</th>\n",
       "      <th>Name_5</th>\n",
       "      <th>Name_6</th>\n",
       "      <th>Name_7</th>\n",
       "      <th>...</th>\n",
       "      <th>Fare</th>\n",
       "      <th>Cabin_0</th>\n",
       "      <th>Cabin_1</th>\n",
       "      <th>Cabin_2</th>\n",
       "      <th>Cabin_3</th>\n",
       "      <th>Cabin_4</th>\n",
       "      <th>Cabin_5</th>\n",
       "      <th>Cabin_6</th>\n",
       "      <th>Embarked_0</th>\n",
       "      <th>Embarked_1</th>\n",
       "    </tr>\n",
       "  </thead>\n",
       "  <tbody>\n",
       "    <tr>\n",
       "      <th>0</th>\n",
       "      <td>892</td>\n",
       "      <td>3</td>\n",
       "      <td>0</td>\n",
       "      <td>0</td>\n",
       "      <td>0</td>\n",
       "      <td>0</td>\n",
       "      <td>0</td>\n",
       "      <td>0</td>\n",
       "      <td>0</td>\n",
       "      <td>0</td>\n",
       "      <td>...</td>\n",
       "      <td>7.8292</td>\n",
       "      <td>0</td>\n",
       "      <td>0</td>\n",
       "      <td>0</td>\n",
       "      <td>0</td>\n",
       "      <td>0</td>\n",
       "      <td>0</td>\n",
       "      <td>1</td>\n",
       "      <td>0</td>\n",
       "      <td>1</td>\n",
       "    </tr>\n",
       "    <tr>\n",
       "      <th>1</th>\n",
       "      <td>893</td>\n",
       "      <td>3</td>\n",
       "      <td>0</td>\n",
       "      <td>0</td>\n",
       "      <td>0</td>\n",
       "      <td>0</td>\n",
       "      <td>0</td>\n",
       "      <td>0</td>\n",
       "      <td>0</td>\n",
       "      <td>1</td>\n",
       "      <td>...</td>\n",
       "      <td>7.0000</td>\n",
       "      <td>0</td>\n",
       "      <td>0</td>\n",
       "      <td>0</td>\n",
       "      <td>0</td>\n",
       "      <td>0</td>\n",
       "      <td>1</td>\n",
       "      <td>0</td>\n",
       "      <td>1</td>\n",
       "      <td>0</td>\n",
       "    </tr>\n",
       "    <tr>\n",
       "      <th>2</th>\n",
       "      <td>894</td>\n",
       "      <td>2</td>\n",
       "      <td>0</td>\n",
       "      <td>0</td>\n",
       "      <td>0</td>\n",
       "      <td>0</td>\n",
       "      <td>0</td>\n",
       "      <td>0</td>\n",
       "      <td>0</td>\n",
       "      <td>1</td>\n",
       "      <td>...</td>\n",
       "      <td>9.6875</td>\n",
       "      <td>0</td>\n",
       "      <td>0</td>\n",
       "      <td>0</td>\n",
       "      <td>0</td>\n",
       "      <td>0</td>\n",
       "      <td>0</td>\n",
       "      <td>1</td>\n",
       "      <td>0</td>\n",
       "      <td>1</td>\n",
       "    </tr>\n",
       "    <tr>\n",
       "      <th>3</th>\n",
       "      <td>895</td>\n",
       "      <td>3</td>\n",
       "      <td>0</td>\n",
       "      <td>0</td>\n",
       "      <td>0</td>\n",
       "      <td>0</td>\n",
       "      <td>0</td>\n",
       "      <td>0</td>\n",
       "      <td>1</td>\n",
       "      <td>0</td>\n",
       "      <td>...</td>\n",
       "      <td>8.6625</td>\n",
       "      <td>0</td>\n",
       "      <td>0</td>\n",
       "      <td>0</td>\n",
       "      <td>0</td>\n",
       "      <td>0</td>\n",
       "      <td>1</td>\n",
       "      <td>1</td>\n",
       "      <td>1</td>\n",
       "      <td>0</td>\n",
       "    </tr>\n",
       "    <tr>\n",
       "      <th>4</th>\n",
       "      <td>896</td>\n",
       "      <td>3</td>\n",
       "      <td>0</td>\n",
       "      <td>0</td>\n",
       "      <td>0</td>\n",
       "      <td>0</td>\n",
       "      <td>0</td>\n",
       "      <td>0</td>\n",
       "      <td>1</td>\n",
       "      <td>0</td>\n",
       "      <td>...</td>\n",
       "      <td>12.2875</td>\n",
       "      <td>0</td>\n",
       "      <td>0</td>\n",
       "      <td>0</td>\n",
       "      <td>0</td>\n",
       "      <td>0</td>\n",
       "      <td>0</td>\n",
       "      <td>1</td>\n",
       "      <td>1</td>\n",
       "      <td>0</td>\n",
       "    </tr>\n",
       "    <tr>\n",
       "      <th>...</th>\n",
       "      <td>...</td>\n",
       "      <td>...</td>\n",
       "      <td>...</td>\n",
       "      <td>...</td>\n",
       "      <td>...</td>\n",
       "      <td>...</td>\n",
       "      <td>...</td>\n",
       "      <td>...</td>\n",
       "      <td>...</td>\n",
       "      <td>...</td>\n",
       "      <td>...</td>\n",
       "      <td>...</td>\n",
       "      <td>...</td>\n",
       "      <td>...</td>\n",
       "      <td>...</td>\n",
       "      <td>...</td>\n",
       "      <td>...</td>\n",
       "      <td>...</td>\n",
       "      <td>...</td>\n",
       "      <td>...</td>\n",
       "      <td>...</td>\n",
       "    </tr>\n",
       "    <tr>\n",
       "      <th>413</th>\n",
       "      <td>1305</td>\n",
       "      <td>3</td>\n",
       "      <td>1</td>\n",
       "      <td>1</td>\n",
       "      <td>0</td>\n",
       "      <td>0</td>\n",
       "      <td>1</td>\n",
       "      <td>1</td>\n",
       "      <td>1</td>\n",
       "      <td>1</td>\n",
       "      <td>...</td>\n",
       "      <td>8.0500</td>\n",
       "      <td>0</td>\n",
       "      <td>0</td>\n",
       "      <td>0</td>\n",
       "      <td>0</td>\n",
       "      <td>0</td>\n",
       "      <td>0</td>\n",
       "      <td>1</td>\n",
       "      <td>1</td>\n",
       "      <td>0</td>\n",
       "    </tr>\n",
       "    <tr>\n",
       "      <th>414</th>\n",
       "      <td>1306</td>\n",
       "      <td>1</td>\n",
       "      <td>1</td>\n",
       "      <td>1</td>\n",
       "      <td>0</td>\n",
       "      <td>0</td>\n",
       "      <td>1</td>\n",
       "      <td>1</td>\n",
       "      <td>1</td>\n",
       "      <td>1</td>\n",
       "      <td>...</td>\n",
       "      <td>108.9000</td>\n",
       "      <td>0</td>\n",
       "      <td>0</td>\n",
       "      <td>0</td>\n",
       "      <td>0</td>\n",
       "      <td>0</td>\n",
       "      <td>0</td>\n",
       "      <td>1</td>\n",
       "      <td>1</td>\n",
       "      <td>1</td>\n",
       "    </tr>\n",
       "    <tr>\n",
       "      <th>415</th>\n",
       "      <td>1307</td>\n",
       "      <td>3</td>\n",
       "      <td>1</td>\n",
       "      <td>1</td>\n",
       "      <td>0</td>\n",
       "      <td>1</td>\n",
       "      <td>0</td>\n",
       "      <td>0</td>\n",
       "      <td>0</td>\n",
       "      <td>0</td>\n",
       "      <td>...</td>\n",
       "      <td>7.2500</td>\n",
       "      <td>0</td>\n",
       "      <td>0</td>\n",
       "      <td>0</td>\n",
       "      <td>0</td>\n",
       "      <td>0</td>\n",
       "      <td>0</td>\n",
       "      <td>1</td>\n",
       "      <td>1</td>\n",
       "      <td>0</td>\n",
       "    </tr>\n",
       "    <tr>\n",
       "      <th>416</th>\n",
       "      <td>1308</td>\n",
       "      <td>3</td>\n",
       "      <td>1</td>\n",
       "      <td>1</td>\n",
       "      <td>0</td>\n",
       "      <td>1</td>\n",
       "      <td>0</td>\n",
       "      <td>0</td>\n",
       "      <td>0</td>\n",
       "      <td>0</td>\n",
       "      <td>...</td>\n",
       "      <td>8.0500</td>\n",
       "      <td>0</td>\n",
       "      <td>0</td>\n",
       "      <td>0</td>\n",
       "      <td>0</td>\n",
       "      <td>0</td>\n",
       "      <td>0</td>\n",
       "      <td>1</td>\n",
       "      <td>1</td>\n",
       "      <td>0</td>\n",
       "    </tr>\n",
       "    <tr>\n",
       "      <th>417</th>\n",
       "      <td>1309</td>\n",
       "      <td>3</td>\n",
       "      <td>1</td>\n",
       "      <td>1</td>\n",
       "      <td>0</td>\n",
       "      <td>1</td>\n",
       "      <td>0</td>\n",
       "      <td>0</td>\n",
       "      <td>0</td>\n",
       "      <td>1</td>\n",
       "      <td>...</td>\n",
       "      <td>22.3583</td>\n",
       "      <td>0</td>\n",
       "      <td>0</td>\n",
       "      <td>0</td>\n",
       "      <td>0</td>\n",
       "      <td>0</td>\n",
       "      <td>0</td>\n",
       "      <td>1</td>\n",
       "      <td>1</td>\n",
       "      <td>1</td>\n",
       "    </tr>\n",
       "  </tbody>\n",
       "</table>\n",
       "<p>418 rows × 35 columns</p>\n",
       "</div>"
      ],
      "text/plain": [
       "     PassengerId  Pclass  Name_0  Name_1  Name_2  Name_3  Name_4  Name_5  \\\n",
       "0            892       3       0       0       0       0       0       0   \n",
       "1            893       3       0       0       0       0       0       0   \n",
       "2            894       2       0       0       0       0       0       0   \n",
       "3            895       3       0       0       0       0       0       0   \n",
       "4            896       3       0       0       0       0       0       0   \n",
       "..           ...     ...     ...     ...     ...     ...     ...     ...   \n",
       "413         1305       3       1       1       0       0       1       1   \n",
       "414         1306       1       1       1       0       0       1       1   \n",
       "415         1307       3       1       1       0       1       0       0   \n",
       "416         1308       3       1       1       0       1       0       0   \n",
       "417         1309       3       1       1       0       1       0       0   \n",
       "\n",
       "     Name_6  Name_7  ...      Fare  Cabin_0  Cabin_1  Cabin_2  Cabin_3  \\\n",
       "0         0       0  ...    7.8292        0        0        0        0   \n",
       "1         0       1  ...    7.0000        0        0        0        0   \n",
       "2         0       1  ...    9.6875        0        0        0        0   \n",
       "3         1       0  ...    8.6625        0        0        0        0   \n",
       "4         1       0  ...   12.2875        0        0        0        0   \n",
       "..      ...     ...  ...       ...      ...      ...      ...      ...   \n",
       "413       1       1  ...    8.0500        0        0        0        0   \n",
       "414       1       1  ...  108.9000        0        0        0        0   \n",
       "415       0       0  ...    7.2500        0        0        0        0   \n",
       "416       0       0  ...    8.0500        0        0        0        0   \n",
       "417       0       1  ...   22.3583        0        0        0        0   \n",
       "\n",
       "     Cabin_4  Cabin_5  Cabin_6  Embarked_0  Embarked_1  \n",
       "0          0        0        1           0           1  \n",
       "1          0        1        0           1           0  \n",
       "2          0        0        1           0           1  \n",
       "3          0        1        1           1           0  \n",
       "4          0        0        1           1           0  \n",
       "..       ...      ...      ...         ...         ...  \n",
       "413        0        0        1           1           0  \n",
       "414        0        0        1           1           1  \n",
       "415        0        0        1           1           0  \n",
       "416        0        0        1           1           0  \n",
       "417        0        0        1           1           1  \n",
       "\n",
       "[418 rows x 35 columns]"
      ]
     },
     "execution_count": 15,
     "metadata": {},
     "output_type": "execute_result"
    }
   ],
   "source": [
    "encoder=c.BinaryEncoder(cols=['Name','Sex','Ticket','Cabin','Embarked'],return_df=True)\n",
    "encoder.fit_transform(testing_data)"
   ]
  },
  {
   "cell_type": "markdown",
   "id": "3fac967a",
   "metadata": {
    "papermill": {
     "duration": 0.011848,
     "end_time": "2023-03-07T06:53:26.230885",
     "exception": false,
     "start_time": "2023-03-07T06:53:26.219037",
     "status": "completed"
    },
    "tags": []
   },
   "source": [
    "# Correlation of Training data"
   ]
  },
  {
   "cell_type": "code",
   "execution_count": 16,
   "id": "9dcfd5b4",
   "metadata": {
    "execution": {
     "iopub.execute_input": "2023-03-07T06:53:26.256967Z",
     "iopub.status.busy": "2023-03-07T06:53:26.256472Z",
     "iopub.status.idle": "2023-03-07T06:53:26.269447Z",
     "shell.execute_reply": "2023-03-07T06:53:26.268012Z"
    },
    "papermill": {
     "duration": 0.029084,
     "end_time": "2023-03-07T06:53:26.272012",
     "exception": false,
     "start_time": "2023-03-07T06:53:26.242928",
     "status": "completed"
    },
    "tags": []
   },
   "outputs": [
    {
     "name": "stdout",
     "output_type": "stream",
     "text": [
      "Survived    1.000000\n",
      "Pclass     -0.338481\n",
      "Name       -0.057343\n",
      "Sex        -0.543351\n",
      "Age        -0.064910\n",
      "SibSp      -0.035322\n",
      "Parch       0.081629\n",
      "Ticket     -0.164549\n",
      "Fare        0.257307\n",
      "Cabin       0.175690\n",
      "Embarked   -0.167675\n",
      "Name: Survived, dtype: float64\n"
     ]
    }
   ],
   "source": [
    "names=['PassengerId','Survived','Pclass',\"Name\",\"Sex\",\"Age\",\"SibSp\",\"Parch\",\"Ticket\",\"Fare\",\"Cabin\",\"Embarked\"]\n",
    "l=training_data[training_data.columns[1:]].corr()['Survived']\n",
    "print(l)"
   ]
  },
  {
   "cell_type": "code",
   "execution_count": 17,
   "id": "27f5af0d",
   "metadata": {
    "execution": {
     "iopub.execute_input": "2023-03-07T06:53:26.298870Z",
     "iopub.status.busy": "2023-03-07T06:53:26.298457Z",
     "iopub.status.idle": "2023-03-07T06:53:27.449695Z",
     "shell.execute_reply": "2023-03-07T06:53:27.448319Z"
    },
    "papermill": {
     "duration": 1.169748,
     "end_time": "2023-03-07T06:53:27.454124",
     "exception": false,
     "start_time": "2023-03-07T06:53:26.284376",
     "status": "completed"
    },
    "tags": []
   },
   "outputs": [
    {
     "data": {
      "text/plain": [
       "<AxesSubplot:>"
      ]
     },
     "execution_count": 17,
     "metadata": {},
     "output_type": "execute_result"
    },
    {
     "data": {
      "image/png": "[encoded data removed]",
      "text/plain": [
       "<Figure size 640x480 with 2 Axes>"
      ]
     },
     "metadata": {},
     "output_type": "display_data"
    }
   ],
   "source": [
    "sns.heatmap(training_data.corr(), annot=True)\n",
    "\n",
    "\n",
    "\n"
   ]
  },
  {
   "cell_type": "markdown",
   "id": "6a9d8267",
   "metadata": {
    "papermill": {
     "duration": 0.014036,
     "end_time": "2023-03-07T06:53:27.482595",
     "exception": false,
     "start_time": "2023-03-07T06:53:27.468559",
     "status": "completed"
    },
    "tags": []
   },
   "source": [
    "# Correlation coefficient threshold selection of training_data"
   ]
  },
  {
   "cell_type": "code",
   "execution_count": 18,
   "id": "ccdfe3c9",
   "metadata": {
    "execution": {
     "iopub.execute_input": "2023-03-07T06:53:27.514533Z",
     "iopub.status.busy": "2023-03-07T06:53:27.513814Z",
     "iopub.status.idle": "2023-03-07T06:53:27.520951Z",
     "shell.execute_reply": "2023-03-07T06:53:27.519527Z"
    },
    "papermill": {
     "duration": 0.027484,
     "end_time": "2023-03-07T06:53:27.524703",
     "exception": false,
     "start_time": "2023-03-07T06:53:27.497219",
     "status": "completed"
    },
    "tags": []
   },
   "outputs": [
    {
     "name": "stdout",
     "output_type": "stream",
     "text": [
      "PassengerId\n",
      "Survived\n",
      "Name\n",
      "Parch\n",
      "Ticket\n",
      "Fare\n",
      "Cabin\n"
     ]
    }
   ],
   "source": [
    "for i in range(len(l)):\n",
    "    if abs(l[i]) > 0.15:\n",
    "        print(names[i])"
   ]
  },
  {
   "cell_type": "markdown",
   "id": "a2d8a6bc",
   "metadata": {
    "papermill": {
     "duration": 0.014326,
     "end_time": "2023-03-07T06:53:27.554248",
     "exception": false,
     "start_time": "2023-03-07T06:53:27.539922",
     "status": "completed"
    },
    "tags": []
   },
   "source": [
    "# Accuracy score calculation using correlation threshold"
   ]
  },
  {
   "cell_type": "code",
   "execution_count": 19,
   "id": "aef711c8",
   "metadata": {
    "execution": {
     "iopub.execute_input": "2023-03-07T06:53:27.585504Z",
     "iopub.status.busy": "2023-03-07T06:53:27.584454Z",
     "iopub.status.idle": "2023-03-07T06:53:28.127108Z",
     "shell.execute_reply": "2023-03-07T06:53:28.125488Z"
    },
    "papermill": {
     "duration": 0.561052,
     "end_time": "2023-03-07T06:53:28.129795",
     "exception": false,
     "start_time": "2023-03-07T06:53:27.568743",
     "status": "completed"
    },
    "tags": []
   },
   "outputs": [
    {
     "name": "stdout",
     "output_type": "stream",
     "text": [
      "0.8303030303030303\n"
     ]
    }
   ],
   "source": [
    "from sklearn.ensemble import RandomForestClassifier\n",
    "from sklearn.model_selection import train_test_split\n",
    "from sklearn import metrics\n",
    "\n",
    "y = training_data[\"Survived\"]\n",
    "\n",
    "features = [\"Pclass\", \"Sex\",\"Ticket\",\"Fare\",\"Cabin\",\"Embarked\"]\n",
    "X = pd.get_dummies(training_data[features])\n",
    "X_train, X_test, y_train, y_test = train_test_split(X, y,  test_size=0.37, random_state=42)\n",
    "#X_test = pd.get_dummies(testing_data[features])\n",
    "\n",
    "model = RandomForestClassifier(n_estimators=100, max_depth=5, random_state=1)\n",
    "model.fit(X, y)\n",
    "predictions = model.predict(X_test)\n",
    "print(metrics.accuracy_score(y_test,predictions))"
   ]
  },
  {
   "cell_type": "markdown",
   "id": "d10f8fc1",
   "metadata": {
    "papermill": {
     "duration": 0.014093,
     "end_time": "2023-03-07T06:53:28.159062",
     "exception": false,
     "start_time": "2023-03-07T06:53:28.144969",
     "status": "completed"
    },
    "tags": []
   },
   "source": [
    "# Accuracy calculation using HeatMap feature selection"
   ]
  },
  {
   "cell_type": "code",
   "execution_count": 20,
   "id": "179556dd",
   "metadata": {
    "execution": {
     "iopub.execute_input": "2023-03-07T06:53:28.189946Z",
     "iopub.status.busy": "2023-03-07T06:53:28.189209Z",
     "iopub.status.idle": "2023-03-07T06:53:28.406813Z",
     "shell.execute_reply": "2023-03-07T06:53:28.405104Z"
    },
    "papermill": {
     "duration": 0.236313,
     "end_time": "2023-03-07T06:53:28.409678",
     "exception": false,
     "start_time": "2023-03-07T06:53:28.173365",
     "status": "completed"
    },
    "tags": []
   },
   "outputs": [
    {
     "name": "stdout",
     "output_type": "stream",
     "text": [
      "0.8606060606060606\n"
     ]
    }
   ],
   "source": [
    "from sklearn.ensemble import RandomForestClassifier\n",
    "from sklearn.model_selection import train_test_split\n",
    "from sklearn import metrics\n",
    "\n",
    "y = training_data[\"Survived\"]\n",
    "\n",
    "features_hm = [\"SibSp\",\"Parch\",\"Cabin\",\"Sex\",\"Age\",\"Pclass\",\"Ticket\",\"Name\"]\n",
    "X = pd.get_dummies(training_data[features_hm])\n",
    "X_train, X_test, y_train, y_test = train_test_split(X, y,  test_size=0.37, random_state=42)\n",
    "\n",
    "\n",
    "model = RandomForestClassifier(n_estimators=100, max_depth=5, random_state=1)\n",
    "model.fit(X, y)\n",
    "predictions_heatmap = model.predict(X_test)\n",
    "print(metrics.accuracy_score(y_test,predictions_heatmap))"
   ]
  },
  {
   "cell_type": "markdown",
   "id": "6b5ee0dd",
   "metadata": {
    "papermill": {
     "duration": 0.014334,
     "end_time": "2023-03-07T06:53:28.438995",
     "exception": false,
     "start_time": "2023-03-07T06:53:28.424661",
     "status": "completed"
    },
    "tags": []
   },
   "source": [
    "# Chi-Square test"
   ]
  },
  {
   "cell_type": "code",
   "execution_count": 21,
   "id": "a6482579",
   "metadata": {
    "execution": {
     "iopub.execute_input": "2023-03-07T06:53:28.469990Z",
     "iopub.status.busy": "2023-03-07T06:53:28.469587Z",
     "iopub.status.idle": "2023-03-07T06:53:28.494595Z",
     "shell.execute_reply": "2023-03-07T06:53:28.493265Z"
    },
    "papermill": {
     "duration": 0.043774,
     "end_time": "2023-03-07T06:53:28.497245",
     "exception": false,
     "start_time": "2023-03-07T06:53:28.453471",
     "status": "completed"
    },
    "tags": []
   },
   "outputs": [
    {
     "data": {
      "text/plain": [
       "(array([3.31293407e+00, 3.08736994e+01, 4.35568915e+02, 9.27024470e+01,\n",
       "        2.16491630e+01, 2.58186538e+00, 1.00974991e+01, 2.87165547e+03,\n",
       "        4.51831909e+03, 2.84482789e+02, 1.02025247e+01]),\n",
       " array([6.87366651e-02, 2.75378563e-08, 9.97314604e-97, 6.07783826e-22,\n",
       "        3.27352826e-06, 1.08094210e-01, 1.48470676e-03, 0.00000000e+00,\n",
       "        0.00000000e+00, 7.92037850e-64, 1.40248517e-03]))"
      ]
     },
     "execution_count": 21,
     "metadata": {},
     "output_type": "execute_result"
    }
   ],
   "source": [
    "from sklearn.feature_selection import chi2\n",
    "X = training_data.drop('Survived',axis=1)\n",
    "y = training_data['Survived']\n",
    "chi_scores = chi2(X,y)\n",
    "chi_scores"
   ]
  },
  {
   "cell_type": "code",
   "execution_count": 22,
   "id": "fdd9322f",
   "metadata": {
    "execution": {
     "iopub.execute_input": "2023-03-07T06:53:28.528690Z",
     "iopub.status.busy": "2023-03-07T06:53:28.528230Z",
     "iopub.status.idle": "2023-03-07T06:53:28.811017Z",
     "shell.execute_reply": "2023-03-07T06:53:28.809509Z"
    },
    "papermill": {
     "duration": 0.301644,
     "end_time": "2023-03-07T06:53:28.813786",
     "exception": false,
     "start_time": "2023-03-07T06:53:28.512142",
     "status": "completed"
    },
    "tags": []
   },
   "outputs": [
    {
     "data": {
      "text/plain": [
       "<AxesSubplot:>"
      ]
     },
     "execution_count": 22,
     "metadata": {},
     "output_type": "execute_result"
    },
    {
     "data": {
      "image/png": "[encoded data removed]",
      "text/plain": [
       "<Figure size 640x480 with 1 Axes>"
      ]
     },
     "metadata": {},
     "output_type": "display_data"
    }
   ],
   "source": [
    "p_values = pd.Series(chi_scores[1],index = X.columns)\n",
    "p_values.sort_values(ascending = False , inplace = True)\n",
    "p_values.plot.bar()"
   ]
  },
  {
   "cell_type": "code",
   "execution_count": 23,
   "id": "ed641434",
   "metadata": {
    "execution": {
     "iopub.execute_input": "2023-03-07T06:53:28.849670Z",
     "iopub.status.busy": "2023-03-07T06:53:28.848328Z",
     "iopub.status.idle": "2023-03-07T06:53:29.072242Z",
     "shell.execute_reply": "2023-03-07T06:53:29.069991Z"
    },
    "papermill": {
     "duration": 0.244763,
     "end_time": "2023-03-07T06:53:29.075972",
     "exception": false,
     "start_time": "2023-03-07T06:53:28.831209",
     "status": "completed"
    },
    "tags": []
   },
   "outputs": [
    {
     "name": "stdout",
     "output_type": "stream",
     "text": [
      "0.8666666666666667\n"
     ]
    }
   ],
   "source": [
    "from sklearn.ensemble import RandomForestClassifier\n",
    "from sklearn.model_selection import train_test_split\n",
    "from sklearn import metrics\n",
    "\n",
    "y = training_data[\"Survived\"]\n",
    "\n",
    "features = [\"Pclass\", \"Sex\",\"Age\",\"Cabin\",\"Name\",\"Ticket\",\"Fare\"]\n",
    "X = pd.get_dummies(training_data[features])\n",
    "X_train, X_test, y_train, y_test = train_test_split(X, y,  test_size=0.37, random_state=42)\n",
    "#X_test = pd.get_dummies(testing_data[features])\n",
    "\n",
    "model = RandomForestClassifier(n_estimators=100, max_depth=5, random_state=1)\n",
    "model.fit(X, y)\n",
    "predictions_rf = model.predict(X_test)\n",
    "print(metrics.accuracy_score(y_test,predictions_rf))\n"
   ]
  },
  {
   "cell_type": "markdown",
   "id": "55a8f654",
   "metadata": {
    "papermill": {
     "duration": 0.022768,
     "end_time": "2023-03-07T06:53:29.117256",
     "exception": false,
     "start_time": "2023-03-07T06:53:29.094488",
     "status": "completed"
    },
    "tags": []
   },
   "source": [
    "# Model prediction on test dataset"
   ]
  },
  {
   "cell_type": "code",
   "execution_count": 24,
   "id": "c14bdf68",
   "metadata": {
    "execution": {
     "iopub.execute_input": "2023-03-07T06:53:29.152254Z",
     "iopub.status.busy": "2023-03-07T06:53:29.151816Z",
     "iopub.status.idle": "2023-03-07T06:53:29.192755Z",
     "shell.execute_reply": "2023-03-07T06:53:29.191506Z"
    },
    "papermill": {
     "duration": 0.060681,
     "end_time": "2023-03-07T06:53:29.195752",
     "exception": false,
     "start_time": "2023-03-07T06:53:29.135071",
     "status": "completed"
    },
    "tags": []
   },
   "outputs": [
    {
     "data": {
      "text/plain": [
       "array([0, 0, 0, 0, 1, 0, 1, 0, 1, 0, 0, 0, 1, 0, 1, 1, 0, 0, 0, 1, 0, 0,\n",
       "       1, 0, 1, 0, 1, 0, 1, 0, 0, 0, 1, 0, 0, 0, 1, 1, 0, 1, 0, 0, 0, 1,\n",
       "       1, 0, 0, 0, 1, 0, 0, 0, 1, 1, 0, 0, 0, 0, 0, 1, 0, 0, 0, 1, 1, 1,\n",
       "       1, 0, 0, 1, 1, 0, 1, 0, 1, 0, 0, 1, 0, 1, 1, 0, 0, 0, 0, 0, 1, 1,\n",
       "       1, 1, 1, 0, 1, 0, 0, 0, 1, 0, 1, 0, 1, 0, 0, 0, 1, 0, 0, 0, 0, 0,\n",
       "       0, 1, 1, 1, 1, 0, 0, 1, 1, 1, 1, 0, 1, 0, 0, 1, 0, 1, 0, 0, 0, 0,\n",
       "       0, 0, 0, 0, 0, 0, 0, 0, 0, 1, 0, 0, 0, 0, 0, 0, 1, 0, 1, 0, 0, 1,\n",
       "       0, 0, 1, 1, 0, 0, 1, 1, 1, 0, 0, 1, 0, 0, 1, 1, 0, 0, 0, 0, 0, 1,\n",
       "       1, 0, 1, 1, 0, 1, 1, 0, 1, 0, 1, 0, 0, 0, 0, 0, 0, 0, 1, 0, 1, 1,\n",
       "       0, 1, 1, 1, 1, 1, 0, 0, 1, 0, 1, 0, 0, 0, 0, 1, 1, 0, 1, 0, 1, 0,\n",
       "       1, 0, 1, 0, 1, 1, 0, 1, 0, 0, 1, 1, 0, 0, 0, 0, 0, 0, 1, 1, 1, 1,\n",
       "       0, 0, 0, 0, 1, 0, 1, 1, 1, 0, 1, 0, 0, 0, 0, 0, 1, 0, 0, 0, 1, 1,\n",
       "       0, 0, 0, 0, 1, 0, 0, 0, 1, 1, 0, 1, 0, 0, 0, 0, 1, 1, 1, 1, 1, 0,\n",
       "       0, 1, 0, 0, 0, 1, 0, 1, 0, 0, 1, 0, 0, 0, 0, 0, 0, 0, 1, 1, 1, 1,\n",
       "       0, 0, 0, 0, 0, 1, 1, 1, 0, 0, 0, 0, 0, 0, 0, 0, 1, 0, 1, 0, 0, 0,\n",
       "       1, 0, 0, 1, 0, 0, 0, 0, 0, 0, 0, 0, 0, 1, 0, 1, 0, 1, 0, 1, 1, 0,\n",
       "       0, 0, 1, 0, 1, 0, 0, 1, 0, 1, 1, 0, 1, 0, 0, 1, 1, 0, 0, 1, 0, 0,\n",
       "       1, 1, 1, 0, 0, 1, 0, 0, 1, 1, 0, 1, 0, 0, 0, 0, 1, 1, 0, 0, 0, 1,\n",
       "       0, 1, 0, 0, 1, 0, 1, 1, 0, 0, 0, 0, 1, 1, 1, 1, 1, 0, 1, 0, 0, 0])"
      ]
     },
     "execution_count": 24,
     "metadata": {},
     "output_type": "execute_result"
    }
   ],
   "source": [
    "test_predict = model.predict(testing_data[features])\n",
    "test_predict\n"
   ]
  },
  {
   "cell_type": "markdown",
   "id": "e9ee98b3",
   "metadata": {
    "papermill": {
     "duration": 0.017215,
     "end_time": "2023-03-07T06:53:29.232873",
     "exception": false,
     "start_time": "2023-03-07T06:53:29.215658",
     "status": "completed"
    },
    "tags": []
   },
   "source": [
    "# Generating output csv"
   ]
  },
  {
   "cell_type": "code",
   "execution_count": 25,
   "id": "9a6588b3",
   "metadata": {
    "execution": {
     "iopub.execute_input": "2023-03-07T06:53:29.267255Z",
     "iopub.status.busy": "2023-03-07T06:53:29.266666Z",
     "iopub.status.idle": "2023-03-07T06:53:29.280510Z",
     "shell.execute_reply": "2023-03-07T06:53:29.279331Z"
    },
    "papermill": {
     "duration": 0.035097,
     "end_time": "2023-03-07T06:53:29.283713",
     "exception": false,
     "start_time": "2023-03-07T06:53:29.248616",
     "status": "completed"
    },
    "tags": []
   },
   "outputs": [
    {
     "name": "stdout",
     "output_type": "stream",
     "text": [
      "Your submission was successfully saved!\n"
     ]
    }
   ],
   "source": [
    "output = pd.DataFrame({'PassengerId': testing_data.PassengerId, 'Survived': test_predict})\n",
    "output.to_csv('submission.csv', index=False)\n",
    "print(\"Your submission was successfully saved!\")"
   ]
  }
 ],
 "metadata": {
  "kernelspec": {
   "display_name": "Python 3",
   "language": "python",
   "name": "python3"
  },
  "language_info": {
   "codemirror_mode": {
    "name": "ipython",
    "version": 3
   },
   "file_extension": ".py",
   "mimetype": "text/x-python",
   "name": "python",
   "nbconvert_exporter": "python",
   "pygments_lexer": "ipython3",
   "version": "3.7.12"
  },
  "papermill": {
   "default_parameters": {},
   "duration": 17.111869,
   "end_time": "2023-03-07T06:53:30.126304",
   "environment_variables": {},
   "exception": null,
   "input_path": "__notebook__.ipynb",
   "output_path": "__notebook__.ipynb",
   "parameters": {},
   "start_time": "2023-03-07T06:53:13.014435",
   "version": "2.3.4"
  }
 },
 "nbformat": 4,
 "nbformat_minor": 5
}
