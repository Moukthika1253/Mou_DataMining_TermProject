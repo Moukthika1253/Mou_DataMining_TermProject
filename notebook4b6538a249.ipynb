{
 "cells": [
  {
   "cell_type": "code",
   "execution_count": 1,
   "id": "3599cf61",
   "metadata": {
    "_cell_guid": "b1076dfc-b9ad-4769-8c92-a6c4dae69d19",
    "_uuid": "8f2839f25d086af736a60e9eeb907d3b93b6e0e5",
    "execution": {
     "iopub.execute_input": "2023-03-09T06:49:34.557325Z",
     "iopub.status.busy": "2023-03-09T06:49:34.556503Z",
     "iopub.status.idle": "2023-03-09T06:49:36.168826Z",
     "shell.execute_reply": "2023-03-09T06:49:36.167301Z"
    },
    "papermill": {
     "duration": 1.635303,
     "end_time": "2023-03-09T06:49:36.172639",
     "exception": false,
     "start_time": "2023-03-09T06:49:34.537336",
     "status": "completed"
    },
    "tags": []
   },
   "outputs": [
    {
     "name": "stdout",
     "output_type": "stream",
     "text": [
      "/kaggle/input/titanic/train.csv\n",
      "/kaggle/input/titanic/test.csv\n",
      "/kaggle/input/titanic/gender_submission.csv\n"
     ]
    }
   ],
   "source": [
    "import pandas as pd \n",
    "import numpy as np\n",
    "import os\n",
    "import category_encoders as c\n",
    "import seaborn as sns\n",
    "from sklearn.model_selection import train_test_split\n",
    "from sklearn import metrics\n",
    "\n",
    "for dirname, _, filenames in os.walk('/kaggle/input'):\n",
    "    for filename in filenames:\n",
    "        print(os.path.join(dirname, filename))\n",
    "\n"
   ]
  },
  {
   "cell_type": "markdown",
   "id": "1334fcf1",
   "metadata": {
    "papermill": {
     "duration": 0.014347,
     "end_time": "2023-03-09T06:49:36.202225",
     "exception": false,
     "start_time": "2023-03-09T06:49:36.187878",
     "status": "completed"
    },
    "tags": []
   },
   "source": [
    "* imported \n",
    "           - pandas,numpy to perform operations on dataframe and nd-array\n",
    "           - category_encoders to do encoding on training,testing data\n",
    "           - seaborn to implement data visualization\n",
    "           - train_test_split to split training data\n",
    "           - metrics to calculate accuracy score"
   ]
  },
  {
   "cell_type": "markdown",
   "id": "655c88cf",
   "metadata": {
    "papermill": {
     "duration": 0.013697,
     "end_time": "2023-03-09T06:49:36.230160",
     "exception": false,
     "start_time": "2023-03-09T06:49:36.216463",
     "status": "completed"
    },
    "tags": []
   },
   "source": [
    "# Loading training data"
   ]
  },
  {
   "cell_type": "code",
   "execution_count": 2,
   "id": "1eeb3039",
   "metadata": {
    "execution": {
     "iopub.execute_input": "2023-03-09T06:49:36.261763Z",
     "iopub.status.busy": "2023-03-09T06:49:36.261332Z",
     "iopub.status.idle": "2023-03-09T06:49:36.310715Z",
     "shell.execute_reply": "2023-03-09T06:49:36.309424Z"
    },
    "papermill": {
     "duration": 0.068594,
     "end_time": "2023-03-09T06:49:36.313380",
     "exception": false,
     "start_time": "2023-03-09T06:49:36.244786",
     "status": "completed"
    },
    "tags": []
   },
   "outputs": [
    {
     "data": {
      "text/html": [
       "<div>\n",
       "<style scoped>\n",
       "    .dataframe tbody tr th:only-of-type {\n",
       "        vertical-align: middle;\n",
       "    }\n",
       "\n",
       "    .dataframe tbody tr th {\n",
       "        vertical-align: top;\n",
       "    }\n",
       "\n",
       "    .dataframe thead th {\n",
       "        text-align: right;\n",
       "    }\n",
       "</style>\n",
       "<table border=\"1\" class=\"dataframe\">\n",
       "  <thead>\n",
       "    <tr style=\"text-align: right;\">\n",
       "      <th></th>\n",
       "      <th>PassengerId</th>\n",
       "      <th>Survived</th>\n",
       "      <th>Pclass</th>\n",
       "      <th>Name</th>\n",
       "      <th>Sex</th>\n",
       "      <th>Age</th>\n",
       "      <th>SibSp</th>\n",
       "      <th>Parch</th>\n",
       "      <th>Ticket</th>\n",
       "      <th>Fare</th>\n",
       "      <th>Cabin</th>\n",
       "      <th>Embarked</th>\n",
       "    </tr>\n",
       "  </thead>\n",
       "  <tbody>\n",
       "    <tr>\n",
       "      <th>0</th>\n",
       "      <td>1</td>\n",
       "      <td>0</td>\n",
       "      <td>3</td>\n",
       "      <td>Braund, Mr. Owen Harris</td>\n",
       "      <td>male</td>\n",
       "      <td>22.0</td>\n",
       "      <td>1</td>\n",
       "      <td>0</td>\n",
       "      <td>A/5 21171</td>\n",
       "      <td>7.2500</td>\n",
       "      <td>NaN</td>\n",
       "      <td>S</td>\n",
       "    </tr>\n",
       "    <tr>\n",
       "      <th>1</th>\n",
       "      <td>2</td>\n",
       "      <td>1</td>\n",
       "      <td>1</td>\n",
       "      <td>Cumings, Mrs. John Bradley (Florence Briggs Th...</td>\n",
       "      <td>female</td>\n",
       "      <td>38.0</td>\n",
       "      <td>1</td>\n",
       "      <td>0</td>\n",
       "      <td>PC 17599</td>\n",
       "      <td>71.2833</td>\n",
       "      <td>C85</td>\n",
       "      <td>C</td>\n",
       "    </tr>\n",
       "    <tr>\n",
       "      <th>2</th>\n",
       "      <td>3</td>\n",
       "      <td>1</td>\n",
       "      <td>3</td>\n",
       "      <td>Heikkinen, Miss. Laina</td>\n",
       "      <td>female</td>\n",
       "      <td>26.0</td>\n",
       "      <td>0</td>\n",
       "      <td>0</td>\n",
       "      <td>STON/O2. 3101282</td>\n",
       "      <td>7.9250</td>\n",
       "      <td>NaN</td>\n",
       "      <td>S</td>\n",
       "    </tr>\n",
       "    <tr>\n",
       "      <th>3</th>\n",
       "      <td>4</td>\n",
       "      <td>1</td>\n",
       "      <td>1</td>\n",
       "      <td>Futrelle, Mrs. Jacques Heath (Lily May Peel)</td>\n",
       "      <td>female</td>\n",
       "      <td>35.0</td>\n",
       "      <td>1</td>\n",
       "      <td>0</td>\n",
       "      <td>113803</td>\n",
       "      <td>53.1000</td>\n",
       "      <td>C123</td>\n",
       "      <td>S</td>\n",
       "    </tr>\n",
       "    <tr>\n",
       "      <th>4</th>\n",
       "      <td>5</td>\n",
       "      <td>0</td>\n",
       "      <td>3</td>\n",
       "      <td>Allen, Mr. William Henry</td>\n",
       "      <td>male</td>\n",
       "      <td>35.0</td>\n",
       "      <td>0</td>\n",
       "      <td>0</td>\n",
       "      <td>373450</td>\n",
       "      <td>8.0500</td>\n",
       "      <td>NaN</td>\n",
       "      <td>S</td>\n",
       "    </tr>\n",
       "  </tbody>\n",
       "</table>\n",
       "</div>"
      ],
      "text/plain": [
       "   PassengerId  Survived  Pclass  \\\n",
       "0            1         0       3   \n",
       "1            2         1       1   \n",
       "2            3         1       3   \n",
       "3            4         1       1   \n",
       "4            5         0       3   \n",
       "\n",
       "                                                Name     Sex   Age  SibSp  \\\n",
       "0                            Braund, Mr. Owen Harris    male  22.0      1   \n",
       "1  Cumings, Mrs. John Bradley (Florence Briggs Th...  female  38.0      1   \n",
       "2                             Heikkinen, Miss. Laina  female  26.0      0   \n",
       "3       Futrelle, Mrs. Jacques Heath (Lily May Peel)  female  35.0      1   \n",
       "4                           Allen, Mr. William Henry    male  35.0      0   \n",
       "\n",
       "   Parch            Ticket     Fare Cabin Embarked  \n",
       "0      0         A/5 21171   7.2500   NaN        S  \n",
       "1      0          PC 17599  71.2833   C85        C  \n",
       "2      0  STON/O2. 3101282   7.9250   NaN        S  \n",
       "3      0            113803  53.1000  C123        S  \n",
       "4      0            373450   8.0500   NaN        S  "
      ]
     },
     "execution_count": 2,
     "metadata": {},
     "output_type": "execute_result"
    }
   ],
   "source": [
    "training_data = pd.read_csv(\"/kaggle/input/titanic/train.csv\")\n",
    "training_data.head() #displays top 5 rows from training_data"
   ]
  },
  {
   "cell_type": "markdown",
   "id": "6498dfcf",
   "metadata": {
    "papermill": {
     "duration": 0.014004,
     "end_time": "2023-03-09T06:49:36.341853",
     "exception": false,
     "start_time": "2023-03-09T06:49:36.327849",
     "status": "completed"
    },
    "tags": []
   },
   "source": [
    "# Loading test data"
   ]
  },
  {
   "cell_type": "code",
   "execution_count": 3,
   "id": "cb5a5657",
   "metadata": {
    "execution": {
     "iopub.execute_input": "2023-03-09T06:49:36.374913Z",
     "iopub.status.busy": "2023-03-09T06:49:36.373707Z",
     "iopub.status.idle": "2023-03-09T06:49:36.399286Z",
     "shell.execute_reply": "2023-03-09T06:49:36.398095Z"
    },
    "papermill": {
     "duration": 0.045497,
     "end_time": "2023-03-09T06:49:36.402434",
     "exception": false,
     "start_time": "2023-03-09T06:49:36.356937",
     "status": "completed"
    },
    "tags": []
   },
   "outputs": [
    {
     "data": {
      "text/html": [
       "<div>\n",
       "<style scoped>\n",
       "    .dataframe tbody tr th:only-of-type {\n",
       "        vertical-align: middle;\n",
       "    }\n",
       "\n",
       "    .dataframe tbody tr th {\n",
       "        vertical-align: top;\n",
       "    }\n",
       "\n",
       "    .dataframe thead th {\n",
       "        text-align: right;\n",
       "    }\n",
       "</style>\n",
       "<table border=\"1\" class=\"dataframe\">\n",
       "  <thead>\n",
       "    <tr style=\"text-align: right;\">\n",
       "      <th></th>\n",
       "      <th>PassengerId</th>\n",
       "      <th>Pclass</th>\n",
       "      <th>Name</th>\n",
       "      <th>Sex</th>\n",
       "      <th>Age</th>\n",
       "      <th>SibSp</th>\n",
       "      <th>Parch</th>\n",
       "      <th>Ticket</th>\n",
       "      <th>Fare</th>\n",
       "      <th>Cabin</th>\n",
       "      <th>Embarked</th>\n",
       "    </tr>\n",
       "  </thead>\n",
       "  <tbody>\n",
       "    <tr>\n",
       "      <th>0</th>\n",
       "      <td>892</td>\n",
       "      <td>3</td>\n",
       "      <td>Kelly, Mr. James</td>\n",
       "      <td>male</td>\n",
       "      <td>34.5</td>\n",
       "      <td>0</td>\n",
       "      <td>0</td>\n",
       "      <td>330911</td>\n",
       "      <td>7.8292</td>\n",
       "      <td>NaN</td>\n",
       "      <td>Q</td>\n",
       "    </tr>\n",
       "    <tr>\n",
       "      <th>1</th>\n",
       "      <td>893</td>\n",
       "      <td>3</td>\n",
       "      <td>Wilkes, Mrs. James (Ellen Needs)</td>\n",
       "      <td>female</td>\n",
       "      <td>47.0</td>\n",
       "      <td>1</td>\n",
       "      <td>0</td>\n",
       "      <td>363272</td>\n",
       "      <td>7.0000</td>\n",
       "      <td>NaN</td>\n",
       "      <td>S</td>\n",
       "    </tr>\n",
       "    <tr>\n",
       "      <th>2</th>\n",
       "      <td>894</td>\n",
       "      <td>2</td>\n",
       "      <td>Myles, Mr. Thomas Francis</td>\n",
       "      <td>male</td>\n",
       "      <td>62.0</td>\n",
       "      <td>0</td>\n",
       "      <td>0</td>\n",
       "      <td>240276</td>\n",
       "      <td>9.6875</td>\n",
       "      <td>NaN</td>\n",
       "      <td>Q</td>\n",
       "    </tr>\n",
       "    <tr>\n",
       "      <th>3</th>\n",
       "      <td>895</td>\n",
       "      <td>3</td>\n",
       "      <td>Wirz, Mr. Albert</td>\n",
       "      <td>male</td>\n",
       "      <td>27.0</td>\n",
       "      <td>0</td>\n",
       "      <td>0</td>\n",
       "      <td>315154</td>\n",
       "      <td>8.6625</td>\n",
       "      <td>NaN</td>\n",
       "      <td>S</td>\n",
       "    </tr>\n",
       "    <tr>\n",
       "      <th>4</th>\n",
       "      <td>896</td>\n",
       "      <td>3</td>\n",
       "      <td>Hirvonen, Mrs. Alexander (Helga E Lindqvist)</td>\n",
       "      <td>female</td>\n",
       "      <td>22.0</td>\n",
       "      <td>1</td>\n",
       "      <td>1</td>\n",
       "      <td>3101298</td>\n",
       "      <td>12.2875</td>\n",
       "      <td>NaN</td>\n",
       "      <td>S</td>\n",
       "    </tr>\n",
       "  </tbody>\n",
       "</table>\n",
       "</div>"
      ],
      "text/plain": [
       "   PassengerId  Pclass                                          Name     Sex  \\\n",
       "0          892       3                              Kelly, Mr. James    male   \n",
       "1          893       3              Wilkes, Mrs. James (Ellen Needs)  female   \n",
       "2          894       2                     Myles, Mr. Thomas Francis    male   \n",
       "3          895       3                              Wirz, Mr. Albert    male   \n",
       "4          896       3  Hirvonen, Mrs. Alexander (Helga E Lindqvist)  female   \n",
       "\n",
       "    Age  SibSp  Parch   Ticket     Fare Cabin Embarked  \n",
       "0  34.5      0      0   330911   7.8292   NaN        Q  \n",
       "1  47.0      1      0   363272   7.0000   NaN        S  \n",
       "2  62.0      0      0   240276   9.6875   NaN        Q  \n",
       "3  27.0      0      0   315154   8.6625   NaN        S  \n",
       "4  22.0      1      1  3101298  12.2875   NaN        S  "
      ]
     },
     "execution_count": 3,
     "metadata": {},
     "output_type": "execute_result"
    }
   ],
   "source": [
    "testing_data=pd.read_csv(\"/kaggle/input/titanic/test.csv\")\n",
    "testing_data.head() #displays top 5 rows from test data"
   ]
  },
  {
   "cell_type": "markdown",
   "id": "d777e80d",
   "metadata": {
    "papermill": {
     "duration": 0.014592,
     "end_time": "2023-03-09T06:49:36.432116",
     "exception": false,
     "start_time": "2023-03-09T06:49:36.417524",
     "status": "completed"
    },
    "tags": []
   },
   "source": [
    "# Check if any missing values in train data"
   ]
  },
  {
   "cell_type": "code",
   "execution_count": 4,
   "id": "265ac584",
   "metadata": {
    "execution": {
     "iopub.execute_input": "2023-03-09T06:49:36.464959Z",
     "iopub.status.busy": "2023-03-09T06:49:36.463939Z",
     "iopub.status.idle": "2023-03-09T06:49:36.474660Z",
     "shell.execute_reply": "2023-03-09T06:49:36.473271Z"
    },
    "papermill": {
     "duration": 0.02962,
     "end_time": "2023-03-09T06:49:36.477208",
     "exception": false,
     "start_time": "2023-03-09T06:49:36.447588",
     "status": "completed"
    },
    "tags": []
   },
   "outputs": [
    {
     "data": {
      "text/plain": [
       "PassengerId      0\n",
       "Survived         0\n",
       "Pclass           0\n",
       "Name             0\n",
       "Sex              0\n",
       "Age            177\n",
       "SibSp            0\n",
       "Parch            0\n",
       "Ticket           0\n",
       "Fare             0\n",
       "Cabin          687\n",
       "Embarked         2\n",
       "dtype: int64"
      ]
     },
     "execution_count": 4,
     "metadata": {},
     "output_type": "execute_result"
    }
   ],
   "source": [
    "training_data.isna().sum()"
   ]
  },
  {
   "cell_type": "markdown",
   "id": "da1aed1d",
   "metadata": {
    "papermill": {
     "duration": 0.014552,
     "end_time": "2023-03-09T06:49:36.506613",
     "exception": false,
     "start_time": "2023-03-09T06:49:36.492061",
     "status": "completed"
    },
    "tags": []
   },
   "source": [
    "Missing values are found in columns Age=177, Cabin=687, Embarked=2"
   ]
  },
  {
   "cell_type": "markdown",
   "id": "ee1f697f",
   "metadata": {
    "papermill": {
     "duration": 0.014594,
     "end_time": "2023-03-09T06:49:36.536097",
     "exception": false,
     "start_time": "2023-03-09T06:49:36.521503",
     "status": "completed"
    },
    "tags": []
   },
   "source": [
    "# Check if any missing values in test data"
   ]
  },
  {
   "cell_type": "code",
   "execution_count": 5,
   "id": "999ddb65",
   "metadata": {
    "execution": {
     "iopub.execute_input": "2023-03-09T06:49:36.567991Z",
     "iopub.status.busy": "2023-03-09T06:49:36.567560Z",
     "iopub.status.idle": "2023-03-09T06:49:36.578863Z",
     "shell.execute_reply": "2023-03-09T06:49:36.577477Z"
    },
    "papermill": {
     "duration": 0.030352,
     "end_time": "2023-03-09T06:49:36.581305",
     "exception": false,
     "start_time": "2023-03-09T06:49:36.550953",
     "status": "completed"
    },
    "tags": []
   },
   "outputs": [
    {
     "data": {
      "text/plain": [
       "PassengerId      0\n",
       "Pclass           0\n",
       "Name             0\n",
       "Sex              0\n",
       "Age             86\n",
       "SibSp            0\n",
       "Parch            0\n",
       "Ticket           0\n",
       "Fare             1\n",
       "Cabin          327\n",
       "Embarked         0\n",
       "dtype: int64"
      ]
     },
     "execution_count": 5,
     "metadata": {},
     "output_type": "execute_result"
    }
   ],
   "source": [
    "testing_data.isna().sum()"
   ]
  },
  {
   "cell_type": "markdown",
   "id": "2df8fa29",
   "metadata": {
    "papermill": {
     "duration": 0.015237,
     "end_time": "2023-03-09T06:49:36.611519",
     "exception": false,
     "start_time": "2023-03-09T06:49:36.596282",
     "status": "completed"
    },
    "tags": []
   },
   "source": [
    "Missing values are found in columns Age=86, Cabin=327 performance can be increased"
   ]
  },
  {
   "cell_type": "markdown",
   "id": "67b83ca7",
   "metadata": {
    "papermill": {
     "duration": 0.014783,
     "end_time": "2023-03-09T06:49:36.641900",
     "exception": false,
     "start_time": "2023-03-09T06:49:36.627117",
     "status": "completed"
    },
    "tags": []
   },
   "source": [
    "# Replacing the missing values in traininng_data"
   ]
  },
  {
   "cell_type": "code",
   "execution_count": 6,
   "id": "0d6c499a",
   "metadata": {
    "execution": {
     "iopub.execute_input": "2023-03-09T06:49:36.675579Z",
     "iopub.status.busy": "2023-03-09T06:49:36.674323Z",
     "iopub.status.idle": "2023-03-09T06:49:36.693046Z",
     "shell.execute_reply": "2023-03-09T06:49:36.691704Z"
    },
    "papermill": {
     "duration": 0.038598,
     "end_time": "2023-03-09T06:49:36.696011",
     "exception": false,
     "start_time": "2023-03-09T06:49:36.657413",
     "status": "completed"
    },
    "tags": []
   },
   "outputs": [],
   "source": [
    "training_data['Age']=training_data['Age'].fillna(training_data['Age'].mean())\n",
    "training_data['Fare']=training_data['Fare'].fillna(training_data['Fare'].mean())\n",
    "training_data['Cabin']=training_data['Cabin'].fillna(training_data['Cabin'].mode()[0])\n",
    "training_data['Embarked']=training_data['Embarked'].fillna(training_data['Embarked'].mode()[0])"
   ]
  },
  {
   "cell_type": "markdown",
   "id": "e84cf6b5",
   "metadata": {
    "papermill": {
     "duration": 0.015286,
     "end_time": "2023-03-09T06:49:36.726334",
     "exception": false,
     "start_time": "2023-03-09T06:49:36.711048",
     "status": "completed"
    },
    "tags": []
   },
   "source": [
    "Since the type of data in Age column is numerical, I have replaced the missing values with their mean. For the categorical data in columns Cabin,Embarked, replaced missing values with their most repeated value(mode)"
   ]
  },
  {
   "cell_type": "markdown",
   "id": "9ba6bd09",
   "metadata": {
    "papermill": {
     "duration": 0.014713,
     "end_time": "2023-03-09T06:49:36.756432",
     "exception": false,
     "start_time": "2023-03-09T06:49:36.741719",
     "status": "completed"
    },
    "tags": []
   },
   "source": [
    "# Missing values fixed in training_data"
   ]
  },
  {
   "cell_type": "code",
   "execution_count": 7,
   "id": "d4faef94",
   "metadata": {
    "execution": {
     "iopub.execute_input": "2023-03-09T06:49:36.790380Z",
     "iopub.status.busy": "2023-03-09T06:49:36.789944Z",
     "iopub.status.idle": "2023-03-09T06:49:36.801304Z",
     "shell.execute_reply": "2023-03-09T06:49:36.800060Z"
    },
    "papermill": {
     "duration": 0.031982,
     "end_time": "2023-03-09T06:49:36.803698",
     "exception": false,
     "start_time": "2023-03-09T06:49:36.771716",
     "status": "completed"
    },
    "tags": []
   },
   "outputs": [
    {
     "data": {
      "text/plain": [
       "PassengerId    0\n",
       "Survived       0\n",
       "Pclass         0\n",
       "Name           0\n",
       "Sex            0\n",
       "Age            0\n",
       "SibSp          0\n",
       "Parch          0\n",
       "Ticket         0\n",
       "Fare           0\n",
       "Cabin          0\n",
       "Embarked       0\n",
       "dtype: int64"
      ]
     },
     "execution_count": 7,
     "metadata": {},
     "output_type": "execute_result"
    }
   ],
   "source": [
    "training_data.isna().sum()"
   ]
  },
  {
   "cell_type": "markdown",
   "id": "03f418ef",
   "metadata": {
    "papermill": {
     "duration": 0.01525,
     "end_time": "2023-03-09T06:49:36.834305",
     "exception": false,
     "start_time": "2023-03-09T06:49:36.819055",
     "status": "completed"
    },
    "tags": []
   },
   "source": [
    "# Replacing missing values in testing_data"
   ]
  },
  {
   "cell_type": "code",
   "execution_count": 8,
   "id": "ceae2d08",
   "metadata": {
    "execution": {
     "iopub.execute_input": "2023-03-09T06:49:36.868633Z",
     "iopub.status.busy": "2023-03-09T06:49:36.867405Z",
     "iopub.status.idle": "2023-03-09T06:49:36.880897Z",
     "shell.execute_reply": "2023-03-09T06:49:36.879406Z"
    },
    "papermill": {
     "duration": 0.033407,
     "end_time": "2023-03-09T06:49:36.883714",
     "exception": false,
     "start_time": "2023-03-09T06:49:36.850307",
     "status": "completed"
    },
    "tags": []
   },
   "outputs": [],
   "source": [
    "testing_data['Age']=testing_data['Age'].fillna(testing_data['Age'].mean())\n",
    "testing_data['Fare']=testing_data['Fare'].fillna(testing_data['Fare'].mean())\n",
    "testing_data['Cabin']=training_data['Cabin'].fillna(testing_data['Cabin'].mode()[0])\n",
    "testing_data['Embarked']=testing_data['Embarked'].fillna(testing_data['Embarked'].mode()[0])"
   ]
  },
  {
   "cell_type": "markdown",
   "id": "79fc50a9",
   "metadata": {
    "papermill": {
     "duration": 0.014661,
     "end_time": "2023-03-09T06:49:36.913928",
     "exception": false,
     "start_time": "2023-03-09T06:49:36.899267",
     "status": "completed"
    },
    "tags": []
   },
   "source": [
    "Since the type of data in columns Age,Fare is numerical, I have replaced the missing values with their mean. For the categorical data in columns Cabin,Embarked, replaced missing values with their most repeated value(mode)"
   ]
  },
  {
   "cell_type": "markdown",
   "id": "fe3a893e",
   "metadata": {
    "papermill": {
     "duration": 0.014882,
     "end_time": "2023-03-09T06:49:36.943649",
     "exception": false,
     "start_time": "2023-03-09T06:49:36.928767",
     "status": "completed"
    },
    "tags": []
   },
   "source": [
    "# Missing values fixed in testing_data"
   ]
  },
  {
   "cell_type": "code",
   "execution_count": 9,
   "id": "42cbc67a",
   "metadata": {
    "execution": {
     "iopub.execute_input": "2023-03-09T06:49:36.975934Z",
     "iopub.status.busy": "2023-03-09T06:49:36.975546Z",
     "iopub.status.idle": "2023-03-09T06:49:36.985571Z",
     "shell.execute_reply": "2023-03-09T06:49:36.984250Z"
    },
    "papermill": {
     "duration": 0.028876,
     "end_time": "2023-03-09T06:49:36.987908",
     "exception": false,
     "start_time": "2023-03-09T06:49:36.959032",
     "status": "completed"
    },
    "tags": []
   },
   "outputs": [
    {
     "data": {
      "text/plain": [
       "PassengerId    0\n",
       "Pclass         0\n",
       "Name           0\n",
       "Sex            0\n",
       "Age            0\n",
       "SibSp          0\n",
       "Parch          0\n",
       "Ticket         0\n",
       "Fare           0\n",
       "Cabin          0\n",
       "Embarked       0\n",
       "dtype: int64"
      ]
     },
     "execution_count": 9,
     "metadata": {},
     "output_type": "execute_result"
    }
   ],
   "source": [
    "testing_data.isna().sum()"
   ]
  },
  {
   "cell_type": "markdown",
   "id": "22c35e00",
   "metadata": {
    "papermill": {
     "duration": 0.015124,
     "end_time": "2023-03-09T06:49:37.018663",
     "exception": false,
     "start_time": "2023-03-09T06:49:37.003539",
     "status": "completed"
    },
    "tags": []
   },
   "source": [
    "# Data Visualization"
   ]
  },
  {
   "cell_type": "markdown",
   "id": "e6a6ad9d",
   "metadata": {
    "papermill": {
     "duration": 0.015476,
     "end_time": "2023-03-09T06:49:37.050341",
     "exception": false,
     "start_time": "2023-03-09T06:49:37.034865",
     "status": "completed"
    },
    "tags": []
   },
   "source": [
    "# Survival rate with Pclass, Fare plotting"
   ]
  },
  {
   "cell_type": "code",
   "execution_count": 10,
   "id": "89707540",
   "metadata": {
    "execution": {
     "iopub.execute_input": "2023-03-09T06:49:37.083887Z",
     "iopub.status.busy": "2023-03-09T06:49:37.083499Z",
     "iopub.status.idle": "2023-03-09T06:49:37.555570Z",
     "shell.execute_reply": "2023-03-09T06:49:37.554504Z"
    },
    "papermill": {
     "duration": 0.492252,
     "end_time": "2023-03-09T06:49:37.557976",
     "exception": false,
     "start_time": "2023-03-09T06:49:37.065724",
     "status": "completed"
    },
    "tags": []
   },
   "outputs": [
    {
     "data": {
      "text/plain": [
       "<AxesSubplot:xlabel='Pclass', ylabel='Fare'>"
      ]
     },
     "execution_count": 10,
     "metadata": {},
     "output_type": "execute_result"
    },
    {
     "data": {
      "image/png": "[encoded data removed]",
      "text/plain": [
       "<Figure size 640x480 with 1 Axes>"
      ]
     },
     "metadata": {},
     "output_type": "display_data"
    }
   ],
   "source": [
    "sns.barplot(data=training_data,x=\"Pclass\",y=\"Fare\",hue=\"Survived\")"
   ]
  },
  {
   "cell_type": "markdown",
   "id": "7c76804a",
   "metadata": {
    "papermill": {
     "duration": 0.016307,
     "end_time": "2023-03-09T06:49:37.590110",
     "exception": false,
     "start_time": "2023-03-09T06:49:37.573803",
     "status": "completed"
    },
    "tags": []
   },
   "source": [
    "# Dependency of Gender and survival rate"
   ]
  },
  {
   "cell_type": "code",
   "execution_count": 11,
   "id": "63a673dc",
   "metadata": {
    "execution": {
     "iopub.execute_input": "2023-03-09T06:49:37.623431Z",
     "iopub.status.busy": "2023-03-09T06:49:37.623003Z",
     "iopub.status.idle": "2023-03-09T06:49:37.636149Z",
     "shell.execute_reply": "2023-03-09T06:49:37.634615Z"
    },
    "papermill": {
     "duration": 0.032632,
     "end_time": "2023-03-09T06:49:37.638686",
     "exception": false,
     "start_time": "2023-03-09T06:49:37.606054",
     "status": "completed"
    },
    "tags": []
   },
   "outputs": [
    {
     "name": "stdout",
     "output_type": "stream",
     "text": [
      "percentage of women survived:  0.7420382165605095\n",
      "percentage of men survived:  0.18890814558058924\n"
     ]
    }
   ],
   "source": [
    "women_survived=training_data.loc[training_data.Sex==\"female\"][\"Survived\"]\n",
    "women_per=sum(women_survived)/len(women_survived)\n",
    "print(\"percentage of women survived: \",women_per)\n",
    "men_survived=training_data.loc[training_data.Sex==\"male\"][\"Survived\"]\n",
    "men_per=sum(men_survived)/len(men_survived)\n",
    "print(\"percentage of men survived: \",men_per)\n"
   ]
  },
  {
   "cell_type": "code",
   "execution_count": 12,
   "id": "966b191b",
   "metadata": {
    "execution": {
     "iopub.execute_input": "2023-03-09T06:49:37.672876Z",
     "iopub.status.busy": "2023-03-09T06:49:37.672368Z",
     "iopub.status.idle": "2023-03-09T06:49:37.956488Z",
     "shell.execute_reply": "2023-03-09T06:49:37.954995Z"
    },
    "papermill": {
     "duration": 0.304783,
     "end_time": "2023-03-09T06:49:37.959428",
     "exception": false,
     "start_time": "2023-03-09T06:49:37.654645",
     "status": "completed"
    },
    "tags": []
   },
   "outputs": [
    {
     "data": {
      "text/plain": [
       "<AxesSubplot:xlabel='Sex', ylabel='Survived'>"
      ]
     },
     "execution_count": 12,
     "metadata": {},
     "output_type": "execute_result"
    },
    {
     "data": {
      "image/png": "[encoded data removed]",
      "text/plain": [
       "<Figure size 640x480 with 1 Axes>"
      ]
     },
     "metadata": {},
     "output_type": "display_data"
    }
   ],
   "source": [
    "sns.barplot(data=training_data,x=\"Sex\",y=\"Survived\")"
   ]
  },
  {
   "cell_type": "markdown",
   "id": "610d29fb",
   "metadata": {
    "papermill": {
     "duration": 0.015576,
     "end_time": "2023-03-09T06:49:37.991436",
     "exception": false,
     "start_time": "2023-03-09T06:49:37.975860",
     "status": "completed"
    },
    "tags": []
   },
   "source": [
    "# Different states of Embarked with survival rate"
   ]
  },
  {
   "cell_type": "code",
   "execution_count": 13,
   "id": "026dd5a2",
   "metadata": {
    "execution": {
     "iopub.execute_input": "2023-03-09T06:49:38.025763Z",
     "iopub.status.busy": "2023-03-09T06:49:38.025367Z",
     "iopub.status.idle": "2023-03-09T06:49:38.360228Z",
     "shell.execute_reply": "2023-03-09T06:49:38.358678Z"
    },
    "papermill": {
     "duration": 0.35579,
     "end_time": "2023-03-09T06:49:38.363574",
     "exception": false,
     "start_time": "2023-03-09T06:49:38.007784",
     "status": "completed"
    },
    "tags": []
   },
   "outputs": [
    {
     "data": {
      "text/plain": [
       "<AxesSubplot:xlabel='Embarked', ylabel='Survived'>"
      ]
     },
     "execution_count": 13,
     "metadata": {},
     "output_type": "execute_result"
    },
    {
     "data": {
      "image/png": "[encoded data removed]",
      "text/plain": [
       "<Figure size 640x480 with 1 Axes>"
      ]
     },
     "metadata": {},
     "output_type": "display_data"
    }
   ],
   "source": [
    "sns.lineplot(data=training_data,x=\"Embarked\",y=\"Survived\")"
   ]
  },
  {
   "cell_type": "markdown",
   "id": "eb0c8683",
   "metadata": {
    "papermill": {
     "duration": 0.01701,
     "end_time": "2023-03-09T06:49:38.397739",
     "exception": false,
     "start_time": "2023-03-09T06:49:38.380729",
     "status": "completed"
    },
    "tags": []
   },
   "source": [
    "# Converting training categorical data to numerical data"
   ]
  },
  {
   "cell_type": "code",
   "execution_count": 14,
   "id": "9db69653",
   "metadata": {
    "execution": {
     "iopub.execute_input": "2023-03-09T06:49:38.434732Z",
     "iopub.status.busy": "2023-03-09T06:49:38.434321Z",
     "iopub.status.idle": "2023-03-09T06:49:38.450828Z",
     "shell.execute_reply": "2023-03-09T06:49:38.449355Z"
    },
    "papermill": {
     "duration": 0.037907,
     "end_time": "2023-03-09T06:49:38.453836",
     "exception": false,
     "start_time": "2023-03-09T06:49:38.415929",
     "status": "completed"
    },
    "tags": []
   },
   "outputs": [],
   "source": [
    "training_data['Name'] =training_data['Name'].astype('category').cat.codes\n",
    "training_data['Sex'] =training_data['Sex'].astype('category').cat.codes\n",
    "training_data['Embarked'] =training_data['Embarked'].astype('category').cat.codes\n",
    "training_data['Cabin'] =training_data['Cabin'].astype('category').cat.codes\n",
    "training_data['Ticket'] =training_data['Ticket'].astype('category').cat.codes"
   ]
  },
  {
   "cell_type": "markdown",
   "id": "fa43fef7",
   "metadata": {
    "papermill": {
     "duration": 0.016493,
     "end_time": "2023-03-09T06:49:38.487290",
     "exception": false,
     "start_time": "2023-03-09T06:49:38.470797",
     "status": "completed"
    },
    "tags": []
   },
   "source": [
    "# Converting testing categorical data to numerical data"
   ]
  },
  {
   "cell_type": "code",
   "execution_count": 15,
   "id": "5d95bcc5",
   "metadata": {
    "execution": {
     "iopub.execute_input": "2023-03-09T06:49:38.522633Z",
     "iopub.status.busy": "2023-03-09T06:49:38.522179Z",
     "iopub.status.idle": "2023-03-09T06:49:38.536949Z",
     "shell.execute_reply": "2023-03-09T06:49:38.535567Z"
    },
    "papermill": {
     "duration": 0.035988,
     "end_time": "2023-03-09T06:49:38.539991",
     "exception": false,
     "start_time": "2023-03-09T06:49:38.504003",
     "status": "completed"
    },
    "tags": []
   },
   "outputs": [],
   "source": [
    "testing_data['Name'] =testing_data['Name'].astype('category').cat.codes\n",
    "testing_data['Sex'] =testing_data['Sex'].astype('category').cat.codes\n",
    "testing_data['Embarked'] =testing_data['Embarked'].astype('category').cat.codes\n",
    "testing_data['Cabin'] =testing_data['Cabin'].astype('category').cat.codes\n",
    "testing_data['Ticket'] =testing_data['Ticket'].astype('category').cat.codes"
   ]
  },
  {
   "cell_type": "markdown",
   "id": "783b7ab3",
   "metadata": {
    "papermill": {
     "duration": 0.017189,
     "end_time": "2023-03-09T06:49:38.574787",
     "exception": false,
     "start_time": "2023-03-09T06:49:38.557598",
     "status": "completed"
    },
    "tags": []
   },
   "source": [
    "# Encoding training data using Binary Encoder"
   ]
  },
  {
   "cell_type": "code",
   "execution_count": 16,
   "id": "197d3a02",
   "metadata": {
    "execution": {
     "iopub.execute_input": "2023-03-09T06:49:38.610552Z",
     "iopub.status.busy": "2023-03-09T06:49:38.610139Z",
     "iopub.status.idle": "2023-03-09T06:49:38.723285Z",
     "shell.execute_reply": "2023-03-09T06:49:38.721976Z"
    },
    "papermill": {
     "duration": 0.134653,
     "end_time": "2023-03-09T06:49:38.726475",
     "exception": false,
     "start_time": "2023-03-09T06:49:38.591822",
     "status": "completed"
    },
    "tags": []
   },
   "outputs": [
    {
     "data": {
      "text/html": [
       "<div>\n",
       "<style scoped>\n",
       "    .dataframe tbody tr th:only-of-type {\n",
       "        vertical-align: middle;\n",
       "    }\n",
       "\n",
       "    .dataframe tbody tr th {\n",
       "        vertical-align: top;\n",
       "    }\n",
       "\n",
       "    .dataframe thead th {\n",
       "        text-align: right;\n",
       "    }\n",
       "</style>\n",
       "<table border=\"1\" class=\"dataframe\">\n",
       "  <thead>\n",
       "    <tr style=\"text-align: right;\">\n",
       "      <th></th>\n",
       "      <th>PassengerId</th>\n",
       "      <th>Survived</th>\n",
       "      <th>Pclass</th>\n",
       "      <th>Name_0</th>\n",
       "      <th>Name_1</th>\n",
       "      <th>Name_2</th>\n",
       "      <th>Name_3</th>\n",
       "      <th>Name_4</th>\n",
       "      <th>Name_5</th>\n",
       "      <th>Name_6</th>\n",
       "      <th>...</th>\n",
       "      <th>Cabin_0</th>\n",
       "      <th>Cabin_1</th>\n",
       "      <th>Cabin_2</th>\n",
       "      <th>Cabin_3</th>\n",
       "      <th>Cabin_4</th>\n",
       "      <th>Cabin_5</th>\n",
       "      <th>Cabin_6</th>\n",
       "      <th>Cabin_7</th>\n",
       "      <th>Embarked_0</th>\n",
       "      <th>Embarked_1</th>\n",
       "    </tr>\n",
       "  </thead>\n",
       "  <tbody>\n",
       "    <tr>\n",
       "      <th>0</th>\n",
       "      <td>1</td>\n",
       "      <td>0</td>\n",
       "      <td>3</td>\n",
       "      <td>0</td>\n",
       "      <td>0</td>\n",
       "      <td>0</td>\n",
       "      <td>0</td>\n",
       "      <td>0</td>\n",
       "      <td>0</td>\n",
       "      <td>0</td>\n",
       "      <td>...</td>\n",
       "      <td>0</td>\n",
       "      <td>0</td>\n",
       "      <td>0</td>\n",
       "      <td>0</td>\n",
       "      <td>0</td>\n",
       "      <td>0</td>\n",
       "      <td>0</td>\n",
       "      <td>1</td>\n",
       "      <td>0</td>\n",
       "      <td>1</td>\n",
       "    </tr>\n",
       "    <tr>\n",
       "      <th>1</th>\n",
       "      <td>2</td>\n",
       "      <td>1</td>\n",
       "      <td>1</td>\n",
       "      <td>0</td>\n",
       "      <td>0</td>\n",
       "      <td>0</td>\n",
       "      <td>0</td>\n",
       "      <td>0</td>\n",
       "      <td>0</td>\n",
       "      <td>0</td>\n",
       "      <td>...</td>\n",
       "      <td>0</td>\n",
       "      <td>0</td>\n",
       "      <td>0</td>\n",
       "      <td>0</td>\n",
       "      <td>0</td>\n",
       "      <td>0</td>\n",
       "      <td>1</td>\n",
       "      <td>0</td>\n",
       "      <td>1</td>\n",
       "      <td>0</td>\n",
       "    </tr>\n",
       "    <tr>\n",
       "      <th>2</th>\n",
       "      <td>3</td>\n",
       "      <td>1</td>\n",
       "      <td>3</td>\n",
       "      <td>0</td>\n",
       "      <td>0</td>\n",
       "      <td>0</td>\n",
       "      <td>0</td>\n",
       "      <td>0</td>\n",
       "      <td>0</td>\n",
       "      <td>0</td>\n",
       "      <td>...</td>\n",
       "      <td>0</td>\n",
       "      <td>0</td>\n",
       "      <td>0</td>\n",
       "      <td>0</td>\n",
       "      <td>0</td>\n",
       "      <td>0</td>\n",
       "      <td>0</td>\n",
       "      <td>1</td>\n",
       "      <td>0</td>\n",
       "      <td>1</td>\n",
       "    </tr>\n",
       "    <tr>\n",
       "      <th>3</th>\n",
       "      <td>4</td>\n",
       "      <td>1</td>\n",
       "      <td>1</td>\n",
       "      <td>0</td>\n",
       "      <td>0</td>\n",
       "      <td>0</td>\n",
       "      <td>0</td>\n",
       "      <td>0</td>\n",
       "      <td>0</td>\n",
       "      <td>0</td>\n",
       "      <td>...</td>\n",
       "      <td>0</td>\n",
       "      <td>0</td>\n",
       "      <td>0</td>\n",
       "      <td>0</td>\n",
       "      <td>0</td>\n",
       "      <td>0</td>\n",
       "      <td>1</td>\n",
       "      <td>1</td>\n",
       "      <td>0</td>\n",
       "      <td>1</td>\n",
       "    </tr>\n",
       "    <tr>\n",
       "      <th>4</th>\n",
       "      <td>5</td>\n",
       "      <td>0</td>\n",
       "      <td>3</td>\n",
       "      <td>0</td>\n",
       "      <td>0</td>\n",
       "      <td>0</td>\n",
       "      <td>0</td>\n",
       "      <td>0</td>\n",
       "      <td>0</td>\n",
       "      <td>0</td>\n",
       "      <td>...</td>\n",
       "      <td>0</td>\n",
       "      <td>0</td>\n",
       "      <td>0</td>\n",
       "      <td>0</td>\n",
       "      <td>0</td>\n",
       "      <td>0</td>\n",
       "      <td>0</td>\n",
       "      <td>1</td>\n",
       "      <td>0</td>\n",
       "      <td>1</td>\n",
       "    </tr>\n",
       "    <tr>\n",
       "      <th>...</th>\n",
       "      <td>...</td>\n",
       "      <td>...</td>\n",
       "      <td>...</td>\n",
       "      <td>...</td>\n",
       "      <td>...</td>\n",
       "      <td>...</td>\n",
       "      <td>...</td>\n",
       "      <td>...</td>\n",
       "      <td>...</td>\n",
       "      <td>...</td>\n",
       "      <td>...</td>\n",
       "      <td>...</td>\n",
       "      <td>...</td>\n",
       "      <td>...</td>\n",
       "      <td>...</td>\n",
       "      <td>...</td>\n",
       "      <td>...</td>\n",
       "      <td>...</td>\n",
       "      <td>...</td>\n",
       "      <td>...</td>\n",
       "      <td>...</td>\n",
       "    </tr>\n",
       "    <tr>\n",
       "      <th>886</th>\n",
       "      <td>887</td>\n",
       "      <td>0</td>\n",
       "      <td>2</td>\n",
       "      <td>1</td>\n",
       "      <td>1</td>\n",
       "      <td>0</td>\n",
       "      <td>1</td>\n",
       "      <td>1</td>\n",
       "      <td>1</td>\n",
       "      <td>0</td>\n",
       "      <td>...</td>\n",
       "      <td>0</td>\n",
       "      <td>0</td>\n",
       "      <td>0</td>\n",
       "      <td>0</td>\n",
       "      <td>0</td>\n",
       "      <td>0</td>\n",
       "      <td>0</td>\n",
       "      <td>1</td>\n",
       "      <td>0</td>\n",
       "      <td>1</td>\n",
       "    </tr>\n",
       "    <tr>\n",
       "      <th>887</th>\n",
       "      <td>888</td>\n",
       "      <td>1</td>\n",
       "      <td>1</td>\n",
       "      <td>1</td>\n",
       "      <td>1</td>\n",
       "      <td>0</td>\n",
       "      <td>1</td>\n",
       "      <td>1</td>\n",
       "      <td>1</td>\n",
       "      <td>1</td>\n",
       "      <td>...</td>\n",
       "      <td>1</td>\n",
       "      <td>0</td>\n",
       "      <td>0</td>\n",
       "      <td>1</td>\n",
       "      <td>0</td>\n",
       "      <td>0</td>\n",
       "      <td>1</td>\n",
       "      <td>0</td>\n",
       "      <td>0</td>\n",
       "      <td>1</td>\n",
       "    </tr>\n",
       "    <tr>\n",
       "      <th>888</th>\n",
       "      <td>889</td>\n",
       "      <td>0</td>\n",
       "      <td>3</td>\n",
       "      <td>1</td>\n",
       "      <td>1</td>\n",
       "      <td>0</td>\n",
       "      <td>1</td>\n",
       "      <td>1</td>\n",
       "      <td>1</td>\n",
       "      <td>1</td>\n",
       "      <td>...</td>\n",
       "      <td>0</td>\n",
       "      <td>0</td>\n",
       "      <td>0</td>\n",
       "      <td>0</td>\n",
       "      <td>0</td>\n",
       "      <td>0</td>\n",
       "      <td>0</td>\n",
       "      <td>1</td>\n",
       "      <td>0</td>\n",
       "      <td>1</td>\n",
       "    </tr>\n",
       "    <tr>\n",
       "      <th>889</th>\n",
       "      <td>890</td>\n",
       "      <td>1</td>\n",
       "      <td>1</td>\n",
       "      <td>1</td>\n",
       "      <td>1</td>\n",
       "      <td>0</td>\n",
       "      <td>1</td>\n",
       "      <td>1</td>\n",
       "      <td>1</td>\n",
       "      <td>1</td>\n",
       "      <td>...</td>\n",
       "      <td>1</td>\n",
       "      <td>0</td>\n",
       "      <td>0</td>\n",
       "      <td>1</td>\n",
       "      <td>0</td>\n",
       "      <td>0</td>\n",
       "      <td>1</td>\n",
       "      <td>1</td>\n",
       "      <td>1</td>\n",
       "      <td>0</td>\n",
       "    </tr>\n",
       "    <tr>\n",
       "      <th>890</th>\n",
       "      <td>891</td>\n",
       "      <td>0</td>\n",
       "      <td>3</td>\n",
       "      <td>1</td>\n",
       "      <td>1</td>\n",
       "      <td>0</td>\n",
       "      <td>1</td>\n",
       "      <td>1</td>\n",
       "      <td>1</td>\n",
       "      <td>1</td>\n",
       "      <td>...</td>\n",
       "      <td>0</td>\n",
       "      <td>0</td>\n",
       "      <td>0</td>\n",
       "      <td>0</td>\n",
       "      <td>0</td>\n",
       "      <td>0</td>\n",
       "      <td>0</td>\n",
       "      <td>1</td>\n",
       "      <td>1</td>\n",
       "      <td>1</td>\n",
       "    </tr>\n",
       "  </tbody>\n",
       "</table>\n",
       "<p>891 rows × 39 columns</p>\n",
       "</div>"
      ],
      "text/plain": [
       "     PassengerId  Survived  Pclass  Name_0  Name_1  Name_2  Name_3  Name_4  \\\n",
       "0              1         0       3       0       0       0       0       0   \n",
       "1              2         1       1       0       0       0       0       0   \n",
       "2              3         1       3       0       0       0       0       0   \n",
       "3              4         1       1       0       0       0       0       0   \n",
       "4              5         0       3       0       0       0       0       0   \n",
       "..           ...       ...     ...     ...     ...     ...     ...     ...   \n",
       "886          887         0       2       1       1       0       1       1   \n",
       "887          888         1       1       1       1       0       1       1   \n",
       "888          889         0       3       1       1       0       1       1   \n",
       "889          890         1       1       1       1       0       1       1   \n",
       "890          891         0       3       1       1       0       1       1   \n",
       "\n",
       "     Name_5  Name_6  ...  Cabin_0  Cabin_1  Cabin_2  Cabin_3  Cabin_4  \\\n",
       "0         0       0  ...        0        0        0        0        0   \n",
       "1         0       0  ...        0        0        0        0        0   \n",
       "2         0       0  ...        0        0        0        0        0   \n",
       "3         0       0  ...        0        0        0        0        0   \n",
       "4         0       0  ...        0        0        0        0        0   \n",
       "..      ...     ...  ...      ...      ...      ...      ...      ...   \n",
       "886       1       0  ...        0        0        0        0        0   \n",
       "887       1       1  ...        1        0        0        1        0   \n",
       "888       1       1  ...        0        0        0        0        0   \n",
       "889       1       1  ...        1        0        0        1        0   \n",
       "890       1       1  ...        0        0        0        0        0   \n",
       "\n",
       "     Cabin_5  Cabin_6  Cabin_7  Embarked_0  Embarked_1  \n",
       "0          0        0        1           0           1  \n",
       "1          0        1        0           1           0  \n",
       "2          0        0        1           0           1  \n",
       "3          0        1        1           0           1  \n",
       "4          0        0        1           0           1  \n",
       "..       ...      ...      ...         ...         ...  \n",
       "886        0        0        1           0           1  \n",
       "887        0        1        0           0           1  \n",
       "888        0        0        1           0           1  \n",
       "889        0        1        1           1           0  \n",
       "890        0        0        1           1           1  \n",
       "\n",
       "[891 rows x 39 columns]"
      ]
     },
     "execution_count": 16,
     "metadata": {},
     "output_type": "execute_result"
    }
   ],
   "source": [
    "encoder=c.BinaryEncoder(cols=['Name','Sex','Ticket','Cabin','Embarked'],return_df=True)\n",
    "encoder.fit_transform(training_data)"
   ]
  },
  {
   "cell_type": "markdown",
   "id": "5f2815d2",
   "metadata": {
    "papermill": {
     "duration": 0.017006,
     "end_time": "2023-03-09T06:49:38.762030",
     "exception": false,
     "start_time": "2023-03-09T06:49:38.745024",
     "status": "completed"
    },
    "tags": []
   },
   "source": [
    "# Encoding testing data"
   ]
  },
  {
   "cell_type": "code",
   "execution_count": 17,
   "id": "f06dd135",
   "metadata": {
    "execution": {
     "iopub.execute_input": "2023-03-09T06:49:38.800498Z",
     "iopub.status.busy": "2023-03-09T06:49:38.799594Z",
     "iopub.status.idle": "2023-03-09T06:49:38.892070Z",
     "shell.execute_reply": "2023-03-09T06:49:38.890796Z"
    },
    "papermill": {
     "duration": 0.11568,
     "end_time": "2023-03-09T06:49:38.895017",
     "exception": false,
     "start_time": "2023-03-09T06:49:38.779337",
     "status": "completed"
    },
    "tags": []
   },
   "outputs": [
    {
     "data": {
      "text/html": [
       "<div>\n",
       "<style scoped>\n",
       "    .dataframe tbody tr th:only-of-type {\n",
       "        vertical-align: middle;\n",
       "    }\n",
       "\n",
       "    .dataframe tbody tr th {\n",
       "        vertical-align: top;\n",
       "    }\n",
       "\n",
       "    .dataframe thead th {\n",
       "        text-align: right;\n",
       "    }\n",
       "</style>\n",
       "<table border=\"1\" class=\"dataframe\">\n",
       "  <thead>\n",
       "    <tr style=\"text-align: right;\">\n",
       "      <th></th>\n",
       "      <th>PassengerId</th>\n",
       "      <th>Pclass</th>\n",
       "      <th>Name_0</th>\n",
       "      <th>Name_1</th>\n",
       "      <th>Name_2</th>\n",
       "      <th>Name_3</th>\n",
       "      <th>Name_4</th>\n",
       "      <th>Name_5</th>\n",
       "      <th>Name_6</th>\n",
       "      <th>Name_7</th>\n",
       "      <th>...</th>\n",
       "      <th>Fare</th>\n",
       "      <th>Cabin_0</th>\n",
       "      <th>Cabin_1</th>\n",
       "      <th>Cabin_2</th>\n",
       "      <th>Cabin_3</th>\n",
       "      <th>Cabin_4</th>\n",
       "      <th>Cabin_5</th>\n",
       "      <th>Cabin_6</th>\n",
       "      <th>Embarked_0</th>\n",
       "      <th>Embarked_1</th>\n",
       "    </tr>\n",
       "  </thead>\n",
       "  <tbody>\n",
       "    <tr>\n",
       "      <th>0</th>\n",
       "      <td>892</td>\n",
       "      <td>3</td>\n",
       "      <td>0</td>\n",
       "      <td>0</td>\n",
       "      <td>0</td>\n",
       "      <td>0</td>\n",
       "      <td>0</td>\n",
       "      <td>0</td>\n",
       "      <td>0</td>\n",
       "      <td>0</td>\n",
       "      <td>...</td>\n",
       "      <td>7.8292</td>\n",
       "      <td>0</td>\n",
       "      <td>0</td>\n",
       "      <td>0</td>\n",
       "      <td>0</td>\n",
       "      <td>0</td>\n",
       "      <td>0</td>\n",
       "      <td>1</td>\n",
       "      <td>0</td>\n",
       "      <td>1</td>\n",
       "    </tr>\n",
       "    <tr>\n",
       "      <th>1</th>\n",
       "      <td>893</td>\n",
       "      <td>3</td>\n",
       "      <td>0</td>\n",
       "      <td>0</td>\n",
       "      <td>0</td>\n",
       "      <td>0</td>\n",
       "      <td>0</td>\n",
       "      <td>0</td>\n",
       "      <td>0</td>\n",
       "      <td>1</td>\n",
       "      <td>...</td>\n",
       "      <td>7.0000</td>\n",
       "      <td>0</td>\n",
       "      <td>0</td>\n",
       "      <td>0</td>\n",
       "      <td>0</td>\n",
       "      <td>0</td>\n",
       "      <td>1</td>\n",
       "      <td>0</td>\n",
       "      <td>1</td>\n",
       "      <td>0</td>\n",
       "    </tr>\n",
       "    <tr>\n",
       "      <th>2</th>\n",
       "      <td>894</td>\n",
       "      <td>2</td>\n",
       "      <td>0</td>\n",
       "      <td>0</td>\n",
       "      <td>0</td>\n",
       "      <td>0</td>\n",
       "      <td>0</td>\n",
       "      <td>0</td>\n",
       "      <td>0</td>\n",
       "      <td>1</td>\n",
       "      <td>...</td>\n",
       "      <td>9.6875</td>\n",
       "      <td>0</td>\n",
       "      <td>0</td>\n",
       "      <td>0</td>\n",
       "      <td>0</td>\n",
       "      <td>0</td>\n",
       "      <td>0</td>\n",
       "      <td>1</td>\n",
       "      <td>0</td>\n",
       "      <td>1</td>\n",
       "    </tr>\n",
       "    <tr>\n",
       "      <th>3</th>\n",
       "      <td>895</td>\n",
       "      <td>3</td>\n",
       "      <td>0</td>\n",
       "      <td>0</td>\n",
       "      <td>0</td>\n",
       "      <td>0</td>\n",
       "      <td>0</td>\n",
       "      <td>0</td>\n",
       "      <td>1</td>\n",
       "      <td>0</td>\n",
       "      <td>...</td>\n",
       "      <td>8.6625</td>\n",
       "      <td>0</td>\n",
       "      <td>0</td>\n",
       "      <td>0</td>\n",
       "      <td>0</td>\n",
       "      <td>0</td>\n",
       "      <td>1</td>\n",
       "      <td>1</td>\n",
       "      <td>1</td>\n",
       "      <td>0</td>\n",
       "    </tr>\n",
       "    <tr>\n",
       "      <th>4</th>\n",
       "      <td>896</td>\n",
       "      <td>3</td>\n",
       "      <td>0</td>\n",
       "      <td>0</td>\n",
       "      <td>0</td>\n",
       "      <td>0</td>\n",
       "      <td>0</td>\n",
       "      <td>0</td>\n",
       "      <td>1</td>\n",
       "      <td>0</td>\n",
       "      <td>...</td>\n",
       "      <td>12.2875</td>\n",
       "      <td>0</td>\n",
       "      <td>0</td>\n",
       "      <td>0</td>\n",
       "      <td>0</td>\n",
       "      <td>0</td>\n",
       "      <td>0</td>\n",
       "      <td>1</td>\n",
       "      <td>1</td>\n",
       "      <td>0</td>\n",
       "    </tr>\n",
       "    <tr>\n",
       "      <th>...</th>\n",
       "      <td>...</td>\n",
       "      <td>...</td>\n",
       "      <td>...</td>\n",
       "      <td>...</td>\n",
       "      <td>...</td>\n",
       "      <td>...</td>\n",
       "      <td>...</td>\n",
       "      <td>...</td>\n",
       "      <td>...</td>\n",
       "      <td>...</td>\n",
       "      <td>...</td>\n",
       "      <td>...</td>\n",
       "      <td>...</td>\n",
       "      <td>...</td>\n",
       "      <td>...</td>\n",
       "      <td>...</td>\n",
       "      <td>...</td>\n",
       "      <td>...</td>\n",
       "      <td>...</td>\n",
       "      <td>...</td>\n",
       "      <td>...</td>\n",
       "    </tr>\n",
       "    <tr>\n",
       "      <th>413</th>\n",
       "      <td>1305</td>\n",
       "      <td>3</td>\n",
       "      <td>1</td>\n",
       "      <td>1</td>\n",
       "      <td>0</td>\n",
       "      <td>0</td>\n",
       "      <td>1</td>\n",
       "      <td>1</td>\n",
       "      <td>1</td>\n",
       "      <td>1</td>\n",
       "      <td>...</td>\n",
       "      <td>8.0500</td>\n",
       "      <td>0</td>\n",
       "      <td>0</td>\n",
       "      <td>0</td>\n",
       "      <td>0</td>\n",
       "      <td>0</td>\n",
       "      <td>0</td>\n",
       "      <td>1</td>\n",
       "      <td>1</td>\n",
       "      <td>0</td>\n",
       "    </tr>\n",
       "    <tr>\n",
       "      <th>414</th>\n",
       "      <td>1306</td>\n",
       "      <td>1</td>\n",
       "      <td>1</td>\n",
       "      <td>1</td>\n",
       "      <td>0</td>\n",
       "      <td>0</td>\n",
       "      <td>1</td>\n",
       "      <td>1</td>\n",
       "      <td>1</td>\n",
       "      <td>1</td>\n",
       "      <td>...</td>\n",
       "      <td>108.9000</td>\n",
       "      <td>0</td>\n",
       "      <td>0</td>\n",
       "      <td>0</td>\n",
       "      <td>0</td>\n",
       "      <td>0</td>\n",
       "      <td>0</td>\n",
       "      <td>1</td>\n",
       "      <td>1</td>\n",
       "      <td>1</td>\n",
       "    </tr>\n",
       "    <tr>\n",
       "      <th>415</th>\n",
       "      <td>1307</td>\n",
       "      <td>3</td>\n",
       "      <td>1</td>\n",
       "      <td>1</td>\n",
       "      <td>0</td>\n",
       "      <td>1</td>\n",
       "      <td>0</td>\n",
       "      <td>0</td>\n",
       "      <td>0</td>\n",
       "      <td>0</td>\n",
       "      <td>...</td>\n",
       "      <td>7.2500</td>\n",
       "      <td>0</td>\n",
       "      <td>0</td>\n",
       "      <td>0</td>\n",
       "      <td>0</td>\n",
       "      <td>0</td>\n",
       "      <td>0</td>\n",
       "      <td>1</td>\n",
       "      <td>1</td>\n",
       "      <td>0</td>\n",
       "    </tr>\n",
       "    <tr>\n",
       "      <th>416</th>\n",
       "      <td>1308</td>\n",
       "      <td>3</td>\n",
       "      <td>1</td>\n",
       "      <td>1</td>\n",
       "      <td>0</td>\n",
       "      <td>1</td>\n",
       "      <td>0</td>\n",
       "      <td>0</td>\n",
       "      <td>0</td>\n",
       "      <td>0</td>\n",
       "      <td>...</td>\n",
       "      <td>8.0500</td>\n",
       "      <td>0</td>\n",
       "      <td>0</td>\n",
       "      <td>0</td>\n",
       "      <td>0</td>\n",
       "      <td>0</td>\n",
       "      <td>0</td>\n",
       "      <td>1</td>\n",
       "      <td>1</td>\n",
       "      <td>0</td>\n",
       "    </tr>\n",
       "    <tr>\n",
       "      <th>417</th>\n",
       "      <td>1309</td>\n",
       "      <td>3</td>\n",
       "      <td>1</td>\n",
       "      <td>1</td>\n",
       "      <td>0</td>\n",
       "      <td>1</td>\n",
       "      <td>0</td>\n",
       "      <td>0</td>\n",
       "      <td>0</td>\n",
       "      <td>1</td>\n",
       "      <td>...</td>\n",
       "      <td>22.3583</td>\n",
       "      <td>0</td>\n",
       "      <td>0</td>\n",
       "      <td>0</td>\n",
       "      <td>0</td>\n",
       "      <td>0</td>\n",
       "      <td>0</td>\n",
       "      <td>1</td>\n",
       "      <td>1</td>\n",
       "      <td>1</td>\n",
       "    </tr>\n",
       "  </tbody>\n",
       "</table>\n",
       "<p>418 rows × 35 columns</p>\n",
       "</div>"
      ],
      "text/plain": [
       "     PassengerId  Pclass  Name_0  Name_1  Name_2  Name_3  Name_4  Name_5  \\\n",
       "0            892       3       0       0       0       0       0       0   \n",
       "1            893       3       0       0       0       0       0       0   \n",
       "2            894       2       0       0       0       0       0       0   \n",
       "3            895       3       0       0       0       0       0       0   \n",
       "4            896       3       0       0       0       0       0       0   \n",
       "..           ...     ...     ...     ...     ...     ...     ...     ...   \n",
       "413         1305       3       1       1       0       0       1       1   \n",
       "414         1306       1       1       1       0       0       1       1   \n",
       "415         1307       3       1       1       0       1       0       0   \n",
       "416         1308       3       1       1       0       1       0       0   \n",
       "417         1309       3       1       1       0       1       0       0   \n",
       "\n",
       "     Name_6  Name_7  ...      Fare  Cabin_0  Cabin_1  Cabin_2  Cabin_3  \\\n",
       "0         0       0  ...    7.8292        0        0        0        0   \n",
       "1         0       1  ...    7.0000        0        0        0        0   \n",
       "2         0       1  ...    9.6875        0        0        0        0   \n",
       "3         1       0  ...    8.6625        0        0        0        0   \n",
       "4         1       0  ...   12.2875        0        0        0        0   \n",
       "..      ...     ...  ...       ...      ...      ...      ...      ...   \n",
       "413       1       1  ...    8.0500        0        0        0        0   \n",
       "414       1       1  ...  108.9000        0        0        0        0   \n",
       "415       0       0  ...    7.2500        0        0        0        0   \n",
       "416       0       0  ...    8.0500        0        0        0        0   \n",
       "417       0       1  ...   22.3583        0        0        0        0   \n",
       "\n",
       "     Cabin_4  Cabin_5  Cabin_6  Embarked_0  Embarked_1  \n",
       "0          0        0        1           0           1  \n",
       "1          0        1        0           1           0  \n",
       "2          0        0        1           0           1  \n",
       "3          0        1        1           1           0  \n",
       "4          0        0        1           1           0  \n",
       "..       ...      ...      ...         ...         ...  \n",
       "413        0        0        1           1           0  \n",
       "414        0        0        1           1           1  \n",
       "415        0        0        1           1           0  \n",
       "416        0        0        1           1           0  \n",
       "417        0        0        1           1           1  \n",
       "\n",
       "[418 rows x 35 columns]"
      ]
     },
     "execution_count": 17,
     "metadata": {},
     "output_type": "execute_result"
    }
   ],
   "source": [
    "encoder=c.BinaryEncoder(cols=['Name','Sex','Ticket','Cabin','Embarked'],return_df=True)\n",
    "encoder.fit_transform(testing_data)"
   ]
  },
  {
   "cell_type": "markdown",
   "id": "dc4e97b9",
   "metadata": {
    "papermill": {
     "duration": 0.017337,
     "end_time": "2023-03-09T06:49:38.931362",
     "exception": false,
     "start_time": "2023-03-09T06:49:38.914025",
     "status": "completed"
    },
    "tags": []
   },
   "source": [
    "# Correlation values with Survived column"
   ]
  },
  {
   "cell_type": "code",
   "execution_count": 18,
   "id": "150323fa",
   "metadata": {
    "execution": {
     "iopub.execute_input": "2023-03-09T06:49:38.968631Z",
     "iopub.status.busy": "2023-03-09T06:49:38.968106Z",
     "iopub.status.idle": "2023-03-09T06:49:38.981256Z",
     "shell.execute_reply": "2023-03-09T06:49:38.979290Z"
    },
    "papermill": {
     "duration": 0.034972,
     "end_time": "2023-03-09T06:49:38.984021",
     "exception": false,
     "start_time": "2023-03-09T06:49:38.949049",
     "status": "completed"
    },
    "tags": []
   },
   "outputs": [
    {
     "name": "stdout",
     "output_type": "stream",
     "text": [
      "PassengerId   -0.005007\n",
      "Survived       1.000000\n",
      "Pclass        -0.338481\n",
      "Name          -0.057343\n",
      "Sex           -0.543351\n",
      "Age           -0.069809\n",
      "SibSp         -0.035322\n",
      "Parch          0.081629\n",
      "Ticket        -0.164549\n",
      "Fare           0.257307\n",
      "Cabin          0.175690\n",
      "Embarked      -0.167675\n",
      "Name: Survived, dtype: float64\n"
     ]
    }
   ],
   "source": [
    "col_names=['PassengerId','Survived','Pclass',\"Name\",\"Sex\",\"Age\",\"SibSp\",\"Parch\",\"Ticket\",\"Fare\",\"Cabin\",\"Embarked\"]\n",
    "corr_values=training_data[training_data.columns[0:]].corr()['Survived']\n",
    "print(corr_values)"
   ]
  },
  {
   "cell_type": "markdown",
   "id": "1118ef7a",
   "metadata": {
    "papermill": {
     "duration": 0.01823,
     "end_time": "2023-03-09T06:49:39.020570",
     "exception": false,
     "start_time": "2023-03-09T06:49:39.002340",
     "status": "completed"
    },
    "tags": []
   },
   "source": [
    "# Feature Selection by setting coefficient threshold"
   ]
  },
  {
   "cell_type": "code",
   "execution_count": 19,
   "id": "acb650cc",
   "metadata": {
    "execution": {
     "iopub.execute_input": "2023-03-09T06:49:39.060139Z",
     "iopub.status.busy": "2023-03-09T06:49:39.059462Z",
     "iopub.status.idle": "2023-03-09T06:49:39.067338Z",
     "shell.execute_reply": "2023-03-09T06:49:39.065621Z"
    },
    "papermill": {
     "duration": 0.030713,
     "end_time": "2023-03-09T06:49:39.070004",
     "exception": false,
     "start_time": "2023-03-09T06:49:39.039291",
     "status": "completed"
    },
    "tags": []
   },
   "outputs": [
    {
     "name": "stdout",
     "output_type": "stream",
     "text": [
      "Survived\n",
      "Pclass\n",
      "Sex\n",
      "Parch\n",
      "Ticket\n",
      "Fare\n",
      "Cabin\n",
      "Embarked\n"
     ]
    }
   ],
   "source": [
    "for i in range(len(corr_values)):\n",
    "    if abs(corr_values[i]) > 0.08:\n",
    "        print(col_names[i])"
   ]
  },
  {
   "cell_type": "markdown",
   "id": "3187c118",
   "metadata": {
    "papermill": {
     "duration": 0.017762,
     "end_time": "2023-03-09T06:49:39.105596",
     "exception": false,
     "start_time": "2023-03-09T06:49:39.087834",
     "status": "completed"
    },
    "tags": []
   },
   "source": [
    "# HeatMap generation using correlation values"
   ]
  },
  {
   "cell_type": "code",
   "execution_count": 20,
   "id": "6bf7457b",
   "metadata": {
    "execution": {
     "iopub.execute_input": "2023-03-09T06:49:39.144001Z",
     "iopub.status.busy": "2023-03-09T06:49:39.142909Z",
     "iopub.status.idle": "2023-03-09T06:49:40.349238Z",
     "shell.execute_reply": "2023-03-09T06:49:40.347958Z"
    },
    "papermill": {
     "duration": 1.229021,
     "end_time": "2023-03-09T06:49:40.352486",
     "exception": false,
     "start_time": "2023-03-09T06:49:39.123465",
     "status": "completed"
    },
    "tags": []
   },
   "outputs": [
    {
     "data": {
      "text/plain": [
       "<AxesSubplot:>"
      ]
     },
     "execution_count": 20,
     "metadata": {},
     "output_type": "execute_result"
    },
    {
     "data": {
      "image/png": "[encoded data removed]",
      "text/plain": [
       "<Figure size 640x480 with 2 Axes>"
      ]
     },
     "metadata": {},
     "output_type": "display_data"
    }
   ],
   "source": [
    "sns.heatmap(training_data.corr(), annot=True,annot_kws={'size': 8})"
   ]
  },
  {
   "cell_type": "markdown",
   "id": "79da8550",
   "metadata": {
    "papermill": {
     "duration": 0.020824,
     "end_time": "2023-03-09T06:49:40.394533",
     "exception": false,
     "start_time": "2023-03-09T06:49:40.373709",
     "status": "completed"
    },
    "tags": []
   },
   "source": [
    "# Feature selection"
   ]
  },
  {
   "cell_type": "markdown",
   "id": "0c3c0282",
   "metadata": {
    "papermill": {
     "duration": 0.019545,
     "end_time": "2023-03-09T06:49:40.433777",
     "exception": false,
     "start_time": "2023-03-09T06:49:40.414232",
     "status": "completed"
    },
    "tags": []
   },
   "source": [
    "Columns Pclass,Sex,Parch,Ticket,Fare,Cabin,Embarked have are positively correlated with Survival rate. Among these Sex,Pclass,Fare are highly correlated."
   ]
  },
  {
   "cell_type": "markdown",
   "id": "3c227bad",
   "metadata": {
    "papermill": {
     "duration": 0.019336,
     "end_time": "2023-03-09T06:49:40.473023",
     "exception": false,
     "start_time": "2023-03-09T06:49:40.453687",
     "status": "completed"
    },
    "tags": []
   },
   "source": [
    "# Accuracy score calculation with correlation parameters using Random Forest Classifier"
   ]
  },
  {
   "cell_type": "code",
   "execution_count": 21,
   "id": "fd0401c3",
   "metadata": {
    "execution": {
     "iopub.execute_input": "2023-03-09T06:49:40.515772Z",
     "iopub.status.busy": "2023-03-09T06:49:40.515360Z",
     "iopub.status.idle": "2023-03-09T06:49:40.970490Z",
     "shell.execute_reply": "2023-03-09T06:49:40.968972Z"
    },
    "papermill": {
     "duration": 0.479593,
     "end_time": "2023-03-09T06:49:40.973284",
     "exception": false,
     "start_time": "2023-03-09T06:49:40.493691",
     "status": "completed"
    },
    "tags": []
   },
   "outputs": [
    {
     "name": "stdout",
     "output_type": "stream",
     "text": [
      "0.8333333333333334\n"
     ]
    }
   ],
   "source": [
    "from sklearn.ensemble import RandomForestClassifier\n",
    "from sklearn.model_selection import train_test_split\n",
    "from sklearn import metrics\n",
    "\n",
    "y = training_data[\"Survived\"]\n",
    "features = [\"Pclass\",\"Sex\",\"Parch\",\"Ticket\",\"Fare\",\"Cabin\",\"Embarked\"]\n",
    "X = pd.get_dummies(training_data[features])\n",
    "X_train, X_test, y_train, y_test = train_test_split(X, y,  test_size=0.37, random_state=42)\n",
    "model = RandomForestClassifier(n_estimators=100, max_depth=5, random_state=1)\n",
    "model.fit(X, y)\n",
    "predictions_c = model.predict(X_test)\n",
    "print(metrics.accuracy_score(y_test,predictions_c))"
   ]
  },
  {
   "cell_type": "markdown",
   "id": "86b9c919",
   "metadata": {
    "papermill": {
     "duration": 0.021805,
     "end_time": "2023-03-09T06:49:41.015796",
     "exception": false,
     "start_time": "2023-03-09T06:49:40.993991",
     "status": "completed"
    },
    "tags": []
   },
   "source": [
    "# Model prediction on test data"
   ]
  },
  {
   "cell_type": "code",
   "execution_count": 22,
   "id": "b2f69ab6",
   "metadata": {
    "execution": {
     "iopub.execute_input": "2023-03-09T06:49:41.058750Z",
     "iopub.status.busy": "2023-03-09T06:49:41.058274Z",
     "iopub.status.idle": "2023-03-09T06:49:41.089343Z",
     "shell.execute_reply": "2023-03-09T06:49:41.088109Z"
    },
    "papermill": {
     "duration": 0.055022,
     "end_time": "2023-03-09T06:49:41.091776",
     "exception": false,
     "start_time": "2023-03-09T06:49:41.036754",
     "status": "completed"
    },
    "tags": []
   },
   "outputs": [
    {
     "data": {
      "text/plain": [
       "array([0, 1, 0, 0, 1, 0, 1, 0, 1, 0, 0, 0, 1, 0, 1, 1, 0, 0, 0, 1, 0, 0,\n",
       "       1, 0, 1, 0, 1, 0, 0, 0, 0, 0, 1, 0, 0, 0, 1, 1, 0, 0, 0, 0, 0, 1,\n",
       "       1, 0, 0, 0, 1, 1, 0, 0, 1, 1, 0, 0, 0, 0, 0, 1, 0, 0, 0, 1, 0, 1,\n",
       "       1, 0, 0, 1, 1, 0, 1, 0, 1, 0, 0, 1, 0, 1, 1, 0, 0, 0, 0, 0, 1, 0,\n",
       "       1, 0, 1, 0, 1, 0, 0, 0, 1, 0, 1, 0, 1, 0, 0, 0, 1, 0, 0, 0, 0, 0,\n",
       "       0, 1, 1, 1, 1, 0, 0, 0, 0, 1, 1, 0, 1, 0, 0, 1, 0, 1, 0, 0, 0, 0,\n",
       "       0, 0, 0, 0, 0, 0, 0, 0, 0, 1, 0, 0, 0, 0, 0, 0, 0, 0, 1, 0, 0, 1,\n",
       "       0, 0, 1, 1, 0, 0, 1, 0, 1, 0, 0, 1, 0, 0, 1, 0, 0, 0, 0, 0, 0, 1,\n",
       "       1, 0, 1, 1, 0, 0, 1, 0, 1, 0, 1, 0, 0, 0, 0, 0, 0, 0, 0, 0, 1, 1,\n",
       "       0, 1, 1, 0, 0, 1, 0, 0, 1, 0, 1, 0, 0, 0, 0, 1, 1, 0, 1, 0, 1, 0,\n",
       "       1, 0, 1, 0, 1, 1, 0, 1, 0, 0, 0, 1, 0, 0, 0, 0, 1, 0, 1, 1, 1, 1,\n",
       "       1, 0, 0, 0, 1, 0, 1, 1, 1, 0, 0, 0, 0, 0, 0, 0, 1, 0, 0, 0, 1, 1,\n",
       "       0, 0, 0, 0, 0, 0, 0, 0, 1, 1, 0, 1, 0, 0, 0, 0, 1, 0, 1, 1, 1, 0,\n",
       "       0, 1, 0, 0, 0, 1, 0, 0, 0, 0, 1, 0, 0, 0, 0, 0, 0, 0, 1, 1, 1, 0,\n",
       "       1, 1, 0, 0, 0, 1, 1, 1, 0, 0, 0, 0, 0, 0, 0, 0, 1, 0, 1, 0, 0, 0,\n",
       "       1, 0, 0, 1, 0, 0, 0, 0, 0, 0, 0, 0, 0, 1, 0, 1, 0, 1, 0, 1, 1, 0,\n",
       "       0, 1, 1, 0, 1, 0, 0, 1, 0, 1, 1, 0, 1, 0, 0, 1, 1, 0, 0, 1, 0, 0,\n",
       "       1, 1, 1, 0, 0, 0, 0, 0, 1, 1, 0, 1, 0, 0, 0, 0, 1, 1, 0, 0, 0, 1,\n",
       "       0, 1, 0, 0, 1, 0, 1, 0, 0, 0, 0, 1, 1, 0, 1, 1, 1, 0, 1, 0, 0, 0])"
      ]
     },
     "execution_count": 22,
     "metadata": {},
     "output_type": "execute_result"
    }
   ],
   "source": [
    "test_predict = model.predict(testing_data[features])\n",
    "test_predict"
   ]
  },
  {
   "cell_type": "markdown",
   "id": "23518efe",
   "metadata": {
    "papermill": {
     "duration": 0.020171,
     "end_time": "2023-03-09T06:49:41.131892",
     "exception": false,
     "start_time": "2023-03-09T06:49:41.111721",
     "status": "completed"
    },
    "tags": []
   },
   "source": [
    "# Generating output csv"
   ]
  },
  {
   "cell_type": "code",
   "execution_count": 23,
   "id": "f16777c9",
   "metadata": {
    "execution": {
     "iopub.execute_input": "2023-03-09T06:49:41.175804Z",
     "iopub.status.busy": "2023-03-09T06:49:41.175364Z",
     "iopub.status.idle": "2023-03-09T06:49:41.188511Z",
     "shell.execute_reply": "2023-03-09T06:49:41.185966Z"
    },
    "papermill": {
     "duration": 0.039529,
     "end_time": "2023-03-09T06:49:41.192047",
     "exception": false,
     "start_time": "2023-03-09T06:49:41.152518",
     "status": "completed"
    },
    "tags": []
   },
   "outputs": [
    {
     "name": "stdout",
     "output_type": "stream",
     "text": [
      "Your submission was successfully saved!\n"
     ]
    }
   ],
   "source": [
    "output = pd.DataFrame({'PassengerId': testing_data.PassengerId, 'Survived': test_predict})\n",
    "output.to_csv('submission_corr.csv', index=False)\n",
    "print(\"Your submission was successfully saved!\")"
   ]
  },
  {
   "cell_type": "markdown",
   "id": "563bdac9",
   "metadata": {
    "papermill": {
     "duration": 0.019645,
     "end_time": "2023-03-09T06:49:41.232264",
     "exception": false,
     "start_time": "2023-03-09T06:49:41.212619",
     "status": "completed"
    },
    "tags": []
   },
   "source": [
    "# Chi-Square test"
   ]
  },
  {
   "cell_type": "code",
   "execution_count": 24,
   "id": "66172399",
   "metadata": {
    "execution": {
     "iopub.execute_input": "2023-03-09T06:49:41.275289Z",
     "iopub.status.busy": "2023-03-09T06:49:41.274816Z",
     "iopub.status.idle": "2023-03-09T06:49:41.302414Z",
     "shell.execute_reply": "2023-03-09T06:49:41.301229Z"
    },
    "papermill": {
     "duration": 0.052232,
     "end_time": "2023-03-09T06:49:41.305087",
     "exception": false,
     "start_time": "2023-03-09T06:49:41.252855",
     "status": "completed"
    },
    "tags": []
   },
   "outputs": [
    {
     "data": {
      "text/plain": [
       "(array([3.31293407e+00, 3.08736994e+01, 4.35568915e+02, 9.27024470e+01,\n",
       "        2.46879258e+01, 2.58186538e+00, 1.00974991e+01, 2.87165547e+03,\n",
       "        4.51831909e+03, 2.84482789e+02, 1.02025247e+01]),\n",
       " array([6.87366651e-02, 2.75378563e-08, 9.97314604e-97, 6.07783826e-22,\n",
       "        6.74051416e-07, 1.08094210e-01, 1.48470676e-03, 0.00000000e+00,\n",
       "        0.00000000e+00, 7.92037850e-64, 1.40248517e-03]))"
      ]
     },
     "execution_count": 24,
     "metadata": {},
     "output_type": "execute_result"
    }
   ],
   "source": [
    "from sklearn.feature_selection import chi2\n",
    "X = training_data.drop('Survived',axis=1)\n",
    "y = training_data['Survived']\n",
    "chi_scores = chi2(X,y)\n",
    "chi_scores"
   ]
  },
  {
   "cell_type": "code",
   "execution_count": 25,
   "id": "b70ebfc6",
   "metadata": {
    "execution": {
     "iopub.execute_input": "2023-03-09T06:49:41.348128Z",
     "iopub.status.busy": "2023-03-09T06:49:41.347344Z",
     "iopub.status.idle": "2023-03-09T06:49:41.636258Z",
     "shell.execute_reply": "2023-03-09T06:49:41.635110Z"
    },
    "papermill": {
     "duration": 0.313967,
     "end_time": "2023-03-09T06:49:41.639396",
     "exception": false,
     "start_time": "2023-03-09T06:49:41.325429",
     "status": "completed"
    },
    "tags": []
   },
   "outputs": [
    {
     "data": {
      "text/plain": [
       "<AxesSubplot:>"
      ]
     },
     "execution_count": 25,
     "metadata": {},
     "output_type": "execute_result"
    },
    {
     "data": {
      "image/png": "[encoded data removed]",
      "text/plain": [
       "<Figure size 640x480 with 1 Axes>"
      ]
     },
     "metadata": {},
     "output_type": "display_data"
    }
   ],
   "source": [
    "p_values = pd.Series(chi_scores[1],index = X.columns)\n",
    "p_values.sort_values(ascending = False , inplace = True)\n",
    "p_values.plot.bar()"
   ]
  },
  {
   "cell_type": "markdown",
   "id": "ea14b1b4",
   "metadata": {
    "papermill": {
     "duration": 0.020278,
     "end_time": "2023-03-09T06:49:41.680800",
     "exception": false,
     "start_time": "2023-03-09T06:49:41.660522",
     "status": "completed"
    },
    "tags": []
   },
   "source": [
    "Features selected from above graph are Parch,Embarked,Age,Pclass,Sex,Cabin,Name,Ticket,Fare"
   ]
  },
  {
   "cell_type": "markdown",
   "id": "1994d528",
   "metadata": {
    "papermill": {
     "duration": 0.020189,
     "end_time": "2023-03-09T06:49:41.721894",
     "exception": false,
     "start_time": "2023-03-09T06:49:41.701705",
     "status": "completed"
    },
    "tags": []
   },
   "source": [
    "# Train-test split"
   ]
  },
  {
   "cell_type": "code",
   "execution_count": 26,
   "id": "39cb1be3",
   "metadata": {
    "execution": {
     "iopub.execute_input": "2023-03-09T06:49:41.765434Z",
     "iopub.status.busy": "2023-03-09T06:49:41.764997Z",
     "iopub.status.idle": "2023-03-09T06:49:41.779436Z",
     "shell.execute_reply": "2023-03-09T06:49:41.778367Z"
    },
    "papermill": {
     "duration": 0.039575,
     "end_time": "2023-03-09T06:49:41.782257",
     "exception": false,
     "start_time": "2023-03-09T06:49:41.742682",
     "status": "completed"
    },
    "tags": []
   },
   "outputs": [],
   "source": [
    "y = training_data[\"Survived\"]\n",
    "\n",
    "features = [\"Pclass\",\"Name\",\"Sex\",\"Age\",\"Parch\",\"Ticket\",\"Fare\",\"Cabin\",\"Embarked\",]\n",
    "X = pd.get_dummies(training_data[features])\n",
    "X_train, X_test, y_train, y_test = train_test_split(X, y,  test_size=0.37, random_state=42)\n",
    "accuracy=[]"
   ]
  },
  {
   "cell_type": "markdown",
   "id": "ce05143a",
   "metadata": {
    "papermill": {
     "duration": 0.020297,
     "end_time": "2023-03-09T06:49:41.824076",
     "exception": false,
     "start_time": "2023-03-09T06:49:41.803779",
     "status": "completed"
    },
    "tags": []
   },
   "source": [
    "# Model prediction using Linear SVM"
   ]
  },
  {
   "cell_type": "code",
   "execution_count": 27,
   "id": "f3e3e91d",
   "metadata": {
    "execution": {
     "iopub.execute_input": "2023-03-09T06:49:41.867302Z",
     "iopub.status.busy": "2023-03-09T06:49:41.866850Z",
     "iopub.status.idle": "2023-03-09T06:50:36.515065Z",
     "shell.execute_reply": "2023-03-09T06:50:36.514050Z"
    },
    "papermill": {
     "duration": 54.673068,
     "end_time": "2023-03-09T06:50:36.517842",
     "exception": false,
     "start_time": "2023-03-09T06:49:41.844774",
     "status": "completed"
    },
    "tags": []
   },
   "outputs": [],
   "source": [
    "from sklearn import svm\n",
    "linear_svm = svm.SVC(kernel='linear', C = 1.0)\n",
    "linear_svm.fit(X,y)\n",
    "predictions_svm=linear_svm.predict(X_test)\n",
    "accuracy.append(metrics.accuracy_score(y_test,predictions_svm))"
   ]
  },
  {
   "cell_type": "markdown",
   "id": "265f59b5",
   "metadata": {
    "papermill": {
     "duration": 0.020448,
     "end_time": "2023-03-09T06:50:36.559299",
     "exception": false,
     "start_time": "2023-03-09T06:50:36.538851",
     "status": "completed"
    },
    "tags": []
   },
   "source": [
    "# Model Prediction using Decision Tree Classifier"
   ]
  },
  {
   "cell_type": "code",
   "execution_count": 28,
   "id": "8dfd674c",
   "metadata": {
    "execution": {
     "iopub.execute_input": "2023-03-09T06:50:36.602526Z",
     "iopub.status.busy": "2023-03-09T06:50:36.602072Z",
     "iopub.status.idle": "2023-03-09T06:50:36.616409Z",
     "shell.execute_reply": "2023-03-09T06:50:36.614962Z"
    },
    "papermill": {
     "duration": 0.039496,
     "end_time": "2023-03-09T06:50:36.619450",
     "exception": false,
     "start_time": "2023-03-09T06:50:36.579954",
     "status": "completed"
    },
    "tags": []
   },
   "outputs": [],
   "source": [
    "from sklearn.tree import DecisionTreeClassifier\n",
    "dc=DecisionTreeClassifier(criterion = \"gini\",random_state = 100,max_depth=3, min_samples_leaf=5)\n",
    "dc.fit(X,y)\n",
    "predictions_dc=dc.predict(X_test)\n",
    "accuracy.append(metrics.accuracy_score(y_test,predictions_dc))"
   ]
  },
  {
   "cell_type": "markdown",
   "id": "c7d309b9",
   "metadata": {
    "papermill": {
     "duration": 0.020681,
     "end_time": "2023-03-09T06:50:36.661589",
     "exception": false,
     "start_time": "2023-03-09T06:50:36.640908",
     "status": "completed"
    },
    "tags": []
   },
   "source": [
    "# Model prediction using Logisitic Regression classifier\n"
   ]
  },
  {
   "cell_type": "code",
   "execution_count": 29,
   "id": "c644bd99",
   "metadata": {
    "execution": {
     "iopub.execute_input": "2023-03-09T06:50:36.707430Z",
     "iopub.status.busy": "2023-03-09T06:50:36.706343Z",
     "iopub.status.idle": "2023-03-09T06:50:36.831238Z",
     "shell.execute_reply": "2023-03-09T06:50:36.830107Z"
    },
    "papermill": {
     "duration": 0.150821,
     "end_time": "2023-03-09T06:50:36.834279",
     "exception": false,
     "start_time": "2023-03-09T06:50:36.683458",
     "status": "completed"
    },
    "tags": []
   },
   "outputs": [],
   "source": [
    "from sklearn import linear_model\n",
    "lr_model= linear_model.LogisticRegression(max_iter=1000)  \n",
    "lr_model.fit(X, y)  \n",
    "predictions_lr = lr_model.predict(X_test)\n",
    "accuracy.append(metrics.accuracy_score(y_test,predictions_lr))"
   ]
  },
  {
   "cell_type": "code",
   "execution_count": 30,
   "id": "d8965844",
   "metadata": {
    "execution": {
     "iopub.execute_input": "2023-03-09T06:50:36.878900Z",
     "iopub.status.busy": "2023-03-09T06:50:36.878502Z",
     "iopub.status.idle": "2023-03-09T06:50:36.890110Z",
     "shell.execute_reply": "2023-03-09T06:50:36.888844Z"
    },
    "papermill": {
     "duration": 0.036667,
     "end_time": "2023-03-09T06:50:36.892654",
     "exception": false,
     "start_time": "2023-03-09T06:50:36.855987",
     "status": "completed"
    },
    "tags": []
   },
   "outputs": [
    {
     "data": {
      "text/plain": [
       "array([0, 0, 0, 0, 1, 0, 1, 0, 1, 0, 0, 0, 1, 0, 1, 1, 0, 0, 1, 1, 0, 0,\n",
       "       1, 0, 1, 0, 1, 0, 0, 0, 0, 0, 0, 0, 1, 0, 1, 1, 0, 0, 0, 0, 0, 1,\n",
       "       1, 0, 0, 0, 1, 0, 0, 0, 1, 1, 0, 0, 0, 0, 0, 1, 0, 0, 0, 1, 1, 1,\n",
       "       1, 0, 1, 1, 1, 0, 1, 0, 1, 1, 0, 1, 0, 1, 0, 0, 0, 0, 0, 0, 1, 1,\n",
       "       1, 0, 1, 0, 1, 0, 1, 0, 1, 0, 1, 0, 1, 0, 0, 0, 1, 0, 0, 0, 0, 0,\n",
       "       0, 1, 1, 1, 1, 0, 0, 1, 1, 1, 1, 0, 1, 0, 0, 1, 0, 1, 0, 0, 0, 0,\n",
       "       0, 0, 0, 0, 0, 0, 1, 0, 1, 1, 0, 0, 0, 0, 0, 0, 1, 0, 1, 0, 0, 0,\n",
       "       0, 0, 1, 1, 0, 0, 1, 0, 1, 0, 0, 1, 0, 0, 1, 1, 0, 0, 0, 0, 0, 1,\n",
       "       1, 0, 1, 1, 0, 0, 1, 0, 1, 0, 1, 0, 0, 0, 0, 0, 0, 0, 0, 0, 1, 1,\n",
       "       0, 1, 1, 0, 0, 1, 0, 1, 1, 0, 1, 0, 0, 0, 0, 1, 0, 0, 1, 0, 1, 0,\n",
       "       1, 0, 1, 0, 1, 1, 0, 1, 0, 0, 0, 1, 0, 0, 0, 0, 0, 0, 1, 1, 1, 1,\n",
       "       0, 0, 0, 0, 1, 0, 1, 1, 1, 0, 1, 0, 0, 0, 0, 0, 1, 0, 0, 0, 1, 1,\n",
       "       0, 0, 0, 0, 1, 0, 0, 0, 1, 1, 0, 1, 0, 0, 0, 0, 1, 0, 1, 1, 1, 0,\n",
       "       0, 0, 0, 0, 0, 1, 0, 0, 0, 0, 1, 0, 0, 0, 0, 0, 0, 0, 1, 1, 0, 0,\n",
       "       0, 1, 0, 0, 0, 1, 1, 1, 0, 0, 0, 0, 0, 0, 0, 0, 1, 0, 1, 0, 0, 0,\n",
       "       1, 0, 0, 1, 0, 0, 0, 0, 0, 0, 0, 0, 0, 1, 0, 1, 0, 1, 0, 1, 1, 0,\n",
       "       0, 0, 1, 0, 1, 0, 0, 1, 0, 1, 1, 0, 1, 0, 0, 1, 1, 0, 0, 1, 0, 0,\n",
       "       1, 1, 1, 0, 0, 0, 0, 0, 1, 1, 0, 1, 0, 0, 0, 0, 0, 1, 0, 0, 0, 1,\n",
       "       0, 1, 0, 0, 1, 0, 1, 1, 0, 0, 0, 0, 1, 1, 1, 1, 1, 0, 1, 0, 0, 0])"
      ]
     },
     "execution_count": 30,
     "metadata": {},
     "output_type": "execute_result"
    }
   ],
   "source": [
    "test_predict = lr_model.predict(testing_data[features])\n",
    "test_predict"
   ]
  },
  {
   "cell_type": "code",
   "execution_count": 31,
   "id": "582ba10b",
   "metadata": {
    "execution": {
     "iopub.execute_input": "2023-03-09T06:50:36.936248Z",
     "iopub.status.busy": "2023-03-09T06:50:36.935844Z",
     "iopub.status.idle": "2023-03-09T06:50:36.945625Z",
     "shell.execute_reply": "2023-03-09T06:50:36.944239Z"
    },
    "papermill": {
     "duration": 0.036066,
     "end_time": "2023-03-09T06:50:36.949537",
     "exception": false,
     "start_time": "2023-03-09T06:50:36.913471",
     "status": "completed"
    },
    "tags": []
   },
   "outputs": [
    {
     "name": "stdout",
     "output_type": "stream",
     "text": [
      "Your submission was successfully saved!\n"
     ]
    }
   ],
   "source": [
    "output = pd.DataFrame({'PassengerId': testing_data.PassengerId, 'Survived': test_predict})\n",
    "output.to_csv('submission_lr.csv', index=False)\n",
    "print(\"Your submission was successfully saved!\")"
   ]
  },
  {
   "cell_type": "markdown",
   "id": "6173c6c8",
   "metadata": {
    "papermill": {
     "duration": 0.021459,
     "end_time": "2023-03-09T06:50:36.993356",
     "exception": false,
     "start_time": "2023-03-09T06:50:36.971897",
     "status": "completed"
    },
    "tags": []
   },
   "source": [
    "# Model prediction using RandomForest classifier"
   ]
  },
  {
   "cell_type": "code",
   "execution_count": 32,
   "id": "06a3b163",
   "metadata": {
    "execution": {
     "iopub.execute_input": "2023-03-09T06:50:37.038227Z",
     "iopub.status.busy": "2023-03-09T06:50:37.037801Z",
     "iopub.status.idle": "2023-03-09T06:50:37.257168Z",
     "shell.execute_reply": "2023-03-09T06:50:37.255911Z"
    },
    "papermill": {
     "duration": 0.244359,
     "end_time": "2023-03-09T06:50:37.259752",
     "exception": false,
     "start_time": "2023-03-09T06:50:37.015393",
     "status": "completed"
    },
    "tags": []
   },
   "outputs": [],
   "source": [
    "from sklearn.ensemble import RandomForestClassifier\n",
    "model = RandomForestClassifier(n_estimators=100, max_depth=5, random_state=1)\n",
    "model.fit(X, y)\n",
    "predictions_rf = model.predict(X_test)\n",
    "accuracy.append(metrics.accuracy_score(y_test,predictions_rf))\n"
   ]
  },
  {
   "cell_type": "markdown",
   "id": "b0c7dfe9",
   "metadata": {
    "papermill": {
     "duration": 0.02183,
     "end_time": "2023-03-09T06:50:37.303865",
     "exception": false,
     "start_time": "2023-03-09T06:50:37.282035",
     "status": "completed"
    },
    "tags": []
   },
   "source": [
    "# Model prediction on test dataset"
   ]
  },
  {
   "cell_type": "code",
   "execution_count": 33,
   "id": "65024269",
   "metadata": {
    "execution": {
     "iopub.execute_input": "2023-03-09T06:50:37.348698Z",
     "iopub.status.busy": "2023-03-09T06:50:37.348045Z",
     "iopub.status.idle": "2023-03-09T06:50:37.376952Z",
     "shell.execute_reply": "2023-03-09T06:50:37.375998Z"
    },
    "papermill": {
     "duration": 0.054199,
     "end_time": "2023-03-09T06:50:37.379456",
     "exception": false,
     "start_time": "2023-03-09T06:50:37.325257",
     "status": "completed"
    },
    "tags": []
   },
   "outputs": [
    {
     "data": {
      "text/plain": [
       "array([0, 0, 0, 0, 1, 0, 1, 0, 1, 0, 0, 0, 1, 0, 1, 1, 0, 0, 0, 1, 0, 0,\n",
       "       1, 0, 1, 0, 1, 0, 0, 0, 0, 0, 0, 0, 0, 0, 1, 1, 0, 1, 0, 0, 0, 1,\n",
       "       1, 0, 0, 0, 1, 0, 0, 0, 1, 1, 0, 0, 0, 0, 0, 1, 0, 0, 0, 1, 1, 1,\n",
       "       1, 0, 0, 1, 1, 0, 1, 0, 1, 0, 0, 1, 0, 1, 1, 0, 0, 0, 0, 0, 1, 1,\n",
       "       1, 1, 1, 0, 1, 0, 0, 0, 1, 0, 1, 0, 1, 0, 0, 0, 1, 0, 0, 0, 0, 0,\n",
       "       0, 1, 1, 1, 1, 0, 0, 1, 1, 1, 1, 0, 1, 0, 0, 1, 0, 1, 0, 0, 0, 0,\n",
       "       0, 0, 0, 0, 0, 0, 0, 0, 0, 1, 0, 0, 0, 0, 0, 0, 1, 0, 1, 0, 0, 1,\n",
       "       0, 0, 1, 1, 0, 0, 1, 1, 1, 0, 0, 1, 0, 0, 1, 0, 0, 0, 0, 0, 0, 1,\n",
       "       1, 0, 1, 1, 0, 1, 1, 0, 1, 0, 1, 0, 0, 0, 0, 0, 0, 0, 1, 0, 1, 1,\n",
       "       0, 0, 1, 1, 0, 1, 0, 0, 1, 0, 1, 0, 0, 0, 0, 1, 1, 0, 1, 0, 1, 0,\n",
       "       1, 0, 1, 0, 1, 1, 0, 1, 0, 0, 0, 1, 0, 0, 0, 0, 0, 0, 1, 1, 1, 1,\n",
       "       0, 0, 0, 0, 1, 0, 1, 1, 1, 0, 1, 0, 0, 0, 0, 0, 1, 0, 0, 0, 1, 1,\n",
       "       0, 0, 0, 0, 0, 0, 0, 0, 1, 1, 0, 1, 0, 0, 0, 0, 1, 1, 1, 1, 1, 0,\n",
       "       0, 1, 0, 0, 0, 1, 0, 1, 0, 0, 1, 0, 0, 0, 0, 0, 0, 0, 1, 1, 1, 1,\n",
       "       1, 1, 0, 0, 0, 1, 1, 1, 0, 0, 0, 0, 0, 0, 0, 0, 1, 0, 1, 0, 0, 0,\n",
       "       1, 0, 0, 1, 0, 0, 0, 0, 0, 0, 0, 0, 0, 1, 0, 1, 0, 1, 0, 1, 1, 0,\n",
       "       0, 1, 1, 0, 1, 0, 0, 1, 0, 1, 1, 0, 1, 0, 0, 1, 1, 0, 0, 1, 0, 0,\n",
       "       1, 1, 1, 0, 0, 1, 0, 0, 1, 1, 0, 1, 0, 0, 0, 0, 1, 1, 0, 0, 0, 1,\n",
       "       0, 1, 0, 0, 1, 0, 1, 1, 0, 0, 0, 0, 1, 1, 1, 1, 1, 0, 1, 0, 0, 0])"
      ]
     },
     "execution_count": 33,
     "metadata": {},
     "output_type": "execute_result"
    }
   ],
   "source": [
    "test_predict = model.predict(testing_data[features])\n",
    "test_predict"
   ]
  },
  {
   "cell_type": "markdown",
   "id": "cb7259ff",
   "metadata": {
    "papermill": {
     "duration": 0.021864,
     "end_time": "2023-03-09T06:50:37.423074",
     "exception": false,
     "start_time": "2023-03-09T06:50:37.401210",
     "status": "completed"
    },
    "tags": []
   },
   "source": [
    "# Generating output csv"
   ]
  },
  {
   "cell_type": "code",
   "execution_count": 34,
   "id": "436c3802",
   "metadata": {
    "execution": {
     "iopub.execute_input": "2023-03-09T06:50:37.469350Z",
     "iopub.status.busy": "2023-03-09T06:50:37.468903Z",
     "iopub.status.idle": "2023-03-09T06:50:37.477653Z",
     "shell.execute_reply": "2023-03-09T06:50:37.476016Z"
    },
    "papermill": {
     "duration": 0.036496,
     "end_time": "2023-03-09T06:50:37.481701",
     "exception": false,
     "start_time": "2023-03-09T06:50:37.445205",
     "status": "completed"
    },
    "tags": []
   },
   "outputs": [
    {
     "name": "stdout",
     "output_type": "stream",
     "text": [
      "Your submission was successfully saved!\n"
     ]
    }
   ],
   "source": [
    "output = pd.DataFrame({'PassengerId': testing_data.PassengerId, 'Survived': test_predict})\n",
    "output.to_csv('submission_randomeforest.csv', index=False)\n",
    "print(\"Your submission was successfully saved!\")"
   ]
  },
  {
   "cell_type": "markdown",
   "id": "67b77cd9",
   "metadata": {
    "papermill": {
     "duration": 0.02089,
     "end_time": "2023-03-09T06:50:37.525461",
     "exception": false,
     "start_time": "2023-03-09T06:50:37.504571",
     "status": "completed"
    },
    "tags": []
   },
   "source": [
    "# Plotting accuracy scores of all classifiers"
   ]
  },
  {
   "cell_type": "code",
   "execution_count": 35,
   "id": "6bc1184e",
   "metadata": {
    "execution": {
     "iopub.execute_input": "2023-03-09T06:50:37.572318Z",
     "iopub.status.busy": "2023-03-09T06:50:37.571511Z",
     "iopub.status.idle": "2023-03-09T06:50:37.827544Z",
     "shell.execute_reply": "2023-03-09T06:50:37.826286Z"
    },
    "papermill": {
     "duration": 0.282945,
     "end_time": "2023-03-09T06:50:37.830333",
     "exception": false,
     "start_time": "2023-03-09T06:50:37.547388",
     "status": "completed"
    },
    "tags": []
   },
   "outputs": [
    {
     "name": "stdout",
     "output_type": "stream",
     "text": [
      "            Classifiers  Accuracies\n",
      "0            Linear SVM    0.784848\n",
      "1         Decision Tree    0.806061\n",
      "2  Logisitic Regression    0.803030\n",
      "3         Random Forest    0.854545\n"
     ]
    },
    {
     "data": {
      "text/plain": [
       "<AxesSubplot:xlabel='Classifiers', ylabel='Accuracies'>"
      ]
     },
     "execution_count": 35,
     "metadata": {},
     "output_type": "execute_result"
    },
    {
     "data": {
      "image/png": "[encoded data removed]",
      "text/plain": [
       "<Figure size 640x480 with 1 Axes>"
      ]
     },
     "metadata": {},
     "output_type": "display_data"
    }
   ],
   "source": [
    "class_accuracy=[[\"Linear SVM\",accuracy[0]],[\"Decision Tree\",accuracy[1]],[\"Logisitic Regression\",accuracy[2]],[\"Random Forest\",accuracy[3]]]\n",
    "df=pd.DataFrame(class_accuracy,columns=[\"Classifiers\",\"Accuracies\"])\n",
    "print(df)\n",
    "sns.lineplot(data=df,x=df[\"Classifiers\"],y=df[\"Accuracies\"])"
   ]
  }
 ],
 "metadata": {
  "kernelspec": {
   "display_name": "Python 3",
   "language": "python",
   "name": "python3"
  },
  "language_info": {
   "codemirror_mode": {
    "name": "ipython",
    "version": 3
   },
   "file_extension": ".py",
   "mimetype": "text/x-python",
   "name": "python",
   "nbconvert_exporter": "python",
   "pygments_lexer": "ipython3",
   "version": "3.7.12"
  },
  "papermill": {
   "default_parameters": {},
   "duration": 74.659997,
   "end_time": "2023-03-09T06:50:38.677564",
   "environment_variables": {},
   "exception": null,
   "input_path": "__notebook__.ipynb",
   "output_path": "__notebook__.ipynb",
   "parameters": {},
   "start_time": "2023-03-09T06:49:24.017567",
   "version": "2.3.4"
  }
 },
 "nbformat": 4,
 "nbformat_minor": 5
}
