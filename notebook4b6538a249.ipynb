{
 "cells": [
  {
   "cell_type": "code",
   "execution_count": 1,
   "id": "18c3482c",
   "metadata": {
    "_cell_guid": "b1076dfc-b9ad-4769-8c92-a6c4dae69d19",
    "_uuid": "8f2839f25d086af736a60e9eeb907d3b93b6e0e5",
    "execution": {
     "iopub.execute_input": "2023-03-07T01:29:24.283585Z",
     "iopub.status.busy": "2023-03-07T01:29:24.283089Z",
     "iopub.status.idle": "2023-03-07T01:29:25.593894Z",
     "shell.execute_reply": "2023-03-07T01:29:25.592561Z"
    },
    "papermill": {
     "duration": 1.326869,
     "end_time": "2023-03-07T01:29:25.597190",
     "exception": false,
     "start_time": "2023-03-07T01:29:24.270321",
     "status": "completed"
    },
    "tags": []
   },
   "outputs": [
    {
     "name": "stdout",
     "output_type": "stream",
     "text": [
      "/kaggle/input/titanic/train.csv\n",
      "/kaggle/input/titanic/test.csv\n",
      "/kaggle/input/titanic/gender_submission.csv\n"
     ]
    }
   ],
   "source": [
    "import pandas as pd \n",
    "import numpy as np\n",
    "import os\n",
    "import category_encoders as c\n",
    "\n",
    "for dirname, _, filenames in os.walk('/kaggle/input'):\n",
    "    for filename in filenames:\n",
    "        print(os.path.join(dirname, filename))\n",
    "\n"
   ]
  },
  {
   "cell_type": "markdown",
   "id": "1b838422",
   "metadata": {
    "papermill": {
     "duration": 0.010292,
     "end_time": "2023-03-07T01:29:25.618226",
     "exception": false,
     "start_time": "2023-03-07T01:29:25.607934",
     "status": "completed"
    },
    "tags": []
   },
   "source": [
    "# loading training data"
   ]
  },
  {
   "cell_type": "code",
   "execution_count": 2,
   "id": "b1c6ada4",
   "metadata": {
    "execution": {
     "iopub.execute_input": "2023-03-07T01:29:25.641279Z",
     "iopub.status.busy": "2023-03-07T01:29:25.640752Z",
     "iopub.status.idle": "2023-03-07T01:29:25.686870Z",
     "shell.execute_reply": "2023-03-07T01:29:25.685484Z"
    },
    "papermill": {
     "duration": 0.061229,
     "end_time": "2023-03-07T01:29:25.689942",
     "exception": false,
     "start_time": "2023-03-07T01:29:25.628713",
     "status": "completed"
    },
    "tags": []
   },
   "outputs": [
    {
     "data": {
      "text/html": [
       "<div>\n",
       "<style scoped>\n",
       "    .dataframe tbody tr th:only-of-type {\n",
       "        vertical-align: middle;\n",
       "    }\n",
       "\n",
       "    .dataframe tbody tr th {\n",
       "        vertical-align: top;\n",
       "    }\n",
       "\n",
       "    .dataframe thead th {\n",
       "        text-align: right;\n",
       "    }\n",
       "</style>\n",
       "<table border=\"1\" class=\"dataframe\">\n",
       "  <thead>\n",
       "    <tr style=\"text-align: right;\">\n",
       "      <th></th>\n",
       "      <th>PassengerId</th>\n",
       "      <th>Survived</th>\n",
       "      <th>Pclass</th>\n",
       "      <th>Name</th>\n",
       "      <th>Sex</th>\n",
       "      <th>Age</th>\n",
       "      <th>SibSp</th>\n",
       "      <th>Parch</th>\n",
       "      <th>Ticket</th>\n",
       "      <th>Fare</th>\n",
       "      <th>Cabin</th>\n",
       "      <th>Embarked</th>\n",
       "    </tr>\n",
       "  </thead>\n",
       "  <tbody>\n",
       "    <tr>\n",
       "      <th>0</th>\n",
       "      <td>1</td>\n",
       "      <td>0</td>\n",
       "      <td>3</td>\n",
       "      <td>Braund, Mr. Owen Harris</td>\n",
       "      <td>male</td>\n",
       "      <td>22.0</td>\n",
       "      <td>1</td>\n",
       "      <td>0</td>\n",
       "      <td>A/5 21171</td>\n",
       "      <td>7.2500</td>\n",
       "      <td>NaN</td>\n",
       "      <td>S</td>\n",
       "    </tr>\n",
       "    <tr>\n",
       "      <th>1</th>\n",
       "      <td>2</td>\n",
       "      <td>1</td>\n",
       "      <td>1</td>\n",
       "      <td>Cumings, Mrs. John Bradley (Florence Briggs Th...</td>\n",
       "      <td>female</td>\n",
       "      <td>38.0</td>\n",
       "      <td>1</td>\n",
       "      <td>0</td>\n",
       "      <td>PC 17599</td>\n",
       "      <td>71.2833</td>\n",
       "      <td>C85</td>\n",
       "      <td>C</td>\n",
       "    </tr>\n",
       "    <tr>\n",
       "      <th>2</th>\n",
       "      <td>3</td>\n",
       "      <td>1</td>\n",
       "      <td>3</td>\n",
       "      <td>Heikkinen, Miss. Laina</td>\n",
       "      <td>female</td>\n",
       "      <td>26.0</td>\n",
       "      <td>0</td>\n",
       "      <td>0</td>\n",
       "      <td>STON/O2. 3101282</td>\n",
       "      <td>7.9250</td>\n",
       "      <td>NaN</td>\n",
       "      <td>S</td>\n",
       "    </tr>\n",
       "    <tr>\n",
       "      <th>3</th>\n",
       "      <td>4</td>\n",
       "      <td>1</td>\n",
       "      <td>1</td>\n",
       "      <td>Futrelle, Mrs. Jacques Heath (Lily May Peel)</td>\n",
       "      <td>female</td>\n",
       "      <td>35.0</td>\n",
       "      <td>1</td>\n",
       "      <td>0</td>\n",
       "      <td>113803</td>\n",
       "      <td>53.1000</td>\n",
       "      <td>C123</td>\n",
       "      <td>S</td>\n",
       "    </tr>\n",
       "    <tr>\n",
       "      <th>4</th>\n",
       "      <td>5</td>\n",
       "      <td>0</td>\n",
       "      <td>3</td>\n",
       "      <td>Allen, Mr. William Henry</td>\n",
       "      <td>male</td>\n",
       "      <td>35.0</td>\n",
       "      <td>0</td>\n",
       "      <td>0</td>\n",
       "      <td>373450</td>\n",
       "      <td>8.0500</td>\n",
       "      <td>NaN</td>\n",
       "      <td>S</td>\n",
       "    </tr>\n",
       "  </tbody>\n",
       "</table>\n",
       "</div>"
      ],
      "text/plain": [
       "   PassengerId  Survived  Pclass  \\\n",
       "0            1         0       3   \n",
       "1            2         1       1   \n",
       "2            3         1       3   \n",
       "3            4         1       1   \n",
       "4            5         0       3   \n",
       "\n",
       "                                                Name     Sex   Age  SibSp  \\\n",
       "0                            Braund, Mr. Owen Harris    male  22.0      1   \n",
       "1  Cumings, Mrs. John Bradley (Florence Briggs Th...  female  38.0      1   \n",
       "2                             Heikkinen, Miss. Laina  female  26.0      0   \n",
       "3       Futrelle, Mrs. Jacques Heath (Lily May Peel)  female  35.0      1   \n",
       "4                           Allen, Mr. William Henry    male  35.0      0   \n",
       "\n",
       "   Parch            Ticket     Fare Cabin Embarked  \n",
       "0      0         A/5 21171   7.2500   NaN        S  \n",
       "1      0          PC 17599  71.2833   C85        C  \n",
       "2      0  STON/O2. 3101282   7.9250   NaN        S  \n",
       "3      0            113803  53.1000  C123        S  \n",
       "4      0            373450   8.0500   NaN        S  "
      ]
     },
     "execution_count": 2,
     "metadata": {},
     "output_type": "execute_result"
    }
   ],
   "source": [
    "training_data = pd.read_csv(\"/kaggle/input/titanic/train.csv\")\n",
    "training_data.head() #displays top 5 rows from train.csv"
   ]
  },
  {
   "cell_type": "markdown",
   "id": "fe56c744",
   "metadata": {
    "papermill": {
     "duration": 0.009766,
     "end_time": "2023-03-07T01:29:25.710342",
     "exception": false,
     "start_time": "2023-03-07T01:29:25.700576",
     "status": "completed"
    },
    "tags": []
   },
   "source": [
    "# loading test data"
   ]
  },
  {
   "cell_type": "code",
   "execution_count": 3,
   "id": "9dd0ee99",
   "metadata": {
    "execution": {
     "iopub.execute_input": "2023-03-07T01:29:25.734132Z",
     "iopub.status.busy": "2023-03-07T01:29:25.733150Z",
     "iopub.status.idle": "2023-03-07T01:29:25.762085Z",
     "shell.execute_reply": "2023-03-07T01:29:25.760747Z"
    },
    "papermill": {
     "duration": 0.044658,
     "end_time": "2023-03-07T01:29:25.765133",
     "exception": false,
     "start_time": "2023-03-07T01:29:25.720475",
     "status": "completed"
    },
    "tags": []
   },
   "outputs": [
    {
     "data": {
      "text/html": [
       "<div>\n",
       "<style scoped>\n",
       "    .dataframe tbody tr th:only-of-type {\n",
       "        vertical-align: middle;\n",
       "    }\n",
       "\n",
       "    .dataframe tbody tr th {\n",
       "        vertical-align: top;\n",
       "    }\n",
       "\n",
       "    .dataframe thead th {\n",
       "        text-align: right;\n",
       "    }\n",
       "</style>\n",
       "<table border=\"1\" class=\"dataframe\">\n",
       "  <thead>\n",
       "    <tr style=\"text-align: right;\">\n",
       "      <th></th>\n",
       "      <th>PassengerId</th>\n",
       "      <th>Pclass</th>\n",
       "      <th>Name</th>\n",
       "      <th>Sex</th>\n",
       "      <th>Age</th>\n",
       "      <th>SibSp</th>\n",
       "      <th>Parch</th>\n",
       "      <th>Ticket</th>\n",
       "      <th>Fare</th>\n",
       "      <th>Cabin</th>\n",
       "      <th>Embarked</th>\n",
       "    </tr>\n",
       "  </thead>\n",
       "  <tbody>\n",
       "    <tr>\n",
       "      <th>0</th>\n",
       "      <td>892</td>\n",
       "      <td>3</td>\n",
       "      <td>Kelly, Mr. James</td>\n",
       "      <td>male</td>\n",
       "      <td>34.5</td>\n",
       "      <td>0</td>\n",
       "      <td>0</td>\n",
       "      <td>330911</td>\n",
       "      <td>7.8292</td>\n",
       "      <td>NaN</td>\n",
       "      <td>Q</td>\n",
       "    </tr>\n",
       "    <tr>\n",
       "      <th>1</th>\n",
       "      <td>893</td>\n",
       "      <td>3</td>\n",
       "      <td>Wilkes, Mrs. James (Ellen Needs)</td>\n",
       "      <td>female</td>\n",
       "      <td>47.0</td>\n",
       "      <td>1</td>\n",
       "      <td>0</td>\n",
       "      <td>363272</td>\n",
       "      <td>7.0000</td>\n",
       "      <td>NaN</td>\n",
       "      <td>S</td>\n",
       "    </tr>\n",
       "    <tr>\n",
       "      <th>2</th>\n",
       "      <td>894</td>\n",
       "      <td>2</td>\n",
       "      <td>Myles, Mr. Thomas Francis</td>\n",
       "      <td>male</td>\n",
       "      <td>62.0</td>\n",
       "      <td>0</td>\n",
       "      <td>0</td>\n",
       "      <td>240276</td>\n",
       "      <td>9.6875</td>\n",
       "      <td>NaN</td>\n",
       "      <td>Q</td>\n",
       "    </tr>\n",
       "    <tr>\n",
       "      <th>3</th>\n",
       "      <td>895</td>\n",
       "      <td>3</td>\n",
       "      <td>Wirz, Mr. Albert</td>\n",
       "      <td>male</td>\n",
       "      <td>27.0</td>\n",
       "      <td>0</td>\n",
       "      <td>0</td>\n",
       "      <td>315154</td>\n",
       "      <td>8.6625</td>\n",
       "      <td>NaN</td>\n",
       "      <td>S</td>\n",
       "    </tr>\n",
       "    <tr>\n",
       "      <th>4</th>\n",
       "      <td>896</td>\n",
       "      <td>3</td>\n",
       "      <td>Hirvonen, Mrs. Alexander (Helga E Lindqvist)</td>\n",
       "      <td>female</td>\n",
       "      <td>22.0</td>\n",
       "      <td>1</td>\n",
       "      <td>1</td>\n",
       "      <td>3101298</td>\n",
       "      <td>12.2875</td>\n",
       "      <td>NaN</td>\n",
       "      <td>S</td>\n",
       "    </tr>\n",
       "  </tbody>\n",
       "</table>\n",
       "</div>"
      ],
      "text/plain": [
       "   PassengerId  Pclass                                          Name     Sex  \\\n",
       "0          892       3                              Kelly, Mr. James    male   \n",
       "1          893       3              Wilkes, Mrs. James (Ellen Needs)  female   \n",
       "2          894       2                     Myles, Mr. Thomas Francis    male   \n",
       "3          895       3                              Wirz, Mr. Albert    male   \n",
       "4          896       3  Hirvonen, Mrs. Alexander (Helga E Lindqvist)  female   \n",
       "\n",
       "    Age  SibSp  Parch   Ticket     Fare Cabin Embarked  \n",
       "0  34.5      0      0   330911   7.8292   NaN        Q  \n",
       "1  47.0      1      0   363272   7.0000   NaN        S  \n",
       "2  62.0      0      0   240276   9.6875   NaN        Q  \n",
       "3  27.0      0      0   315154   8.6625   NaN        S  \n",
       "4  22.0      1      1  3101298  12.2875   NaN        S  "
      ]
     },
     "execution_count": 3,
     "metadata": {},
     "output_type": "execute_result"
    }
   ],
   "source": [
    "testing_data=pd.read_csv(\"/kaggle/input/titanic/test.csv\")\n",
    "testing_data.head()"
   ]
  },
  {
   "cell_type": "markdown",
   "id": "4b830136",
   "metadata": {
    "papermill": {
     "duration": 0.01117,
     "end_time": "2023-03-07T01:29:25.787228",
     "exception": false,
     "start_time": "2023-03-07T01:29:25.776058",
     "status": "completed"
    },
    "tags": []
   },
   "source": [
    "# % of women survived"
   ]
  },
  {
   "cell_type": "code",
   "execution_count": 4,
   "id": "e49e3482",
   "metadata": {
    "execution": {
     "iopub.execute_input": "2023-03-07T01:29:25.811352Z",
     "iopub.status.busy": "2023-03-07T01:29:25.810805Z",
     "iopub.status.idle": "2023-03-07T01:29:25.826835Z",
     "shell.execute_reply": "2023-03-07T01:29:25.825389Z"
    },
    "papermill": {
     "duration": 0.031678,
     "end_time": "2023-03-07T01:29:25.829939",
     "exception": false,
     "start_time": "2023-03-07T01:29:25.798261",
     "status": "completed"
    },
    "tags": []
   },
   "outputs": [
    {
     "name": "stdout",
     "output_type": "stream",
     "text": [
      "percentage of women survived:  0.7420382165605095\n"
     ]
    }
   ],
   "source": [
    "women_survived=training_data.loc[training_data.Sex==\"female\"][\"Survived\"]\n",
    "women_per=sum(women_survived)/len(women_survived)\n",
    "print(\"percentage of women survived: \",women_per)"
   ]
  },
  {
   "cell_type": "markdown",
   "id": "b05f1aae",
   "metadata": {
    "papermill": {
     "duration": 0.010093,
     "end_time": "2023-03-07T01:29:25.850446",
     "exception": false,
     "start_time": "2023-03-07T01:29:25.840353",
     "status": "completed"
    },
    "tags": []
   },
   "source": [
    "# % of men survived"
   ]
  },
  {
   "cell_type": "code",
   "execution_count": 5,
   "id": "7e013b52",
   "metadata": {
    "execution": {
     "iopub.execute_input": "2023-03-07T01:29:25.874505Z",
     "iopub.status.busy": "2023-03-07T01:29:25.873273Z",
     "iopub.status.idle": "2023-03-07T01:29:25.882964Z",
     "shell.execute_reply": "2023-03-07T01:29:25.881573Z"
    },
    "papermill": {
     "duration": 0.025318,
     "end_time": "2023-03-07T01:29:25.886216",
     "exception": false,
     "start_time": "2023-03-07T01:29:25.860898",
     "status": "completed"
    },
    "tags": []
   },
   "outputs": [
    {
     "name": "stdout",
     "output_type": "stream",
     "text": [
      "percentage of men survived:  0.18890814558058924\n"
     ]
    }
   ],
   "source": [
    "men_survived=training_data.loc[training_data.Sex==\"male\"][\"Survived\"]\n",
    "men_per=sum(men_survived)/len(men_survived)\n",
    "print(\"percentage of men survived: \",men_per)"
   ]
  },
  {
   "cell_type": "markdown",
   "id": "0260a85a",
   "metadata": {
    "papermill": {
     "duration": 0.010125,
     "end_time": "2023-03-07T01:29:25.907451",
     "exception": false,
     "start_time": "2023-03-07T01:29:25.897326",
     "status": "completed"
    },
    "tags": []
   },
   "source": [
    "# check if any missing values in train data"
   ]
  },
  {
   "cell_type": "code",
   "execution_count": 6,
   "id": "f08d7169",
   "metadata": {
    "execution": {
     "iopub.execute_input": "2023-03-07T01:29:25.931289Z",
     "iopub.status.busy": "2023-03-07T01:29:25.930772Z",
     "iopub.status.idle": "2023-03-07T01:29:25.944500Z",
     "shell.execute_reply": "2023-03-07T01:29:25.942947Z"
    },
    "papermill": {
     "duration": 0.029239,
     "end_time": "2023-03-07T01:29:25.947403",
     "exception": false,
     "start_time": "2023-03-07T01:29:25.918164",
     "status": "completed"
    },
    "tags": []
   },
   "outputs": [
    {
     "data": {
      "text/plain": [
       "PassengerId      0\n",
       "Survived         0\n",
       "Pclass           0\n",
       "Name             0\n",
       "Sex              0\n",
       "Age            177\n",
       "SibSp            0\n",
       "Parch            0\n",
       "Ticket           0\n",
       "Fare             0\n",
       "Cabin          687\n",
       "Embarked         2\n",
       "dtype: int64"
      ]
     },
     "execution_count": 6,
     "metadata": {},
     "output_type": "execute_result"
    }
   ],
   "source": [
    "training_data.isna().sum()"
   ]
  },
  {
   "cell_type": "markdown",
   "id": "198ae62b",
   "metadata": {
    "papermill": {
     "duration": 0.010147,
     "end_time": "2023-03-07T01:29:25.968210",
     "exception": false,
     "start_time": "2023-03-07T01:29:25.958063",
     "status": "completed"
    },
    "tags": []
   },
   "source": [
    "By fixing the missing values in columns Age=177, Cabin=687, Embarked=2 performance can be increased"
   ]
  },
  {
   "cell_type": "markdown",
   "id": "13c49195",
   "metadata": {
    "papermill": {
     "duration": 0.011423,
     "end_time": "2023-03-07T01:29:25.990181",
     "exception": false,
     "start_time": "2023-03-07T01:29:25.978758",
     "status": "completed"
    },
    "tags": []
   },
   "source": [
    "# check if any missing values in test data"
   ]
  },
  {
   "cell_type": "code",
   "execution_count": 7,
   "id": "93d950a8",
   "metadata": {
    "execution": {
     "iopub.execute_input": "2023-03-07T01:29:26.015391Z",
     "iopub.status.busy": "2023-03-07T01:29:26.014084Z",
     "iopub.status.idle": "2023-03-07T01:29:26.026492Z",
     "shell.execute_reply": "2023-03-07T01:29:26.025155Z"
    },
    "papermill": {
     "duration": 0.028261,
     "end_time": "2023-03-07T01:29:26.029211",
     "exception": false,
     "start_time": "2023-03-07T01:29:26.000950",
     "status": "completed"
    },
    "tags": []
   },
   "outputs": [
    {
     "data": {
      "text/plain": [
       "PassengerId      0\n",
       "Pclass           0\n",
       "Name             0\n",
       "Sex              0\n",
       "Age             86\n",
       "SibSp            0\n",
       "Parch            0\n",
       "Ticket           0\n",
       "Fare             1\n",
       "Cabin          327\n",
       "Embarked         0\n",
       "dtype: int64"
      ]
     },
     "execution_count": 7,
     "metadata": {},
     "output_type": "execute_result"
    }
   ],
   "source": [
    "testing_data.isna().sum()"
   ]
  },
  {
   "cell_type": "markdown",
   "id": "8c50cf13",
   "metadata": {
    "papermill": {
     "duration": 0.011554,
     "end_time": "2023-03-07T01:29:26.052429",
     "exception": false,
     "start_time": "2023-03-07T01:29:26.040875",
     "status": "completed"
    },
    "tags": []
   },
   "source": [
    "By fixing the missing values in columns Age=86, Cabin=327 performance can be increased"
   ]
  },
  {
   "cell_type": "markdown",
   "id": "4c1bef6b",
   "metadata": {
    "papermill": {
     "duration": 0.010491,
     "end_time": "2023-03-07T01:29:26.074704",
     "exception": false,
     "start_time": "2023-03-07T01:29:26.064213",
     "status": "completed"
    },
    "tags": []
   },
   "source": [
    "# Replacing the missing values in train.csv "
   ]
  },
  {
   "cell_type": "code",
   "execution_count": 8,
   "id": "796e0f30",
   "metadata": {
    "execution": {
     "iopub.execute_input": "2023-03-07T01:29:26.100971Z",
     "iopub.status.busy": "2023-03-07T01:29:26.099207Z",
     "iopub.status.idle": "2023-03-07T01:29:26.118692Z",
     "shell.execute_reply": "2023-03-07T01:29:26.117182Z"
    },
    "papermill": {
     "duration": 0.03636,
     "end_time": "2023-03-07T01:29:26.122127",
     "exception": false,
     "start_time": "2023-03-07T01:29:26.085767",
     "status": "completed"
    },
    "tags": []
   },
   "outputs": [],
   "source": [
    "training_data['Age']=training_data['Age'].fillna(training_data['Age'].median())\n",
    "training_data['Fare']=training_data['Fare'].fillna(training_data['Fare'].median())\n",
    "training_data['Cabin']=training_data['Cabin'].fillna(training_data['Cabin'].mode()[0])\n",
    "training_data['Embarked']=training_data['Embarked'].fillna(training_data['Embarked'].mode()[0])"
   ]
  },
  {
   "cell_type": "markdown",
   "id": "065de610",
   "metadata": {
    "papermill": {
     "duration": 0.010686,
     "end_time": "2023-03-07T01:29:26.144019",
     "exception": false,
     "start_time": "2023-03-07T01:29:26.133333",
     "status": "completed"
    },
    "tags": []
   },
   "source": [
    "Since the type of data in Age column is numerical, I have replaced the missing values with their mean. For the categorical data in columns Cabin,Embarked, replaced missing values with their most repeated value(mode)"
   ]
  },
  {
   "cell_type": "code",
   "execution_count": 9,
   "id": "dcd3437d",
   "metadata": {
    "execution": {
     "iopub.execute_input": "2023-03-07T01:29:26.168474Z",
     "iopub.status.busy": "2023-03-07T01:29:26.167908Z",
     "iopub.status.idle": "2023-03-07T01:29:26.179524Z",
     "shell.execute_reply": "2023-03-07T01:29:26.178484Z"
    },
    "papermill": {
     "duration": 0.02688,
     "end_time": "2023-03-07T01:29:26.182021",
     "exception": false,
     "start_time": "2023-03-07T01:29:26.155141",
     "status": "completed"
    },
    "tags": []
   },
   "outputs": [
    {
     "data": {
      "text/plain": [
       "PassengerId    0\n",
       "Survived       0\n",
       "Pclass         0\n",
       "Name           0\n",
       "Sex            0\n",
       "Age            0\n",
       "SibSp          0\n",
       "Parch          0\n",
       "Ticket         0\n",
       "Fare           0\n",
       "Cabin          0\n",
       "Embarked       0\n",
       "dtype: int64"
      ]
     },
     "execution_count": 9,
     "metadata": {},
     "output_type": "execute_result"
    }
   ],
   "source": [
    "training_data.isna().sum()"
   ]
  },
  {
   "cell_type": "markdown",
   "id": "50a3fdd4",
   "metadata": {
    "papermill": {
     "duration": 0.010531,
     "end_time": "2023-03-07T01:29:26.203637",
     "exception": false,
     "start_time": "2023-03-07T01:29:26.193106",
     "status": "completed"
    },
    "tags": []
   },
   "source": [
    "# Replacing missing values in test.csv"
   ]
  },
  {
   "cell_type": "code",
   "execution_count": 10,
   "id": "c7b05876",
   "metadata": {
    "execution": {
     "iopub.execute_input": "2023-03-07T01:29:26.228284Z",
     "iopub.status.busy": "2023-03-07T01:29:26.226826Z",
     "iopub.status.idle": "2023-03-07T01:29:26.239136Z",
     "shell.execute_reply": "2023-03-07T01:29:26.237933Z"
    },
    "papermill": {
     "duration": 0.027731,
     "end_time": "2023-03-07T01:29:26.242189",
     "exception": false,
     "start_time": "2023-03-07T01:29:26.214458",
     "status": "completed"
    },
    "tags": []
   },
   "outputs": [],
   "source": [
    "testing_data['Age']=testing_data['Age'].fillna(testing_data['Age'].median())\n",
    "testing_data['Fare']=testing_data['Fare'].fillna(testing_data['Fare'].median())\n",
    "testing_data['Cabin']=training_data['Cabin'].fillna(testing_data['Cabin'].mode()[0])\n",
    "testing_data['Embarked']=testing_data['Embarked'].fillna(testing_data['Embarked'].mode()[0])"
   ]
  },
  {
   "cell_type": "markdown",
   "id": "90941c29",
   "metadata": {
    "papermill": {
     "duration": 0.010571,
     "end_time": "2023-03-07T01:29:26.263887",
     "exception": false,
     "start_time": "2023-03-07T01:29:26.253316",
     "status": "completed"
    },
    "tags": []
   },
   "source": [
    "Since the type of data in columns Age,Fare is numerical, I have replaced the missing values with their mean. For the categorical data in columns Cabin,Embarked, replaced missing values with their most repeated value(mode)"
   ]
  },
  {
   "cell_type": "code",
   "execution_count": 11,
   "id": "8bf98723",
   "metadata": {
    "execution": {
     "iopub.execute_input": "2023-03-07T01:29:26.288765Z",
     "iopub.status.busy": "2023-03-07T01:29:26.287845Z",
     "iopub.status.idle": "2023-03-07T01:29:26.300515Z",
     "shell.execute_reply": "2023-03-07T01:29:26.299076Z"
    },
    "papermill": {
     "duration": 0.028602,
     "end_time": "2023-03-07T01:29:26.303553",
     "exception": false,
     "start_time": "2023-03-07T01:29:26.274951",
     "status": "completed"
    },
    "tags": []
   },
   "outputs": [
    {
     "data": {
      "text/plain": [
       "PassengerId    0\n",
       "Pclass         0\n",
       "Name           0\n",
       "Sex            0\n",
       "Age            0\n",
       "SibSp          0\n",
       "Parch          0\n",
       "Ticket         0\n",
       "Fare           0\n",
       "Cabin          0\n",
       "Embarked       0\n",
       "dtype: int64"
      ]
     },
     "execution_count": 11,
     "metadata": {},
     "output_type": "execute_result"
    }
   ],
   "source": [
    "testing_data.isna().sum()"
   ]
  },
  {
   "cell_type": "markdown",
   "id": "f5b8d2ef",
   "metadata": {
    "papermill": {
     "duration": 0.010801,
     "end_time": "2023-03-07T01:29:26.326196",
     "exception": false,
     "start_time": "2023-03-07T01:29:26.315395",
     "status": "completed"
    },
    "tags": []
   },
   "source": [
    "# converting training categorical data to numerical data"
   ]
  },
  {
   "cell_type": "code",
   "execution_count": 12,
   "id": "09cef180",
   "metadata": {
    "execution": {
     "iopub.execute_input": "2023-03-07T01:29:26.351985Z",
     "iopub.status.busy": "2023-03-07T01:29:26.350888Z",
     "iopub.status.idle": "2023-03-07T01:29:26.369313Z",
     "shell.execute_reply": "2023-03-07T01:29:26.368182Z"
    },
    "papermill": {
     "duration": 0.034964,
     "end_time": "2023-03-07T01:29:26.372291",
     "exception": false,
     "start_time": "2023-03-07T01:29:26.337327",
     "status": "completed"
    },
    "tags": []
   },
   "outputs": [],
   "source": [
    "training_data['Name'] =training_data['Name'].astype('category').cat.codes\n",
    "training_data['Sex'] =training_data['Sex'].astype('category').cat.codes\n",
    "training_data['Embarked'] =training_data['Embarked'].astype('category').cat.codes\n",
    "training_data['Cabin'] =training_data['Cabin'].astype('category').cat.codes\n",
    "training_data['Ticket'] =training_data['Ticket'].astype('category').cat.codes"
   ]
  },
  {
   "cell_type": "markdown",
   "id": "3c7b27d4",
   "metadata": {
    "papermill": {
     "duration": 0.010821,
     "end_time": "2023-03-07T01:29:26.394938",
     "exception": false,
     "start_time": "2023-03-07T01:29:26.384117",
     "status": "completed"
    },
    "tags": []
   },
   "source": [
    "# converting testing categorical data to numerical data"
   ]
  },
  {
   "cell_type": "code",
   "execution_count": 13,
   "id": "c43fab69",
   "metadata": {
    "execution": {
     "iopub.execute_input": "2023-03-07T01:29:26.419683Z",
     "iopub.status.busy": "2023-03-07T01:29:26.418594Z",
     "iopub.status.idle": "2023-03-07T01:29:26.432701Z",
     "shell.execute_reply": "2023-03-07T01:29:26.431499Z"
    },
    "papermill": {
     "duration": 0.029765,
     "end_time": "2023-03-07T01:29:26.435662",
     "exception": false,
     "start_time": "2023-03-07T01:29:26.405897",
     "status": "completed"
    },
    "tags": []
   },
   "outputs": [],
   "source": [
    "testing_data['Name'] =testing_data['Name'].astype('category').cat.codes\n",
    "testing_data['Sex'] =testing_data['Sex'].astype('category').cat.codes\n",
    "testing_data['Embarked'] =testing_data['Embarked'].astype('category').cat.codes\n",
    "testing_data['Cabin'] =testing_data['Cabin'].astype('category').cat.codes\n",
    "testing_data['Ticket'] =testing_data['Ticket'].astype('category').cat.codes"
   ]
  },
  {
   "cell_type": "markdown",
   "id": "0b51334d",
   "metadata": {
    "papermill": {
     "duration": 0.010663,
     "end_time": "2023-03-07T01:29:26.457371",
     "exception": false,
     "start_time": "2023-03-07T01:29:26.446708",
     "status": "completed"
    },
    "tags": []
   },
   "source": [
    "# Encoding training data"
   ]
  },
  {
   "cell_type": "code",
   "execution_count": 14,
   "id": "2aa8c70e",
   "metadata": {
    "execution": {
     "iopub.execute_input": "2023-03-07T01:29:26.481891Z",
     "iopub.status.busy": "2023-03-07T01:29:26.481317Z",
     "iopub.status.idle": "2023-03-07T01:29:26.614335Z",
     "shell.execute_reply": "2023-03-07T01:29:26.613247Z"
    },
    "papermill": {
     "duration": 0.148253,
     "end_time": "2023-03-07T01:29:26.616752",
     "exception": false,
     "start_time": "2023-03-07T01:29:26.468499",
     "status": "completed"
    },
    "tags": []
   },
   "outputs": [
    {
     "data": {
      "text/html": [
       "<div>\n",
       "<style scoped>\n",
       "    .dataframe tbody tr th:only-of-type {\n",
       "        vertical-align: middle;\n",
       "    }\n",
       "\n",
       "    .dataframe tbody tr th {\n",
       "        vertical-align: top;\n",
       "    }\n",
       "\n",
       "    .dataframe thead th {\n",
       "        text-align: right;\n",
       "    }\n",
       "</style>\n",
       "<table border=\"1\" class=\"dataframe\">\n",
       "  <thead>\n",
       "    <tr style=\"text-align: right;\">\n",
       "      <th></th>\n",
       "      <th>PassengerId</th>\n",
       "      <th>Survived</th>\n",
       "      <th>Pclass</th>\n",
       "      <th>Name_0</th>\n",
       "      <th>Name_1</th>\n",
       "      <th>Name_2</th>\n",
       "      <th>Name_3</th>\n",
       "      <th>Name_4</th>\n",
       "      <th>Name_5</th>\n",
       "      <th>Name_6</th>\n",
       "      <th>...</th>\n",
       "      <th>Cabin_0</th>\n",
       "      <th>Cabin_1</th>\n",
       "      <th>Cabin_2</th>\n",
       "      <th>Cabin_3</th>\n",
       "      <th>Cabin_4</th>\n",
       "      <th>Cabin_5</th>\n",
       "      <th>Cabin_6</th>\n",
       "      <th>Cabin_7</th>\n",
       "      <th>Embarked_0</th>\n",
       "      <th>Embarked_1</th>\n",
       "    </tr>\n",
       "  </thead>\n",
       "  <tbody>\n",
       "    <tr>\n",
       "      <th>0</th>\n",
       "      <td>1</td>\n",
       "      <td>0</td>\n",
       "      <td>3</td>\n",
       "      <td>0</td>\n",
       "      <td>0</td>\n",
       "      <td>0</td>\n",
       "      <td>0</td>\n",
       "      <td>0</td>\n",
       "      <td>0</td>\n",
       "      <td>0</td>\n",
       "      <td>...</td>\n",
       "      <td>0</td>\n",
       "      <td>0</td>\n",
       "      <td>0</td>\n",
       "      <td>0</td>\n",
       "      <td>0</td>\n",
       "      <td>0</td>\n",
       "      <td>0</td>\n",
       "      <td>1</td>\n",
       "      <td>0</td>\n",
       "      <td>1</td>\n",
       "    </tr>\n",
       "    <tr>\n",
       "      <th>1</th>\n",
       "      <td>2</td>\n",
       "      <td>1</td>\n",
       "      <td>1</td>\n",
       "      <td>0</td>\n",
       "      <td>0</td>\n",
       "      <td>0</td>\n",
       "      <td>0</td>\n",
       "      <td>0</td>\n",
       "      <td>0</td>\n",
       "      <td>0</td>\n",
       "      <td>...</td>\n",
       "      <td>0</td>\n",
       "      <td>0</td>\n",
       "      <td>0</td>\n",
       "      <td>0</td>\n",
       "      <td>0</td>\n",
       "      <td>0</td>\n",
       "      <td>1</td>\n",
       "      <td>0</td>\n",
       "      <td>1</td>\n",
       "      <td>0</td>\n",
       "    </tr>\n",
       "    <tr>\n",
       "      <th>2</th>\n",
       "      <td>3</td>\n",
       "      <td>1</td>\n",
       "      <td>3</td>\n",
       "      <td>0</td>\n",
       "      <td>0</td>\n",
       "      <td>0</td>\n",
       "      <td>0</td>\n",
       "      <td>0</td>\n",
       "      <td>0</td>\n",
       "      <td>0</td>\n",
       "      <td>...</td>\n",
       "      <td>0</td>\n",
       "      <td>0</td>\n",
       "      <td>0</td>\n",
       "      <td>0</td>\n",
       "      <td>0</td>\n",
       "      <td>0</td>\n",
       "      <td>0</td>\n",
       "      <td>1</td>\n",
       "      <td>0</td>\n",
       "      <td>1</td>\n",
       "    </tr>\n",
       "    <tr>\n",
       "      <th>3</th>\n",
       "      <td>4</td>\n",
       "      <td>1</td>\n",
       "      <td>1</td>\n",
       "      <td>0</td>\n",
       "      <td>0</td>\n",
       "      <td>0</td>\n",
       "      <td>0</td>\n",
       "      <td>0</td>\n",
       "      <td>0</td>\n",
       "      <td>0</td>\n",
       "      <td>...</td>\n",
       "      <td>0</td>\n",
       "      <td>0</td>\n",
       "      <td>0</td>\n",
       "      <td>0</td>\n",
       "      <td>0</td>\n",
       "      <td>0</td>\n",
       "      <td>1</td>\n",
       "      <td>1</td>\n",
       "      <td>0</td>\n",
       "      <td>1</td>\n",
       "    </tr>\n",
       "    <tr>\n",
       "      <th>4</th>\n",
       "      <td>5</td>\n",
       "      <td>0</td>\n",
       "      <td>3</td>\n",
       "      <td>0</td>\n",
       "      <td>0</td>\n",
       "      <td>0</td>\n",
       "      <td>0</td>\n",
       "      <td>0</td>\n",
       "      <td>0</td>\n",
       "      <td>0</td>\n",
       "      <td>...</td>\n",
       "      <td>0</td>\n",
       "      <td>0</td>\n",
       "      <td>0</td>\n",
       "      <td>0</td>\n",
       "      <td>0</td>\n",
       "      <td>0</td>\n",
       "      <td>0</td>\n",
       "      <td>1</td>\n",
       "      <td>0</td>\n",
       "      <td>1</td>\n",
       "    </tr>\n",
       "    <tr>\n",
       "      <th>...</th>\n",
       "      <td>...</td>\n",
       "      <td>...</td>\n",
       "      <td>...</td>\n",
       "      <td>...</td>\n",
       "      <td>...</td>\n",
       "      <td>...</td>\n",
       "      <td>...</td>\n",
       "      <td>...</td>\n",
       "      <td>...</td>\n",
       "      <td>...</td>\n",
       "      <td>...</td>\n",
       "      <td>...</td>\n",
       "      <td>...</td>\n",
       "      <td>...</td>\n",
       "      <td>...</td>\n",
       "      <td>...</td>\n",
       "      <td>...</td>\n",
       "      <td>...</td>\n",
       "      <td>...</td>\n",
       "      <td>...</td>\n",
       "      <td>...</td>\n",
       "    </tr>\n",
       "    <tr>\n",
       "      <th>886</th>\n",
       "      <td>887</td>\n",
       "      <td>0</td>\n",
       "      <td>2</td>\n",
       "      <td>1</td>\n",
       "      <td>1</td>\n",
       "      <td>0</td>\n",
       "      <td>1</td>\n",
       "      <td>1</td>\n",
       "      <td>1</td>\n",
       "      <td>0</td>\n",
       "      <td>...</td>\n",
       "      <td>0</td>\n",
       "      <td>0</td>\n",
       "      <td>0</td>\n",
       "      <td>0</td>\n",
       "      <td>0</td>\n",
       "      <td>0</td>\n",
       "      <td>0</td>\n",
       "      <td>1</td>\n",
       "      <td>0</td>\n",
       "      <td>1</td>\n",
       "    </tr>\n",
       "    <tr>\n",
       "      <th>887</th>\n",
       "      <td>888</td>\n",
       "      <td>1</td>\n",
       "      <td>1</td>\n",
       "      <td>1</td>\n",
       "      <td>1</td>\n",
       "      <td>0</td>\n",
       "      <td>1</td>\n",
       "      <td>1</td>\n",
       "      <td>1</td>\n",
       "      <td>1</td>\n",
       "      <td>...</td>\n",
       "      <td>1</td>\n",
       "      <td>0</td>\n",
       "      <td>0</td>\n",
       "      <td>1</td>\n",
       "      <td>0</td>\n",
       "      <td>0</td>\n",
       "      <td>1</td>\n",
       "      <td>0</td>\n",
       "      <td>0</td>\n",
       "      <td>1</td>\n",
       "    </tr>\n",
       "    <tr>\n",
       "      <th>888</th>\n",
       "      <td>889</td>\n",
       "      <td>0</td>\n",
       "      <td>3</td>\n",
       "      <td>1</td>\n",
       "      <td>1</td>\n",
       "      <td>0</td>\n",
       "      <td>1</td>\n",
       "      <td>1</td>\n",
       "      <td>1</td>\n",
       "      <td>1</td>\n",
       "      <td>...</td>\n",
       "      <td>0</td>\n",
       "      <td>0</td>\n",
       "      <td>0</td>\n",
       "      <td>0</td>\n",
       "      <td>0</td>\n",
       "      <td>0</td>\n",
       "      <td>0</td>\n",
       "      <td>1</td>\n",
       "      <td>0</td>\n",
       "      <td>1</td>\n",
       "    </tr>\n",
       "    <tr>\n",
       "      <th>889</th>\n",
       "      <td>890</td>\n",
       "      <td>1</td>\n",
       "      <td>1</td>\n",
       "      <td>1</td>\n",
       "      <td>1</td>\n",
       "      <td>0</td>\n",
       "      <td>1</td>\n",
       "      <td>1</td>\n",
       "      <td>1</td>\n",
       "      <td>1</td>\n",
       "      <td>...</td>\n",
       "      <td>1</td>\n",
       "      <td>0</td>\n",
       "      <td>0</td>\n",
       "      <td>1</td>\n",
       "      <td>0</td>\n",
       "      <td>0</td>\n",
       "      <td>1</td>\n",
       "      <td>1</td>\n",
       "      <td>1</td>\n",
       "      <td>0</td>\n",
       "    </tr>\n",
       "    <tr>\n",
       "      <th>890</th>\n",
       "      <td>891</td>\n",
       "      <td>0</td>\n",
       "      <td>3</td>\n",
       "      <td>1</td>\n",
       "      <td>1</td>\n",
       "      <td>0</td>\n",
       "      <td>1</td>\n",
       "      <td>1</td>\n",
       "      <td>1</td>\n",
       "      <td>1</td>\n",
       "      <td>...</td>\n",
       "      <td>0</td>\n",
       "      <td>0</td>\n",
       "      <td>0</td>\n",
       "      <td>0</td>\n",
       "      <td>0</td>\n",
       "      <td>0</td>\n",
       "      <td>0</td>\n",
       "      <td>1</td>\n",
       "      <td>1</td>\n",
       "      <td>1</td>\n",
       "    </tr>\n",
       "  </tbody>\n",
       "</table>\n",
       "<p>891 rows × 39 columns</p>\n",
       "</div>"
      ],
      "text/plain": [
       "     PassengerId  Survived  Pclass  Name_0  Name_1  Name_2  Name_3  Name_4  \\\n",
       "0              1         0       3       0       0       0       0       0   \n",
       "1              2         1       1       0       0       0       0       0   \n",
       "2              3         1       3       0       0       0       0       0   \n",
       "3              4         1       1       0       0       0       0       0   \n",
       "4              5         0       3       0       0       0       0       0   \n",
       "..           ...       ...     ...     ...     ...     ...     ...     ...   \n",
       "886          887         0       2       1       1       0       1       1   \n",
       "887          888         1       1       1       1       0       1       1   \n",
       "888          889         0       3       1       1       0       1       1   \n",
       "889          890         1       1       1       1       0       1       1   \n",
       "890          891         0       3       1       1       0       1       1   \n",
       "\n",
       "     Name_5  Name_6  ...  Cabin_0  Cabin_1  Cabin_2  Cabin_3  Cabin_4  \\\n",
       "0         0       0  ...        0        0        0        0        0   \n",
       "1         0       0  ...        0        0        0        0        0   \n",
       "2         0       0  ...        0        0        0        0        0   \n",
       "3         0       0  ...        0        0        0        0        0   \n",
       "4         0       0  ...        0        0        0        0        0   \n",
       "..      ...     ...  ...      ...      ...      ...      ...      ...   \n",
       "886       1       0  ...        0        0        0        0        0   \n",
       "887       1       1  ...        1        0        0        1        0   \n",
       "888       1       1  ...        0        0        0        0        0   \n",
       "889       1       1  ...        1        0        0        1        0   \n",
       "890       1       1  ...        0        0        0        0        0   \n",
       "\n",
       "     Cabin_5  Cabin_6  Cabin_7  Embarked_0  Embarked_1  \n",
       "0          0        0        1           0           1  \n",
       "1          0        1        0           1           0  \n",
       "2          0        0        1           0           1  \n",
       "3          0        1        1           0           1  \n",
       "4          0        0        1           0           1  \n",
       "..       ...      ...      ...         ...         ...  \n",
       "886        0        0        1           0           1  \n",
       "887        0        1        0           0           1  \n",
       "888        0        0        1           0           1  \n",
       "889        0        1        1           1           0  \n",
       "890        0        0        1           1           1  \n",
       "\n",
       "[891 rows x 39 columns]"
      ]
     },
     "execution_count": 14,
     "metadata": {},
     "output_type": "execute_result"
    }
   ],
   "source": [
    "encoder=c.BinaryEncoder(cols=['Name','Sex','Ticket','Cabin','Embarked'],return_df=True)\n",
    "encoder.fit_transform(training_data)"
   ]
  },
  {
   "cell_type": "markdown",
   "id": "de0e1787",
   "metadata": {
    "papermill": {
     "duration": 0.012058,
     "end_time": "2023-03-07T01:29:26.641325",
     "exception": false,
     "start_time": "2023-03-07T01:29:26.629267",
     "status": "completed"
    },
    "tags": []
   },
   "source": [
    "# Encoding testing data"
   ]
  },
  {
   "cell_type": "code",
   "execution_count": 15,
   "id": "efc222cf",
   "metadata": {
    "execution": {
     "iopub.execute_input": "2023-03-07T01:29:26.667333Z",
     "iopub.status.busy": "2023-03-07T01:29:26.666530Z",
     "iopub.status.idle": "2023-03-07T01:29:26.759533Z",
     "shell.execute_reply": "2023-03-07T01:29:26.758300Z"
    },
    "papermill": {
     "duration": 0.109845,
     "end_time": "2023-03-07T01:29:26.762390",
     "exception": false,
     "start_time": "2023-03-07T01:29:26.652545",
     "status": "completed"
    },
    "tags": []
   },
   "outputs": [
    {
     "data": {
      "text/html": [
       "<div>\n",
       "<style scoped>\n",
       "    .dataframe tbody tr th:only-of-type {\n",
       "        vertical-align: middle;\n",
       "    }\n",
       "\n",
       "    .dataframe tbody tr th {\n",
       "        vertical-align: top;\n",
       "    }\n",
       "\n",
       "    .dataframe thead th {\n",
       "        text-align: right;\n",
       "    }\n",
       "</style>\n",
       "<table border=\"1\" class=\"dataframe\">\n",
       "  <thead>\n",
       "    <tr style=\"text-align: right;\">\n",
       "      <th></th>\n",
       "      <th>PassengerId</th>\n",
       "      <th>Pclass</th>\n",
       "      <th>Name_0</th>\n",
       "      <th>Name_1</th>\n",
       "      <th>Name_2</th>\n",
       "      <th>Name_3</th>\n",
       "      <th>Name_4</th>\n",
       "      <th>Name_5</th>\n",
       "      <th>Name_6</th>\n",
       "      <th>Name_7</th>\n",
       "      <th>...</th>\n",
       "      <th>Fare</th>\n",
       "      <th>Cabin_0</th>\n",
       "      <th>Cabin_1</th>\n",
       "      <th>Cabin_2</th>\n",
       "      <th>Cabin_3</th>\n",
       "      <th>Cabin_4</th>\n",
       "      <th>Cabin_5</th>\n",
       "      <th>Cabin_6</th>\n",
       "      <th>Embarked_0</th>\n",
       "      <th>Embarked_1</th>\n",
       "    </tr>\n",
       "  </thead>\n",
       "  <tbody>\n",
       "    <tr>\n",
       "      <th>0</th>\n",
       "      <td>892</td>\n",
       "      <td>3</td>\n",
       "      <td>0</td>\n",
       "      <td>0</td>\n",
       "      <td>0</td>\n",
       "      <td>0</td>\n",
       "      <td>0</td>\n",
       "      <td>0</td>\n",
       "      <td>0</td>\n",
       "      <td>0</td>\n",
       "      <td>...</td>\n",
       "      <td>7.8292</td>\n",
       "      <td>0</td>\n",
       "      <td>0</td>\n",
       "      <td>0</td>\n",
       "      <td>0</td>\n",
       "      <td>0</td>\n",
       "      <td>0</td>\n",
       "      <td>1</td>\n",
       "      <td>0</td>\n",
       "      <td>1</td>\n",
       "    </tr>\n",
       "    <tr>\n",
       "      <th>1</th>\n",
       "      <td>893</td>\n",
       "      <td>3</td>\n",
       "      <td>0</td>\n",
       "      <td>0</td>\n",
       "      <td>0</td>\n",
       "      <td>0</td>\n",
       "      <td>0</td>\n",
       "      <td>0</td>\n",
       "      <td>0</td>\n",
       "      <td>1</td>\n",
       "      <td>...</td>\n",
       "      <td>7.0000</td>\n",
       "      <td>0</td>\n",
       "      <td>0</td>\n",
       "      <td>0</td>\n",
       "      <td>0</td>\n",
       "      <td>0</td>\n",
       "      <td>1</td>\n",
       "      <td>0</td>\n",
       "      <td>1</td>\n",
       "      <td>0</td>\n",
       "    </tr>\n",
       "    <tr>\n",
       "      <th>2</th>\n",
       "      <td>894</td>\n",
       "      <td>2</td>\n",
       "      <td>0</td>\n",
       "      <td>0</td>\n",
       "      <td>0</td>\n",
       "      <td>0</td>\n",
       "      <td>0</td>\n",
       "      <td>0</td>\n",
       "      <td>0</td>\n",
       "      <td>1</td>\n",
       "      <td>...</td>\n",
       "      <td>9.6875</td>\n",
       "      <td>0</td>\n",
       "      <td>0</td>\n",
       "      <td>0</td>\n",
       "      <td>0</td>\n",
       "      <td>0</td>\n",
       "      <td>0</td>\n",
       "      <td>1</td>\n",
       "      <td>0</td>\n",
       "      <td>1</td>\n",
       "    </tr>\n",
       "    <tr>\n",
       "      <th>3</th>\n",
       "      <td>895</td>\n",
       "      <td>3</td>\n",
       "      <td>0</td>\n",
       "      <td>0</td>\n",
       "      <td>0</td>\n",
       "      <td>0</td>\n",
       "      <td>0</td>\n",
       "      <td>0</td>\n",
       "      <td>1</td>\n",
       "      <td>0</td>\n",
       "      <td>...</td>\n",
       "      <td>8.6625</td>\n",
       "      <td>0</td>\n",
       "      <td>0</td>\n",
       "      <td>0</td>\n",
       "      <td>0</td>\n",
       "      <td>0</td>\n",
       "      <td>1</td>\n",
       "      <td>1</td>\n",
       "      <td>1</td>\n",
       "      <td>0</td>\n",
       "    </tr>\n",
       "    <tr>\n",
       "      <th>4</th>\n",
       "      <td>896</td>\n",
       "      <td>3</td>\n",
       "      <td>0</td>\n",
       "      <td>0</td>\n",
       "      <td>0</td>\n",
       "      <td>0</td>\n",
       "      <td>0</td>\n",
       "      <td>0</td>\n",
       "      <td>1</td>\n",
       "      <td>0</td>\n",
       "      <td>...</td>\n",
       "      <td>12.2875</td>\n",
       "      <td>0</td>\n",
       "      <td>0</td>\n",
       "      <td>0</td>\n",
       "      <td>0</td>\n",
       "      <td>0</td>\n",
       "      <td>0</td>\n",
       "      <td>1</td>\n",
       "      <td>1</td>\n",
       "      <td>0</td>\n",
       "    </tr>\n",
       "    <tr>\n",
       "      <th>...</th>\n",
       "      <td>...</td>\n",
       "      <td>...</td>\n",
       "      <td>...</td>\n",
       "      <td>...</td>\n",
       "      <td>...</td>\n",
       "      <td>...</td>\n",
       "      <td>...</td>\n",
       "      <td>...</td>\n",
       "      <td>...</td>\n",
       "      <td>...</td>\n",
       "      <td>...</td>\n",
       "      <td>...</td>\n",
       "      <td>...</td>\n",
       "      <td>...</td>\n",
       "      <td>...</td>\n",
       "      <td>...</td>\n",
       "      <td>...</td>\n",
       "      <td>...</td>\n",
       "      <td>...</td>\n",
       "      <td>...</td>\n",
       "      <td>...</td>\n",
       "    </tr>\n",
       "    <tr>\n",
       "      <th>413</th>\n",
       "      <td>1305</td>\n",
       "      <td>3</td>\n",
       "      <td>1</td>\n",
       "      <td>1</td>\n",
       "      <td>0</td>\n",
       "      <td>0</td>\n",
       "      <td>1</td>\n",
       "      <td>1</td>\n",
       "      <td>1</td>\n",
       "      <td>1</td>\n",
       "      <td>...</td>\n",
       "      <td>8.0500</td>\n",
       "      <td>0</td>\n",
       "      <td>0</td>\n",
       "      <td>0</td>\n",
       "      <td>0</td>\n",
       "      <td>0</td>\n",
       "      <td>0</td>\n",
       "      <td>1</td>\n",
       "      <td>1</td>\n",
       "      <td>0</td>\n",
       "    </tr>\n",
       "    <tr>\n",
       "      <th>414</th>\n",
       "      <td>1306</td>\n",
       "      <td>1</td>\n",
       "      <td>1</td>\n",
       "      <td>1</td>\n",
       "      <td>0</td>\n",
       "      <td>0</td>\n",
       "      <td>1</td>\n",
       "      <td>1</td>\n",
       "      <td>1</td>\n",
       "      <td>1</td>\n",
       "      <td>...</td>\n",
       "      <td>108.9000</td>\n",
       "      <td>0</td>\n",
       "      <td>0</td>\n",
       "      <td>0</td>\n",
       "      <td>0</td>\n",
       "      <td>0</td>\n",
       "      <td>0</td>\n",
       "      <td>1</td>\n",
       "      <td>1</td>\n",
       "      <td>1</td>\n",
       "    </tr>\n",
       "    <tr>\n",
       "      <th>415</th>\n",
       "      <td>1307</td>\n",
       "      <td>3</td>\n",
       "      <td>1</td>\n",
       "      <td>1</td>\n",
       "      <td>0</td>\n",
       "      <td>1</td>\n",
       "      <td>0</td>\n",
       "      <td>0</td>\n",
       "      <td>0</td>\n",
       "      <td>0</td>\n",
       "      <td>...</td>\n",
       "      <td>7.2500</td>\n",
       "      <td>0</td>\n",
       "      <td>0</td>\n",
       "      <td>0</td>\n",
       "      <td>0</td>\n",
       "      <td>0</td>\n",
       "      <td>0</td>\n",
       "      <td>1</td>\n",
       "      <td>1</td>\n",
       "      <td>0</td>\n",
       "    </tr>\n",
       "    <tr>\n",
       "      <th>416</th>\n",
       "      <td>1308</td>\n",
       "      <td>3</td>\n",
       "      <td>1</td>\n",
       "      <td>1</td>\n",
       "      <td>0</td>\n",
       "      <td>1</td>\n",
       "      <td>0</td>\n",
       "      <td>0</td>\n",
       "      <td>0</td>\n",
       "      <td>0</td>\n",
       "      <td>...</td>\n",
       "      <td>8.0500</td>\n",
       "      <td>0</td>\n",
       "      <td>0</td>\n",
       "      <td>0</td>\n",
       "      <td>0</td>\n",
       "      <td>0</td>\n",
       "      <td>0</td>\n",
       "      <td>1</td>\n",
       "      <td>1</td>\n",
       "      <td>0</td>\n",
       "    </tr>\n",
       "    <tr>\n",
       "      <th>417</th>\n",
       "      <td>1309</td>\n",
       "      <td>3</td>\n",
       "      <td>1</td>\n",
       "      <td>1</td>\n",
       "      <td>0</td>\n",
       "      <td>1</td>\n",
       "      <td>0</td>\n",
       "      <td>0</td>\n",
       "      <td>0</td>\n",
       "      <td>1</td>\n",
       "      <td>...</td>\n",
       "      <td>22.3583</td>\n",
       "      <td>0</td>\n",
       "      <td>0</td>\n",
       "      <td>0</td>\n",
       "      <td>0</td>\n",
       "      <td>0</td>\n",
       "      <td>0</td>\n",
       "      <td>1</td>\n",
       "      <td>1</td>\n",
       "      <td>1</td>\n",
       "    </tr>\n",
       "  </tbody>\n",
       "</table>\n",
       "<p>418 rows × 35 columns</p>\n",
       "</div>"
      ],
      "text/plain": [
       "     PassengerId  Pclass  Name_0  Name_1  Name_2  Name_3  Name_4  Name_5  \\\n",
       "0            892       3       0       0       0       0       0       0   \n",
       "1            893       3       0       0       0       0       0       0   \n",
       "2            894       2       0       0       0       0       0       0   \n",
       "3            895       3       0       0       0       0       0       0   \n",
       "4            896       3       0       0       0       0       0       0   \n",
       "..           ...     ...     ...     ...     ...     ...     ...     ...   \n",
       "413         1305       3       1       1       0       0       1       1   \n",
       "414         1306       1       1       1       0       0       1       1   \n",
       "415         1307       3       1       1       0       1       0       0   \n",
       "416         1308       3       1       1       0       1       0       0   \n",
       "417         1309       3       1       1       0       1       0       0   \n",
       "\n",
       "     Name_6  Name_7  ...      Fare  Cabin_0  Cabin_1  Cabin_2  Cabin_3  \\\n",
       "0         0       0  ...    7.8292        0        0        0        0   \n",
       "1         0       1  ...    7.0000        0        0        0        0   \n",
       "2         0       1  ...    9.6875        0        0        0        0   \n",
       "3         1       0  ...    8.6625        0        0        0        0   \n",
       "4         1       0  ...   12.2875        0        0        0        0   \n",
       "..      ...     ...  ...       ...      ...      ...      ...      ...   \n",
       "413       1       1  ...    8.0500        0        0        0        0   \n",
       "414       1       1  ...  108.9000        0        0        0        0   \n",
       "415       0       0  ...    7.2500        0        0        0        0   \n",
       "416       0       0  ...    8.0500        0        0        0        0   \n",
       "417       0       1  ...   22.3583        0        0        0        0   \n",
       "\n",
       "     Cabin_4  Cabin_5  Cabin_6  Embarked_0  Embarked_1  \n",
       "0          0        0        1           0           1  \n",
       "1          0        1        0           1           0  \n",
       "2          0        0        1           0           1  \n",
       "3          0        1        1           1           0  \n",
       "4          0        0        1           1           0  \n",
       "..       ...      ...      ...         ...         ...  \n",
       "413        0        0        1           1           0  \n",
       "414        0        0        1           1           1  \n",
       "415        0        0        1           1           0  \n",
       "416        0        0        1           1           0  \n",
       "417        0        0        1           1           1  \n",
       "\n",
       "[418 rows x 35 columns]"
      ]
     },
     "execution_count": 15,
     "metadata": {},
     "output_type": "execute_result"
    }
   ],
   "source": [
    "encoder=c.BinaryEncoder(cols=['Name','Sex','Ticket','Cabin','Embarked'],return_df=True)\n",
    "encoder.fit_transform(testing_data)"
   ]
  },
  {
   "cell_type": "markdown",
   "id": "6dcf05da",
   "metadata": {
    "papermill": {
     "duration": 0.011641,
     "end_time": "2023-03-07T01:29:26.785849",
     "exception": false,
     "start_time": "2023-03-07T01:29:26.774208",
     "status": "completed"
    },
    "tags": []
   },
   "source": [
    "# Correlation of Training data"
   ]
  },
  {
   "cell_type": "code",
   "execution_count": 16,
   "id": "90a72ddb",
   "metadata": {
    "execution": {
     "iopub.execute_input": "2023-03-07T01:29:26.811851Z",
     "iopub.status.busy": "2023-03-07T01:29:26.811125Z",
     "iopub.status.idle": "2023-03-07T01:29:26.825654Z",
     "shell.execute_reply": "2023-03-07T01:29:26.824505Z"
    },
    "papermill": {
     "duration": 0.030626,
     "end_time": "2023-03-07T01:29:26.828369",
     "exception": false,
     "start_time": "2023-03-07T01:29:26.797743",
     "status": "completed"
    },
    "tags": []
   },
   "outputs": [
    {
     "data": {
      "text/plain": [
       "Survived    1.000000\n",
       "Pclass     -0.338481\n",
       "Name       -0.057343\n",
       "Sex        -0.543351\n",
       "Age        -0.064910\n",
       "SibSp      -0.035322\n",
       "Parch       0.081629\n",
       "Ticket     -0.164549\n",
       "Fare        0.257307\n",
       "Cabin       0.175690\n",
       "Embarked   -0.167675\n",
       "Name: Survived, dtype: float64"
      ]
     },
     "execution_count": 16,
     "metadata": {},
     "output_type": "execute_result"
    }
   ],
   "source": [
    "names=['Survived','Pclass','Name','Sex','Age','SibSp', 'Parch','Ticket','Fare','Cabin','Embarked','PassengerId']\n",
    "l=training_data[training_data.columns[1:]].corr()['Survived']\n",
    "l\n",
    "\n"
   ]
  },
  {
   "cell_type": "markdown",
   "id": "5ffa51f4",
   "metadata": {
    "papermill": {
     "duration": 0.011856,
     "end_time": "2023-03-07T01:29:26.852065",
     "exception": false,
     "start_time": "2023-03-07T01:29:26.840209",
     "status": "completed"
    },
    "tags": []
   },
   "source": [
    "# Correlation coefficient threshold selection of training_data"
   ]
  },
  {
   "cell_type": "code",
   "execution_count": 17,
   "id": "de56e53b",
   "metadata": {
    "execution": {
     "iopub.execute_input": "2023-03-07T01:29:26.878048Z",
     "iopub.status.busy": "2023-03-07T01:29:26.877190Z",
     "iopub.status.idle": "2023-03-07T01:29:26.884611Z",
     "shell.execute_reply": "2023-03-07T01:29:26.883272Z"
    },
    "papermill": {
     "duration": 0.024135,
     "end_time": "2023-03-07T01:29:26.887944",
     "exception": false,
     "start_time": "2023-03-07T01:29:26.863809",
     "status": "completed"
    },
    "tags": []
   },
   "outputs": [
    {
     "name": "stdout",
     "output_type": "stream",
     "text": [
      "Survived\n",
      "Pclass\n",
      "Sex\n",
      "Ticket\n",
      "Fare\n",
      "Cabin\n",
      "Embarked\n"
     ]
    }
   ],
   "source": [
    "for i in range(len(l)):\n",
    "    if abs(l[i]) > 0.15:\n",
    "        print(names[i])"
   ]
  },
  {
   "cell_type": "markdown",
   "id": "8d203832",
   "metadata": {
    "papermill": {
     "duration": 0.011611,
     "end_time": "2023-03-07T01:29:26.912010",
     "exception": false,
     "start_time": "2023-03-07T01:29:26.900399",
     "status": "completed"
    },
    "tags": []
   },
   "source": [
    "# Accuracy score calculation using correlation threshold"
   ]
  },
  {
   "cell_type": "code",
   "execution_count": 18,
   "id": "168f4111",
   "metadata": {
    "execution": {
     "iopub.execute_input": "2023-03-07T01:29:26.939088Z",
     "iopub.status.busy": "2023-03-07T01:29:26.938218Z",
     "iopub.status.idle": "2023-03-07T01:29:27.487842Z",
     "shell.execute_reply": "2023-03-07T01:29:27.486225Z"
    },
    "papermill": {
     "duration": 0.567865,
     "end_time": "2023-03-07T01:29:27.491866",
     "exception": false,
     "start_time": "2023-03-07T01:29:26.924001",
     "status": "completed"
    },
    "tags": []
   },
   "outputs": [
    {
     "name": "stdout",
     "output_type": "stream",
     "text": [
      "0.8303030303030303\n"
     ]
    }
   ],
   "source": [
    "from sklearn.ensemble import RandomForestClassifier\n",
    "from sklearn.model_selection import train_test_split\n",
    "from sklearn import metrics\n",
    "\n",
    "y = training_data[\"Survived\"]\n",
    "\n",
    "features = [\"Pclass\", \"Sex\",\"Ticket\",\"Fare\",\"Cabin\",\"Embarked\"]\n",
    "X = pd.get_dummies(training_data[features])\n",
    "X_train, X_test, y_train, y_test = train_test_split(X, y,  test_size=0.37, random_state=42)\n",
    "#X_test = pd.get_dummies(testing_data[features])\n",
    "\n",
    "model = RandomForestClassifier(n_estimators=100, max_depth=5, random_state=1)\n",
    "model.fit(X, y)\n",
    "predictions = model.predict(X_test)\n",
    "print(metrics.accuracy_score(y_test,predictions))"
   ]
  },
  {
   "cell_type": "markdown",
   "id": "3971e576",
   "metadata": {
    "papermill": {
     "duration": 0.011603,
     "end_time": "2023-03-07T01:29:27.516299",
     "exception": false,
     "start_time": "2023-03-07T01:29:27.504696",
     "status": "completed"
    },
    "tags": []
   },
   "source": [
    "# Chi-Square test"
   ]
  },
  {
   "cell_type": "code",
   "execution_count": 19,
   "id": "299519f5",
   "metadata": {
    "execution": {
     "iopub.execute_input": "2023-03-07T01:29:27.542535Z",
     "iopub.status.busy": "2023-03-07T01:29:27.542151Z",
     "iopub.status.idle": "2023-03-07T01:29:27.572151Z",
     "shell.execute_reply": "2023-03-07T01:29:27.570092Z"
    },
    "papermill": {
     "duration": 0.046251,
     "end_time": "2023-03-07T01:29:27.574994",
     "exception": false,
     "start_time": "2023-03-07T01:29:27.528743",
     "status": "completed"
    },
    "tags": []
   },
   "outputs": [
    {
     "data": {
      "text/plain": [
       "(array([3.31293407e+00, 3.08736994e+01, 4.35568915e+02, 9.27024470e+01,\n",
       "        2.16491630e+01, 2.58186538e+00, 1.00974991e+01, 2.87165547e+03,\n",
       "        4.51831909e+03, 2.84482789e+02, 1.02025247e+01]),\n",
       " array([6.87366651e-02, 2.75378563e-08, 9.97314604e-97, 6.07783826e-22,\n",
       "        3.27352826e-06, 1.08094210e-01, 1.48470676e-03, 0.00000000e+00,\n",
       "        0.00000000e+00, 7.92037850e-64, 1.40248517e-03]))"
      ]
     },
     "execution_count": 19,
     "metadata": {},
     "output_type": "execute_result"
    }
   ],
   "source": [
    "from sklearn.feature_selection import chi2\n",
    "X = training_data.drop('Survived',axis=1)\n",
    "y = training_data['Survived']\n",
    "chi_scores = chi2(X,y)\n",
    "chi_scores"
   ]
  },
  {
   "cell_type": "code",
   "execution_count": 20,
   "id": "6cd79e0f",
   "metadata": {
    "execution": {
     "iopub.execute_input": "2023-03-07T01:29:27.601936Z",
     "iopub.status.busy": "2023-03-07T01:29:27.601514Z",
     "iopub.status.idle": "2023-03-07T01:29:27.879385Z",
     "shell.execute_reply": "2023-03-07T01:29:27.877993Z"
    },
    "papermill": {
     "duration": 0.294843,
     "end_time": "2023-03-07T01:29:27.882086",
     "exception": false,
     "start_time": "2023-03-07T01:29:27.587243",
     "status": "completed"
    },
    "tags": []
   },
   "outputs": [
    {
     "data": {
      "text/plain": [
       "<AxesSubplot:>"
      ]
     },
     "execution_count": 20,
     "metadata": {},
     "output_type": "execute_result"
    },
    {
     "data": {
      "image/png": "[encoded data removed]",
      "text/plain": [
       "<Figure size 640x480 with 1 Axes>"
      ]
     },
     "metadata": {},
     "output_type": "display_data"
    }
   ],
   "source": [
    "p_values = pd.Series(chi_scores[1],index = X.columns)\n",
    "p_values.sort_values(ascending = False , inplace = True)\n",
    "p_values.plot.bar()"
   ]
  },
  {
   "cell_type": "code",
   "execution_count": 21,
   "id": "6ad4f303",
   "metadata": {
    "execution": {
     "iopub.execute_input": "2023-03-07T01:29:27.909206Z",
     "iopub.status.busy": "2023-03-07T01:29:27.908774Z",
     "iopub.status.idle": "2023-03-07T01:29:28.137846Z",
     "shell.execute_reply": "2023-03-07T01:29:28.136409Z"
    },
    "papermill": {
     "duration": 0.246367,
     "end_time": "2023-03-07T01:29:28.141124",
     "exception": false,
     "start_time": "2023-03-07T01:29:27.894757",
     "status": "completed"
    },
    "tags": []
   },
   "outputs": [
    {
     "name": "stdout",
     "output_type": "stream",
     "text": [
      "0.8666666666666667\n"
     ]
    }
   ],
   "source": [
    "from sklearn.ensemble import RandomForestClassifier\n",
    "from sklearn.model_selection import train_test_split\n",
    "from sklearn import metrics\n",
    "\n",
    "y = training_data[\"Survived\"]\n",
    "\n",
    "features = [\"Pclass\", \"Sex\",\"Age\",\"Cabin\",\"Name\",\"Ticket\",\"Fare\"]\n",
    "X = pd.get_dummies(training_data[features])\n",
    "X_train, X_test, y_train, y_test = train_test_split(X, y,  test_size=0.37, random_state=42)\n",
    "#X_test = pd.get_dummies(testing_data[features])\n",
    "\n",
    "model = RandomForestClassifier(n_estimators=100, max_depth=5, random_state=1)\n",
    "model.fit(X, y)\n",
    "predictions_rf = model.predict(X_test)\n",
    "print(metrics.accuracy_score(y_test,predictions_rf))\n"
   ]
  },
  {
   "cell_type": "code",
   "execution_count": 22,
   "id": "f41e3766",
   "metadata": {
    "execution": {
     "iopub.execute_input": "2023-03-07T01:29:28.168764Z",
     "iopub.status.busy": "2023-03-07T01:29:28.168296Z",
     "iopub.status.idle": "2023-03-07T01:29:28.199722Z",
     "shell.execute_reply": "2023-03-07T01:29:28.198452Z"
    },
    "papermill": {
     "duration": 0.048223,
     "end_time": "2023-03-07T01:29:28.202410",
     "exception": false,
     "start_time": "2023-03-07T01:29:28.154187",
     "status": "completed"
    },
    "tags": []
   },
   "outputs": [
    {
     "data": {
      "text/plain": [
       "array([0, 0, 0, 0, 1, 0, 1, 0, 1, 0, 0, 0, 1, 0, 1, 1, 0, 0, 0, 1, 0, 0,\n",
       "       1, 0, 1, 0, 1, 0, 1, 0, 0, 0, 1, 0, 0, 0, 1, 1, 0, 1, 0, 0, 0, 1,\n",
       "       1, 0, 0, 0, 1, 0, 0, 0, 1, 1, 0, 0, 0, 0, 0, 1, 0, 0, 0, 1, 1, 1,\n",
       "       1, 0, 0, 1, 1, 0, 1, 0, 1, 0, 0, 1, 0, 1, 1, 0, 0, 0, 0, 0, 1, 1,\n",
       "       1, 1, 1, 0, 1, 0, 0, 0, 1, 0, 1, 0, 1, 0, 0, 0, 1, 0, 0, 0, 0, 0,\n",
       "       0, 1, 1, 1, 1, 0, 0, 1, 1, 1, 1, 0, 1, 0, 0, 1, 0, 1, 0, 0, 0, 0,\n",
       "       0, 0, 0, 0, 0, 0, 0, 0, 0, 1, 0, 0, 0, 0, 0, 0, 1, 0, 1, 0, 0, 1,\n",
       "       0, 0, 1, 1, 0, 0, 1, 1, 1, 0, 0, 1, 0, 0, 1, 1, 0, 0, 0, 0, 0, 1,\n",
       "       1, 0, 1, 1, 0, 1, 1, 0, 1, 0, 1, 0, 0, 0, 0, 0, 0, 0, 1, 0, 1, 1,\n",
       "       0, 1, 1, 1, 1, 1, 0, 0, 1, 0, 1, 0, 0, 0, 0, 1, 1, 0, 1, 0, 1, 0,\n",
       "       1, 0, 1, 0, 1, 1, 0, 1, 0, 0, 1, 1, 0, 0, 0, 0, 0, 0, 1, 1, 1, 1,\n",
       "       0, 0, 0, 0, 1, 0, 1, 1, 1, 0, 1, 0, 0, 0, 0, 0, 1, 0, 0, 0, 1, 1,\n",
       "       0, 0, 0, 0, 1, 0, 0, 0, 1, 1, 0, 1, 0, 0, 0, 0, 1, 1, 1, 1, 1, 0,\n",
       "       0, 1, 0, 0, 0, 1, 0, 1, 0, 0, 1, 0, 0, 0, 0, 0, 0, 0, 1, 1, 1, 1,\n",
       "       0, 0, 0, 0, 0, 1, 1, 1, 0, 0, 0, 0, 0, 0, 0, 0, 1, 0, 1, 0, 0, 0,\n",
       "       1, 0, 0, 1, 0, 0, 0, 0, 0, 0, 0, 0, 0, 1, 0, 1, 0, 1, 0, 1, 1, 0,\n",
       "       0, 0, 1, 0, 1, 0, 0, 1, 0, 1, 1, 0, 1, 0, 0, 1, 1, 0, 0, 1, 0, 0,\n",
       "       1, 1, 1, 0, 0, 1, 0, 0, 1, 1, 0, 1, 0, 0, 0, 0, 1, 1, 0, 0, 0, 1,\n",
       "       0, 1, 0, 0, 1, 0, 1, 1, 0, 0, 0, 0, 1, 1, 1, 1, 1, 0, 1, 0, 0, 0])"
      ]
     },
     "execution_count": 22,
     "metadata": {},
     "output_type": "execute_result"
    }
   ],
   "source": [
    "test_predict = model.predict(testing_data[features])\n",
    "test_predict\n"
   ]
  },
  {
   "cell_type": "markdown",
   "id": "77f72928",
   "metadata": {
    "papermill": {
     "duration": 0.012621,
     "end_time": "2023-03-07T01:29:28.228122",
     "exception": false,
     "start_time": "2023-03-07T01:29:28.215501",
     "status": "completed"
    },
    "tags": []
   },
   "source": [
    "# Generating output csv"
   ]
  },
  {
   "cell_type": "code",
   "execution_count": 23,
   "id": "d1a56757",
   "metadata": {
    "execution": {
     "iopub.execute_input": "2023-03-07T01:29:28.255893Z",
     "iopub.status.busy": "2023-03-07T01:29:28.255489Z",
     "iopub.status.idle": "2023-03-07T01:29:28.266161Z",
     "shell.execute_reply": "2023-03-07T01:29:28.264616Z"
    },
    "papermill": {
     "duration": 0.027756,
     "end_time": "2023-03-07T01:29:28.268704",
     "exception": false,
     "start_time": "2023-03-07T01:29:28.240948",
     "status": "completed"
    },
    "tags": []
   },
   "outputs": [
    {
     "name": "stdout",
     "output_type": "stream",
     "text": [
      "Your submission was successfully saved!\n"
     ]
    }
   ],
   "source": [
    "output = pd.DataFrame({'PassengerId': testing_data.PassengerId, 'Survived': test_predict})\n",
    "output.to_csv('submission.csv', index=False)\n",
    "print(\"Your submission was successfully saved!\")"
   ]
  },
  {
   "cell_type": "markdown",
   "id": "e3abdd3f",
   "metadata": {
    "papermill": {
     "duration": 0.012814,
     "end_time": "2023-03-07T01:29:28.295233",
     "exception": false,
     "start_time": "2023-03-07T01:29:28.282419",
     "status": "completed"
    },
    "tags": []
   },
   "source": [
    "# using RandomForest Classifier for prediction"
   ]
  },
  {
   "cell_type": "code",
   "execution_count": 24,
   "id": "7bc0fef1",
   "metadata": {
    "execution": {
     "iopub.execute_input": "2023-03-07T01:29:28.325065Z",
     "iopub.status.busy": "2023-03-07T01:29:28.324361Z",
     "iopub.status.idle": "2023-03-07T01:29:28.555333Z",
     "shell.execute_reply": "2023-03-07T01:29:28.553415Z"
    },
    "papermill": {
     "duration": 0.249476,
     "end_time": "2023-03-07T01:29:28.558606",
     "exception": false,
     "start_time": "2023-03-07T01:29:28.309130",
     "status": "completed"
    },
    "tags": []
   },
   "outputs": [
    {
     "name": "stdout",
     "output_type": "stream",
     "text": [
      "0.8666666666666667\n"
     ]
    }
   ],
   "source": [
    "from sklearn.ensemble import RandomForestClassifier\n",
    "from sklearn.model_selection import train_test_split\n",
    "from sklearn import metrics\n",
    "\n",
    "y = training_data[\"Survived\"]\n",
    "\n",
    "features = [\"Pclass\", \"Sex\",\"Age\",\"Cabin\",\"Name\",\"Ticket\",\"Fare\"]\n",
    "X = pd.get_dummies(training_data[features])\n",
    "X_train, X_test, y_train, y_test = train_test_split(X, y,  test_size=0.37, random_state=42)\n",
    "#X_test = pd.get_dummies(testing_data[features])\n",
    "\n",
    "model = RandomForestClassifier(n_estimators=100, max_depth=5, random_state=1)\n",
    "model.fit(X, y)\n",
    "predictions = model.predict(X_test)\n",
    "print(metrics.accuracy_score(y_test,predictions))\n"
   ]
  }
 ],
 "metadata": {
  "kernelspec": {
   "display_name": "Python 3",
   "language": "python",
   "name": "python3"
  },
  "language_info": {
   "codemirror_mode": {
    "name": "ipython",
    "version": 3
   },
   "file_extension": ".py",
   "mimetype": "text/x-python",
   "name": "python",
   "nbconvert_exporter": "python",
   "pygments_lexer": "ipython3",
   "version": "3.7.12"
  },
  "papermill": {
   "default_parameters": {},
   "duration": 16.78511,
   "end_time": "2023-03-07T01:29:29.495767",
   "environment_variables": {},
   "exception": null,
   "input_path": "__notebook__.ipynb",
   "output_path": "__notebook__.ipynb",
   "parameters": {},
   "start_time": "2023-03-07T01:29:12.710657",
   "version": "2.3.4"
  }
 },
 "nbformat": 4,
 "nbformat_minor": 5
}
