{
 "cells": [
  {
   "cell_type": "code",
   "execution_count": 1,
   "id": "39402c59",
   "metadata": {
    "_cell_guid": "b1076dfc-b9ad-4769-8c92-a6c4dae69d19",
    "_uuid": "8f2839f25d086af736a60e9eeb907d3b93b6e0e5",
    "execution": {
     "iopub.execute_input": "2023-03-11T01:16:32.493834Z",
     "iopub.status.busy": "2023-03-11T01:16:32.493190Z",
     "iopub.status.idle": "2023-03-11T01:16:33.905846Z",
     "shell.execute_reply": "2023-03-11T01:16:33.904657Z"
    },
    "papermill": {
     "duration": 1.433967,
     "end_time": "2023-03-11T01:16:33.909205",
     "exception": false,
     "start_time": "2023-03-11T01:16:32.475238",
     "status": "completed"
    },
    "tags": []
   },
   "outputs": [
    {
     "name": "stdout",
     "output_type": "stream",
     "text": [
      "/kaggle/input/titanic/train.csv\n",
      "/kaggle/input/titanic/test.csv\n",
      "/kaggle/input/titanic/gender_submission.csv\n"
     ]
    }
   ],
   "source": [
    "import pandas as pd \n",
    "import numpy as np\n",
    "import os\n",
    "import category_encoders as c\n",
    "import seaborn as sns\n",
    "from sklearn.model_selection import train_test_split\n",
    "from sklearn import metrics\n",
    "\n",
    "for dirname, _, filenames in os.walk('/kaggle/input'):\n",
    "    for filename in filenames:\n",
    "        print(os.path.join(dirname, filename))\n",
    "\n"
   ]
  },
  {
   "cell_type": "markdown",
   "id": "a3a02281",
   "metadata": {
    "papermill": {
     "duration": 0.013957,
     "end_time": "2023-03-11T01:16:33.937654",
     "exception": false,
     "start_time": "2023-03-11T01:16:33.923697",
     "status": "completed"
    },
    "tags": []
   },
   "source": [
    "* imported \n",
    "           - pandas,numpy to perform operations on dataframe and nd-array\n",
    "           - category_encoders to do encoding on training,testing data\n",
    "           - seaborn to implement data visualization\n",
    "           - train_test_split to split training data\n",
    "           - metrics to calculate accuracy score"
   ]
  },
  {
   "cell_type": "markdown",
   "id": "95d99d27",
   "metadata": {
    "papermill": {
     "duration": 0.013858,
     "end_time": "2023-03-11T01:16:33.965756",
     "exception": false,
     "start_time": "2023-03-11T01:16:33.951898",
     "status": "completed"
    },
    "tags": []
   },
   "source": [
    "# Loading training data"
   ]
  },
  {
   "cell_type": "code",
   "execution_count": 2,
   "id": "e7bbb095",
   "metadata": {
    "execution": {
     "iopub.execute_input": "2023-03-11T01:16:33.997397Z",
     "iopub.status.busy": "2023-03-11T01:16:33.996460Z",
     "iopub.status.idle": "2023-03-11T01:16:34.036298Z",
     "shell.execute_reply": "2023-03-11T01:16:34.035130Z"
    },
    "papermill": {
     "duration": 0.059062,
     "end_time": "2023-03-11T01:16:34.039043",
     "exception": false,
     "start_time": "2023-03-11T01:16:33.979981",
     "status": "completed"
    },
    "tags": []
   },
   "outputs": [
    {
     "data": {
      "text/html": [
       "<div>\n",
       "<style scoped>\n",
       "    .dataframe tbody tr th:only-of-type {\n",
       "        vertical-align: middle;\n",
       "    }\n",
       "\n",
       "    .dataframe tbody tr th {\n",
       "        vertical-align: top;\n",
       "    }\n",
       "\n",
       "    .dataframe thead th {\n",
       "        text-align: right;\n",
       "    }\n",
       "</style>\n",
       "<table border=\"1\" class=\"dataframe\">\n",
       "  <thead>\n",
       "    <tr style=\"text-align: right;\">\n",
       "      <th></th>\n",
       "      <th>PassengerId</th>\n",
       "      <th>Survived</th>\n",
       "      <th>Pclass</th>\n",
       "      <th>Name</th>\n",
       "      <th>Sex</th>\n",
       "      <th>Age</th>\n",
       "      <th>SibSp</th>\n",
       "      <th>Parch</th>\n",
       "      <th>Ticket</th>\n",
       "      <th>Fare</th>\n",
       "      <th>Cabin</th>\n",
       "      <th>Embarked</th>\n",
       "    </tr>\n",
       "  </thead>\n",
       "  <tbody>\n",
       "    <tr>\n",
       "      <th>0</th>\n",
       "      <td>1</td>\n",
       "      <td>0</td>\n",
       "      <td>3</td>\n",
       "      <td>Braund, Mr. Owen Harris</td>\n",
       "      <td>male</td>\n",
       "      <td>22.0</td>\n",
       "      <td>1</td>\n",
       "      <td>0</td>\n",
       "      <td>A/5 21171</td>\n",
       "      <td>7.2500</td>\n",
       "      <td>NaN</td>\n",
       "      <td>S</td>\n",
       "    </tr>\n",
       "    <tr>\n",
       "      <th>1</th>\n",
       "      <td>2</td>\n",
       "      <td>1</td>\n",
       "      <td>1</td>\n",
       "      <td>Cumings, Mrs. John Bradley (Florence Briggs Th...</td>\n",
       "      <td>female</td>\n",
       "      <td>38.0</td>\n",
       "      <td>1</td>\n",
       "      <td>0</td>\n",
       "      <td>PC 17599</td>\n",
       "      <td>71.2833</td>\n",
       "      <td>C85</td>\n",
       "      <td>C</td>\n",
       "    </tr>\n",
       "    <tr>\n",
       "      <th>2</th>\n",
       "      <td>3</td>\n",
       "      <td>1</td>\n",
       "      <td>3</td>\n",
       "      <td>Heikkinen, Miss. Laina</td>\n",
       "      <td>female</td>\n",
       "      <td>26.0</td>\n",
       "      <td>0</td>\n",
       "      <td>0</td>\n",
       "      <td>STON/O2. 3101282</td>\n",
       "      <td>7.9250</td>\n",
       "      <td>NaN</td>\n",
       "      <td>S</td>\n",
       "    </tr>\n",
       "    <tr>\n",
       "      <th>3</th>\n",
       "      <td>4</td>\n",
       "      <td>1</td>\n",
       "      <td>1</td>\n",
       "      <td>Futrelle, Mrs. Jacques Heath (Lily May Peel)</td>\n",
       "      <td>female</td>\n",
       "      <td>35.0</td>\n",
       "      <td>1</td>\n",
       "      <td>0</td>\n",
       "      <td>113803</td>\n",
       "      <td>53.1000</td>\n",
       "      <td>C123</td>\n",
       "      <td>S</td>\n",
       "    </tr>\n",
       "    <tr>\n",
       "      <th>4</th>\n",
       "      <td>5</td>\n",
       "      <td>0</td>\n",
       "      <td>3</td>\n",
       "      <td>Allen, Mr. William Henry</td>\n",
       "      <td>male</td>\n",
       "      <td>35.0</td>\n",
       "      <td>0</td>\n",
       "      <td>0</td>\n",
       "      <td>373450</td>\n",
       "      <td>8.0500</td>\n",
       "      <td>NaN</td>\n",
       "      <td>S</td>\n",
       "    </tr>\n",
       "  </tbody>\n",
       "</table>\n",
       "</div>"
      ],
      "text/plain": [
       "   PassengerId  Survived  Pclass  \\\n",
       "0            1         0       3   \n",
       "1            2         1       1   \n",
       "2            3         1       3   \n",
       "3            4         1       1   \n",
       "4            5         0       3   \n",
       "\n",
       "                                                Name     Sex   Age  SibSp  \\\n",
       "0                            Braund, Mr. Owen Harris    male  22.0      1   \n",
       "1  Cumings, Mrs. John Bradley (Florence Briggs Th...  female  38.0      1   \n",
       "2                             Heikkinen, Miss. Laina  female  26.0      0   \n",
       "3       Futrelle, Mrs. Jacques Heath (Lily May Peel)  female  35.0      1   \n",
       "4                           Allen, Mr. William Henry    male  35.0      0   \n",
       "\n",
       "   Parch            Ticket     Fare Cabin Embarked  \n",
       "0      0         A/5 21171   7.2500   NaN        S  \n",
       "1      0          PC 17599  71.2833   C85        C  \n",
       "2      0  STON/O2. 3101282   7.9250   NaN        S  \n",
       "3      0            113803  53.1000  C123        S  \n",
       "4      0            373450   8.0500   NaN        S  "
      ]
     },
     "execution_count": 2,
     "metadata": {},
     "output_type": "execute_result"
    }
   ],
   "source": [
    "training_data = pd.read_csv(\"/kaggle/input/titanic/train.csv\")\n",
    "training_data.head() #displays top 5 rows from training_data"
   ]
  },
  {
   "cell_type": "markdown",
   "id": "216ead8b",
   "metadata": {
    "papermill": {
     "duration": 0.014291,
     "end_time": "2023-03-11T01:16:34.068035",
     "exception": false,
     "start_time": "2023-03-11T01:16:34.053744",
     "status": "completed"
    },
    "tags": []
   },
   "source": [
    "# Loading test data"
   ]
  },
  {
   "cell_type": "code",
   "execution_count": 3,
   "id": "2be1f5e4",
   "metadata": {
    "execution": {
     "iopub.execute_input": "2023-03-11T01:16:34.100418Z",
     "iopub.status.busy": "2023-03-11T01:16:34.100002Z",
     "iopub.status.idle": "2023-03-11T01:16:34.124068Z",
     "shell.execute_reply": "2023-03-11T01:16:34.122823Z"
    },
    "papermill": {
     "duration": 0.042417,
     "end_time": "2023-03-11T01:16:34.126512",
     "exception": false,
     "start_time": "2023-03-11T01:16:34.084095",
     "status": "completed"
    },
    "tags": []
   },
   "outputs": [
    {
     "data": {
      "text/html": [
       "<div>\n",
       "<style scoped>\n",
       "    .dataframe tbody tr th:only-of-type {\n",
       "        vertical-align: middle;\n",
       "    }\n",
       "\n",
       "    .dataframe tbody tr th {\n",
       "        vertical-align: top;\n",
       "    }\n",
       "\n",
       "    .dataframe thead th {\n",
       "        text-align: right;\n",
       "    }\n",
       "</style>\n",
       "<table border=\"1\" class=\"dataframe\">\n",
       "  <thead>\n",
       "    <tr style=\"text-align: right;\">\n",
       "      <th></th>\n",
       "      <th>PassengerId</th>\n",
       "      <th>Pclass</th>\n",
       "      <th>Name</th>\n",
       "      <th>Sex</th>\n",
       "      <th>Age</th>\n",
       "      <th>SibSp</th>\n",
       "      <th>Parch</th>\n",
       "      <th>Ticket</th>\n",
       "      <th>Fare</th>\n",
       "      <th>Cabin</th>\n",
       "      <th>Embarked</th>\n",
       "    </tr>\n",
       "  </thead>\n",
       "  <tbody>\n",
       "    <tr>\n",
       "      <th>0</th>\n",
       "      <td>892</td>\n",
       "      <td>3</td>\n",
       "      <td>Kelly, Mr. James</td>\n",
       "      <td>male</td>\n",
       "      <td>34.5</td>\n",
       "      <td>0</td>\n",
       "      <td>0</td>\n",
       "      <td>330911</td>\n",
       "      <td>7.8292</td>\n",
       "      <td>NaN</td>\n",
       "      <td>Q</td>\n",
       "    </tr>\n",
       "    <tr>\n",
       "      <th>1</th>\n",
       "      <td>893</td>\n",
       "      <td>3</td>\n",
       "      <td>Wilkes, Mrs. James (Ellen Needs)</td>\n",
       "      <td>female</td>\n",
       "      <td>47.0</td>\n",
       "      <td>1</td>\n",
       "      <td>0</td>\n",
       "      <td>363272</td>\n",
       "      <td>7.0000</td>\n",
       "      <td>NaN</td>\n",
       "      <td>S</td>\n",
       "    </tr>\n",
       "    <tr>\n",
       "      <th>2</th>\n",
       "      <td>894</td>\n",
       "      <td>2</td>\n",
       "      <td>Myles, Mr. Thomas Francis</td>\n",
       "      <td>male</td>\n",
       "      <td>62.0</td>\n",
       "      <td>0</td>\n",
       "      <td>0</td>\n",
       "      <td>240276</td>\n",
       "      <td>9.6875</td>\n",
       "      <td>NaN</td>\n",
       "      <td>Q</td>\n",
       "    </tr>\n",
       "    <tr>\n",
       "      <th>3</th>\n",
       "      <td>895</td>\n",
       "      <td>3</td>\n",
       "      <td>Wirz, Mr. Albert</td>\n",
       "      <td>male</td>\n",
       "      <td>27.0</td>\n",
       "      <td>0</td>\n",
       "      <td>0</td>\n",
       "      <td>315154</td>\n",
       "      <td>8.6625</td>\n",
       "      <td>NaN</td>\n",
       "      <td>S</td>\n",
       "    </tr>\n",
       "    <tr>\n",
       "      <th>4</th>\n",
       "      <td>896</td>\n",
       "      <td>3</td>\n",
       "      <td>Hirvonen, Mrs. Alexander (Helga E Lindqvist)</td>\n",
       "      <td>female</td>\n",
       "      <td>22.0</td>\n",
       "      <td>1</td>\n",
       "      <td>1</td>\n",
       "      <td>3101298</td>\n",
       "      <td>12.2875</td>\n",
       "      <td>NaN</td>\n",
       "      <td>S</td>\n",
       "    </tr>\n",
       "  </tbody>\n",
       "</table>\n",
       "</div>"
      ],
      "text/plain": [
       "   PassengerId  Pclass                                          Name     Sex  \\\n",
       "0          892       3                              Kelly, Mr. James    male   \n",
       "1          893       3              Wilkes, Mrs. James (Ellen Needs)  female   \n",
       "2          894       2                     Myles, Mr. Thomas Francis    male   \n",
       "3          895       3                              Wirz, Mr. Albert    male   \n",
       "4          896       3  Hirvonen, Mrs. Alexander (Helga E Lindqvist)  female   \n",
       "\n",
       "    Age  SibSp  Parch   Ticket     Fare Cabin Embarked  \n",
       "0  34.5      0      0   330911   7.8292   NaN        Q  \n",
       "1  47.0      1      0   363272   7.0000   NaN        S  \n",
       "2  62.0      0      0   240276   9.6875   NaN        Q  \n",
       "3  27.0      0      0   315154   8.6625   NaN        S  \n",
       "4  22.0      1      1  3101298  12.2875   NaN        S  "
      ]
     },
     "execution_count": 3,
     "metadata": {},
     "output_type": "execute_result"
    }
   ],
   "source": [
    "testing_data=pd.read_csv(\"/kaggle/input/titanic/test.csv\")\n",
    "testing_data.head() #displays top 5 rows from test data"
   ]
  },
  {
   "cell_type": "markdown",
   "id": "b9ed4e80",
   "metadata": {
    "papermill": {
     "duration": 0.014591,
     "end_time": "2023-03-11T01:16:34.156070",
     "exception": false,
     "start_time": "2023-03-11T01:16:34.141479",
     "status": "completed"
    },
    "tags": []
   },
   "source": [
    "# Data Pre-processing"
   ]
  },
  {
   "cell_type": "markdown",
   "id": "77c66a86",
   "metadata": {
    "papermill": {
     "duration": 0.014296,
     "end_time": "2023-03-11T01:16:34.184984",
     "exception": false,
     "start_time": "2023-03-11T01:16:34.170688",
     "status": "completed"
    },
    "tags": []
   },
   "source": [
    "# Check if any missing values in train data"
   ]
  },
  {
   "cell_type": "code",
   "execution_count": 4,
   "id": "e0b5d8ee",
   "metadata": {
    "execution": {
     "iopub.execute_input": "2023-03-11T01:16:34.216523Z",
     "iopub.status.busy": "2023-03-11T01:16:34.215588Z",
     "iopub.status.idle": "2023-03-11T01:16:34.226709Z",
     "shell.execute_reply": "2023-03-11T01:16:34.225804Z"
    },
    "papermill": {
     "duration": 0.029357,
     "end_time": "2023-03-11T01:16:34.228968",
     "exception": false,
     "start_time": "2023-03-11T01:16:34.199611",
     "status": "completed"
    },
    "tags": []
   },
   "outputs": [
    {
     "data": {
      "text/plain": [
       "PassengerId      0\n",
       "Survived         0\n",
       "Pclass           0\n",
       "Name             0\n",
       "Sex              0\n",
       "Age            177\n",
       "SibSp            0\n",
       "Parch            0\n",
       "Ticket           0\n",
       "Fare             0\n",
       "Cabin          687\n",
       "Embarked         2\n",
       "dtype: int64"
      ]
     },
     "execution_count": 4,
     "metadata": {},
     "output_type": "execute_result"
    }
   ],
   "source": [
    "training_data.isna().sum()"
   ]
  },
  {
   "cell_type": "markdown",
   "id": "119704e8",
   "metadata": {
    "papermill": {
     "duration": 0.01467,
     "end_time": "2023-03-11T01:16:34.258683",
     "exception": false,
     "start_time": "2023-03-11T01:16:34.244013",
     "status": "completed"
    },
    "tags": []
   },
   "source": [
    "# Check if any missing values in test data"
   ]
  },
  {
   "cell_type": "code",
   "execution_count": 5,
   "id": "eaab3990",
   "metadata": {
    "execution": {
     "iopub.execute_input": "2023-03-11T01:16:34.290863Z",
     "iopub.status.busy": "2023-03-11T01:16:34.290401Z",
     "iopub.status.idle": "2023-03-11T01:16:34.301653Z",
     "shell.execute_reply": "2023-03-11T01:16:34.300401Z"
    },
    "papermill": {
     "duration": 0.030301,
     "end_time": "2023-03-11T01:16:34.304300",
     "exception": false,
     "start_time": "2023-03-11T01:16:34.273999",
     "status": "completed"
    },
    "tags": []
   },
   "outputs": [
    {
     "data": {
      "text/plain": [
       "PassengerId      0\n",
       "Pclass           0\n",
       "Name             0\n",
       "Sex              0\n",
       "Age             86\n",
       "SibSp            0\n",
       "Parch            0\n",
       "Ticket           0\n",
       "Fare             1\n",
       "Cabin          327\n",
       "Embarked         0\n",
       "dtype: int64"
      ]
     },
     "execution_count": 5,
     "metadata": {},
     "output_type": "execute_result"
    }
   ],
   "source": [
    "testing_data.isna().sum()"
   ]
  },
  {
   "cell_type": "markdown",
   "id": "0a0aed88",
   "metadata": {
    "papermill": {
     "duration": 0.015049,
     "end_time": "2023-03-11T01:16:34.334904",
     "exception": false,
     "start_time": "2023-03-11T01:16:34.319855",
     "status": "completed"
    },
    "tags": []
   },
   "source": [
    "# Replacing the missing values in training_data"
   ]
  },
  {
   "cell_type": "code",
   "execution_count": 6,
   "id": "acc1ac8b",
   "metadata": {
    "execution": {
     "iopub.execute_input": "2023-03-11T01:16:34.368921Z",
     "iopub.status.busy": "2023-03-11T01:16:34.368481Z",
     "iopub.status.idle": "2023-03-11T01:16:34.383255Z",
     "shell.execute_reply": "2023-03-11T01:16:34.382286Z"
    },
    "papermill": {
     "duration": 0.034383,
     "end_time": "2023-03-11T01:16:34.385985",
     "exception": false,
     "start_time": "2023-03-11T01:16:34.351602",
     "status": "completed"
    },
    "tags": []
   },
   "outputs": [],
   "source": [
    "training_data['Age']=training_data['Age'].fillna(training_data['Age'].mean())\n",
    "training_data['Cabin']=training_data['Cabin'].fillna(training_data['Cabin'].mode()[0])\n",
    "training_data['Embarked']=training_data['Embarked'].fillna(training_data['Embarked'].mode()[0])"
   ]
  },
  {
   "cell_type": "markdown",
   "id": "60908856",
   "metadata": {
    "papermill": {
     "duration": 0.014545,
     "end_time": "2023-03-11T01:16:34.416935",
     "exception": false,
     "start_time": "2023-03-11T01:16:34.402390",
     "status": "completed"
    },
    "tags": []
   },
   "source": [
    "# Missing values fixed in training_data"
   ]
  },
  {
   "cell_type": "code",
   "execution_count": 7,
   "id": "4c505150",
   "metadata": {
    "execution": {
     "iopub.execute_input": "2023-03-11T01:16:34.448304Z",
     "iopub.status.busy": "2023-03-11T01:16:34.447886Z",
     "iopub.status.idle": "2023-03-11T01:16:34.458751Z",
     "shell.execute_reply": "2023-03-11T01:16:34.457309Z"
    },
    "papermill": {
     "duration": 0.029394,
     "end_time": "2023-03-11T01:16:34.461186",
     "exception": false,
     "start_time": "2023-03-11T01:16:34.431792",
     "status": "completed"
    },
    "tags": []
   },
   "outputs": [
    {
     "data": {
      "text/plain": [
       "PassengerId    0\n",
       "Survived       0\n",
       "Pclass         0\n",
       "Name           0\n",
       "Sex            0\n",
       "Age            0\n",
       "SibSp          0\n",
       "Parch          0\n",
       "Ticket         0\n",
       "Fare           0\n",
       "Cabin          0\n",
       "Embarked       0\n",
       "dtype: int64"
      ]
     },
     "execution_count": 7,
     "metadata": {},
     "output_type": "execute_result"
    }
   ],
   "source": [
    "training_data.isna().sum()"
   ]
  },
  {
   "cell_type": "markdown",
   "id": "d8f18917",
   "metadata": {
    "papermill": {
     "duration": 0.014676,
     "end_time": "2023-03-11T01:16:34.490833",
     "exception": false,
     "start_time": "2023-03-11T01:16:34.476157",
     "status": "completed"
    },
    "tags": []
   },
   "source": [
    "# Replacing missing values in testing_data"
   ]
  },
  {
   "cell_type": "code",
   "execution_count": 8,
   "id": "85d8d1fe",
   "metadata": {
    "execution": {
     "iopub.execute_input": "2023-03-11T01:16:34.522933Z",
     "iopub.status.busy": "2023-03-11T01:16:34.522431Z",
     "iopub.status.idle": "2023-03-11T01:16:34.534028Z",
     "shell.execute_reply": "2023-03-11T01:16:34.533014Z"
    },
    "papermill": {
     "duration": 0.030161,
     "end_time": "2023-03-11T01:16:34.536058",
     "exception": false,
     "start_time": "2023-03-11T01:16:34.505897",
     "status": "completed"
    },
    "tags": []
   },
   "outputs": [],
   "source": [
    "testing_data['Age']=testing_data['Age'].fillna(testing_data['Age'].mean())\n",
    "testing_data['Fare']=testing_data['Fare'].fillna(testing_data['Fare'].mean())\n",
    "testing_data['Cabin']=training_data['Cabin'].fillna(testing_data['Cabin'].mode()[0])"
   ]
  },
  {
   "cell_type": "markdown",
   "id": "4994a6d8",
   "metadata": {
    "papermill": {
     "duration": 0.014437,
     "end_time": "2023-03-11T01:16:34.565569",
     "exception": false,
     "start_time": "2023-03-11T01:16:34.551132",
     "status": "completed"
    },
    "tags": []
   },
   "source": [
    "# Missing values fixed in testing_data"
   ]
  },
  {
   "cell_type": "code",
   "execution_count": 9,
   "id": "1680fab6",
   "metadata": {
    "execution": {
     "iopub.execute_input": "2023-03-11T01:16:34.597208Z",
     "iopub.status.busy": "2023-03-11T01:16:34.596758Z",
     "iopub.status.idle": "2023-03-11T01:16:34.607191Z",
     "shell.execute_reply": "2023-03-11T01:16:34.606078Z"
    },
    "papermill": {
     "duration": 0.028999,
     "end_time": "2023-03-11T01:16:34.609420",
     "exception": false,
     "start_time": "2023-03-11T01:16:34.580421",
     "status": "completed"
    },
    "tags": []
   },
   "outputs": [
    {
     "data": {
      "text/plain": [
       "PassengerId    0\n",
       "Pclass         0\n",
       "Name           0\n",
       "Sex            0\n",
       "Age            0\n",
       "SibSp          0\n",
       "Parch          0\n",
       "Ticket         0\n",
       "Fare           0\n",
       "Cabin          0\n",
       "Embarked       0\n",
       "dtype: int64"
      ]
     },
     "execution_count": 9,
     "metadata": {},
     "output_type": "execute_result"
    }
   ],
   "source": [
    "testing_data.isna().sum()"
   ]
  },
  {
   "cell_type": "markdown",
   "id": "9548f21a",
   "metadata": {
    "papermill": {
     "duration": 0.014637,
     "end_time": "2023-03-11T01:16:34.639282",
     "exception": false,
     "start_time": "2023-03-11T01:16:34.624645",
     "status": "completed"
    },
    "tags": []
   },
   "source": [
    "# Data Visualization"
   ]
  },
  {
   "cell_type": "markdown",
   "id": "35d24d6d",
   "metadata": {
    "papermill": {
     "duration": 0.014753,
     "end_time": "2023-03-11T01:16:34.669434",
     "exception": false,
     "start_time": "2023-03-11T01:16:34.654681",
     "status": "completed"
    },
    "tags": []
   },
   "source": [
    "# Survival rate with Pclass, Fare plotting"
   ]
  },
  {
   "cell_type": "code",
   "execution_count": 10,
   "id": "ef478054",
   "metadata": {
    "execution": {
     "iopub.execute_input": "2023-03-11T01:16:34.701479Z",
     "iopub.status.busy": "2023-03-11T01:16:34.701047Z",
     "iopub.status.idle": "2023-03-11T01:16:35.144533Z",
     "shell.execute_reply": "2023-03-11T01:16:35.143308Z"
    },
    "papermill": {
     "duration": 0.462607,
     "end_time": "2023-03-11T01:16:35.147124",
     "exception": false,
     "start_time": "2023-03-11T01:16:34.684517",
     "status": "completed"
    },
    "tags": []
   },
   "outputs": [
    {
     "data": {
      "text/plain": [
       "<AxesSubplot:xlabel='Pclass', ylabel='Fare'>"
      ]
     },
     "execution_count": 10,
     "metadata": {},
     "output_type": "execute_result"
    },
    {
     "data": {
      "image/png": "[encoded data removed]",
      "text/plain": [
       "<Figure size 640x480 with 1 Axes>"
      ]
     },
     "metadata": {},
     "output_type": "display_data"
    }
   ],
   "source": [
    "sns.barplot(data=training_data,x=\"Pclass\",y=\"Fare\",hue=\"Survived\")"
   ]
  },
  {
   "cell_type": "markdown",
   "id": "c47a4bea",
   "metadata": {
    "papermill": {
     "duration": 0.015027,
     "end_time": "2023-03-11T01:16:35.177691",
     "exception": false,
     "start_time": "2023-03-11T01:16:35.162664",
     "status": "completed"
    },
    "tags": []
   },
   "source": [
    "# Dependency of gender on Parch, SibSp with Survival rate"
   ]
  },
  {
   "cell_type": "code",
   "execution_count": 11,
   "id": "c2ca72ae",
   "metadata": {
    "execution": {
     "iopub.execute_input": "2023-03-11T01:16:35.210236Z",
     "iopub.status.busy": "2023-03-11T01:16:35.209823Z",
     "iopub.status.idle": "2023-03-11T01:16:35.536253Z",
     "shell.execute_reply": "2023-03-11T01:16:35.535005Z"
    },
    "papermill": {
     "duration": 0.345869,
     "end_time": "2023-03-11T01:16:35.539019",
     "exception": false,
     "start_time": "2023-03-11T01:16:35.193150",
     "status": "completed"
    },
    "tags": []
   },
   "outputs": [
    {
     "data": {
      "text/plain": [
       "<AxesSubplot:xlabel='family', ylabel='count'>"
      ]
     },
     "execution_count": 11,
     "metadata": {},
     "output_type": "execute_result"
    },
    {
     "data": {
      "image/png": "[encoded data removed]",
      "text/plain": [
       "<Figure size 640x480 with 1 Axes>"
      ]
     },
     "metadata": {},
     "output_type": "display_data"
    }
   ],
   "source": [
    "df=pd.DataFrame()\n",
    "df[\"family\"]=training_data[\"SibSp\"]+training_data[\"Parch\"]\n",
    "sns.countplot(data=training_data,x=df[\"family\"],hue=\"Survived\")"
   ]
  },
  {
   "cell_type": "markdown",
   "id": "582eab37",
   "metadata": {
    "papermill": {
     "duration": 0.015517,
     "end_time": "2023-03-11T01:16:35.571123",
     "exception": false,
     "start_time": "2023-03-11T01:16:35.555606",
     "status": "completed"
    },
    "tags": []
   },
   "source": [
    "# Dependency of Gender and survival rate"
   ]
  },
  {
   "cell_type": "code",
   "execution_count": 12,
   "id": "75b69adf",
   "metadata": {
    "execution": {
     "iopub.execute_input": "2023-03-11T01:16:35.604703Z",
     "iopub.status.busy": "2023-03-11T01:16:35.604310Z",
     "iopub.status.idle": "2023-03-11T01:16:35.617489Z",
     "shell.execute_reply": "2023-03-11T01:16:35.615890Z"
    },
    "papermill": {
     "duration": 0.033608,
     "end_time": "2023-03-11T01:16:35.620603",
     "exception": false,
     "start_time": "2023-03-11T01:16:35.586995",
     "status": "completed"
    },
    "tags": []
   },
   "outputs": [
    {
     "name": "stdout",
     "output_type": "stream",
     "text": [
      "percentage of women survived:  0.7420382165605095\n",
      "percentage of men survived:  0.18890814558058924\n"
     ]
    }
   ],
   "source": [
    "women_survived=training_data.loc[training_data.Sex==\"female\"][\"Survived\"]\n",
    "women_per=sum(women_survived)/len(women_survived)\n",
    "print(\"percentage of women survived: \",women_per)\n",
    "men_survived=training_data.loc[training_data.Sex==\"male\"][\"Survived\"]\n",
    "men_per=sum(men_survived)/len(men_survived)\n",
    "print(\"percentage of men survived: \",men_per)\n"
   ]
  },
  {
   "cell_type": "code",
   "execution_count": 13,
   "id": "d71d0f8a",
   "metadata": {
    "execution": {
     "iopub.execute_input": "2023-03-11T01:16:35.670234Z",
     "iopub.status.busy": "2023-03-11T01:16:35.669412Z",
     "iopub.status.idle": "2023-03-11T01:16:35.971006Z",
     "shell.execute_reply": "2023-03-11T01:16:35.969909Z"
    },
    "papermill": {
     "duration": 0.332905,
     "end_time": "2023-03-11T01:16:35.974193",
     "exception": false,
     "start_time": "2023-03-11T01:16:35.641288",
     "status": "completed"
    },
    "tags": []
   },
   "outputs": [
    {
     "data": {
      "text/plain": [
       "<AxesSubplot:xlabel='Sex', ylabel='Survived'>"
      ]
     },
     "execution_count": 13,
     "metadata": {},
     "output_type": "execute_result"
    },
    {
     "data": {
      "image/png": "[encoded data removed]",
      "text/plain": [
       "<Figure size 640x480 with 1 Axes>"
      ]
     },
     "metadata": {},
     "output_type": "display_data"
    }
   ],
   "source": [
    "sns.barplot(data=training_data,x=\"Sex\",y=\"Survived\")"
   ]
  },
  {
   "cell_type": "markdown",
   "id": "d9478382",
   "metadata": {
    "papermill": {
     "duration": 0.016488,
     "end_time": "2023-03-11T01:16:36.012989",
     "exception": false,
     "start_time": "2023-03-11T01:16:35.996501",
     "status": "completed"
    },
    "tags": []
   },
   "source": [
    "# Different states of Embarked with survival rate"
   ]
  },
  {
   "cell_type": "code",
   "execution_count": 14,
   "id": "fa1ca47c",
   "metadata": {
    "execution": {
     "iopub.execute_input": "2023-03-11T01:16:36.049269Z",
     "iopub.status.busy": "2023-03-11T01:16:36.048403Z",
     "iopub.status.idle": "2023-03-11T01:16:36.379620Z",
     "shell.execute_reply": "2023-03-11T01:16:36.378634Z"
    },
    "papermill": {
     "duration": 0.35234,
     "end_time": "2023-03-11T01:16:36.382049",
     "exception": false,
     "start_time": "2023-03-11T01:16:36.029709",
     "status": "completed"
    },
    "tags": []
   },
   "outputs": [
    {
     "data": {
      "text/plain": [
       "<AxesSubplot:xlabel='Embarked', ylabel='Survived'>"
      ]
     },
     "execution_count": 14,
     "metadata": {},
     "output_type": "execute_result"
    },
    {
     "data": {
      "image/png": "[encoded data removed]",
      "text/plain": [
       "<Figure size 640x480 with 1 Axes>"
      ]
     },
     "metadata": {},
     "output_type": "display_data"
    }
   ],
   "source": [
    "sns.lineplot(data=training_data,x=\"Embarked\",y=\"Survived\")"
   ]
  },
  {
   "cell_type": "markdown",
   "id": "79b51cc1",
   "metadata": {
    "papermill": {
     "duration": 0.017102,
     "end_time": "2023-03-11T01:16:36.416549",
     "exception": false,
     "start_time": "2023-03-11T01:16:36.399447",
     "status": "completed"
    },
    "tags": []
   },
   "source": [
    "# Pclass vs Ticket"
   ]
  },
  {
   "cell_type": "code",
   "execution_count": 15,
   "id": "3ec8b486",
   "metadata": {
    "execution": {
     "iopub.execute_input": "2023-03-11T01:16:36.454136Z",
     "iopub.status.busy": "2023-03-11T01:16:36.452930Z",
     "iopub.status.idle": "2023-03-11T01:16:36.789111Z",
     "shell.execute_reply": "2023-03-11T01:16:36.787838Z"
    },
    "papermill": {
     "duration": 0.357825,
     "end_time": "2023-03-11T01:16:36.792090",
     "exception": false,
     "start_time": "2023-03-11T01:16:36.434265",
     "status": "completed"
    },
    "tags": []
   },
   "outputs": [
    {
     "data": {
      "text/plain": [
       "<AxesSubplot:xlabel='Pclass', ylabel='Fare'>"
      ]
     },
     "execution_count": 15,
     "metadata": {},
     "output_type": "execute_result"
    },
    {
     "data": {
      "image/png": "[encoded data removed]",
      "text/plain": [
       "<Figure size 640x480 with 1 Axes>"
      ]
     },
     "metadata": {},
     "output_type": "display_data"
    }
   ],
   "source": [
    "sns.lineplot(data=training_data,x=\"Pclass\",y=\"Fare\")"
   ]
  },
  {
   "cell_type": "markdown",
   "id": "53409509",
   "metadata": {
    "papermill": {
     "duration": 0.017417,
     "end_time": "2023-03-11T01:16:36.827379",
     "exception": false,
     "start_time": "2023-03-11T01:16:36.809962",
     "status": "completed"
    },
    "tags": []
   },
   "source": [
    "# Converting training categorical data to numerical data"
   ]
  },
  {
   "cell_type": "code",
   "execution_count": 16,
   "id": "65746e1a",
   "metadata": {
    "execution": {
     "iopub.execute_input": "2023-03-11T01:16:36.865040Z",
     "iopub.status.busy": "2023-03-11T01:16:36.864338Z",
     "iopub.status.idle": "2023-03-11T01:16:36.877801Z",
     "shell.execute_reply": "2023-03-11T01:16:36.876932Z"
    },
    "papermill": {
     "duration": 0.035127,
     "end_time": "2023-03-11T01:16:36.880231",
     "exception": false,
     "start_time": "2023-03-11T01:16:36.845104",
     "status": "completed"
    },
    "tags": []
   },
   "outputs": [],
   "source": [
    "training_data['Name'] =training_data['Name'].astype('category').cat.codes\n",
    "training_data['Sex'] =training_data['Sex'].astype('category').cat.codes\n",
    "training_data['Embarked'] =training_data['Embarked'].astype('category').cat.codes\n",
    "training_data['Cabin'] =training_data['Cabin'].astype('category').cat.codes\n",
    "training_data['Ticket'] =training_data['Ticket'].astype('category').cat.codes"
   ]
  },
  {
   "cell_type": "markdown",
   "id": "52a9d137",
   "metadata": {
    "papermill": {
     "duration": 0.01747,
     "end_time": "2023-03-11T01:16:36.915399",
     "exception": false,
     "start_time": "2023-03-11T01:16:36.897929",
     "status": "completed"
    },
    "tags": []
   },
   "source": [
    "# Data Pre-processing-Converting testing categorical data to numerical data"
   ]
  },
  {
   "cell_type": "code",
   "execution_count": 17,
   "id": "06371f8f",
   "metadata": {
    "execution": {
     "iopub.execute_input": "2023-03-11T01:16:36.953266Z",
     "iopub.status.busy": "2023-03-11T01:16:36.952598Z",
     "iopub.status.idle": "2023-03-11T01:16:36.965023Z",
     "shell.execute_reply": "2023-03-11T01:16:36.964130Z"
    },
    "papermill": {
     "duration": 0.034207,
     "end_time": "2023-03-11T01:16:36.967519",
     "exception": false,
     "start_time": "2023-03-11T01:16:36.933312",
     "status": "completed"
    },
    "tags": []
   },
   "outputs": [],
   "source": [
    "testing_data['Name'] =testing_data['Name'].astype('category').cat.codes\n",
    "testing_data['Sex'] =testing_data['Sex'].astype('category').cat.codes\n",
    "testing_data['Embarked'] =testing_data['Embarked'].astype('category').cat.codes\n",
    "testing_data['Cabin'] =testing_data['Cabin'].astype('category').cat.codes\n",
    "testing_data['Ticket'] =testing_data['Ticket'].astype('category').cat.codes"
   ]
  },
  {
   "cell_type": "markdown",
   "id": "ac8b02cf",
   "metadata": {
    "papermill": {
     "duration": 0.017404,
     "end_time": "2023-03-11T01:16:37.002574",
     "exception": false,
     "start_time": "2023-03-11T01:16:36.985170",
     "status": "completed"
    },
    "tags": []
   },
   "source": [
    "# Encoding training data using Binary Encoder"
   ]
  },
  {
   "cell_type": "code",
   "execution_count": 18,
   "id": "2fc949d0",
   "metadata": {
    "execution": {
     "iopub.execute_input": "2023-03-11T01:16:37.040373Z",
     "iopub.status.busy": "2023-03-11T01:16:37.039695Z",
     "iopub.status.idle": "2023-03-11T01:16:37.142498Z",
     "shell.execute_reply": "2023-03-11T01:16:37.141123Z"
    },
    "papermill": {
     "duration": 0.124864,
     "end_time": "2023-03-11T01:16:37.145241",
     "exception": false,
     "start_time": "2023-03-11T01:16:37.020377",
     "status": "completed"
    },
    "tags": []
   },
   "outputs": [
    {
     "data": {
      "text/html": [
       "<div>\n",
       "<style scoped>\n",
       "    .dataframe tbody tr th:only-of-type {\n",
       "        vertical-align: middle;\n",
       "    }\n",
       "\n",
       "    .dataframe tbody tr th {\n",
       "        vertical-align: top;\n",
       "    }\n",
       "\n",
       "    .dataframe thead th {\n",
       "        text-align: right;\n",
       "    }\n",
       "</style>\n",
       "<table border=\"1\" class=\"dataframe\">\n",
       "  <thead>\n",
       "    <tr style=\"text-align: right;\">\n",
       "      <th></th>\n",
       "      <th>PassengerId</th>\n",
       "      <th>Survived</th>\n",
       "      <th>Pclass</th>\n",
       "      <th>Name_0</th>\n",
       "      <th>Name_1</th>\n",
       "      <th>Name_2</th>\n",
       "      <th>Name_3</th>\n",
       "      <th>Name_4</th>\n",
       "      <th>Name_5</th>\n",
       "      <th>Name_6</th>\n",
       "      <th>...</th>\n",
       "      <th>Cabin_0</th>\n",
       "      <th>Cabin_1</th>\n",
       "      <th>Cabin_2</th>\n",
       "      <th>Cabin_3</th>\n",
       "      <th>Cabin_4</th>\n",
       "      <th>Cabin_5</th>\n",
       "      <th>Cabin_6</th>\n",
       "      <th>Cabin_7</th>\n",
       "      <th>Embarked_0</th>\n",
       "      <th>Embarked_1</th>\n",
       "    </tr>\n",
       "  </thead>\n",
       "  <tbody>\n",
       "    <tr>\n",
       "      <th>0</th>\n",
       "      <td>1</td>\n",
       "      <td>0</td>\n",
       "      <td>3</td>\n",
       "      <td>0</td>\n",
       "      <td>0</td>\n",
       "      <td>0</td>\n",
       "      <td>0</td>\n",
       "      <td>0</td>\n",
       "      <td>0</td>\n",
       "      <td>0</td>\n",
       "      <td>...</td>\n",
       "      <td>0</td>\n",
       "      <td>0</td>\n",
       "      <td>0</td>\n",
       "      <td>0</td>\n",
       "      <td>0</td>\n",
       "      <td>0</td>\n",
       "      <td>0</td>\n",
       "      <td>1</td>\n",
       "      <td>0</td>\n",
       "      <td>1</td>\n",
       "    </tr>\n",
       "    <tr>\n",
       "      <th>1</th>\n",
       "      <td>2</td>\n",
       "      <td>1</td>\n",
       "      <td>1</td>\n",
       "      <td>0</td>\n",
       "      <td>0</td>\n",
       "      <td>0</td>\n",
       "      <td>0</td>\n",
       "      <td>0</td>\n",
       "      <td>0</td>\n",
       "      <td>0</td>\n",
       "      <td>...</td>\n",
       "      <td>0</td>\n",
       "      <td>0</td>\n",
       "      <td>0</td>\n",
       "      <td>0</td>\n",
       "      <td>0</td>\n",
       "      <td>0</td>\n",
       "      <td>1</td>\n",
       "      <td>0</td>\n",
       "      <td>1</td>\n",
       "      <td>0</td>\n",
       "    </tr>\n",
       "    <tr>\n",
       "      <th>2</th>\n",
       "      <td>3</td>\n",
       "      <td>1</td>\n",
       "      <td>3</td>\n",
       "      <td>0</td>\n",
       "      <td>0</td>\n",
       "      <td>0</td>\n",
       "      <td>0</td>\n",
       "      <td>0</td>\n",
       "      <td>0</td>\n",
       "      <td>0</td>\n",
       "      <td>...</td>\n",
       "      <td>0</td>\n",
       "      <td>0</td>\n",
       "      <td>0</td>\n",
       "      <td>0</td>\n",
       "      <td>0</td>\n",
       "      <td>0</td>\n",
       "      <td>0</td>\n",
       "      <td>1</td>\n",
       "      <td>0</td>\n",
       "      <td>1</td>\n",
       "    </tr>\n",
       "    <tr>\n",
       "      <th>3</th>\n",
       "      <td>4</td>\n",
       "      <td>1</td>\n",
       "      <td>1</td>\n",
       "      <td>0</td>\n",
       "      <td>0</td>\n",
       "      <td>0</td>\n",
       "      <td>0</td>\n",
       "      <td>0</td>\n",
       "      <td>0</td>\n",
       "      <td>0</td>\n",
       "      <td>...</td>\n",
       "      <td>0</td>\n",
       "      <td>0</td>\n",
       "      <td>0</td>\n",
       "      <td>0</td>\n",
       "      <td>0</td>\n",
       "      <td>0</td>\n",
       "      <td>1</td>\n",
       "      <td>1</td>\n",
       "      <td>0</td>\n",
       "      <td>1</td>\n",
       "    </tr>\n",
       "    <tr>\n",
       "      <th>4</th>\n",
       "      <td>5</td>\n",
       "      <td>0</td>\n",
       "      <td>3</td>\n",
       "      <td>0</td>\n",
       "      <td>0</td>\n",
       "      <td>0</td>\n",
       "      <td>0</td>\n",
       "      <td>0</td>\n",
       "      <td>0</td>\n",
       "      <td>0</td>\n",
       "      <td>...</td>\n",
       "      <td>0</td>\n",
       "      <td>0</td>\n",
       "      <td>0</td>\n",
       "      <td>0</td>\n",
       "      <td>0</td>\n",
       "      <td>0</td>\n",
       "      <td>0</td>\n",
       "      <td>1</td>\n",
       "      <td>0</td>\n",
       "      <td>1</td>\n",
       "    </tr>\n",
       "    <tr>\n",
       "      <th>...</th>\n",
       "      <td>...</td>\n",
       "      <td>...</td>\n",
       "      <td>...</td>\n",
       "      <td>...</td>\n",
       "      <td>...</td>\n",
       "      <td>...</td>\n",
       "      <td>...</td>\n",
       "      <td>...</td>\n",
       "      <td>...</td>\n",
       "      <td>...</td>\n",
       "      <td>...</td>\n",
       "      <td>...</td>\n",
       "      <td>...</td>\n",
       "      <td>...</td>\n",
       "      <td>...</td>\n",
       "      <td>...</td>\n",
       "      <td>...</td>\n",
       "      <td>...</td>\n",
       "      <td>...</td>\n",
       "      <td>...</td>\n",
       "      <td>...</td>\n",
       "    </tr>\n",
       "    <tr>\n",
       "      <th>886</th>\n",
       "      <td>887</td>\n",
       "      <td>0</td>\n",
       "      <td>2</td>\n",
       "      <td>1</td>\n",
       "      <td>1</td>\n",
       "      <td>0</td>\n",
       "      <td>1</td>\n",
       "      <td>1</td>\n",
       "      <td>1</td>\n",
       "      <td>0</td>\n",
       "      <td>...</td>\n",
       "      <td>0</td>\n",
       "      <td>0</td>\n",
       "      <td>0</td>\n",
       "      <td>0</td>\n",
       "      <td>0</td>\n",
       "      <td>0</td>\n",
       "      <td>0</td>\n",
       "      <td>1</td>\n",
       "      <td>0</td>\n",
       "      <td>1</td>\n",
       "    </tr>\n",
       "    <tr>\n",
       "      <th>887</th>\n",
       "      <td>888</td>\n",
       "      <td>1</td>\n",
       "      <td>1</td>\n",
       "      <td>1</td>\n",
       "      <td>1</td>\n",
       "      <td>0</td>\n",
       "      <td>1</td>\n",
       "      <td>1</td>\n",
       "      <td>1</td>\n",
       "      <td>1</td>\n",
       "      <td>...</td>\n",
       "      <td>1</td>\n",
       "      <td>0</td>\n",
       "      <td>0</td>\n",
       "      <td>1</td>\n",
       "      <td>0</td>\n",
       "      <td>0</td>\n",
       "      <td>1</td>\n",
       "      <td>0</td>\n",
       "      <td>0</td>\n",
       "      <td>1</td>\n",
       "    </tr>\n",
       "    <tr>\n",
       "      <th>888</th>\n",
       "      <td>889</td>\n",
       "      <td>0</td>\n",
       "      <td>3</td>\n",
       "      <td>1</td>\n",
       "      <td>1</td>\n",
       "      <td>0</td>\n",
       "      <td>1</td>\n",
       "      <td>1</td>\n",
       "      <td>1</td>\n",
       "      <td>1</td>\n",
       "      <td>...</td>\n",
       "      <td>0</td>\n",
       "      <td>0</td>\n",
       "      <td>0</td>\n",
       "      <td>0</td>\n",
       "      <td>0</td>\n",
       "      <td>0</td>\n",
       "      <td>0</td>\n",
       "      <td>1</td>\n",
       "      <td>0</td>\n",
       "      <td>1</td>\n",
       "    </tr>\n",
       "    <tr>\n",
       "      <th>889</th>\n",
       "      <td>890</td>\n",
       "      <td>1</td>\n",
       "      <td>1</td>\n",
       "      <td>1</td>\n",
       "      <td>1</td>\n",
       "      <td>0</td>\n",
       "      <td>1</td>\n",
       "      <td>1</td>\n",
       "      <td>1</td>\n",
       "      <td>1</td>\n",
       "      <td>...</td>\n",
       "      <td>1</td>\n",
       "      <td>0</td>\n",
       "      <td>0</td>\n",
       "      <td>1</td>\n",
       "      <td>0</td>\n",
       "      <td>0</td>\n",
       "      <td>1</td>\n",
       "      <td>1</td>\n",
       "      <td>1</td>\n",
       "      <td>0</td>\n",
       "    </tr>\n",
       "    <tr>\n",
       "      <th>890</th>\n",
       "      <td>891</td>\n",
       "      <td>0</td>\n",
       "      <td>3</td>\n",
       "      <td>1</td>\n",
       "      <td>1</td>\n",
       "      <td>0</td>\n",
       "      <td>1</td>\n",
       "      <td>1</td>\n",
       "      <td>1</td>\n",
       "      <td>1</td>\n",
       "      <td>...</td>\n",
       "      <td>0</td>\n",
       "      <td>0</td>\n",
       "      <td>0</td>\n",
       "      <td>0</td>\n",
       "      <td>0</td>\n",
       "      <td>0</td>\n",
       "      <td>0</td>\n",
       "      <td>1</td>\n",
       "      <td>1</td>\n",
       "      <td>1</td>\n",
       "    </tr>\n",
       "  </tbody>\n",
       "</table>\n",
       "<p>891 rows × 39 columns</p>\n",
       "</div>"
      ],
      "text/plain": [
       "     PassengerId  Survived  Pclass  Name_0  Name_1  Name_2  Name_3  Name_4  \\\n",
       "0              1         0       3       0       0       0       0       0   \n",
       "1              2         1       1       0       0       0       0       0   \n",
       "2              3         1       3       0       0       0       0       0   \n",
       "3              4         1       1       0       0       0       0       0   \n",
       "4              5         0       3       0       0       0       0       0   \n",
       "..           ...       ...     ...     ...     ...     ...     ...     ...   \n",
       "886          887         0       2       1       1       0       1       1   \n",
       "887          888         1       1       1       1       0       1       1   \n",
       "888          889         0       3       1       1       0       1       1   \n",
       "889          890         1       1       1       1       0       1       1   \n",
       "890          891         0       3       1       1       0       1       1   \n",
       "\n",
       "     Name_5  Name_6  ...  Cabin_0  Cabin_1  Cabin_2  Cabin_3  Cabin_4  \\\n",
       "0         0       0  ...        0        0        0        0        0   \n",
       "1         0       0  ...        0        0        0        0        0   \n",
       "2         0       0  ...        0        0        0        0        0   \n",
       "3         0       0  ...        0        0        0        0        0   \n",
       "4         0       0  ...        0        0        0        0        0   \n",
       "..      ...     ...  ...      ...      ...      ...      ...      ...   \n",
       "886       1       0  ...        0        0        0        0        0   \n",
       "887       1       1  ...        1        0        0        1        0   \n",
       "888       1       1  ...        0        0        0        0        0   \n",
       "889       1       1  ...        1        0        0        1        0   \n",
       "890       1       1  ...        0        0        0        0        0   \n",
       "\n",
       "     Cabin_5  Cabin_6  Cabin_7  Embarked_0  Embarked_1  \n",
       "0          0        0        1           0           1  \n",
       "1          0        1        0           1           0  \n",
       "2          0        0        1           0           1  \n",
       "3          0        1        1           0           1  \n",
       "4          0        0        1           0           1  \n",
       "..       ...      ...      ...         ...         ...  \n",
       "886        0        0        1           0           1  \n",
       "887        0        1        0           0           1  \n",
       "888        0        0        1           0           1  \n",
       "889        0        1        1           1           0  \n",
       "890        0        0        1           1           1  \n",
       "\n",
       "[891 rows x 39 columns]"
      ]
     },
     "execution_count": 18,
     "metadata": {},
     "output_type": "execute_result"
    }
   ],
   "source": [
    "encoder=c.BinaryEncoder(cols=['Name','Sex','Ticket','Cabin','Embarked'],return_df=True)\n",
    "encoder.fit_transform(training_data)"
   ]
  },
  {
   "cell_type": "markdown",
   "id": "585d501f",
   "metadata": {
    "papermill": {
     "duration": 0.01789,
     "end_time": "2023-03-11T01:16:37.181679",
     "exception": false,
     "start_time": "2023-03-11T01:16:37.163789",
     "status": "completed"
    },
    "tags": []
   },
   "source": [
    "# Encoding testing data"
   ]
  },
  {
   "cell_type": "code",
   "execution_count": 19,
   "id": "8e005e86",
   "metadata": {
    "execution": {
     "iopub.execute_input": "2023-03-11T01:16:37.220077Z",
     "iopub.status.busy": "2023-03-11T01:16:37.219643Z",
     "iopub.status.idle": "2023-03-11T01:16:37.313368Z",
     "shell.execute_reply": "2023-03-11T01:16:37.312268Z"
    },
    "papermill": {
     "duration": 0.116105,
     "end_time": "2023-03-11T01:16:37.315982",
     "exception": false,
     "start_time": "2023-03-11T01:16:37.199877",
     "status": "completed"
    },
    "tags": []
   },
   "outputs": [
    {
     "data": {
      "text/html": [
       "<div>\n",
       "<style scoped>\n",
       "    .dataframe tbody tr th:only-of-type {\n",
       "        vertical-align: middle;\n",
       "    }\n",
       "\n",
       "    .dataframe tbody tr th {\n",
       "        vertical-align: top;\n",
       "    }\n",
       "\n",
       "    .dataframe thead th {\n",
       "        text-align: right;\n",
       "    }\n",
       "</style>\n",
       "<table border=\"1\" class=\"dataframe\">\n",
       "  <thead>\n",
       "    <tr style=\"text-align: right;\">\n",
       "      <th></th>\n",
       "      <th>PassengerId</th>\n",
       "      <th>Pclass</th>\n",
       "      <th>Name_0</th>\n",
       "      <th>Name_1</th>\n",
       "      <th>Name_2</th>\n",
       "      <th>Name_3</th>\n",
       "      <th>Name_4</th>\n",
       "      <th>Name_5</th>\n",
       "      <th>Name_6</th>\n",
       "      <th>Name_7</th>\n",
       "      <th>...</th>\n",
       "      <th>Fare</th>\n",
       "      <th>Cabin_0</th>\n",
       "      <th>Cabin_1</th>\n",
       "      <th>Cabin_2</th>\n",
       "      <th>Cabin_3</th>\n",
       "      <th>Cabin_4</th>\n",
       "      <th>Cabin_5</th>\n",
       "      <th>Cabin_6</th>\n",
       "      <th>Embarked_0</th>\n",
       "      <th>Embarked_1</th>\n",
       "    </tr>\n",
       "  </thead>\n",
       "  <tbody>\n",
       "    <tr>\n",
       "      <th>0</th>\n",
       "      <td>892</td>\n",
       "      <td>3</td>\n",
       "      <td>0</td>\n",
       "      <td>0</td>\n",
       "      <td>0</td>\n",
       "      <td>0</td>\n",
       "      <td>0</td>\n",
       "      <td>0</td>\n",
       "      <td>0</td>\n",
       "      <td>0</td>\n",
       "      <td>...</td>\n",
       "      <td>7.8292</td>\n",
       "      <td>0</td>\n",
       "      <td>0</td>\n",
       "      <td>0</td>\n",
       "      <td>0</td>\n",
       "      <td>0</td>\n",
       "      <td>0</td>\n",
       "      <td>1</td>\n",
       "      <td>0</td>\n",
       "      <td>1</td>\n",
       "    </tr>\n",
       "    <tr>\n",
       "      <th>1</th>\n",
       "      <td>893</td>\n",
       "      <td>3</td>\n",
       "      <td>0</td>\n",
       "      <td>0</td>\n",
       "      <td>0</td>\n",
       "      <td>0</td>\n",
       "      <td>0</td>\n",
       "      <td>0</td>\n",
       "      <td>0</td>\n",
       "      <td>1</td>\n",
       "      <td>...</td>\n",
       "      <td>7.0000</td>\n",
       "      <td>0</td>\n",
       "      <td>0</td>\n",
       "      <td>0</td>\n",
       "      <td>0</td>\n",
       "      <td>0</td>\n",
       "      <td>1</td>\n",
       "      <td>0</td>\n",
       "      <td>1</td>\n",
       "      <td>0</td>\n",
       "    </tr>\n",
       "    <tr>\n",
       "      <th>2</th>\n",
       "      <td>894</td>\n",
       "      <td>2</td>\n",
       "      <td>0</td>\n",
       "      <td>0</td>\n",
       "      <td>0</td>\n",
       "      <td>0</td>\n",
       "      <td>0</td>\n",
       "      <td>0</td>\n",
       "      <td>0</td>\n",
       "      <td>1</td>\n",
       "      <td>...</td>\n",
       "      <td>9.6875</td>\n",
       "      <td>0</td>\n",
       "      <td>0</td>\n",
       "      <td>0</td>\n",
       "      <td>0</td>\n",
       "      <td>0</td>\n",
       "      <td>0</td>\n",
       "      <td>1</td>\n",
       "      <td>0</td>\n",
       "      <td>1</td>\n",
       "    </tr>\n",
       "    <tr>\n",
       "      <th>3</th>\n",
       "      <td>895</td>\n",
       "      <td>3</td>\n",
       "      <td>0</td>\n",
       "      <td>0</td>\n",
       "      <td>0</td>\n",
       "      <td>0</td>\n",
       "      <td>0</td>\n",
       "      <td>0</td>\n",
       "      <td>1</td>\n",
       "      <td>0</td>\n",
       "      <td>...</td>\n",
       "      <td>8.6625</td>\n",
       "      <td>0</td>\n",
       "      <td>0</td>\n",
       "      <td>0</td>\n",
       "      <td>0</td>\n",
       "      <td>0</td>\n",
       "      <td>1</td>\n",
       "      <td>1</td>\n",
       "      <td>1</td>\n",
       "      <td>0</td>\n",
       "    </tr>\n",
       "    <tr>\n",
       "      <th>4</th>\n",
       "      <td>896</td>\n",
       "      <td>3</td>\n",
       "      <td>0</td>\n",
       "      <td>0</td>\n",
       "      <td>0</td>\n",
       "      <td>0</td>\n",
       "      <td>0</td>\n",
       "      <td>0</td>\n",
       "      <td>1</td>\n",
       "      <td>0</td>\n",
       "      <td>...</td>\n",
       "      <td>12.2875</td>\n",
       "      <td>0</td>\n",
       "      <td>0</td>\n",
       "      <td>0</td>\n",
       "      <td>0</td>\n",
       "      <td>0</td>\n",
       "      <td>0</td>\n",
       "      <td>1</td>\n",
       "      <td>1</td>\n",
       "      <td>0</td>\n",
       "    </tr>\n",
       "    <tr>\n",
       "      <th>...</th>\n",
       "      <td>...</td>\n",
       "      <td>...</td>\n",
       "      <td>...</td>\n",
       "      <td>...</td>\n",
       "      <td>...</td>\n",
       "      <td>...</td>\n",
       "      <td>...</td>\n",
       "      <td>...</td>\n",
       "      <td>...</td>\n",
       "      <td>...</td>\n",
       "      <td>...</td>\n",
       "      <td>...</td>\n",
       "      <td>...</td>\n",
       "      <td>...</td>\n",
       "      <td>...</td>\n",
       "      <td>...</td>\n",
       "      <td>...</td>\n",
       "      <td>...</td>\n",
       "      <td>...</td>\n",
       "      <td>...</td>\n",
       "      <td>...</td>\n",
       "    </tr>\n",
       "    <tr>\n",
       "      <th>413</th>\n",
       "      <td>1305</td>\n",
       "      <td>3</td>\n",
       "      <td>1</td>\n",
       "      <td>1</td>\n",
       "      <td>0</td>\n",
       "      <td>0</td>\n",
       "      <td>1</td>\n",
       "      <td>1</td>\n",
       "      <td>1</td>\n",
       "      <td>1</td>\n",
       "      <td>...</td>\n",
       "      <td>8.0500</td>\n",
       "      <td>0</td>\n",
       "      <td>0</td>\n",
       "      <td>0</td>\n",
       "      <td>0</td>\n",
       "      <td>0</td>\n",
       "      <td>0</td>\n",
       "      <td>1</td>\n",
       "      <td>1</td>\n",
       "      <td>0</td>\n",
       "    </tr>\n",
       "    <tr>\n",
       "      <th>414</th>\n",
       "      <td>1306</td>\n",
       "      <td>1</td>\n",
       "      <td>1</td>\n",
       "      <td>1</td>\n",
       "      <td>0</td>\n",
       "      <td>0</td>\n",
       "      <td>1</td>\n",
       "      <td>1</td>\n",
       "      <td>1</td>\n",
       "      <td>1</td>\n",
       "      <td>...</td>\n",
       "      <td>108.9000</td>\n",
       "      <td>0</td>\n",
       "      <td>0</td>\n",
       "      <td>0</td>\n",
       "      <td>0</td>\n",
       "      <td>0</td>\n",
       "      <td>0</td>\n",
       "      <td>1</td>\n",
       "      <td>1</td>\n",
       "      <td>1</td>\n",
       "    </tr>\n",
       "    <tr>\n",
       "      <th>415</th>\n",
       "      <td>1307</td>\n",
       "      <td>3</td>\n",
       "      <td>1</td>\n",
       "      <td>1</td>\n",
       "      <td>0</td>\n",
       "      <td>1</td>\n",
       "      <td>0</td>\n",
       "      <td>0</td>\n",
       "      <td>0</td>\n",
       "      <td>0</td>\n",
       "      <td>...</td>\n",
       "      <td>7.2500</td>\n",
       "      <td>0</td>\n",
       "      <td>0</td>\n",
       "      <td>0</td>\n",
       "      <td>0</td>\n",
       "      <td>0</td>\n",
       "      <td>0</td>\n",
       "      <td>1</td>\n",
       "      <td>1</td>\n",
       "      <td>0</td>\n",
       "    </tr>\n",
       "    <tr>\n",
       "      <th>416</th>\n",
       "      <td>1308</td>\n",
       "      <td>3</td>\n",
       "      <td>1</td>\n",
       "      <td>1</td>\n",
       "      <td>0</td>\n",
       "      <td>1</td>\n",
       "      <td>0</td>\n",
       "      <td>0</td>\n",
       "      <td>0</td>\n",
       "      <td>0</td>\n",
       "      <td>...</td>\n",
       "      <td>8.0500</td>\n",
       "      <td>0</td>\n",
       "      <td>0</td>\n",
       "      <td>0</td>\n",
       "      <td>0</td>\n",
       "      <td>0</td>\n",
       "      <td>0</td>\n",
       "      <td>1</td>\n",
       "      <td>1</td>\n",
       "      <td>0</td>\n",
       "    </tr>\n",
       "    <tr>\n",
       "      <th>417</th>\n",
       "      <td>1309</td>\n",
       "      <td>3</td>\n",
       "      <td>1</td>\n",
       "      <td>1</td>\n",
       "      <td>0</td>\n",
       "      <td>1</td>\n",
       "      <td>0</td>\n",
       "      <td>0</td>\n",
       "      <td>0</td>\n",
       "      <td>1</td>\n",
       "      <td>...</td>\n",
       "      <td>22.3583</td>\n",
       "      <td>0</td>\n",
       "      <td>0</td>\n",
       "      <td>0</td>\n",
       "      <td>0</td>\n",
       "      <td>0</td>\n",
       "      <td>0</td>\n",
       "      <td>1</td>\n",
       "      <td>1</td>\n",
       "      <td>1</td>\n",
       "    </tr>\n",
       "  </tbody>\n",
       "</table>\n",
       "<p>418 rows × 35 columns</p>\n",
       "</div>"
      ],
      "text/plain": [
       "     PassengerId  Pclass  Name_0  Name_1  Name_2  Name_3  Name_4  Name_5  \\\n",
       "0            892       3       0       0       0       0       0       0   \n",
       "1            893       3       0       0       0       0       0       0   \n",
       "2            894       2       0       0       0       0       0       0   \n",
       "3            895       3       0       0       0       0       0       0   \n",
       "4            896       3       0       0       0       0       0       0   \n",
       "..           ...     ...     ...     ...     ...     ...     ...     ...   \n",
       "413         1305       3       1       1       0       0       1       1   \n",
       "414         1306       1       1       1       0       0       1       1   \n",
       "415         1307       3       1       1       0       1       0       0   \n",
       "416         1308       3       1       1       0       1       0       0   \n",
       "417         1309       3       1       1       0       1       0       0   \n",
       "\n",
       "     Name_6  Name_7  ...      Fare  Cabin_0  Cabin_1  Cabin_2  Cabin_3  \\\n",
       "0         0       0  ...    7.8292        0        0        0        0   \n",
       "1         0       1  ...    7.0000        0        0        0        0   \n",
       "2         0       1  ...    9.6875        0        0        0        0   \n",
       "3         1       0  ...    8.6625        0        0        0        0   \n",
       "4         1       0  ...   12.2875        0        0        0        0   \n",
       "..      ...     ...  ...       ...      ...      ...      ...      ...   \n",
       "413       1       1  ...    8.0500        0        0        0        0   \n",
       "414       1       1  ...  108.9000        0        0        0        0   \n",
       "415       0       0  ...    7.2500        0        0        0        0   \n",
       "416       0       0  ...    8.0500        0        0        0        0   \n",
       "417       0       1  ...   22.3583        0        0        0        0   \n",
       "\n",
       "     Cabin_4  Cabin_5  Cabin_6  Embarked_0  Embarked_1  \n",
       "0          0        0        1           0           1  \n",
       "1          0        1        0           1           0  \n",
       "2          0        0        1           0           1  \n",
       "3          0        1        1           1           0  \n",
       "4          0        0        1           1           0  \n",
       "..       ...      ...      ...         ...         ...  \n",
       "413        0        0        1           1           0  \n",
       "414        0        0        1           1           1  \n",
       "415        0        0        1           1           0  \n",
       "416        0        0        1           1           0  \n",
       "417        0        0        1           1           1  \n",
       "\n",
       "[418 rows x 35 columns]"
      ]
     },
     "execution_count": 19,
     "metadata": {},
     "output_type": "execute_result"
    }
   ],
   "source": [
    "encoder=c.BinaryEncoder(cols=['Name','Sex','Ticket','Cabin','Embarked'],return_df=True)\n",
    "encoder.fit_transform(testing_data)"
   ]
  },
  {
   "cell_type": "markdown",
   "id": "c458241b",
   "metadata": {
    "papermill": {
     "duration": 0.018723,
     "end_time": "2023-03-11T01:16:37.353464",
     "exception": false,
     "start_time": "2023-03-11T01:16:37.334741",
     "status": "completed"
    },
    "tags": []
   },
   "source": [
    "# Feature Selection"
   ]
  },
  {
   "cell_type": "markdown",
   "id": "a074cc77",
   "metadata": {
    "papermill": {
     "duration": 0.018275,
     "end_time": "2023-03-11T01:16:37.390485",
     "exception": false,
     "start_time": "2023-03-11T01:16:37.372210",
     "status": "completed"
    },
    "tags": []
   },
   "source": [
    "# Using the features given by Kaggle"
   ]
  },
  {
   "cell_type": "code",
   "execution_count": 20,
   "id": "67cf3b69",
   "metadata": {
    "execution": {
     "iopub.execute_input": "2023-03-11T01:16:37.429958Z",
     "iopub.status.busy": "2023-03-11T01:16:37.429523Z",
     "iopub.status.idle": "2023-03-11T01:16:37.822866Z",
     "shell.execute_reply": "2023-03-11T01:16:37.821081Z"
    },
    "papermill": {
     "duration": 0.416162,
     "end_time": "2023-03-11T01:16:37.825394",
     "exception": false,
     "start_time": "2023-03-11T01:16:37.409232",
     "status": "completed"
    },
    "tags": []
   },
   "outputs": [
    {
     "name": "stdout",
     "output_type": "stream",
     "text": [
      "0.806060606060606\n"
     ]
    }
   ],
   "source": [
    "from sklearn.ensemble import RandomForestClassifier\n",
    "\n",
    "y = training_data[\"Survived\"]\n",
    "\n",
    "features = [\"Pclass\", \"Sex\", \"SibSp\", \"Parch\"]\n",
    "X = pd.get_dummies(training_data[features])\n",
    "X_train, X_test, y_train, y_test = train_test_split(X, y,  test_size=0.37, random_state=42)\n",
    "model = RandomForestClassifier(n_estimators=100, max_depth=5, random_state=1)\n",
    "model.fit(X, y)\n",
    "predictions = model.predict(X_test)\n",
    "print(metrics.accuracy_score(y_test,predictions))"
   ]
  },
  {
   "cell_type": "code",
   "execution_count": 21,
   "id": "8a080fa8",
   "metadata": {
    "execution": {
     "iopub.execute_input": "2023-03-11T01:16:37.870088Z",
     "iopub.status.busy": "2023-03-11T01:16:37.868975Z",
     "iopub.status.idle": "2023-03-11T01:16:37.900258Z",
     "shell.execute_reply": "2023-03-11T01:16:37.898944Z"
    },
    "papermill": {
     "duration": 0.058102,
     "end_time": "2023-03-11T01:16:37.902990",
     "exception": false,
     "start_time": "2023-03-11T01:16:37.844888",
     "status": "completed"
    },
    "tags": []
   },
   "outputs": [
    {
     "data": {
      "text/plain": [
       "array([0, 1, 0, 0, 1, 0, 1, 0, 1, 0, 0, 0, 1, 0, 1, 1, 0, 0, 1, 1, 0, 0,\n",
       "       1, 0, 1, 0, 1, 0, 0, 0, 0, 0, 0, 0, 0, 0, 1, 1, 0, 0, 0, 0, 0, 1,\n",
       "       1, 0, 0, 0, 1, 1, 0, 0, 1, 1, 0, 0, 0, 0, 0, 1, 0, 0, 0, 1, 1, 1,\n",
       "       1, 0, 0, 1, 1, 0, 1, 0, 1, 0, 0, 1, 0, 1, 0, 0, 0, 0, 0, 0, 1, 1,\n",
       "       1, 0, 1, 0, 1, 0, 0, 0, 1, 0, 1, 0, 1, 0, 0, 0, 1, 0, 0, 0, 0, 0,\n",
       "       0, 1, 1, 1, 1, 0, 0, 1, 0, 1, 1, 0, 1, 0, 0, 1, 0, 1, 0, 0, 0, 0,\n",
       "       0, 0, 0, 0, 0, 0, 1, 0, 0, 1, 1, 0, 0, 0, 0, 0, 0, 0, 1, 0, 0, 1,\n",
       "       0, 0, 1, 1, 0, 1, 1, 0, 1, 0, 0, 1, 0, 0, 1, 1, 0, 0, 0, 0, 0, 1,\n",
       "       1, 0, 1, 1, 0, 0, 1, 0, 1, 0, 1, 0, 0, 0, 0, 0, 0, 0, 1, 0, 1, 1,\n",
       "       0, 1, 1, 0, 0, 1, 0, 0, 1, 0, 1, 0, 0, 0, 0, 1, 0, 0, 1, 0, 1, 0,\n",
       "       1, 0, 1, 0, 1, 1, 0, 1, 0, 0, 0, 1, 0, 0, 0, 0, 0, 0, 1, 1, 1, 1,\n",
       "       0, 0, 0, 0, 1, 0, 1, 1, 1, 0, 0, 0, 0, 0, 0, 0, 1, 0, 0, 0, 1, 1,\n",
       "       0, 0, 0, 0, 1, 0, 0, 0, 1, 1, 0, 1, 0, 0, 0, 0, 1, 0, 1, 1, 1, 0,\n",
       "       0, 0, 0, 0, 0, 1, 0, 0, 0, 0, 1, 0, 0, 0, 0, 0, 0, 0, 1, 1, 1, 0,\n",
       "       0, 1, 0, 0, 0, 1, 1, 1, 0, 0, 0, 0, 0, 0, 0, 0, 1, 0, 1, 0, 0, 0,\n",
       "       1, 0, 0, 1, 0, 0, 0, 0, 0, 0, 0, 0, 0, 1, 0, 1, 0, 1, 0, 1, 1, 0,\n",
       "       0, 0, 0, 0, 1, 0, 0, 1, 0, 1, 1, 0, 1, 0, 0, 1, 1, 0, 0, 1, 0, 0,\n",
       "       1, 1, 1, 0, 0, 0, 0, 0, 1, 1, 0, 1, 0, 0, 0, 0, 0, 1, 0, 0, 0, 1,\n",
       "       0, 1, 0, 0, 1, 0, 1, 0, 0, 0, 0, 0, 1, 1, 1, 1, 1, 0, 1, 0, 0, 0])"
      ]
     },
     "execution_count": 21,
     "metadata": {},
     "output_type": "execute_result"
    }
   ],
   "source": [
    "test_predict = model.predict(testing_data[features])\n",
    "test_predict\n"
   ]
  },
  {
   "cell_type": "code",
   "execution_count": 22,
   "id": "ec6d5274",
   "metadata": {
    "execution": {
     "iopub.execute_input": "2023-03-11T01:16:37.943746Z",
     "iopub.status.busy": "2023-03-11T01:16:37.943057Z",
     "iopub.status.idle": "2023-03-11T01:16:37.953650Z",
     "shell.execute_reply": "2023-03-11T01:16:37.951994Z"
    },
    "papermill": {
     "duration": 0.034361,
     "end_time": "2023-03-11T01:16:37.956744",
     "exception": false,
     "start_time": "2023-03-11T01:16:37.922383",
     "status": "completed"
    },
    "tags": []
   },
   "outputs": [
    {
     "name": "stdout",
     "output_type": "stream",
     "text": [
      "Your submission was successfully saved!\n"
     ]
    }
   ],
   "source": [
    "output = pd.DataFrame({'PassengerId': testing_data.PassengerId, 'Survived': test_predict})\n",
    "output.to_csv('submission_original.csv', index=False)\n",
    "print(\"Your submission was successfully saved!\")"
   ]
  },
  {
   "cell_type": "markdown",
   "id": "4faa443b",
   "metadata": {
    "papermill": {
     "duration": 0.018836,
     "end_time": "2023-03-11T01:16:37.995249",
     "exception": false,
     "start_time": "2023-03-11T01:16:37.976413",
     "status": "completed"
    },
    "tags": []
   },
   "source": [
    "# Correlation values with Survived column"
   ]
  },
  {
   "cell_type": "code",
   "execution_count": 23,
   "id": "2324449f",
   "metadata": {
    "execution": {
     "iopub.execute_input": "2023-03-11T01:16:38.035860Z",
     "iopub.status.busy": "2023-03-11T01:16:38.035434Z",
     "iopub.status.idle": "2023-03-11T01:16:38.045372Z",
     "shell.execute_reply": "2023-03-11T01:16:38.043920Z"
    },
    "papermill": {
     "duration": 0.034279,
     "end_time": "2023-03-11T01:16:38.048534",
     "exception": false,
     "start_time": "2023-03-11T01:16:38.014255",
     "status": "completed"
    },
    "tags": []
   },
   "outputs": [
    {
     "name": "stdout",
     "output_type": "stream",
     "text": [
      "PassengerId   -0.005007\n",
      "Survived       1.000000\n",
      "Pclass        -0.338481\n",
      "Name          -0.057343\n",
      "Sex           -0.543351\n",
      "Age           -0.069809\n",
      "SibSp         -0.035322\n",
      "Parch          0.081629\n",
      "Ticket        -0.164549\n",
      "Fare           0.257307\n",
      "Cabin          0.175690\n",
      "Embarked      -0.167675\n",
      "Name: Survived, dtype: float64\n"
     ]
    }
   ],
   "source": [
    "col_names=['PassengerId','Survived','Pclass',\"Name\",\"Sex\",\"Age\",\"SibSp\",\"Parch\",\"Ticket\",\"Fare\",\"Cabin\",\"Embarked\"]\n",
    "corr_values=training_data[training_data.columns[0:]].corr()['Survived']\n",
    "print(corr_values)"
   ]
  },
  {
   "cell_type": "markdown",
   "id": "19c502ea",
   "metadata": {
    "papermill": {
     "duration": 0.018823,
     "end_time": "2023-03-11T01:16:38.087093",
     "exception": false,
     "start_time": "2023-03-11T01:16:38.068270",
     "status": "completed"
    },
    "tags": []
   },
   "source": [
    "# Setting coefficient threshold"
   ]
  },
  {
   "cell_type": "code",
   "execution_count": 24,
   "id": "4a3ca21a",
   "metadata": {
    "execution": {
     "iopub.execute_input": "2023-03-11T01:16:38.127437Z",
     "iopub.status.busy": "2023-03-11T01:16:38.126998Z",
     "iopub.status.idle": "2023-03-11T01:16:38.133228Z",
     "shell.execute_reply": "2023-03-11T01:16:38.132102Z"
    },
    "papermill": {
     "duration": 0.029307,
     "end_time": "2023-03-11T01:16:38.135689",
     "exception": false,
     "start_time": "2023-03-11T01:16:38.106382",
     "status": "completed"
    },
    "tags": []
   },
   "outputs": [
    {
     "name": "stdout",
     "output_type": "stream",
     "text": [
      "Survived\n",
      "Pclass\n",
      "Sex\n",
      "Ticket\n",
      "Fare\n",
      "Cabin\n",
      "Embarked\n"
     ]
    }
   ],
   "source": [
    "for i in range(len(corr_values)):\n",
    "    if abs(corr_values[i]) > 0.1:\n",
    "        print(col_names[i])"
   ]
  },
  {
   "cell_type": "markdown",
   "id": "91d1bbd7",
   "metadata": {
    "papermill": {
     "duration": 0.019157,
     "end_time": "2023-03-11T01:16:38.175026",
     "exception": false,
     "start_time": "2023-03-11T01:16:38.155869",
     "status": "completed"
    },
    "tags": []
   },
   "source": [
    "# HeatMap generation using correlation values"
   ]
  },
  {
   "cell_type": "code",
   "execution_count": 25,
   "id": "c0c03832",
   "metadata": {
    "execution": {
     "iopub.execute_input": "2023-03-11T01:16:38.216570Z",
     "iopub.status.busy": "2023-03-11T01:16:38.216178Z",
     "iopub.status.idle": "2023-03-11T01:16:39.311338Z",
     "shell.execute_reply": "2023-03-11T01:16:39.310265Z"
    },
    "papermill": {
     "duration": 1.119126,
     "end_time": "2023-03-11T01:16:39.313782",
     "exception": false,
     "start_time": "2023-03-11T01:16:38.194656",
     "status": "completed"
    },
    "tags": []
   },
   "outputs": [
    {
     "data": {
      "text/plain": [
       "<AxesSubplot:>"
      ]
     },
     "execution_count": 25,
     "metadata": {},
     "output_type": "execute_result"
    },
    {
     "data": {
      "image/png": "[encoded data removed]",
      "text/plain": [
       "<Figure size 640x480 with 2 Axes>"
      ]
     },
     "metadata": {},
     "output_type": "display_data"
    }
   ],
   "source": [
    "sns.heatmap(training_data.corr(), annot=True,annot_kws={'size': 8})"
   ]
  },
  {
   "cell_type": "markdown",
   "id": "1c56e19d",
   "metadata": {
    "papermill": {
     "duration": 0.021345,
     "end_time": "2023-03-11T01:16:39.356671",
     "exception": false,
     "start_time": "2023-03-11T01:16:39.335326",
     "status": "completed"
    },
    "tags": []
   },
   "source": [
    "Columns Pclass,Sex,Parch,Ticket,Fare,Cabin,Embarked have are positively correlated with Survival rate. Among these Sex,Pclass,Fare are highly correlated."
   ]
  },
  {
   "cell_type": "markdown",
   "id": "fd8739b7",
   "metadata": {
    "papermill": {
     "duration": 0.021658,
     "end_time": "2023-03-11T01:16:39.400227",
     "exception": false,
     "start_time": "2023-03-11T01:16:39.378569",
     "status": "completed"
    },
    "tags": []
   },
   "source": [
    "# Accuracy score calculation with correlation parameters using Random Forest Classifier"
   ]
  },
  {
   "cell_type": "code",
   "execution_count": 26,
   "id": "987c0f5e",
   "metadata": {
    "execution": {
     "iopub.execute_input": "2023-03-11T01:16:39.445962Z",
     "iopub.status.busy": "2023-03-11T01:16:39.445454Z",
     "iopub.status.idle": "2023-03-11T01:16:39.647923Z",
     "shell.execute_reply": "2023-03-11T01:16:39.646518Z"
    },
    "papermill": {
     "duration": 0.228995,
     "end_time": "2023-03-11T01:16:39.650661",
     "exception": false,
     "start_time": "2023-03-11T01:16:39.421666",
     "status": "completed"
    },
    "tags": []
   },
   "outputs": [
    {
     "name": "stdout",
     "output_type": "stream",
     "text": [
      "0.8406779661016949\n"
     ]
    }
   ],
   "source": [
    "from sklearn.ensemble import RandomForestClassifier\n",
    "from sklearn.model_selection import train_test_split\n",
    "from sklearn import metrics\n",
    "\n",
    "y = training_data[\"Survived\"]\n",
    "features = [\"Pclass\",\"SibSp\",\"Parch\",\"Sex\",\"Fare\",\"Cabin\",\"Embarked\"]\n",
    "X = pd.get_dummies(training_data[features])\n",
    "X_train, X_test, y_train, y_test = train_test_split(X, y,  test_size=0.33, random_state=42)\n",
    "model = RandomForestClassifier(n_estimators=100, max_depth=5, random_state=1)\n",
    "model.fit(X, y)\n",
    "predictions_c = model.predict(X_test)\n",
    "print(metrics.accuracy_score(y_test,predictions_c))"
   ]
  },
  {
   "cell_type": "markdown",
   "id": "79afd7f7",
   "metadata": {
    "papermill": {
     "duration": 0.020838,
     "end_time": "2023-03-11T01:16:39.693538",
     "exception": false,
     "start_time": "2023-03-11T01:16:39.672700",
     "status": "completed"
    },
    "tags": []
   },
   "source": [
    "# Model prediction on test data"
   ]
  },
  {
   "cell_type": "code",
   "execution_count": 27,
   "id": "f58edf8a",
   "metadata": {
    "execution": {
     "iopub.execute_input": "2023-03-11T01:16:39.738546Z",
     "iopub.status.busy": "2023-03-11T01:16:39.737795Z",
     "iopub.status.idle": "2023-03-11T01:16:39.765836Z",
     "shell.execute_reply": "2023-03-11T01:16:39.764590Z"
    },
    "papermill": {
     "duration": 0.053419,
     "end_time": "2023-03-11T01:16:39.768354",
     "exception": false,
     "start_time": "2023-03-11T01:16:39.714935",
     "status": "completed"
    },
    "tags": []
   },
   "outputs": [
    {
     "data": {
      "text/plain": [
       "array([0, 0, 0, 0, 1, 0, 1, 0, 1, 0, 0, 0, 1, 0, 1, 1, 0, 0, 0, 1, 1, 0,\n",
       "       1, 1, 1, 0, 1, 0, 0, 0, 0, 0, 0, 0, 1, 0, 0, 0, 0, 0, 0, 0, 0, 1,\n",
       "       1, 0, 0, 0, 1, 1, 0, 0, 1, 1, 0, 0, 0, 0, 0, 1, 0, 0, 0, 1, 1, 1,\n",
       "       1, 0, 0, 1, 1, 0, 0, 0, 1, 0, 0, 1, 0, 1, 0, 1, 0, 0, 0, 0, 1, 0,\n",
       "       1, 0, 1, 0, 1, 0, 0, 0, 1, 0, 0, 0, 1, 0, 0, 0, 1, 0, 0, 0, 0, 0,\n",
       "       0, 1, 1, 1, 1, 0, 0, 1, 1, 1, 1, 0, 1, 0, 0, 1, 0, 1, 0, 0, 0, 0,\n",
       "       0, 0, 0, 0, 0, 0, 0, 0, 0, 1, 1, 0, 0, 0, 0, 0, 0, 0, 1, 0, 0, 1,\n",
       "       0, 0, 1, 0, 0, 1, 1, 0, 1, 0, 0, 0, 0, 0, 1, 0, 0, 0, 0, 0, 0, 1,\n",
       "       1, 1, 1, 1, 0, 1, 1, 0, 1, 0, 1, 0, 0, 0, 0, 0, 0, 0, 0, 0, 1, 0,\n",
       "       0, 0, 1, 0, 1, 1, 0, 0, 1, 0, 1, 0, 0, 0, 0, 1, 0, 0, 1, 1, 1, 0,\n",
       "       1, 0, 1, 0, 1, 1, 0, 1, 0, 0, 0, 1, 0, 0, 1, 0, 1, 0, 1, 1, 1, 1,\n",
       "       1, 0, 0, 0, 1, 0, 1, 1, 1, 0, 0, 0, 0, 0, 0, 0, 1, 0, 0, 0, 1, 1,\n",
       "       0, 0, 0, 0, 0, 0, 0, 0, 1, 1, 0, 1, 0, 0, 0, 0, 0, 0, 1, 1, 1, 0,\n",
       "       0, 0, 0, 0, 0, 1, 0, 1, 0, 0, 1, 0, 0, 0, 0, 0, 0, 0, 1, 1, 1, 0,\n",
       "       1, 1, 0, 0, 0, 1, 1, 1, 1, 0, 0, 0, 0, 0, 0, 0, 1, 0, 1, 0, 0, 0,\n",
       "       1, 0, 0, 1, 0, 0, 0, 0, 0, 0, 0, 0, 0, 1, 0, 1, 0, 1, 0, 1, 1, 0,\n",
       "       0, 0, 0, 0, 1, 0, 0, 1, 0, 1, 1, 0, 1, 0, 0, 1, 1, 0, 0, 1, 0, 0,\n",
       "       1, 1, 0, 0, 0, 0, 0, 0, 1, 1, 0, 1, 0, 0, 0, 0, 0, 1, 0, 0, 0, 1,\n",
       "       0, 1, 0, 0, 1, 0, 1, 0, 0, 0, 0, 1, 1, 1, 1, 1, 0, 0, 1, 0, 0, 0])"
      ]
     },
     "execution_count": 27,
     "metadata": {},
     "output_type": "execute_result"
    }
   ],
   "source": [
    "test_predict = model.predict(testing_data[features])\n",
    "test_predict"
   ]
  },
  {
   "cell_type": "markdown",
   "id": "15aaad08",
   "metadata": {
    "papermill": {
     "duration": 0.021066,
     "end_time": "2023-03-11T01:16:39.810608",
     "exception": false,
     "start_time": "2023-03-11T01:16:39.789542",
     "status": "completed"
    },
    "tags": []
   },
   "source": [
    "# Generating output csv"
   ]
  },
  {
   "cell_type": "code",
   "execution_count": 28,
   "id": "9be93374",
   "metadata": {
    "execution": {
     "iopub.execute_input": "2023-03-11T01:16:39.856077Z",
     "iopub.status.busy": "2023-03-11T01:16:39.855276Z",
     "iopub.status.idle": "2023-03-11T01:16:39.864551Z",
     "shell.execute_reply": "2023-03-11T01:16:39.863237Z"
    },
    "papermill": {
     "duration": 0.035282,
     "end_time": "2023-03-11T01:16:39.867148",
     "exception": false,
     "start_time": "2023-03-11T01:16:39.831866",
     "status": "completed"
    },
    "tags": []
   },
   "outputs": [
    {
     "name": "stdout",
     "output_type": "stream",
     "text": [
      "Your submission was successfully saved!\n"
     ]
    }
   ],
   "source": [
    "output = pd.DataFrame({'PassengerId': testing_data.PassengerId, 'Survived': test_predict})\n",
    "output.to_csv('submission_corr.csv', index=False)\n",
    "print(\"Your submission was successfully saved!\")"
   ]
  },
  {
   "cell_type": "markdown",
   "id": "fbd57868",
   "metadata": {
    "papermill": {
     "duration": 0.021213,
     "end_time": "2023-03-11T01:16:39.909739",
     "exception": false,
     "start_time": "2023-03-11T01:16:39.888526",
     "status": "completed"
    },
    "tags": []
   },
   "source": [
    "# Chi-Square test"
   ]
  },
  {
   "cell_type": "code",
   "execution_count": 29,
   "id": "cbdb0f72",
   "metadata": {
    "execution": {
     "iopub.execute_input": "2023-03-11T01:16:39.954365Z",
     "iopub.status.busy": "2023-03-11T01:16:39.953906Z",
     "iopub.status.idle": "2023-03-11T01:16:39.977040Z",
     "shell.execute_reply": "2023-03-11T01:16:39.976102Z"
    },
    "papermill": {
     "duration": 0.048014,
     "end_time": "2023-03-11T01:16:39.979257",
     "exception": false,
     "start_time": "2023-03-11T01:16:39.931243",
     "status": "completed"
    },
    "tags": []
   },
   "outputs": [
    {
     "data": {
      "text/plain": [
       "(array([3.31293407e+00, 3.08736994e+01, 4.35568915e+02, 9.27024470e+01,\n",
       "        2.46879258e+01, 2.58186538e+00, 1.00974991e+01, 2.87165547e+03,\n",
       "        4.51831909e+03, 2.84482789e+02, 1.02025247e+01]),\n",
       " array([6.87366651e-02, 2.75378563e-08, 9.97314604e-97, 6.07783826e-22,\n",
       "        6.74051416e-07, 1.08094210e-01, 1.48470676e-03, 0.00000000e+00,\n",
       "        0.00000000e+00, 7.92037850e-64, 1.40248517e-03]))"
      ]
     },
     "execution_count": 29,
     "metadata": {},
     "output_type": "execute_result"
    }
   ],
   "source": [
    "from sklearn.feature_selection import chi2\n",
    "X = training_data.drop('Survived',axis=1)\n",
    "y = training_data['Survived']\n",
    "chi_scores = chi2(X,y)\n",
    "chi_scores"
   ]
  },
  {
   "cell_type": "code",
   "execution_count": 30,
   "id": "a068ff95",
   "metadata": {
    "execution": {
     "iopub.execute_input": "2023-03-11T01:16:40.024710Z",
     "iopub.status.busy": "2023-03-11T01:16:40.023963Z",
     "iopub.status.idle": "2023-03-11T01:16:40.309154Z",
     "shell.execute_reply": "2023-03-11T01:16:40.307999Z"
    },
    "papermill": {
     "duration": 0.31056,
     "end_time": "2023-03-11T01:16:40.311522",
     "exception": false,
     "start_time": "2023-03-11T01:16:40.000962",
     "status": "completed"
    },
    "tags": []
   },
   "outputs": [
    {
     "data": {
      "text/plain": [
       "<AxesSubplot:>"
      ]
     },
     "execution_count": 30,
     "metadata": {},
     "output_type": "execute_result"
    },
    {
     "data": {
      "image/png": "[encoded data removed]",
      "text/plain": [
       "<Figure size 640x480 with 1 Axes>"
      ]
     },
     "metadata": {},
     "output_type": "display_data"
    }
   ],
   "source": [
    "p_values = pd.Series(chi_scores[1],index = X.columns)\n",
    "p_values.sort_values(ascending = False , inplace = True)\n",
    "p_values.plot.bar()"
   ]
  },
  {
   "cell_type": "markdown",
   "id": "d227a88c",
   "metadata": {
    "papermill": {
     "duration": 0.022082,
     "end_time": "2023-03-11T01:16:40.356348",
     "exception": false,
     "start_time": "2023-03-11T01:16:40.334266",
     "status": "completed"
    },
    "tags": []
   },
   "source": [
    "Features selected from above graph are Parch,Embarked,Age,Pclass,Sex,Cabin,Name,Ticket,Fare"
   ]
  },
  {
   "cell_type": "markdown",
   "id": "98475c28",
   "metadata": {
    "papermill": {
     "duration": 0.021621,
     "end_time": "2023-03-11T01:16:40.400166",
     "exception": false,
     "start_time": "2023-03-11T01:16:40.378545",
     "status": "completed"
    },
    "tags": []
   },
   "source": [
    "# Train-test split"
   ]
  },
  {
   "cell_type": "code",
   "execution_count": 31,
   "id": "e02dc0c1",
   "metadata": {
    "execution": {
     "iopub.execute_input": "2023-03-11T01:16:40.446563Z",
     "iopub.status.busy": "2023-03-11T01:16:40.445904Z",
     "iopub.status.idle": "2023-03-11T01:16:40.459349Z",
     "shell.execute_reply": "2023-03-11T01:16:40.458118Z"
    },
    "papermill": {
     "duration": 0.039784,
     "end_time": "2023-03-11T01:16:40.461973",
     "exception": false,
     "start_time": "2023-03-11T01:16:40.422189",
     "status": "completed"
    },
    "tags": []
   },
   "outputs": [],
   "source": [
    "y = training_data[\"Survived\"]\n",
    "\n",
    "features = [\"Pclass\",\"Name\",\"Sex\",\"Age\",\"Parch\",\"Ticket\",\"Fare\",\"Cabin\",\"Embarked\",]\n",
    "X = pd.get_dummies(training_data[features])\n",
    "X_train, X_test, y_train, y_test = train_test_split(X, y,  test_size=0.33, random_state=42)\n",
    "accuracy=[]"
   ]
  },
  {
   "cell_type": "markdown",
   "id": "3fe9acef",
   "metadata": {
    "papermill": {
     "duration": 0.021661,
     "end_time": "2023-03-11T01:16:40.505669",
     "exception": false,
     "start_time": "2023-03-11T01:16:40.484008",
     "status": "completed"
    },
    "tags": []
   },
   "source": [
    "# Model prediction using Linear SVC"
   ]
  },
  {
   "cell_type": "code",
   "execution_count": 32,
   "id": "25e7d7f2",
   "metadata": {
    "execution": {
     "iopub.execute_input": "2023-03-11T01:16:40.551813Z",
     "iopub.status.busy": "2023-03-11T01:16:40.551361Z",
     "iopub.status.idle": "2023-03-11T01:17:36.425314Z",
     "shell.execute_reply": "2023-03-11T01:17:36.424286Z"
    },
    "papermill": {
     "duration": 55.900084,
     "end_time": "2023-03-11T01:17:36.428017",
     "exception": false,
     "start_time": "2023-03-11T01:16:40.527933",
     "status": "completed"
    },
    "tags": []
   },
   "outputs": [],
   "source": [
    "from sklearn import svm\n",
    "linear_svm = svm.SVC(kernel='linear', C = 1.0)\n",
    "linear_svm.fit(X,y)\n",
    "predictions_svm=linear_svm.predict(X_test)\n",
    "accuracy.append(metrics.accuracy_score(y_test,predictions_svm))"
   ]
  },
  {
   "cell_type": "markdown",
   "id": "053ae8cb",
   "metadata": {
    "papermill": {
     "duration": 0.022083,
     "end_time": "2023-03-11T01:17:36.472926",
     "exception": false,
     "start_time": "2023-03-11T01:17:36.450843",
     "status": "completed"
    },
    "tags": []
   },
   "source": [
    "# Model Prediction using Decision Tree Classifier"
   ]
  },
  {
   "cell_type": "code",
   "execution_count": 33,
   "id": "a70f05b7",
   "metadata": {
    "execution": {
     "iopub.execute_input": "2023-03-11T01:17:36.520842Z",
     "iopub.status.busy": "2023-03-11T01:17:36.519576Z",
     "iopub.status.idle": "2023-03-11T01:17:36.532405Z",
     "shell.execute_reply": "2023-03-11T01:17:36.531409Z"
    },
    "papermill": {
     "duration": 0.03974,
     "end_time": "2023-03-11T01:17:36.535174",
     "exception": false,
     "start_time": "2023-03-11T01:17:36.495434",
     "status": "completed"
    },
    "tags": []
   },
   "outputs": [],
   "source": [
    "from sklearn.tree import DecisionTreeClassifier\n",
    "dc=DecisionTreeClassifier(criterion = \"gini\",random_state = 100,max_depth=3, min_samples_leaf=5)\n",
    "dc.fit(X,y)\n",
    "predictions_dc=dc.predict(X_test)\n",
    "accuracy.append(metrics.accuracy_score(y_test,predictions_dc))"
   ]
  },
  {
   "cell_type": "markdown",
   "id": "95013f2b",
   "metadata": {
    "papermill": {
     "duration": 0.02182,
     "end_time": "2023-03-11T01:17:36.580176",
     "exception": false,
     "start_time": "2023-03-11T01:17:36.558356",
     "status": "completed"
    },
    "tags": []
   },
   "source": [
    "# Model prediction using Logisitic Regression classifier\n"
   ]
  },
  {
   "cell_type": "code",
   "execution_count": 34,
   "id": "fb209577",
   "metadata": {
    "execution": {
     "iopub.execute_input": "2023-03-11T01:17:36.626981Z",
     "iopub.status.busy": "2023-03-11T01:17:36.626264Z",
     "iopub.status.idle": "2023-03-11T01:17:36.759012Z",
     "shell.execute_reply": "2023-03-11T01:17:36.757771Z"
    },
    "papermill": {
     "duration": 0.159179,
     "end_time": "2023-03-11T01:17:36.761919",
     "exception": false,
     "start_time": "2023-03-11T01:17:36.602740",
     "status": "completed"
    },
    "tags": []
   },
   "outputs": [],
   "source": [
    "from sklearn import linear_model\n",
    "lr_model= linear_model.LogisticRegression(max_iter=1000)  \n",
    "lr_model.fit(X, y)  \n",
    "predictions_lr = lr_model.predict(X_test)\n",
    "accuracy.append(metrics.accuracy_score(y_test,predictions_lr))"
   ]
  },
  {
   "cell_type": "markdown",
   "id": "436eaad8",
   "metadata": {
    "papermill": {
     "duration": 0.02261,
     "end_time": "2023-03-11T01:17:36.807141",
     "exception": false,
     "start_time": "2023-03-11T01:17:36.784531",
     "status": "completed"
    },
    "tags": []
   },
   "source": [
    "# Model prediction using RandomForest classifier"
   ]
  },
  {
   "cell_type": "code",
   "execution_count": 35,
   "id": "516184d2",
   "metadata": {
    "execution": {
     "iopub.execute_input": "2023-03-11T01:17:36.855009Z",
     "iopub.status.busy": "2023-03-11T01:17:36.854554Z",
     "iopub.status.idle": "2023-03-11T01:17:37.208499Z",
     "shell.execute_reply": "2023-03-11T01:17:37.207233Z"
    },
    "papermill": {
     "duration": 0.381126,
     "end_time": "2023-03-11T01:17:37.211271",
     "exception": false,
     "start_time": "2023-03-11T01:17:36.830145",
     "status": "completed"
    },
    "tags": []
   },
   "outputs": [],
   "source": [
    "from sklearn.ensemble import RandomForestClassifier\n",
    "model = RandomForestClassifier(n_estimators=100, max_depth=5, random_state=1)\n",
    "model.fit(X, y)\n",
    "predictions_rf = model.predict(X_test)\n",
    "accuracy.append(metrics.accuracy_score(y_test,predictions_rf))\n"
   ]
  },
  {
   "cell_type": "markdown",
   "id": "65c0cfc8",
   "metadata": {
    "papermill": {
     "duration": 0.022966,
     "end_time": "2023-03-11T01:17:37.257507",
     "exception": false,
     "start_time": "2023-03-11T01:17:37.234541",
     "status": "completed"
    },
    "tags": []
   },
   "source": [
    "# Model prediction on test dataset"
   ]
  },
  {
   "cell_type": "code",
   "execution_count": 36,
   "id": "293c28c6",
   "metadata": {
    "execution": {
     "iopub.execute_input": "2023-03-11T01:17:37.306755Z",
     "iopub.status.busy": "2023-03-11T01:17:37.306283Z",
     "iopub.status.idle": "2023-03-11T01:17:37.337879Z",
     "shell.execute_reply": "2023-03-11T01:17:37.336503Z"
    },
    "papermill": {
     "duration": 0.058836,
     "end_time": "2023-03-11T01:17:37.340778",
     "exception": false,
     "start_time": "2023-03-11T01:17:37.281942",
     "status": "completed"
    },
    "tags": []
   },
   "outputs": [
    {
     "data": {
      "text/plain": [
       "array([0, 0, 0, 0, 1, 0, 1, 0, 1, 0, 0, 0, 1, 0, 1, 1, 0, 0, 0, 1, 0, 0,\n",
       "       1, 0, 1, 0, 1, 0, 0, 0, 0, 0, 0, 0, 0, 0, 1, 1, 0, 1, 0, 0, 0, 1,\n",
       "       1, 0, 0, 0, 1, 0, 0, 0, 1, 1, 0, 0, 0, 0, 0, 1, 0, 0, 0, 1, 1, 1,\n",
       "       1, 0, 0, 1, 1, 0, 1, 0, 1, 0, 0, 1, 0, 1, 1, 0, 0, 0, 0, 0, 1, 1,\n",
       "       1, 1, 1, 0, 1, 0, 0, 0, 1, 0, 1, 0, 1, 0, 0, 0, 1, 0, 0, 0, 0, 0,\n",
       "       0, 1, 1, 1, 1, 0, 0, 1, 1, 1, 1, 0, 1, 0, 0, 1, 0, 1, 0, 0, 0, 0,\n",
       "       0, 0, 0, 0, 0, 0, 0, 0, 0, 1, 0, 0, 0, 0, 0, 0, 1, 0, 1, 0, 0, 1,\n",
       "       0, 0, 1, 1, 0, 0, 1, 1, 1, 0, 0, 1, 0, 0, 1, 0, 0, 0, 0, 0, 0, 1,\n",
       "       1, 0, 1, 1, 0, 1, 1, 0, 1, 0, 1, 0, 0, 0, 0, 0, 0, 0, 1, 0, 1, 1,\n",
       "       0, 0, 1, 1, 0, 1, 0, 0, 1, 0, 1, 0, 0, 0, 0, 1, 1, 0, 1, 0, 1, 0,\n",
       "       1, 0, 1, 0, 1, 1, 0, 1, 0, 0, 0, 1, 0, 0, 0, 0, 0, 0, 1, 1, 1, 1,\n",
       "       0, 0, 0, 0, 1, 0, 1, 1, 1, 0, 1, 0, 0, 0, 0, 0, 1, 0, 0, 0, 1, 1,\n",
       "       0, 0, 0, 0, 0, 0, 0, 0, 1, 1, 0, 1, 0, 0, 0, 0, 1, 1, 1, 1, 1, 0,\n",
       "       0, 1, 0, 0, 0, 1, 0, 1, 0, 0, 1, 0, 0, 0, 0, 0, 0, 0, 1, 1, 1, 1,\n",
       "       1, 1, 0, 0, 0, 1, 1, 1, 0, 0, 0, 0, 0, 0, 0, 0, 1, 0, 1, 0, 0, 0,\n",
       "       1, 0, 0, 1, 0, 0, 0, 0, 0, 0, 0, 0, 0, 1, 0, 1, 0, 1, 0, 1, 1, 0,\n",
       "       0, 1, 1, 0, 1, 0, 0, 1, 0, 1, 1, 0, 1, 0, 0, 1, 1, 0, 0, 1, 0, 0,\n",
       "       1, 1, 1, 0, 0, 1, 0, 0, 1, 1, 0, 1, 0, 0, 0, 0, 1, 1, 0, 0, 0, 1,\n",
       "       0, 1, 0, 0, 1, 0, 1, 1, 0, 0, 0, 0, 1, 1, 1, 1, 1, 0, 1, 0, 0, 0])"
      ]
     },
     "execution_count": 36,
     "metadata": {},
     "output_type": "execute_result"
    }
   ],
   "source": [
    "test_predict = model.predict(testing_data[features])\n",
    "test_predict"
   ]
  },
  {
   "cell_type": "markdown",
   "id": "4feb1f0d",
   "metadata": {
    "papermill": {
     "duration": 0.022509,
     "end_time": "2023-03-11T01:17:37.386661",
     "exception": false,
     "start_time": "2023-03-11T01:17:37.364152",
     "status": "completed"
    },
    "tags": []
   },
   "source": [
    "# Plotting accuracy scores of all classifiers"
   ]
  },
  {
   "cell_type": "code",
   "execution_count": 37,
   "id": "5857be8a",
   "metadata": {
    "execution": {
     "iopub.execute_input": "2023-03-11T01:17:37.435169Z",
     "iopub.status.busy": "2023-03-11T01:17:37.434416Z",
     "iopub.status.idle": "2023-03-11T01:17:37.681033Z",
     "shell.execute_reply": "2023-03-11T01:17:37.679782Z"
    },
    "papermill": {
     "duration": 0.273508,
     "end_time": "2023-03-11T01:17:37.684069",
     "exception": false,
     "start_time": "2023-03-11T01:17:37.410561",
     "status": "completed"
    },
    "tags": []
   },
   "outputs": [
    {
     "name": "stdout",
     "output_type": "stream",
     "text": [
      "            Classifiers  Accuracies\n",
      "0            Linear SVM    0.803390\n",
      "1         Decision Tree    0.827119\n",
      "2  Logisitic Regression    0.816949\n",
      "3         Random Forest    0.864407\n"
     ]
    },
    {
     "data": {
      "text/plain": [
       "<AxesSubplot:xlabel='Classifiers', ylabel='Accuracies'>"
      ]
     },
     "execution_count": 37,
     "metadata": {},
     "output_type": "execute_result"
    },
    {
     "data": {
      "image/png": "[encoded data removed]",
      "text/plain": [
       "<Figure size 640x480 with 1 Axes>"
      ]
     },
     "metadata": {},
     "output_type": "display_data"
    }
   ],
   "source": [
    "class_accuracy=[[\"Linear SVM\",accuracy[0]],[\"Decision Tree\",accuracy[1]],[\"Logisitic Regression\",accuracy[2]],[\"Random Forest\",accuracy[3]]]\n",
    "df=pd.DataFrame(class_accuracy,columns=[\"Classifiers\",\"Accuracies\"])\n",
    "print(df)\n",
    "sns.lineplot(data=df,x=df[\"Classifiers\"],y=df[\"Accuracies\"])"
   ]
  },
  {
   "cell_type": "markdown",
   "id": "3324ef13",
   "metadata": {
    "papermill": {
     "duration": 0.025856,
     "end_time": "2023-03-11T01:17:37.734209",
     "exception": false,
     "start_time": "2023-03-11T01:17:37.708353",
     "status": "completed"
    },
    "tags": []
   },
   "source": [
    "# Generating output csv"
   ]
  },
  {
   "cell_type": "code",
   "execution_count": 38,
   "id": "2a4f965b",
   "metadata": {
    "execution": {
     "iopub.execute_input": "2023-03-11T01:17:37.783706Z",
     "iopub.status.busy": "2023-03-11T01:17:37.783303Z",
     "iopub.status.idle": "2023-03-11T01:17:37.793390Z",
     "shell.execute_reply": "2023-03-11T01:17:37.791597Z"
    },
    "papermill": {
     "duration": 0.038525,
     "end_time": "2023-03-11T01:17:37.796806",
     "exception": false,
     "start_time": "2023-03-11T01:17:37.758281",
     "status": "completed"
    },
    "tags": []
   },
   "outputs": [
    {
     "name": "stdout",
     "output_type": "stream",
     "text": [
      "Your submission was successfully saved!\n"
     ]
    }
   ],
   "source": [
    "output = pd.DataFrame({'PassengerId': testing_data.PassengerId, 'Survived': test_predict})\n",
    "output.to_csv('submission_randomforest.csv', index=False)\n",
    "print(\"Your submission was successfully saved!\")"
   ]
  }
 ],
 "metadata": {
  "kernelspec": {
   "display_name": "Python 3",
   "language": "python",
   "name": "python3"
  },
  "language_info": {
   "codemirror_mode": {
    "name": "ipython",
    "version": 3
   },
   "file_extension": ".py",
   "mimetype": "text/x-python",
   "name": "python",
   "nbconvert_exporter": "python",
   "pygments_lexer": "ipython3",
   "version": "3.7.12"
  },
  "papermill": {
   "default_parameters": {},
   "duration": 75.923611,
   "end_time": "2023-03-11T01:17:38.644250",
   "environment_variables": {},
   "exception": null,
   "input_path": "__notebook__.ipynb",
   "output_path": "__notebook__.ipynb",
   "parameters": {},
   "start_time": "2023-03-11T01:16:22.720639",
   "version": "2.3.4"
  }
 },
 "nbformat": 4,
 "nbformat_minor": 5
}
