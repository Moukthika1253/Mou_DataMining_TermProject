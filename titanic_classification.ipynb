{
 "cells": [
  {
   "cell_type": "code",
   "execution_count": 1,
   "id": "95158be9",
   "metadata": {
    "_cell_guid": "b1076dfc-b9ad-4769-8c92-a6c4dae69d19",
    "_uuid": "8f2839f25d086af736a60e9eeb907d3b93b6e0e5",
    "execution": {
     "iopub.execute_input": "2023-03-10T18:27:23.315779Z",
     "iopub.status.busy": "2023-03-10T18:27:23.314756Z",
     "iopub.status.idle": "2023-03-10T18:27:24.650156Z",
     "shell.execute_reply": "2023-03-10T18:27:24.648788Z"
    },
    "papermill": {
     "duration": 1.357612,
     "end_time": "2023-03-10T18:27:24.653411",
     "exception": false,
     "start_time": "2023-03-10T18:27:23.295799",
     "status": "completed"
    },
    "tags": []
   },
   "outputs": [
    {
     "name": "stdout",
     "output_type": "stream",
     "text": [
      "/kaggle/input/titanic/train.csv\n",
      "/kaggle/input/titanic/test.csv\n",
      "/kaggle/input/titanic/gender_submission.csv\n"
     ]
    }
   ],
   "source": [
    "import pandas as pd \n",
    "import numpy as np\n",
    "import os\n",
    "import category_encoders as c\n",
    "import seaborn as sns\n",
    "from sklearn.model_selection import train_test_split\n",
    "from sklearn import metrics\n",
    "\n",
    "for dirname, _, filenames in os.walk('/kaggle/input'):\n",
    "    for filename in filenames:\n",
    "        print(os.path.join(dirname, filename))\n",
    "\n"
   ]
  },
  {
   "cell_type": "markdown",
   "id": "92a6388a",
   "metadata": {
    "papermill": {
     "duration": 0.014755,
     "end_time": "2023-03-10T18:27:24.683671",
     "exception": false,
     "start_time": "2023-03-10T18:27:24.668916",
     "status": "completed"
    },
    "tags": []
   },
   "source": [
    "* imported \n",
    "           - pandas,numpy to perform operations on dataframe and nd-array\n",
    "           - category_encoders to do encoding on training,testing data\n",
    "           - seaborn to implement data visualization\n",
    "           - train_test_split to split training data\n",
    "           - metrics to calculate accuracy score"
   ]
  },
  {
   "cell_type": "markdown",
   "id": "20c565b3",
   "metadata": {
    "papermill": {
     "duration": 0.014721,
     "end_time": "2023-03-10T18:27:24.713187",
     "exception": false,
     "start_time": "2023-03-10T18:27:24.698466",
     "status": "completed"
    },
    "tags": []
   },
   "source": [
    "# Loading training data"
   ]
  },
  {
   "cell_type": "code",
   "execution_count": 2,
   "id": "66287dbf",
   "metadata": {
    "execution": {
     "iopub.execute_input": "2023-03-10T18:27:24.745994Z",
     "iopub.status.busy": "2023-03-10T18:27:24.745596Z",
     "iopub.status.idle": "2023-03-10T18:27:24.783414Z",
     "shell.execute_reply": "2023-03-10T18:27:24.782133Z"
    },
    "papermill": {
     "duration": 0.05779,
     "end_time": "2023-03-10T18:27:24.785953",
     "exception": false,
     "start_time": "2023-03-10T18:27:24.728163",
     "status": "completed"
    },
    "tags": []
   },
   "outputs": [
    {
     "data": {
      "text/html": [
       "<div>\n",
       "<style scoped>\n",
       "    .dataframe tbody tr th:only-of-type {\n",
       "        vertical-align: middle;\n",
       "    }\n",
       "\n",
       "    .dataframe tbody tr th {\n",
       "        vertical-align: top;\n",
       "    }\n",
       "\n",
       "    .dataframe thead th {\n",
       "        text-align: right;\n",
       "    }\n",
       "</style>\n",
       "<table border=\"1\" class=\"dataframe\">\n",
       "  <thead>\n",
       "    <tr style=\"text-align: right;\">\n",
       "      <th></th>\n",
       "      <th>PassengerId</th>\n",
       "      <th>Survived</th>\n",
       "      <th>Pclass</th>\n",
       "      <th>Name</th>\n",
       "      <th>Sex</th>\n",
       "      <th>Age</th>\n",
       "      <th>SibSp</th>\n",
       "      <th>Parch</th>\n",
       "      <th>Ticket</th>\n",
       "      <th>Fare</th>\n",
       "      <th>Cabin</th>\n",
       "      <th>Embarked</th>\n",
       "    </tr>\n",
       "  </thead>\n",
       "  <tbody>\n",
       "    <tr>\n",
       "      <th>0</th>\n",
       "      <td>1</td>\n",
       "      <td>0</td>\n",
       "      <td>3</td>\n",
       "      <td>Braund, Mr. Owen Harris</td>\n",
       "      <td>male</td>\n",
       "      <td>22.0</td>\n",
       "      <td>1</td>\n",
       "      <td>0</td>\n",
       "      <td>A/5 21171</td>\n",
       "      <td>7.2500</td>\n",
       "      <td>NaN</td>\n",
       "      <td>S</td>\n",
       "    </tr>\n",
       "    <tr>\n",
       "      <th>1</th>\n",
       "      <td>2</td>\n",
       "      <td>1</td>\n",
       "      <td>1</td>\n",
       "      <td>Cumings, Mrs. John Bradley (Florence Briggs Th...</td>\n",
       "      <td>female</td>\n",
       "      <td>38.0</td>\n",
       "      <td>1</td>\n",
       "      <td>0</td>\n",
       "      <td>PC 17599</td>\n",
       "      <td>71.2833</td>\n",
       "      <td>C85</td>\n",
       "      <td>C</td>\n",
       "    </tr>\n",
       "    <tr>\n",
       "      <th>2</th>\n",
       "      <td>3</td>\n",
       "      <td>1</td>\n",
       "      <td>3</td>\n",
       "      <td>Heikkinen, Miss. Laina</td>\n",
       "      <td>female</td>\n",
       "      <td>26.0</td>\n",
       "      <td>0</td>\n",
       "      <td>0</td>\n",
       "      <td>STON/O2. 3101282</td>\n",
       "      <td>7.9250</td>\n",
       "      <td>NaN</td>\n",
       "      <td>S</td>\n",
       "    </tr>\n",
       "    <tr>\n",
       "      <th>3</th>\n",
       "      <td>4</td>\n",
       "      <td>1</td>\n",
       "      <td>1</td>\n",
       "      <td>Futrelle, Mrs. Jacques Heath (Lily May Peel)</td>\n",
       "      <td>female</td>\n",
       "      <td>35.0</td>\n",
       "      <td>1</td>\n",
       "      <td>0</td>\n",
       "      <td>113803</td>\n",
       "      <td>53.1000</td>\n",
       "      <td>C123</td>\n",
       "      <td>S</td>\n",
       "    </tr>\n",
       "    <tr>\n",
       "      <th>4</th>\n",
       "      <td>5</td>\n",
       "      <td>0</td>\n",
       "      <td>3</td>\n",
       "      <td>Allen, Mr. William Henry</td>\n",
       "      <td>male</td>\n",
       "      <td>35.0</td>\n",
       "      <td>0</td>\n",
       "      <td>0</td>\n",
       "      <td>373450</td>\n",
       "      <td>8.0500</td>\n",
       "      <td>NaN</td>\n",
       "      <td>S</td>\n",
       "    </tr>\n",
       "  </tbody>\n",
       "</table>\n",
       "</div>"
      ],
      "text/plain": [
       "   PassengerId  Survived  Pclass  \\\n",
       "0            1         0       3   \n",
       "1            2         1       1   \n",
       "2            3         1       3   \n",
       "3            4         1       1   \n",
       "4            5         0       3   \n",
       "\n",
       "                                                Name     Sex   Age  SibSp  \\\n",
       "0                            Braund, Mr. Owen Harris    male  22.0      1   \n",
       "1  Cumings, Mrs. John Bradley (Florence Briggs Th...  female  38.0      1   \n",
       "2                             Heikkinen, Miss. Laina  female  26.0      0   \n",
       "3       Futrelle, Mrs. Jacques Heath (Lily May Peel)  female  35.0      1   \n",
       "4                           Allen, Mr. William Henry    male  35.0      0   \n",
       "\n",
       "   Parch            Ticket     Fare Cabin Embarked  \n",
       "0      0         A/5 21171   7.2500   NaN        S  \n",
       "1      0          PC 17599  71.2833   C85        C  \n",
       "2      0  STON/O2. 3101282   7.9250   NaN        S  \n",
       "3      0            113803  53.1000  C123        S  \n",
       "4      0            373450   8.0500   NaN        S  "
      ]
     },
     "execution_count": 2,
     "metadata": {},
     "output_type": "execute_result"
    }
   ],
   "source": [
    "training_data = pd.read_csv(\"/kaggle/input/titanic/train.csv\")\n",
    "training_data.head() #displays top 5 rows from training_data"
   ]
  },
  {
   "cell_type": "markdown",
   "id": "13cf55ff",
   "metadata": {
    "papermill": {
     "duration": 0.014695,
     "end_time": "2023-03-10T18:27:24.816310",
     "exception": false,
     "start_time": "2023-03-10T18:27:24.801615",
     "status": "completed"
    },
    "tags": []
   },
   "source": [
    "# Loading test data"
   ]
  },
  {
   "cell_type": "code",
   "execution_count": 3,
   "id": "6afa1e9a",
   "metadata": {
    "execution": {
     "iopub.execute_input": "2023-03-10T18:27:24.849711Z",
     "iopub.status.busy": "2023-03-10T18:27:24.848916Z",
     "iopub.status.idle": "2023-03-10T18:27:24.872692Z",
     "shell.execute_reply": "2023-03-10T18:27:24.871531Z"
    },
    "papermill": {
     "duration": 0.043183,
     "end_time": "2023-03-10T18:27:24.875082",
     "exception": false,
     "start_time": "2023-03-10T18:27:24.831899",
     "status": "completed"
    },
    "tags": []
   },
   "outputs": [
    {
     "data": {
      "text/html": [
       "<div>\n",
       "<style scoped>\n",
       "    .dataframe tbody tr th:only-of-type {\n",
       "        vertical-align: middle;\n",
       "    }\n",
       "\n",
       "    .dataframe tbody tr th {\n",
       "        vertical-align: top;\n",
       "    }\n",
       "\n",
       "    .dataframe thead th {\n",
       "        text-align: right;\n",
       "    }\n",
       "</style>\n",
       "<table border=\"1\" class=\"dataframe\">\n",
       "  <thead>\n",
       "    <tr style=\"text-align: right;\">\n",
       "      <th></th>\n",
       "      <th>PassengerId</th>\n",
       "      <th>Pclass</th>\n",
       "      <th>Name</th>\n",
       "      <th>Sex</th>\n",
       "      <th>Age</th>\n",
       "      <th>SibSp</th>\n",
       "      <th>Parch</th>\n",
       "      <th>Ticket</th>\n",
       "      <th>Fare</th>\n",
       "      <th>Cabin</th>\n",
       "      <th>Embarked</th>\n",
       "    </tr>\n",
       "  </thead>\n",
       "  <tbody>\n",
       "    <tr>\n",
       "      <th>0</th>\n",
       "      <td>892</td>\n",
       "      <td>3</td>\n",
       "      <td>Kelly, Mr. James</td>\n",
       "      <td>male</td>\n",
       "      <td>34.5</td>\n",
       "      <td>0</td>\n",
       "      <td>0</td>\n",
       "      <td>330911</td>\n",
       "      <td>7.8292</td>\n",
       "      <td>NaN</td>\n",
       "      <td>Q</td>\n",
       "    </tr>\n",
       "    <tr>\n",
       "      <th>1</th>\n",
       "      <td>893</td>\n",
       "      <td>3</td>\n",
       "      <td>Wilkes, Mrs. James (Ellen Needs)</td>\n",
       "      <td>female</td>\n",
       "      <td>47.0</td>\n",
       "      <td>1</td>\n",
       "      <td>0</td>\n",
       "      <td>363272</td>\n",
       "      <td>7.0000</td>\n",
       "      <td>NaN</td>\n",
       "      <td>S</td>\n",
       "    </tr>\n",
       "    <tr>\n",
       "      <th>2</th>\n",
       "      <td>894</td>\n",
       "      <td>2</td>\n",
       "      <td>Myles, Mr. Thomas Francis</td>\n",
       "      <td>male</td>\n",
       "      <td>62.0</td>\n",
       "      <td>0</td>\n",
       "      <td>0</td>\n",
       "      <td>240276</td>\n",
       "      <td>9.6875</td>\n",
       "      <td>NaN</td>\n",
       "      <td>Q</td>\n",
       "    </tr>\n",
       "    <tr>\n",
       "      <th>3</th>\n",
       "      <td>895</td>\n",
       "      <td>3</td>\n",
       "      <td>Wirz, Mr. Albert</td>\n",
       "      <td>male</td>\n",
       "      <td>27.0</td>\n",
       "      <td>0</td>\n",
       "      <td>0</td>\n",
       "      <td>315154</td>\n",
       "      <td>8.6625</td>\n",
       "      <td>NaN</td>\n",
       "      <td>S</td>\n",
       "    </tr>\n",
       "    <tr>\n",
       "      <th>4</th>\n",
       "      <td>896</td>\n",
       "      <td>3</td>\n",
       "      <td>Hirvonen, Mrs. Alexander (Helga E Lindqvist)</td>\n",
       "      <td>female</td>\n",
       "      <td>22.0</td>\n",
       "      <td>1</td>\n",
       "      <td>1</td>\n",
       "      <td>3101298</td>\n",
       "      <td>12.2875</td>\n",
       "      <td>NaN</td>\n",
       "      <td>S</td>\n",
       "    </tr>\n",
       "  </tbody>\n",
       "</table>\n",
       "</div>"
      ],
      "text/plain": [
       "   PassengerId  Pclass                                          Name     Sex  \\\n",
       "0          892       3                              Kelly, Mr. James    male   \n",
       "1          893       3              Wilkes, Mrs. James (Ellen Needs)  female   \n",
       "2          894       2                     Myles, Mr. Thomas Francis    male   \n",
       "3          895       3                              Wirz, Mr. Albert    male   \n",
       "4          896       3  Hirvonen, Mrs. Alexander (Helga E Lindqvist)  female   \n",
       "\n",
       "    Age  SibSp  Parch   Ticket     Fare Cabin Embarked  \n",
       "0  34.5      0      0   330911   7.8292   NaN        Q  \n",
       "1  47.0      1      0   363272   7.0000   NaN        S  \n",
       "2  62.0      0      0   240276   9.6875   NaN        Q  \n",
       "3  27.0      0      0   315154   8.6625   NaN        S  \n",
       "4  22.0      1      1  3101298  12.2875   NaN        S  "
      ]
     },
     "execution_count": 3,
     "metadata": {},
     "output_type": "execute_result"
    }
   ],
   "source": [
    "testing_data=pd.read_csv(\"/kaggle/input/titanic/test.csv\")\n",
    "testing_data.head() #displays top 5 rows from test data"
   ]
  },
  {
   "cell_type": "markdown",
   "id": "c02ea547",
   "metadata": {
    "papermill": {
     "duration": 0.015301,
     "end_time": "2023-03-10T18:27:24.906472",
     "exception": false,
     "start_time": "2023-03-10T18:27:24.891171",
     "status": "completed"
    },
    "tags": []
   },
   "source": [
    "# Data Pre-processing"
   ]
  },
  {
   "cell_type": "markdown",
   "id": "7dbbeb50",
   "metadata": {
    "papermill": {
     "duration": 0.015187,
     "end_time": "2023-03-10T18:27:24.937245",
     "exception": false,
     "start_time": "2023-03-10T18:27:24.922058",
     "status": "completed"
    },
    "tags": []
   },
   "source": [
    "# Check if any missing values in train data"
   ]
  },
  {
   "cell_type": "code",
   "execution_count": 4,
   "id": "3c0c1188",
   "metadata": {
    "execution": {
     "iopub.execute_input": "2023-03-10T18:27:24.970453Z",
     "iopub.status.busy": "2023-03-10T18:27:24.969719Z",
     "iopub.status.idle": "2023-03-10T18:27:24.979687Z",
     "shell.execute_reply": "2023-03-10T18:27:24.978625Z"
    },
    "papermill": {
     "duration": 0.02901,
     "end_time": "2023-03-10T18:27:24.981769",
     "exception": false,
     "start_time": "2023-03-10T18:27:24.952759",
     "status": "completed"
    },
    "tags": []
   },
   "outputs": [
    {
     "data": {
      "text/plain": [
       "PassengerId      0\n",
       "Survived         0\n",
       "Pclass           0\n",
       "Name             0\n",
       "Sex              0\n",
       "Age            177\n",
       "SibSp            0\n",
       "Parch            0\n",
       "Ticket           0\n",
       "Fare             0\n",
       "Cabin          687\n",
       "Embarked         2\n",
       "dtype: int64"
      ]
     },
     "execution_count": 4,
     "metadata": {},
     "output_type": "execute_result"
    }
   ],
   "source": [
    "training_data.isna().sum()"
   ]
  },
  {
   "cell_type": "markdown",
   "id": "59a76cae",
   "metadata": {
    "papermill": {
     "duration": 0.015597,
     "end_time": "2023-03-10T18:27:25.012846",
     "exception": false,
     "start_time": "2023-03-10T18:27:24.997249",
     "status": "completed"
    },
    "tags": []
   },
   "source": [
    "Missing values are found in columns Age=177, Cabin=687, Embarked=2"
   ]
  },
  {
   "cell_type": "markdown",
   "id": "df59c65b",
   "metadata": {
    "papermill": {
     "duration": 0.01518,
     "end_time": "2023-03-10T18:27:25.043135",
     "exception": false,
     "start_time": "2023-03-10T18:27:25.027955",
     "status": "completed"
    },
    "tags": []
   },
   "source": [
    "# Check if any missing values in test data"
   ]
  },
  {
   "cell_type": "code",
   "execution_count": 5,
   "id": "cc6109eb",
   "metadata": {
    "execution": {
     "iopub.execute_input": "2023-03-10T18:27:25.075992Z",
     "iopub.status.busy": "2023-03-10T18:27:25.075595Z",
     "iopub.status.idle": "2023-03-10T18:27:25.085920Z",
     "shell.execute_reply": "2023-03-10T18:27:25.085028Z"
    },
    "papermill": {
     "duration": 0.029434,
     "end_time": "2023-03-10T18:27:25.088210",
     "exception": false,
     "start_time": "2023-03-10T18:27:25.058776",
     "status": "completed"
    },
    "tags": []
   },
   "outputs": [
    {
     "data": {
      "text/plain": [
       "PassengerId      0\n",
       "Pclass           0\n",
       "Name             0\n",
       "Sex              0\n",
       "Age             86\n",
       "SibSp            0\n",
       "Parch            0\n",
       "Ticket           0\n",
       "Fare             1\n",
       "Cabin          327\n",
       "Embarked         0\n",
       "dtype: int64"
      ]
     },
     "execution_count": 5,
     "metadata": {},
     "output_type": "execute_result"
    }
   ],
   "source": [
    "testing_data.isna().sum()"
   ]
  },
  {
   "cell_type": "markdown",
   "id": "bbf69ce2",
   "metadata": {
    "papermill": {
     "duration": 0.015749,
     "end_time": "2023-03-10T18:27:25.120496",
     "exception": false,
     "start_time": "2023-03-10T18:27:25.104747",
     "status": "completed"
    },
    "tags": []
   },
   "source": [
    "Missing values are found in columns Age=86, Cabin=327 performance can be increased"
   ]
  },
  {
   "cell_type": "markdown",
   "id": "ef6033f7",
   "metadata": {
    "papermill": {
     "duration": 0.015803,
     "end_time": "2023-03-10T18:27:25.152703",
     "exception": false,
     "start_time": "2023-03-10T18:27:25.136900",
     "status": "completed"
    },
    "tags": []
   },
   "source": [
    "# Replacing the missing values in training_data"
   ]
  },
  {
   "cell_type": "code",
   "execution_count": 6,
   "id": "f818853a",
   "metadata": {
    "execution": {
     "iopub.execute_input": "2023-03-10T18:27:25.187836Z",
     "iopub.status.busy": "2023-03-10T18:27:25.186981Z",
     "iopub.status.idle": "2023-03-10T18:27:25.202084Z",
     "shell.execute_reply": "2023-03-10T18:27:25.200974Z"
    },
    "papermill": {
     "duration": 0.036077,
     "end_time": "2023-03-10T18:27:25.204471",
     "exception": false,
     "start_time": "2023-03-10T18:27:25.168394",
     "status": "completed"
    },
    "tags": []
   },
   "outputs": [],
   "source": [
    "training_data['Age']=training_data['Age'].fillna(training_data['Age'].mean())\n",
    "training_data['Cabin']=training_data['Cabin'].fillna(training_data['Cabin'].mode()[0])\n",
    "training_data['Embarked']=training_data['Embarked'].fillna(training_data['Embarked'].mode()[0])"
   ]
  },
  {
   "cell_type": "markdown",
   "id": "3b832b47",
   "metadata": {
    "papermill": {
     "duration": 0.015781,
     "end_time": "2023-03-10T18:27:25.236538",
     "exception": false,
     "start_time": "2023-03-10T18:27:25.220757",
     "status": "completed"
    },
    "tags": []
   },
   "source": [
    "Since the type of data in Age column is numerical, I have replaced the missing values with their mean. For the categorical data in columns Cabin,Embarked, replaced missing values with their most repeated value(mode)"
   ]
  },
  {
   "cell_type": "markdown",
   "id": "cdf5704c",
   "metadata": {
    "papermill": {
     "duration": 0.015471,
     "end_time": "2023-03-10T18:27:25.268155",
     "exception": false,
     "start_time": "2023-03-10T18:27:25.252684",
     "status": "completed"
    },
    "tags": []
   },
   "source": [
    "# Missing values fixed in training_data"
   ]
  },
  {
   "cell_type": "code",
   "execution_count": 7,
   "id": "061b99bd",
   "metadata": {
    "execution": {
     "iopub.execute_input": "2023-03-10T18:27:25.302704Z",
     "iopub.status.busy": "2023-03-10T18:27:25.301899Z",
     "iopub.status.idle": "2023-03-10T18:27:25.311803Z",
     "shell.execute_reply": "2023-03-10T18:27:25.310547Z"
    },
    "papermill": {
     "duration": 0.029859,
     "end_time": "2023-03-10T18:27:25.314044",
     "exception": false,
     "start_time": "2023-03-10T18:27:25.284185",
     "status": "completed"
    },
    "tags": []
   },
   "outputs": [
    {
     "data": {
      "text/plain": [
       "PassengerId    0\n",
       "Survived       0\n",
       "Pclass         0\n",
       "Name           0\n",
       "Sex            0\n",
       "Age            0\n",
       "SibSp          0\n",
       "Parch          0\n",
       "Ticket         0\n",
       "Fare           0\n",
       "Cabin          0\n",
       "Embarked       0\n",
       "dtype: int64"
      ]
     },
     "execution_count": 7,
     "metadata": {},
     "output_type": "execute_result"
    }
   ],
   "source": [
    "training_data.isna().sum()"
   ]
  },
  {
   "cell_type": "markdown",
   "id": "6323a6a0",
   "metadata": {
    "papermill": {
     "duration": 0.015873,
     "end_time": "2023-03-10T18:27:25.346802",
     "exception": false,
     "start_time": "2023-03-10T18:27:25.330929",
     "status": "completed"
    },
    "tags": []
   },
   "source": [
    "# Replacing missing values in testing_data"
   ]
  },
  {
   "cell_type": "code",
   "execution_count": 8,
   "id": "a8dd9ac4",
   "metadata": {
    "execution": {
     "iopub.execute_input": "2023-03-10T18:27:25.381691Z",
     "iopub.status.busy": "2023-03-10T18:27:25.380981Z",
     "iopub.status.idle": "2023-03-10T18:27:25.391406Z",
     "shell.execute_reply": "2023-03-10T18:27:25.390136Z"
    },
    "papermill": {
     "duration": 0.031261,
     "end_time": "2023-03-10T18:27:25.394124",
     "exception": false,
     "start_time": "2023-03-10T18:27:25.362863",
     "status": "completed"
    },
    "tags": []
   },
   "outputs": [],
   "source": [
    "testing_data['Age']=testing_data['Age'].fillna(testing_data['Age'].mean())\n",
    "testing_data['Fare']=testing_data['Fare'].fillna(testing_data['Fare'].mean())\n",
    "testing_data['Cabin']=training_data['Cabin'].fillna(testing_data['Cabin'].mode()[0])"
   ]
  },
  {
   "cell_type": "markdown",
   "id": "6beb1a80",
   "metadata": {
    "papermill": {
     "duration": 0.016734,
     "end_time": "2023-03-10T18:27:25.427160",
     "exception": false,
     "start_time": "2023-03-10T18:27:25.410426",
     "status": "completed"
    },
    "tags": []
   },
   "source": [
    "Since the type of data in columns Age,Fare is numerical, I have replaced the missing values with their mean. For the categorical data in columns Cabin,Embarked, replaced missing values with their most repeated value(mode)"
   ]
  },
  {
   "cell_type": "markdown",
   "id": "2e6f8dab",
   "metadata": {
    "papermill": {
     "duration": 0.016035,
     "end_time": "2023-03-10T18:27:25.460064",
     "exception": false,
     "start_time": "2023-03-10T18:27:25.444029",
     "status": "completed"
    },
    "tags": []
   },
   "source": [
    "# Missing values fixed in testing_data"
   ]
  },
  {
   "cell_type": "code",
   "execution_count": 9,
   "id": "ab3ae079",
   "metadata": {
    "execution": {
     "iopub.execute_input": "2023-03-10T18:27:25.495172Z",
     "iopub.status.busy": "2023-03-10T18:27:25.494418Z",
     "iopub.status.idle": "2023-03-10T18:27:25.503239Z",
     "shell.execute_reply": "2023-03-10T18:27:25.502317Z"
    },
    "papermill": {
     "duration": 0.029054,
     "end_time": "2023-03-10T18:27:25.505440",
     "exception": false,
     "start_time": "2023-03-10T18:27:25.476386",
     "status": "completed"
    },
    "tags": []
   },
   "outputs": [
    {
     "data": {
      "text/plain": [
       "PassengerId    0\n",
       "Pclass         0\n",
       "Name           0\n",
       "Sex            0\n",
       "Age            0\n",
       "SibSp          0\n",
       "Parch          0\n",
       "Ticket         0\n",
       "Fare           0\n",
       "Cabin          0\n",
       "Embarked       0\n",
       "dtype: int64"
      ]
     },
     "execution_count": 9,
     "metadata": {},
     "output_type": "execute_result"
    }
   ],
   "source": [
    "testing_data.isna().sum()"
   ]
  },
  {
   "cell_type": "markdown",
   "id": "186d9bee",
   "metadata": {
    "papermill": {
     "duration": 0.015931,
     "end_time": "2023-03-10T18:27:25.537689",
     "exception": false,
     "start_time": "2023-03-10T18:27:25.521758",
     "status": "completed"
    },
    "tags": []
   },
   "source": [
    "# Data Visualization"
   ]
  },
  {
   "cell_type": "markdown",
   "id": "123a5fde",
   "metadata": {
    "papermill": {
     "duration": 0.016004,
     "end_time": "2023-03-10T18:27:25.569995",
     "exception": false,
     "start_time": "2023-03-10T18:27:25.553991",
     "status": "completed"
    },
    "tags": []
   },
   "source": [
    "# Survival rate with Pclass, Fare plotting"
   ]
  },
  {
   "cell_type": "code",
   "execution_count": 10,
   "id": "17522452",
   "metadata": {
    "execution": {
     "iopub.execute_input": "2023-03-10T18:27:25.604174Z",
     "iopub.status.busy": "2023-03-10T18:27:25.603729Z",
     "iopub.status.idle": "2023-03-10T18:27:26.047418Z",
     "shell.execute_reply": "2023-03-10T18:27:26.046612Z"
    },
    "papermill": {
     "duration": 0.46357,
     "end_time": "2023-03-10T18:27:26.049858",
     "exception": false,
     "start_time": "2023-03-10T18:27:25.586288",
     "status": "completed"
    },
    "tags": []
   },
   "outputs": [
    {
     "data": {
      "text/plain": [
       "<AxesSubplot:xlabel='Pclass', ylabel='Fare'>"
      ]
     },
     "execution_count": 10,
     "metadata": {},
     "output_type": "execute_result"
    },
    {
     "data": {
      "image/png": "[encoded data removed]",
      "text/plain": [
       "<Figure size 640x480 with 1 Axes>"
      ]
     },
     "metadata": {},
     "output_type": "display_data"
    }
   ],
   "source": [
    "sns.barplot(data=training_data,x=\"Pclass\",y=\"Fare\",hue=\"Survived\")"
   ]
  },
  {
   "cell_type": "markdown",
   "id": "3df28341",
   "metadata": {
    "papermill": {
     "duration": 0.016208,
     "end_time": "2023-03-10T18:27:26.082842",
     "exception": false,
     "start_time": "2023-03-10T18:27:26.066634",
     "status": "completed"
    },
    "tags": []
   },
   "source": [
    "# Dependency of gender on Parch, SibSp with Survival rate"
   ]
  },
  {
   "cell_type": "code",
   "execution_count": 11,
   "id": "d5041f67",
   "metadata": {
    "execution": {
     "iopub.execute_input": "2023-03-10T18:27:26.118081Z",
     "iopub.status.busy": "2023-03-10T18:27:26.117258Z",
     "iopub.status.idle": "2023-03-10T18:27:26.369331Z",
     "shell.execute_reply": "2023-03-10T18:27:26.368021Z"
    },
    "papermill": {
     "duration": 0.272405,
     "end_time": "2023-03-10T18:27:26.371748",
     "exception": false,
     "start_time": "2023-03-10T18:27:26.099343",
     "status": "completed"
    },
    "tags": []
   },
   "outputs": [
    {
     "data": {
      "text/plain": [
       "<AxesSubplot:xlabel='family', ylabel='count'>"
      ]
     },
     "execution_count": 11,
     "metadata": {},
     "output_type": "execute_result"
    },
    {
     "data": {
      "image/png": "[encoded data removed]",
      "text/plain": [
       "<Figure size 640x480 with 1 Axes>"
      ]
     },
     "metadata": {},
     "output_type": "display_data"
    }
   ],
   "source": [
    "df=pd.DataFrame()\n",
    "df[\"family\"]=training_data[\"SibSp\"]+training_data[\"Parch\"]\n",
    "sns.countplot(data=training_data,x=df[\"family\"])"
   ]
  },
  {
   "cell_type": "markdown",
   "id": "38d19c4a",
   "metadata": {
    "papermill": {
     "duration": 0.017278,
     "end_time": "2023-03-10T18:27:26.406307",
     "exception": false,
     "start_time": "2023-03-10T18:27:26.389029",
     "status": "completed"
    },
    "tags": []
   },
   "source": [
    "# Dependency of Gender and survival rate"
   ]
  },
  {
   "cell_type": "code",
   "execution_count": 12,
   "id": "5b966d15",
   "metadata": {
    "execution": {
     "iopub.execute_input": "2023-03-10T18:27:26.444129Z",
     "iopub.status.busy": "2023-03-10T18:27:26.443731Z",
     "iopub.status.idle": "2023-03-10T18:27:26.457531Z",
     "shell.execute_reply": "2023-03-10T18:27:26.456301Z"
    },
    "papermill": {
     "duration": 0.036077,
     "end_time": "2023-03-10T18:27:26.459992",
     "exception": false,
     "start_time": "2023-03-10T18:27:26.423915",
     "status": "completed"
    },
    "tags": []
   },
   "outputs": [
    {
     "name": "stdout",
     "output_type": "stream",
     "text": [
      "percentage of women survived:  0.7420382165605095\n",
      "percentage of men survived:  0.18890814558058924\n"
     ]
    }
   ],
   "source": [
    "women_survived=training_data.loc[training_data.Sex==\"female\"][\"Survived\"]\n",
    "women_per=sum(women_survived)/len(women_survived)\n",
    "print(\"percentage of women survived: \",women_per)\n",
    "men_survived=training_data.loc[training_data.Sex==\"male\"][\"Survived\"]\n",
    "men_per=sum(men_survived)/len(men_survived)\n",
    "print(\"percentage of men survived: \",men_per)\n"
   ]
  },
  {
   "cell_type": "code",
   "execution_count": 13,
   "id": "68fd4005",
   "metadata": {
    "execution": {
     "iopub.execute_input": "2023-03-10T18:27:26.496343Z",
     "iopub.status.busy": "2023-03-10T18:27:26.495656Z",
     "iopub.status.idle": "2023-03-10T18:27:26.761133Z",
     "shell.execute_reply": "2023-03-10T18:27:26.759941Z"
    },
    "papermill": {
     "duration": 0.286258,
     "end_time": "2023-03-10T18:27:26.763245",
     "exception": false,
     "start_time": "2023-03-10T18:27:26.476987",
     "status": "completed"
    },
    "tags": []
   },
   "outputs": [
    {
     "data": {
      "text/plain": [
       "<AxesSubplot:xlabel='Sex', ylabel='Survived'>"
      ]
     },
     "execution_count": 13,
     "metadata": {},
     "output_type": "execute_result"
    },
    {
     "data": {
      "image/png": "[encoded data removed]",
      "text/plain": [
       "<Figure size 640x480 with 1 Axes>"
      ]
     },
     "metadata": {},
     "output_type": "display_data"
    }
   ],
   "source": [
    "sns.barplot(data=training_data,x=\"Sex\",y=\"Survived\")"
   ]
  },
  {
   "cell_type": "markdown",
   "id": "33189e91",
   "metadata": {
    "papermill": {
     "duration": 0.016635,
     "end_time": "2023-03-10T18:27:26.797350",
     "exception": false,
     "start_time": "2023-03-10T18:27:26.780715",
     "status": "completed"
    },
    "tags": []
   },
   "source": [
    "# Different states of Embarked with survival rate"
   ]
  },
  {
   "cell_type": "code",
   "execution_count": 14,
   "id": "5ba397e0",
   "metadata": {
    "execution": {
     "iopub.execute_input": "2023-03-10T18:27:26.834391Z",
     "iopub.status.busy": "2023-03-10T18:27:26.833977Z",
     "iopub.status.idle": "2023-03-10T18:27:27.167137Z",
     "shell.execute_reply": "2023-03-10T18:27:27.165978Z"
    },
    "papermill": {
     "duration": 0.35491,
     "end_time": "2023-03-10T18:27:27.169803",
     "exception": false,
     "start_time": "2023-03-10T18:27:26.814893",
     "status": "completed"
    },
    "tags": []
   },
   "outputs": [
    {
     "data": {
      "text/plain": [
       "<AxesSubplot:xlabel='Embarked', ylabel='Survived'>"
      ]
     },
     "execution_count": 14,
     "metadata": {},
     "output_type": "execute_result"
    },
    {
     "data": {
      "image/png": "[encoded data removed]",
      "text/plain": [
       "<Figure size 640x480 with 1 Axes>"
      ]
     },
     "metadata": {},
     "output_type": "display_data"
    }
   ],
   "source": [
    "sns.lineplot(data=training_data,x=\"Embarked\",y=\"Survived\")"
   ]
  },
  {
   "cell_type": "markdown",
   "id": "0b4c12b0",
   "metadata": {
    "papermill": {
     "duration": 0.017987,
     "end_time": "2023-03-10T18:27:27.206284",
     "exception": false,
     "start_time": "2023-03-10T18:27:27.188297",
     "status": "completed"
    },
    "tags": []
   },
   "source": [
    "# Pclass vs Ticket"
   ]
  },
  {
   "cell_type": "code",
   "execution_count": 15,
   "id": "cf767cbe",
   "metadata": {
    "execution": {
     "iopub.execute_input": "2023-03-10T18:27:27.247907Z",
     "iopub.status.busy": "2023-03-10T18:27:27.246814Z",
     "iopub.status.idle": "2023-03-10T18:27:27.570241Z",
     "shell.execute_reply": "2023-03-10T18:27:27.569056Z"
    },
    "papermill": {
     "duration": 0.346697,
     "end_time": "2023-03-10T18:27:27.572895",
     "exception": false,
     "start_time": "2023-03-10T18:27:27.226198",
     "status": "completed"
    },
    "tags": []
   },
   "outputs": [
    {
     "data": {
      "text/plain": [
       "<AxesSubplot:xlabel='Pclass', ylabel='Fare'>"
      ]
     },
     "execution_count": 15,
     "metadata": {},
     "output_type": "execute_result"
    },
    {
     "data": {
      "image/png": "[encoded data removed]",
      "text/plain": [
       "<Figure size 640x480 with 1 Axes>"
      ]
     },
     "metadata": {},
     "output_type": "display_data"
    }
   ],
   "source": [
    "sns.lineplot(data=training_data,x=\"Pclass\",y=\"Fare\")"
   ]
  },
  {
   "cell_type": "markdown",
   "id": "9ea84f09",
   "metadata": {
    "papermill": {
     "duration": 0.01836,
     "end_time": "2023-03-10T18:27:27.611018",
     "exception": false,
     "start_time": "2023-03-10T18:27:27.592658",
     "status": "completed"
    },
    "tags": []
   },
   "source": [
    "# Converting training categorical data to numerical data"
   ]
  },
  {
   "cell_type": "code",
   "execution_count": 16,
   "id": "7bb85e13",
   "metadata": {
    "execution": {
     "iopub.execute_input": "2023-03-10T18:27:27.650960Z",
     "iopub.status.busy": "2023-03-10T18:27:27.650536Z",
     "iopub.status.idle": "2023-03-10T18:27:27.665305Z",
     "shell.execute_reply": "2023-03-10T18:27:27.664335Z"
    },
    "papermill": {
     "duration": 0.037753,
     "end_time": "2023-03-10T18:27:27.667854",
     "exception": false,
     "start_time": "2023-03-10T18:27:27.630101",
     "status": "completed"
    },
    "tags": []
   },
   "outputs": [],
   "source": [
    "training_data['Name'] =training_data['Name'].astype('category').cat.codes\n",
    "training_data['Sex'] =training_data['Sex'].astype('category').cat.codes\n",
    "training_data['Embarked'] =training_data['Embarked'].astype('category').cat.codes\n",
    "training_data['Cabin'] =training_data['Cabin'].astype('category').cat.codes\n",
    "training_data['Ticket'] =training_data['Ticket'].astype('category').cat.codes"
   ]
  },
  {
   "cell_type": "markdown",
   "id": "4a0e5121",
   "metadata": {
    "papermill": {
     "duration": 0.018806,
     "end_time": "2023-03-10T18:27:27.705914",
     "exception": false,
     "start_time": "2023-03-10T18:27:27.687108",
     "status": "completed"
    },
    "tags": []
   },
   "source": [
    "# Data Pre-processing-Converting testing categorical data to numerical data"
   ]
  },
  {
   "cell_type": "code",
   "execution_count": 17,
   "id": "1fd52e8c",
   "metadata": {
    "execution": {
     "iopub.execute_input": "2023-03-10T18:27:27.746834Z",
     "iopub.status.busy": "2023-03-10T18:27:27.746104Z",
     "iopub.status.idle": "2023-03-10T18:27:27.759214Z",
     "shell.execute_reply": "2023-03-10T18:27:27.758054Z"
    },
    "papermill": {
     "duration": 0.036641,
     "end_time": "2023-03-10T18:27:27.761660",
     "exception": false,
     "start_time": "2023-03-10T18:27:27.725019",
     "status": "completed"
    },
    "tags": []
   },
   "outputs": [],
   "source": [
    "testing_data['Name'] =testing_data['Name'].astype('category').cat.codes\n",
    "testing_data['Sex'] =testing_data['Sex'].astype('category').cat.codes\n",
    "testing_data['Embarked'] =testing_data['Embarked'].astype('category').cat.codes\n",
    "testing_data['Cabin'] =testing_data['Cabin'].astype('category').cat.codes\n",
    "testing_data['Ticket'] =testing_data['Ticket'].astype('category').cat.codes"
   ]
  },
  {
   "cell_type": "markdown",
   "id": "bdaa1dc1",
   "metadata": {
    "papermill": {
     "duration": 0.018595,
     "end_time": "2023-03-10T18:27:27.799493",
     "exception": false,
     "start_time": "2023-03-10T18:27:27.780898",
     "status": "completed"
    },
    "tags": []
   },
   "source": [
    "# Encoding training data using Binary Encoder"
   ]
  },
  {
   "cell_type": "code",
   "execution_count": 18,
   "id": "d25c3d7c",
   "metadata": {
    "execution": {
     "iopub.execute_input": "2023-03-10T18:27:27.839176Z",
     "iopub.status.busy": "2023-03-10T18:27:27.838741Z",
     "iopub.status.idle": "2023-03-10T18:27:27.935799Z",
     "shell.execute_reply": "2023-03-10T18:27:27.934656Z"
    },
    "papermill": {
     "duration": 0.119733,
     "end_time": "2023-03-10T18:27:27.938179",
     "exception": false,
     "start_time": "2023-03-10T18:27:27.818446",
     "status": "completed"
    },
    "tags": []
   },
   "outputs": [
    {
     "data": {
      "text/html": [
       "<div>\n",
       "<style scoped>\n",
       "    .dataframe tbody tr th:only-of-type {\n",
       "        vertical-align: middle;\n",
       "    }\n",
       "\n",
       "    .dataframe tbody tr th {\n",
       "        vertical-align: top;\n",
       "    }\n",
       "\n",
       "    .dataframe thead th {\n",
       "        text-align: right;\n",
       "    }\n",
       "</style>\n",
       "<table border=\"1\" class=\"dataframe\">\n",
       "  <thead>\n",
       "    <tr style=\"text-align: right;\">\n",
       "      <th></th>\n",
       "      <th>PassengerId</th>\n",
       "      <th>Survived</th>\n",
       "      <th>Pclass</th>\n",
       "      <th>Name_0</th>\n",
       "      <th>Name_1</th>\n",
       "      <th>Name_2</th>\n",
       "      <th>Name_3</th>\n",
       "      <th>Name_4</th>\n",
       "      <th>Name_5</th>\n",
       "      <th>Name_6</th>\n",
       "      <th>...</th>\n",
       "      <th>Cabin_0</th>\n",
       "      <th>Cabin_1</th>\n",
       "      <th>Cabin_2</th>\n",
       "      <th>Cabin_3</th>\n",
       "      <th>Cabin_4</th>\n",
       "      <th>Cabin_5</th>\n",
       "      <th>Cabin_6</th>\n",
       "      <th>Cabin_7</th>\n",
       "      <th>Embarked_0</th>\n",
       "      <th>Embarked_1</th>\n",
       "    </tr>\n",
       "  </thead>\n",
       "  <tbody>\n",
       "    <tr>\n",
       "      <th>0</th>\n",
       "      <td>1</td>\n",
       "      <td>0</td>\n",
       "      <td>3</td>\n",
       "      <td>0</td>\n",
       "      <td>0</td>\n",
       "      <td>0</td>\n",
       "      <td>0</td>\n",
       "      <td>0</td>\n",
       "      <td>0</td>\n",
       "      <td>0</td>\n",
       "      <td>...</td>\n",
       "      <td>0</td>\n",
       "      <td>0</td>\n",
       "      <td>0</td>\n",
       "      <td>0</td>\n",
       "      <td>0</td>\n",
       "      <td>0</td>\n",
       "      <td>0</td>\n",
       "      <td>1</td>\n",
       "      <td>0</td>\n",
       "      <td>1</td>\n",
       "    </tr>\n",
       "    <tr>\n",
       "      <th>1</th>\n",
       "      <td>2</td>\n",
       "      <td>1</td>\n",
       "      <td>1</td>\n",
       "      <td>0</td>\n",
       "      <td>0</td>\n",
       "      <td>0</td>\n",
       "      <td>0</td>\n",
       "      <td>0</td>\n",
       "      <td>0</td>\n",
       "      <td>0</td>\n",
       "      <td>...</td>\n",
       "      <td>0</td>\n",
       "      <td>0</td>\n",
       "      <td>0</td>\n",
       "      <td>0</td>\n",
       "      <td>0</td>\n",
       "      <td>0</td>\n",
       "      <td>1</td>\n",
       "      <td>0</td>\n",
       "      <td>1</td>\n",
       "      <td>0</td>\n",
       "    </tr>\n",
       "    <tr>\n",
       "      <th>2</th>\n",
       "      <td>3</td>\n",
       "      <td>1</td>\n",
       "      <td>3</td>\n",
       "      <td>0</td>\n",
       "      <td>0</td>\n",
       "      <td>0</td>\n",
       "      <td>0</td>\n",
       "      <td>0</td>\n",
       "      <td>0</td>\n",
       "      <td>0</td>\n",
       "      <td>...</td>\n",
       "      <td>0</td>\n",
       "      <td>0</td>\n",
       "      <td>0</td>\n",
       "      <td>0</td>\n",
       "      <td>0</td>\n",
       "      <td>0</td>\n",
       "      <td>0</td>\n",
       "      <td>1</td>\n",
       "      <td>0</td>\n",
       "      <td>1</td>\n",
       "    </tr>\n",
       "    <tr>\n",
       "      <th>3</th>\n",
       "      <td>4</td>\n",
       "      <td>1</td>\n",
       "      <td>1</td>\n",
       "      <td>0</td>\n",
       "      <td>0</td>\n",
       "      <td>0</td>\n",
       "      <td>0</td>\n",
       "      <td>0</td>\n",
       "      <td>0</td>\n",
       "      <td>0</td>\n",
       "      <td>...</td>\n",
       "      <td>0</td>\n",
       "      <td>0</td>\n",
       "      <td>0</td>\n",
       "      <td>0</td>\n",
       "      <td>0</td>\n",
       "      <td>0</td>\n",
       "      <td>1</td>\n",
       "      <td>1</td>\n",
       "      <td>0</td>\n",
       "      <td>1</td>\n",
       "    </tr>\n",
       "    <tr>\n",
       "      <th>4</th>\n",
       "      <td>5</td>\n",
       "      <td>0</td>\n",
       "      <td>3</td>\n",
       "      <td>0</td>\n",
       "      <td>0</td>\n",
       "      <td>0</td>\n",
       "      <td>0</td>\n",
       "      <td>0</td>\n",
       "      <td>0</td>\n",
       "      <td>0</td>\n",
       "      <td>...</td>\n",
       "      <td>0</td>\n",
       "      <td>0</td>\n",
       "      <td>0</td>\n",
       "      <td>0</td>\n",
       "      <td>0</td>\n",
       "      <td>0</td>\n",
       "      <td>0</td>\n",
       "      <td>1</td>\n",
       "      <td>0</td>\n",
       "      <td>1</td>\n",
       "    </tr>\n",
       "    <tr>\n",
       "      <th>...</th>\n",
       "      <td>...</td>\n",
       "      <td>...</td>\n",
       "      <td>...</td>\n",
       "      <td>...</td>\n",
       "      <td>...</td>\n",
       "      <td>...</td>\n",
       "      <td>...</td>\n",
       "      <td>...</td>\n",
       "      <td>...</td>\n",
       "      <td>...</td>\n",
       "      <td>...</td>\n",
       "      <td>...</td>\n",
       "      <td>...</td>\n",
       "      <td>...</td>\n",
       "      <td>...</td>\n",
       "      <td>...</td>\n",
       "      <td>...</td>\n",
       "      <td>...</td>\n",
       "      <td>...</td>\n",
       "      <td>...</td>\n",
       "      <td>...</td>\n",
       "    </tr>\n",
       "    <tr>\n",
       "      <th>886</th>\n",
       "      <td>887</td>\n",
       "      <td>0</td>\n",
       "      <td>2</td>\n",
       "      <td>1</td>\n",
       "      <td>1</td>\n",
       "      <td>0</td>\n",
       "      <td>1</td>\n",
       "      <td>1</td>\n",
       "      <td>1</td>\n",
       "      <td>0</td>\n",
       "      <td>...</td>\n",
       "      <td>0</td>\n",
       "      <td>0</td>\n",
       "      <td>0</td>\n",
       "      <td>0</td>\n",
       "      <td>0</td>\n",
       "      <td>0</td>\n",
       "      <td>0</td>\n",
       "      <td>1</td>\n",
       "      <td>0</td>\n",
       "      <td>1</td>\n",
       "    </tr>\n",
       "    <tr>\n",
       "      <th>887</th>\n",
       "      <td>888</td>\n",
       "      <td>1</td>\n",
       "      <td>1</td>\n",
       "      <td>1</td>\n",
       "      <td>1</td>\n",
       "      <td>0</td>\n",
       "      <td>1</td>\n",
       "      <td>1</td>\n",
       "      <td>1</td>\n",
       "      <td>1</td>\n",
       "      <td>...</td>\n",
       "      <td>1</td>\n",
       "      <td>0</td>\n",
       "      <td>0</td>\n",
       "      <td>1</td>\n",
       "      <td>0</td>\n",
       "      <td>0</td>\n",
       "      <td>1</td>\n",
       "      <td>0</td>\n",
       "      <td>0</td>\n",
       "      <td>1</td>\n",
       "    </tr>\n",
       "    <tr>\n",
       "      <th>888</th>\n",
       "      <td>889</td>\n",
       "      <td>0</td>\n",
       "      <td>3</td>\n",
       "      <td>1</td>\n",
       "      <td>1</td>\n",
       "      <td>0</td>\n",
       "      <td>1</td>\n",
       "      <td>1</td>\n",
       "      <td>1</td>\n",
       "      <td>1</td>\n",
       "      <td>...</td>\n",
       "      <td>0</td>\n",
       "      <td>0</td>\n",
       "      <td>0</td>\n",
       "      <td>0</td>\n",
       "      <td>0</td>\n",
       "      <td>0</td>\n",
       "      <td>0</td>\n",
       "      <td>1</td>\n",
       "      <td>0</td>\n",
       "      <td>1</td>\n",
       "    </tr>\n",
       "    <tr>\n",
       "      <th>889</th>\n",
       "      <td>890</td>\n",
       "      <td>1</td>\n",
       "      <td>1</td>\n",
       "      <td>1</td>\n",
       "      <td>1</td>\n",
       "      <td>0</td>\n",
       "      <td>1</td>\n",
       "      <td>1</td>\n",
       "      <td>1</td>\n",
       "      <td>1</td>\n",
       "      <td>...</td>\n",
       "      <td>1</td>\n",
       "      <td>0</td>\n",
       "      <td>0</td>\n",
       "      <td>1</td>\n",
       "      <td>0</td>\n",
       "      <td>0</td>\n",
       "      <td>1</td>\n",
       "      <td>1</td>\n",
       "      <td>1</td>\n",
       "      <td>0</td>\n",
       "    </tr>\n",
       "    <tr>\n",
       "      <th>890</th>\n",
       "      <td>891</td>\n",
       "      <td>0</td>\n",
       "      <td>3</td>\n",
       "      <td>1</td>\n",
       "      <td>1</td>\n",
       "      <td>0</td>\n",
       "      <td>1</td>\n",
       "      <td>1</td>\n",
       "      <td>1</td>\n",
       "      <td>1</td>\n",
       "      <td>...</td>\n",
       "      <td>0</td>\n",
       "      <td>0</td>\n",
       "      <td>0</td>\n",
       "      <td>0</td>\n",
       "      <td>0</td>\n",
       "      <td>0</td>\n",
       "      <td>0</td>\n",
       "      <td>1</td>\n",
       "      <td>1</td>\n",
       "      <td>1</td>\n",
       "    </tr>\n",
       "  </tbody>\n",
       "</table>\n",
       "<p>891 rows × 39 columns</p>\n",
       "</div>"
      ],
      "text/plain": [
       "     PassengerId  Survived  Pclass  Name_0  Name_1  Name_2  Name_3  Name_4  \\\n",
       "0              1         0       3       0       0       0       0       0   \n",
       "1              2         1       1       0       0       0       0       0   \n",
       "2              3         1       3       0       0       0       0       0   \n",
       "3              4         1       1       0       0       0       0       0   \n",
       "4              5         0       3       0       0       0       0       0   \n",
       "..           ...       ...     ...     ...     ...     ...     ...     ...   \n",
       "886          887         0       2       1       1       0       1       1   \n",
       "887          888         1       1       1       1       0       1       1   \n",
       "888          889         0       3       1       1       0       1       1   \n",
       "889          890         1       1       1       1       0       1       1   \n",
       "890          891         0       3       1       1       0       1       1   \n",
       "\n",
       "     Name_5  Name_6  ...  Cabin_0  Cabin_1  Cabin_2  Cabin_3  Cabin_4  \\\n",
       "0         0       0  ...        0        0        0        0        0   \n",
       "1         0       0  ...        0        0        0        0        0   \n",
       "2         0       0  ...        0        0        0        0        0   \n",
       "3         0       0  ...        0        0        0        0        0   \n",
       "4         0       0  ...        0        0        0        0        0   \n",
       "..      ...     ...  ...      ...      ...      ...      ...      ...   \n",
       "886       1       0  ...        0        0        0        0        0   \n",
       "887       1       1  ...        1        0        0        1        0   \n",
       "888       1       1  ...        0        0        0        0        0   \n",
       "889       1       1  ...        1        0        0        1        0   \n",
       "890       1       1  ...        0        0        0        0        0   \n",
       "\n",
       "     Cabin_5  Cabin_6  Cabin_7  Embarked_0  Embarked_1  \n",
       "0          0        0        1           0           1  \n",
       "1          0        1        0           1           0  \n",
       "2          0        0        1           0           1  \n",
       "3          0        1        1           0           1  \n",
       "4          0        0        1           0           1  \n",
       "..       ...      ...      ...         ...         ...  \n",
       "886        0        0        1           0           1  \n",
       "887        0        1        0           0           1  \n",
       "888        0        0        1           0           1  \n",
       "889        0        1        1           1           0  \n",
       "890        0        0        1           1           1  \n",
       "\n",
       "[891 rows x 39 columns]"
      ]
     },
     "execution_count": 18,
     "metadata": {},
     "output_type": "execute_result"
    }
   ],
   "source": [
    "encoder=c.BinaryEncoder(cols=['Name','Sex','Ticket','Cabin','Embarked'],return_df=True)\n",
    "encoder.fit_transform(training_data)"
   ]
  },
  {
   "cell_type": "markdown",
   "id": "6853b2b9",
   "metadata": {
    "papermill": {
     "duration": 0.019053,
     "end_time": "2023-03-10T18:27:27.976531",
     "exception": false,
     "start_time": "2023-03-10T18:27:27.957478",
     "status": "completed"
    },
    "tags": []
   },
   "source": [
    "# Encoding testing data"
   ]
  },
  {
   "cell_type": "code",
   "execution_count": 19,
   "id": "18d5de41",
   "metadata": {
    "execution": {
     "iopub.execute_input": "2023-03-10T18:27:28.017057Z",
     "iopub.status.busy": "2023-03-10T18:27:28.016623Z",
     "iopub.status.idle": "2023-03-10T18:27:28.105913Z",
     "shell.execute_reply": "2023-03-10T18:27:28.104726Z"
    },
    "papermill": {
     "duration": 0.112435,
     "end_time": "2023-03-10T18:27:28.108219",
     "exception": false,
     "start_time": "2023-03-10T18:27:27.995784",
     "status": "completed"
    },
    "tags": []
   },
   "outputs": [
    {
     "data": {
      "text/html": [
       "<div>\n",
       "<style scoped>\n",
       "    .dataframe tbody tr th:only-of-type {\n",
       "        vertical-align: middle;\n",
       "    }\n",
       "\n",
       "    .dataframe tbody tr th {\n",
       "        vertical-align: top;\n",
       "    }\n",
       "\n",
       "    .dataframe thead th {\n",
       "        text-align: right;\n",
       "    }\n",
       "</style>\n",
       "<table border=\"1\" class=\"dataframe\">\n",
       "  <thead>\n",
       "    <tr style=\"text-align: right;\">\n",
       "      <th></th>\n",
       "      <th>PassengerId</th>\n",
       "      <th>Pclass</th>\n",
       "      <th>Name_0</th>\n",
       "      <th>Name_1</th>\n",
       "      <th>Name_2</th>\n",
       "      <th>Name_3</th>\n",
       "      <th>Name_4</th>\n",
       "      <th>Name_5</th>\n",
       "      <th>Name_6</th>\n",
       "      <th>Name_7</th>\n",
       "      <th>...</th>\n",
       "      <th>Fare</th>\n",
       "      <th>Cabin_0</th>\n",
       "      <th>Cabin_1</th>\n",
       "      <th>Cabin_2</th>\n",
       "      <th>Cabin_3</th>\n",
       "      <th>Cabin_4</th>\n",
       "      <th>Cabin_5</th>\n",
       "      <th>Cabin_6</th>\n",
       "      <th>Embarked_0</th>\n",
       "      <th>Embarked_1</th>\n",
       "    </tr>\n",
       "  </thead>\n",
       "  <tbody>\n",
       "    <tr>\n",
       "      <th>0</th>\n",
       "      <td>892</td>\n",
       "      <td>3</td>\n",
       "      <td>0</td>\n",
       "      <td>0</td>\n",
       "      <td>0</td>\n",
       "      <td>0</td>\n",
       "      <td>0</td>\n",
       "      <td>0</td>\n",
       "      <td>0</td>\n",
       "      <td>0</td>\n",
       "      <td>...</td>\n",
       "      <td>7.8292</td>\n",
       "      <td>0</td>\n",
       "      <td>0</td>\n",
       "      <td>0</td>\n",
       "      <td>0</td>\n",
       "      <td>0</td>\n",
       "      <td>0</td>\n",
       "      <td>1</td>\n",
       "      <td>0</td>\n",
       "      <td>1</td>\n",
       "    </tr>\n",
       "    <tr>\n",
       "      <th>1</th>\n",
       "      <td>893</td>\n",
       "      <td>3</td>\n",
       "      <td>0</td>\n",
       "      <td>0</td>\n",
       "      <td>0</td>\n",
       "      <td>0</td>\n",
       "      <td>0</td>\n",
       "      <td>0</td>\n",
       "      <td>0</td>\n",
       "      <td>1</td>\n",
       "      <td>...</td>\n",
       "      <td>7.0000</td>\n",
       "      <td>0</td>\n",
       "      <td>0</td>\n",
       "      <td>0</td>\n",
       "      <td>0</td>\n",
       "      <td>0</td>\n",
       "      <td>1</td>\n",
       "      <td>0</td>\n",
       "      <td>1</td>\n",
       "      <td>0</td>\n",
       "    </tr>\n",
       "    <tr>\n",
       "      <th>2</th>\n",
       "      <td>894</td>\n",
       "      <td>2</td>\n",
       "      <td>0</td>\n",
       "      <td>0</td>\n",
       "      <td>0</td>\n",
       "      <td>0</td>\n",
       "      <td>0</td>\n",
       "      <td>0</td>\n",
       "      <td>0</td>\n",
       "      <td>1</td>\n",
       "      <td>...</td>\n",
       "      <td>9.6875</td>\n",
       "      <td>0</td>\n",
       "      <td>0</td>\n",
       "      <td>0</td>\n",
       "      <td>0</td>\n",
       "      <td>0</td>\n",
       "      <td>0</td>\n",
       "      <td>1</td>\n",
       "      <td>0</td>\n",
       "      <td>1</td>\n",
       "    </tr>\n",
       "    <tr>\n",
       "      <th>3</th>\n",
       "      <td>895</td>\n",
       "      <td>3</td>\n",
       "      <td>0</td>\n",
       "      <td>0</td>\n",
       "      <td>0</td>\n",
       "      <td>0</td>\n",
       "      <td>0</td>\n",
       "      <td>0</td>\n",
       "      <td>1</td>\n",
       "      <td>0</td>\n",
       "      <td>...</td>\n",
       "      <td>8.6625</td>\n",
       "      <td>0</td>\n",
       "      <td>0</td>\n",
       "      <td>0</td>\n",
       "      <td>0</td>\n",
       "      <td>0</td>\n",
       "      <td>1</td>\n",
       "      <td>1</td>\n",
       "      <td>1</td>\n",
       "      <td>0</td>\n",
       "    </tr>\n",
       "    <tr>\n",
       "      <th>4</th>\n",
       "      <td>896</td>\n",
       "      <td>3</td>\n",
       "      <td>0</td>\n",
       "      <td>0</td>\n",
       "      <td>0</td>\n",
       "      <td>0</td>\n",
       "      <td>0</td>\n",
       "      <td>0</td>\n",
       "      <td>1</td>\n",
       "      <td>0</td>\n",
       "      <td>...</td>\n",
       "      <td>12.2875</td>\n",
       "      <td>0</td>\n",
       "      <td>0</td>\n",
       "      <td>0</td>\n",
       "      <td>0</td>\n",
       "      <td>0</td>\n",
       "      <td>0</td>\n",
       "      <td>1</td>\n",
       "      <td>1</td>\n",
       "      <td>0</td>\n",
       "    </tr>\n",
       "    <tr>\n",
       "      <th>...</th>\n",
       "      <td>...</td>\n",
       "      <td>...</td>\n",
       "      <td>...</td>\n",
       "      <td>...</td>\n",
       "      <td>...</td>\n",
       "      <td>...</td>\n",
       "      <td>...</td>\n",
       "      <td>...</td>\n",
       "      <td>...</td>\n",
       "      <td>...</td>\n",
       "      <td>...</td>\n",
       "      <td>...</td>\n",
       "      <td>...</td>\n",
       "      <td>...</td>\n",
       "      <td>...</td>\n",
       "      <td>...</td>\n",
       "      <td>...</td>\n",
       "      <td>...</td>\n",
       "      <td>...</td>\n",
       "      <td>...</td>\n",
       "      <td>...</td>\n",
       "    </tr>\n",
       "    <tr>\n",
       "      <th>413</th>\n",
       "      <td>1305</td>\n",
       "      <td>3</td>\n",
       "      <td>1</td>\n",
       "      <td>1</td>\n",
       "      <td>0</td>\n",
       "      <td>0</td>\n",
       "      <td>1</td>\n",
       "      <td>1</td>\n",
       "      <td>1</td>\n",
       "      <td>1</td>\n",
       "      <td>...</td>\n",
       "      <td>8.0500</td>\n",
       "      <td>0</td>\n",
       "      <td>0</td>\n",
       "      <td>0</td>\n",
       "      <td>0</td>\n",
       "      <td>0</td>\n",
       "      <td>0</td>\n",
       "      <td>1</td>\n",
       "      <td>1</td>\n",
       "      <td>0</td>\n",
       "    </tr>\n",
       "    <tr>\n",
       "      <th>414</th>\n",
       "      <td>1306</td>\n",
       "      <td>1</td>\n",
       "      <td>1</td>\n",
       "      <td>1</td>\n",
       "      <td>0</td>\n",
       "      <td>0</td>\n",
       "      <td>1</td>\n",
       "      <td>1</td>\n",
       "      <td>1</td>\n",
       "      <td>1</td>\n",
       "      <td>...</td>\n",
       "      <td>108.9000</td>\n",
       "      <td>0</td>\n",
       "      <td>0</td>\n",
       "      <td>0</td>\n",
       "      <td>0</td>\n",
       "      <td>0</td>\n",
       "      <td>0</td>\n",
       "      <td>1</td>\n",
       "      <td>1</td>\n",
       "      <td>1</td>\n",
       "    </tr>\n",
       "    <tr>\n",
       "      <th>415</th>\n",
       "      <td>1307</td>\n",
       "      <td>3</td>\n",
       "      <td>1</td>\n",
       "      <td>1</td>\n",
       "      <td>0</td>\n",
       "      <td>1</td>\n",
       "      <td>0</td>\n",
       "      <td>0</td>\n",
       "      <td>0</td>\n",
       "      <td>0</td>\n",
       "      <td>...</td>\n",
       "      <td>7.2500</td>\n",
       "      <td>0</td>\n",
       "      <td>0</td>\n",
       "      <td>0</td>\n",
       "      <td>0</td>\n",
       "      <td>0</td>\n",
       "      <td>0</td>\n",
       "      <td>1</td>\n",
       "      <td>1</td>\n",
       "      <td>0</td>\n",
       "    </tr>\n",
       "    <tr>\n",
       "      <th>416</th>\n",
       "      <td>1308</td>\n",
       "      <td>3</td>\n",
       "      <td>1</td>\n",
       "      <td>1</td>\n",
       "      <td>0</td>\n",
       "      <td>1</td>\n",
       "      <td>0</td>\n",
       "      <td>0</td>\n",
       "      <td>0</td>\n",
       "      <td>0</td>\n",
       "      <td>...</td>\n",
       "      <td>8.0500</td>\n",
       "      <td>0</td>\n",
       "      <td>0</td>\n",
       "      <td>0</td>\n",
       "      <td>0</td>\n",
       "      <td>0</td>\n",
       "      <td>0</td>\n",
       "      <td>1</td>\n",
       "      <td>1</td>\n",
       "      <td>0</td>\n",
       "    </tr>\n",
       "    <tr>\n",
       "      <th>417</th>\n",
       "      <td>1309</td>\n",
       "      <td>3</td>\n",
       "      <td>1</td>\n",
       "      <td>1</td>\n",
       "      <td>0</td>\n",
       "      <td>1</td>\n",
       "      <td>0</td>\n",
       "      <td>0</td>\n",
       "      <td>0</td>\n",
       "      <td>1</td>\n",
       "      <td>...</td>\n",
       "      <td>22.3583</td>\n",
       "      <td>0</td>\n",
       "      <td>0</td>\n",
       "      <td>0</td>\n",
       "      <td>0</td>\n",
       "      <td>0</td>\n",
       "      <td>0</td>\n",
       "      <td>1</td>\n",
       "      <td>1</td>\n",
       "      <td>1</td>\n",
       "    </tr>\n",
       "  </tbody>\n",
       "</table>\n",
       "<p>418 rows × 35 columns</p>\n",
       "</div>"
      ],
      "text/plain": [
       "     PassengerId  Pclass  Name_0  Name_1  Name_2  Name_3  Name_4  Name_5  \\\n",
       "0            892       3       0       0       0       0       0       0   \n",
       "1            893       3       0       0       0       0       0       0   \n",
       "2            894       2       0       0       0       0       0       0   \n",
       "3            895       3       0       0       0       0       0       0   \n",
       "4            896       3       0       0       0       0       0       0   \n",
       "..           ...     ...     ...     ...     ...     ...     ...     ...   \n",
       "413         1305       3       1       1       0       0       1       1   \n",
       "414         1306       1       1       1       0       0       1       1   \n",
       "415         1307       3       1       1       0       1       0       0   \n",
       "416         1308       3       1       1       0       1       0       0   \n",
       "417         1309       3       1       1       0       1       0       0   \n",
       "\n",
       "     Name_6  Name_7  ...      Fare  Cabin_0  Cabin_1  Cabin_2  Cabin_3  \\\n",
       "0         0       0  ...    7.8292        0        0        0        0   \n",
       "1         0       1  ...    7.0000        0        0        0        0   \n",
       "2         0       1  ...    9.6875        0        0        0        0   \n",
       "3         1       0  ...    8.6625        0        0        0        0   \n",
       "4         1       0  ...   12.2875        0        0        0        0   \n",
       "..      ...     ...  ...       ...      ...      ...      ...      ...   \n",
       "413       1       1  ...    8.0500        0        0        0        0   \n",
       "414       1       1  ...  108.9000        0        0        0        0   \n",
       "415       0       0  ...    7.2500        0        0        0        0   \n",
       "416       0       0  ...    8.0500        0        0        0        0   \n",
       "417       0       1  ...   22.3583        0        0        0        0   \n",
       "\n",
       "     Cabin_4  Cabin_5  Cabin_6  Embarked_0  Embarked_1  \n",
       "0          0        0        1           0           1  \n",
       "1          0        1        0           1           0  \n",
       "2          0        0        1           0           1  \n",
       "3          0        1        1           1           0  \n",
       "4          0        0        1           1           0  \n",
       "..       ...      ...      ...         ...         ...  \n",
       "413        0        0        1           1           0  \n",
       "414        0        0        1           1           1  \n",
       "415        0        0        1           1           0  \n",
       "416        0        0        1           1           0  \n",
       "417        0        0        1           1           1  \n",
       "\n",
       "[418 rows x 35 columns]"
      ]
     },
     "execution_count": 19,
     "metadata": {},
     "output_type": "execute_result"
    }
   ],
   "source": [
    "encoder=c.BinaryEncoder(cols=['Name','Sex','Ticket','Cabin','Embarked'],return_df=True)\n",
    "encoder.fit_transform(testing_data)"
   ]
  },
  {
   "cell_type": "markdown",
   "id": "dbabbc68",
   "metadata": {
    "papermill": {
     "duration": 0.019227,
     "end_time": "2023-03-10T18:27:28.147519",
     "exception": false,
     "start_time": "2023-03-10T18:27:28.128292",
     "status": "completed"
    },
    "tags": []
   },
   "source": [
    "# Feature Selection"
   ]
  },
  {
   "cell_type": "markdown",
   "id": "9f766a11",
   "metadata": {
    "papermill": {
     "duration": 0.019398,
     "end_time": "2023-03-10T18:27:28.187436",
     "exception": false,
     "start_time": "2023-03-10T18:27:28.168038",
     "status": "completed"
    },
    "tags": []
   },
   "source": [
    "# Using the features given by Kaggle"
   ]
  },
  {
   "cell_type": "code",
   "execution_count": 20,
   "id": "97d8b464",
   "metadata": {
    "execution": {
     "iopub.execute_input": "2023-03-10T18:27:28.229298Z",
     "iopub.status.busy": "2023-03-10T18:27:28.228888Z",
     "iopub.status.idle": "2023-03-10T18:27:28.605437Z",
     "shell.execute_reply": "2023-03-10T18:27:28.604272Z"
    },
    "papermill": {
     "duration": 0.40037,
     "end_time": "2023-03-10T18:27:28.607867",
     "exception": false,
     "start_time": "2023-03-10T18:27:28.207497",
     "status": "completed"
    },
    "tags": []
   },
   "outputs": [
    {
     "name": "stdout",
     "output_type": "stream",
     "text": [
      "0.806060606060606\n"
     ]
    }
   ],
   "source": [
    "from sklearn.ensemble import RandomForestClassifier\n",
    "\n",
    "y = training_data[\"Survived\"]\n",
    "\n",
    "features = [\"Pclass\", \"Sex\", \"SibSp\", \"Parch\"]\n",
    "X = pd.get_dummies(training_data[features])\n",
    "X_train, X_test, y_train, y_test = train_test_split(X, y,  test_size=0.37, random_state=42)\n",
    "model = RandomForestClassifier(n_estimators=100, max_depth=5, random_state=1)\n",
    "model.fit(X, y)\n",
    "predictions = model.predict(X_test)\n",
    "print(metrics.accuracy_score(y_test,predictions))"
   ]
  },
  {
   "cell_type": "code",
   "execution_count": 21,
   "id": "22674848",
   "metadata": {
    "execution": {
     "iopub.execute_input": "2023-03-10T18:27:28.650761Z",
     "iopub.status.busy": "2023-03-10T18:27:28.650045Z",
     "iopub.status.idle": "2023-03-10T18:27:28.675602Z",
     "shell.execute_reply": "2023-03-10T18:27:28.674801Z"
    },
    "papermill": {
     "duration": 0.049143,
     "end_time": "2023-03-10T18:27:28.677740",
     "exception": false,
     "start_time": "2023-03-10T18:27:28.628597",
     "status": "completed"
    },
    "tags": []
   },
   "outputs": [
    {
     "data": {
      "text/plain": [
       "array([0, 1, 0, 0, 1, 0, 1, 0, 1, 0, 0, 0, 1, 0, 1, 1, 0, 0, 1, 1, 0, 0,\n",
       "       1, 0, 1, 0, 1, 0, 0, 0, 0, 0, 0, 0, 0, 0, 1, 1, 0, 0, 0, 0, 0, 1,\n",
       "       1, 0, 0, 0, 1, 1, 0, 0, 1, 1, 0, 0, 0, 0, 0, 1, 0, 0, 0, 1, 1, 1,\n",
       "       1, 0, 0, 1, 1, 0, 1, 0, 1, 0, 0, 1, 0, 1, 0, 0, 0, 0, 0, 0, 1, 1,\n",
       "       1, 0, 1, 0, 1, 0, 0, 0, 1, 0, 1, 0, 1, 0, 0, 0, 1, 0, 0, 0, 0, 0,\n",
       "       0, 1, 1, 1, 1, 0, 0, 1, 0, 1, 1, 0, 1, 0, 0, 1, 0, 1, 0, 0, 0, 0,\n",
       "       0, 0, 0, 0, 0, 0, 1, 0, 0, 1, 1, 0, 0, 0, 0, 0, 0, 0, 1, 0, 0, 1,\n",
       "       0, 0, 1, 1, 0, 1, 1, 0, 1, 0, 0, 1, 0, 0, 1, 1, 0, 0, 0, 0, 0, 1,\n",
       "       1, 0, 1, 1, 0, 0, 1, 0, 1, 0, 1, 0, 0, 0, 0, 0, 0, 0, 1, 0, 1, 1,\n",
       "       0, 1, 1, 0, 0, 1, 0, 0, 1, 0, 1, 0, 0, 0, 0, 1, 0, 0, 1, 0, 1, 0,\n",
       "       1, 0, 1, 0, 1, 1, 0, 1, 0, 0, 0, 1, 0, 0, 0, 0, 0, 0, 1, 1, 1, 1,\n",
       "       0, 0, 0, 0, 1, 0, 1, 1, 1, 0, 0, 0, 0, 0, 0, 0, 1, 0, 0, 0, 1, 1,\n",
       "       0, 0, 0, 0, 1, 0, 0, 0, 1, 1, 0, 1, 0, 0, 0, 0, 1, 0, 1, 1, 1, 0,\n",
       "       0, 0, 0, 0, 0, 1, 0, 0, 0, 0, 1, 0, 0, 0, 0, 0, 0, 0, 1, 1, 1, 0,\n",
       "       0, 1, 0, 0, 0, 1, 1, 1, 0, 0, 0, 0, 0, 0, 0, 0, 1, 0, 1, 0, 0, 0,\n",
       "       1, 0, 0, 1, 0, 0, 0, 0, 0, 0, 0, 0, 0, 1, 0, 1, 0, 1, 0, 1, 1, 0,\n",
       "       0, 0, 0, 0, 1, 0, 0, 1, 0, 1, 1, 0, 1, 0, 0, 1, 1, 0, 0, 1, 0, 0,\n",
       "       1, 1, 1, 0, 0, 0, 0, 0, 1, 1, 0, 1, 0, 0, 0, 0, 0, 1, 0, 0, 0, 1,\n",
       "       0, 1, 0, 0, 1, 0, 1, 0, 0, 0, 0, 0, 1, 1, 1, 1, 1, 0, 1, 0, 0, 0])"
      ]
     },
     "execution_count": 21,
     "metadata": {},
     "output_type": "execute_result"
    }
   ],
   "source": [
    "test_predict = model.predict(testing_data[features])\n",
    "test_predict\n"
   ]
  },
  {
   "cell_type": "code",
   "execution_count": 22,
   "id": "92ad4e45",
   "metadata": {
    "execution": {
     "iopub.execute_input": "2023-03-10T18:27:28.719454Z",
     "iopub.status.busy": "2023-03-10T18:27:28.718769Z",
     "iopub.status.idle": "2023-03-10T18:27:28.728411Z",
     "shell.execute_reply": "2023-03-10T18:27:28.727319Z"
    },
    "papermill": {
     "duration": 0.032457,
     "end_time": "2023-03-10T18:27:28.730361",
     "exception": false,
     "start_time": "2023-03-10T18:27:28.697904",
     "status": "completed"
    },
    "tags": []
   },
   "outputs": [
    {
     "name": "stdout",
     "output_type": "stream",
     "text": [
      "Your submission was successfully saved!\n"
     ]
    }
   ],
   "source": [
    "output = pd.DataFrame({'PassengerId': testing_data.PassengerId, 'Survived': test_predict})\n",
    "output.to_csv('submission_original.csv', index=False)\n",
    "print(\"Your submission was successfully saved!\")"
   ]
  },
  {
   "cell_type": "markdown",
   "id": "0dd447d3",
   "metadata": {
    "papermill": {
     "duration": 0.020501,
     "end_time": "2023-03-10T18:27:28.771867",
     "exception": false,
     "start_time": "2023-03-10T18:27:28.751366",
     "status": "completed"
    },
    "tags": []
   },
   "source": [
    "# Correlation values with Survived column"
   ]
  },
  {
   "cell_type": "code",
   "execution_count": 23,
   "id": "41b989b8",
   "metadata": {
    "execution": {
     "iopub.execute_input": "2023-03-10T18:27:28.815026Z",
     "iopub.status.busy": "2023-03-10T18:27:28.814273Z",
     "iopub.status.idle": "2023-03-10T18:27:28.824657Z",
     "shell.execute_reply": "2023-03-10T18:27:28.823362Z"
    },
    "papermill": {
     "duration": 0.034488,
     "end_time": "2023-03-10T18:27:28.826997",
     "exception": false,
     "start_time": "2023-03-10T18:27:28.792509",
     "status": "completed"
    },
    "tags": []
   },
   "outputs": [
    {
     "name": "stdout",
     "output_type": "stream",
     "text": [
      "PassengerId   -0.005007\n",
      "Survived       1.000000\n",
      "Pclass        -0.338481\n",
      "Name          -0.057343\n",
      "Sex           -0.543351\n",
      "Age           -0.069809\n",
      "SibSp         -0.035322\n",
      "Parch          0.081629\n",
      "Ticket        -0.164549\n",
      "Fare           0.257307\n",
      "Cabin          0.175690\n",
      "Embarked      -0.167675\n",
      "Name: Survived, dtype: float64\n"
     ]
    }
   ],
   "source": [
    "col_names=['PassengerId','Survived','Pclass',\"Name\",\"Sex\",\"Age\",\"SibSp\",\"Parch\",\"Ticket\",\"Fare\",\"Cabin\",\"Embarked\"]\n",
    "corr_values=training_data[training_data.columns[0:]].corr()['Survived']\n",
    "print(corr_values)"
   ]
  },
  {
   "cell_type": "markdown",
   "id": "b37af841",
   "metadata": {
    "papermill": {
     "duration": 0.020644,
     "end_time": "2023-03-10T18:27:28.868033",
     "exception": false,
     "start_time": "2023-03-10T18:27:28.847389",
     "status": "completed"
    },
    "tags": []
   },
   "source": [
    "# Setting coefficient threshold"
   ]
  },
  {
   "cell_type": "code",
   "execution_count": 24,
   "id": "effddee2",
   "metadata": {
    "execution": {
     "iopub.execute_input": "2023-03-10T18:27:28.911774Z",
     "iopub.status.busy": "2023-03-10T18:27:28.910880Z",
     "iopub.status.idle": "2023-03-10T18:27:28.917841Z",
     "shell.execute_reply": "2023-03-10T18:27:28.916338Z"
    },
    "papermill": {
     "duration": 0.031053,
     "end_time": "2023-03-10T18:27:28.920317",
     "exception": false,
     "start_time": "2023-03-10T18:27:28.889264",
     "status": "completed"
    },
    "tags": []
   },
   "outputs": [
    {
     "name": "stdout",
     "output_type": "stream",
     "text": [
      "Survived\n",
      "Pclass\n",
      "Sex\n",
      "Ticket\n",
      "Fare\n",
      "Cabin\n",
      "Embarked\n"
     ]
    }
   ],
   "source": [
    "for i in range(len(corr_values)):\n",
    "    if abs(corr_values[i]) > 0.1:\n",
    "        print(col_names[i])"
   ]
  },
  {
   "cell_type": "markdown",
   "id": "1ed7628a",
   "metadata": {
    "papermill": {
     "duration": 0.019814,
     "end_time": "2023-03-10T18:27:28.961049",
     "exception": false,
     "start_time": "2023-03-10T18:27:28.941235",
     "status": "completed"
    },
    "tags": []
   },
   "source": [
    "# HeatMap generation using correlation values"
   ]
  },
  {
   "cell_type": "code",
   "execution_count": 25,
   "id": "31568944",
   "metadata": {
    "execution": {
     "iopub.execute_input": "2023-03-10T18:27:29.004387Z",
     "iopub.status.busy": "2023-03-10T18:27:29.003245Z",
     "iopub.status.idle": "2023-03-10T18:27:30.073750Z",
     "shell.execute_reply": "2023-03-10T18:27:30.072756Z"
    },
    "papermill": {
     "duration": 1.094595,
     "end_time": "2023-03-10T18:27:30.076210",
     "exception": false,
     "start_time": "2023-03-10T18:27:28.981615",
     "status": "completed"
    },
    "tags": []
   },
   "outputs": [
    {
     "data": {
      "text/plain": [
       "<AxesSubplot:>"
      ]
     },
     "execution_count": 25,
     "metadata": {},
     "output_type": "execute_result"
    },
    {
     "data": {
      "image/png": "[encoded data removed]",
      "text/plain": [
       "<Figure size 640x480 with 2 Axes>"
      ]
     },
     "metadata": {},
     "output_type": "display_data"
    }
   ],
   "source": [
    "sns.heatmap(training_data.corr(), annot=True,annot_kws={'size': 8})"
   ]
  },
  {
   "cell_type": "markdown",
   "id": "9cec0ed2",
   "metadata": {
    "papermill": {
     "duration": 0.021442,
     "end_time": "2023-03-10T18:27:30.120379",
     "exception": false,
     "start_time": "2023-03-10T18:27:30.098937",
     "status": "completed"
    },
    "tags": []
   },
   "source": [
    "Columns Pclass,Sex,Parch,Ticket,Fare,Cabin,Embarked have are positively correlated with Survival rate. Among these Sex,Pclass,Fare are highly correlated."
   ]
  },
  {
   "cell_type": "markdown",
   "id": "f9e2ff23",
   "metadata": {
    "papermill": {
     "duration": 0.021832,
     "end_time": "2023-03-10T18:27:30.164233",
     "exception": false,
     "start_time": "2023-03-10T18:27:30.142401",
     "status": "completed"
    },
    "tags": []
   },
   "source": [
    "# Accuracy score calculation with correlation parameters using Random Forest Classifier"
   ]
  },
  {
   "cell_type": "code",
   "execution_count": 26,
   "id": "7aeb9144",
   "metadata": {
    "execution": {
     "iopub.execute_input": "2023-03-10T18:27:30.209676Z",
     "iopub.status.busy": "2023-03-10T18:27:30.209225Z",
     "iopub.status.idle": "2023-03-10T18:27:30.406708Z",
     "shell.execute_reply": "2023-03-10T18:27:30.405336Z"
    },
    "papermill": {
     "duration": 0.222957,
     "end_time": "2023-03-10T18:27:30.409297",
     "exception": false,
     "start_time": "2023-03-10T18:27:30.186340",
     "status": "completed"
    },
    "tags": []
   },
   "outputs": [
    {
     "name": "stdout",
     "output_type": "stream",
     "text": [
      "0.8333333333333334\n"
     ]
    }
   ],
   "source": [
    "from sklearn.ensemble import RandomForestClassifier\n",
    "from sklearn.model_selection import train_test_split\n",
    "from sklearn import metrics\n",
    "\n",
    "y = training_data[\"Survived\"]\n",
    "features = [\"Pclass\",\"SibSp\",\"Parch\",\"Sex\",\"Fare\",\"Cabin\",\"Embarked\"]\n",
    "X = pd.get_dummies(training_data[features])\n",
    "X_train, X_test, y_train, y_test = train_test_split(X, y,  test_size=0.37, random_state=42)\n",
    "model = RandomForestClassifier(n_estimators=100, max_depth=5, random_state=1)\n",
    "model.fit(X, y)\n",
    "predictions_c = model.predict(X_test)\n",
    "print(metrics.accuracy_score(y_test,predictions_c))"
   ]
  },
  {
   "cell_type": "markdown",
   "id": "88b9175b",
   "metadata": {
    "papermill": {
     "duration": 0.021749,
     "end_time": "2023-03-10T18:27:30.453374",
     "exception": false,
     "start_time": "2023-03-10T18:27:30.431625",
     "status": "completed"
    },
    "tags": []
   },
   "source": [
    "# Model prediction on test data"
   ]
  },
  {
   "cell_type": "code",
   "execution_count": 27,
   "id": "79339144",
   "metadata": {
    "execution": {
     "iopub.execute_input": "2023-03-10T18:27:30.499908Z",
     "iopub.status.busy": "2023-03-10T18:27:30.499466Z",
     "iopub.status.idle": "2023-03-10T18:27:30.528897Z",
     "shell.execute_reply": "2023-03-10T18:27:30.527783Z"
    },
    "papermill": {
     "duration": 0.055938,
     "end_time": "2023-03-10T18:27:30.531216",
     "exception": false,
     "start_time": "2023-03-10T18:27:30.475278",
     "status": "completed"
    },
    "tags": []
   },
   "outputs": [
    {
     "data": {
      "text/plain": [
       "array([0, 0, 0, 0, 1, 0, 1, 0, 1, 0, 0, 0, 1, 0, 1, 1, 0, 0, 0, 1, 1, 0,\n",
       "       1, 1, 1, 0, 1, 0, 0, 0, 0, 0, 0, 0, 1, 0, 0, 0, 0, 0, 0, 0, 0, 1,\n",
       "       1, 0, 0, 0, 1, 1, 0, 0, 1, 1, 0, 0, 0, 0, 0, 1, 0, 0, 0, 1, 1, 1,\n",
       "       1, 0, 0, 1, 1, 0, 0, 0, 1, 0, 0, 1, 0, 1, 0, 1, 0, 0, 0, 0, 1, 0,\n",
       "       1, 0, 1, 0, 1, 0, 0, 0, 1, 0, 0, 0, 1, 0, 0, 0, 1, 0, 0, 0, 0, 0,\n",
       "       0, 1, 1, 1, 1, 0, 0, 1, 1, 1, 1, 0, 1, 0, 0, 1, 0, 1, 0, 0, 0, 0,\n",
       "       0, 0, 0, 0, 0, 0, 0, 0, 0, 1, 1, 0, 0, 0, 0, 0, 0, 0, 1, 0, 0, 1,\n",
       "       0, 0, 1, 0, 0, 1, 1, 0, 1, 0, 0, 0, 0, 0, 1, 0, 0, 0, 0, 0, 0, 1,\n",
       "       1, 1, 1, 1, 0, 1, 1, 0, 1, 0, 1, 0, 0, 0, 0, 0, 0, 0, 0, 0, 1, 0,\n",
       "       0, 0, 1, 0, 1, 1, 0, 0, 1, 0, 1, 0, 0, 0, 0, 1, 0, 0, 1, 1, 1, 0,\n",
       "       1, 0, 1, 0, 1, 1, 0, 1, 0, 0, 0, 1, 0, 0, 1, 0, 1, 0, 1, 1, 1, 1,\n",
       "       1, 0, 0, 0, 1, 0, 1, 1, 1, 0, 0, 0, 0, 0, 0, 0, 1, 0, 0, 0, 1, 1,\n",
       "       0, 0, 0, 0, 0, 0, 0, 0, 1, 1, 0, 1, 0, 0, 0, 0, 0, 0, 1, 1, 1, 0,\n",
       "       0, 0, 0, 0, 0, 1, 0, 1, 0, 0, 1, 0, 0, 0, 0, 0, 0, 0, 1, 1, 1, 0,\n",
       "       1, 1, 0, 0, 0, 1, 1, 1, 1, 0, 0, 0, 0, 0, 0, 0, 1, 0, 1, 0, 0, 0,\n",
       "       1, 0, 0, 1, 0, 0, 0, 0, 0, 0, 0, 0, 0, 1, 0, 1, 0, 1, 0, 1, 1, 0,\n",
       "       0, 0, 0, 0, 1, 0, 0, 1, 0, 1, 1, 0, 1, 0, 0, 1, 1, 0, 0, 1, 0, 0,\n",
       "       1, 1, 0, 0, 0, 0, 0, 0, 1, 1, 0, 1, 0, 0, 0, 0, 0, 1, 0, 0, 0, 1,\n",
       "       0, 1, 0, 0, 1, 0, 1, 0, 0, 0, 0, 1, 1, 1, 1, 1, 0, 0, 1, 0, 0, 0])"
      ]
     },
     "execution_count": 27,
     "metadata": {},
     "output_type": "execute_result"
    }
   ],
   "source": [
    "test_predict = model.predict(testing_data[features])\n",
    "test_predict"
   ]
  },
  {
   "cell_type": "markdown",
   "id": "88e59281",
   "metadata": {
    "papermill": {
     "duration": 0.021733,
     "end_time": "2023-03-10T18:27:30.574910",
     "exception": false,
     "start_time": "2023-03-10T18:27:30.553177",
     "status": "completed"
    },
    "tags": []
   },
   "source": [
    "# Generating output csv"
   ]
  },
  {
   "cell_type": "code",
   "execution_count": 28,
   "id": "9311ac38",
   "metadata": {
    "execution": {
     "iopub.execute_input": "2023-03-10T18:27:30.621000Z",
     "iopub.status.busy": "2023-03-10T18:27:30.620601Z",
     "iopub.status.idle": "2023-03-10T18:27:30.629837Z",
     "shell.execute_reply": "2023-03-10T18:27:30.628168Z"
    },
    "papermill": {
     "duration": 0.035277,
     "end_time": "2023-03-10T18:27:30.632181",
     "exception": false,
     "start_time": "2023-03-10T18:27:30.596904",
     "status": "completed"
    },
    "tags": []
   },
   "outputs": [
    {
     "name": "stdout",
     "output_type": "stream",
     "text": [
      "Your submission was successfully saved!\n"
     ]
    }
   ],
   "source": [
    "output = pd.DataFrame({'PassengerId': testing_data.PassengerId, 'Survived': test_predict})\n",
    "output.to_csv('submission_corr.csv', index=False)\n",
    "print(\"Your submission was successfully saved!\")"
   ]
  },
  {
   "cell_type": "markdown",
   "id": "7af34604",
   "metadata": {
    "papermill": {
     "duration": 0.021139,
     "end_time": "2023-03-10T18:27:30.674788",
     "exception": false,
     "start_time": "2023-03-10T18:27:30.653649",
     "status": "completed"
    },
    "tags": []
   },
   "source": [
    "# Chi-Square test"
   ]
  },
  {
   "cell_type": "code",
   "execution_count": 29,
   "id": "d5c98aee",
   "metadata": {
    "execution": {
     "iopub.execute_input": "2023-03-10T18:27:30.721373Z",
     "iopub.status.busy": "2023-03-10T18:27:30.720069Z",
     "iopub.status.idle": "2023-03-10T18:27:30.743388Z",
     "shell.execute_reply": "2023-03-10T18:27:30.742259Z"
    },
    "papermill": {
     "duration": 0.049086,
     "end_time": "2023-03-10T18:27:30.745680",
     "exception": false,
     "start_time": "2023-03-10T18:27:30.696594",
     "status": "completed"
    },
    "tags": []
   },
   "outputs": [
    {
     "data": {
      "text/plain": [
       "(array([3.31293407e+00, 3.08736994e+01, 4.35568915e+02, 9.27024470e+01,\n",
       "        2.46879258e+01, 2.58186538e+00, 1.00974991e+01, 2.87165547e+03,\n",
       "        4.51831909e+03, 2.84482789e+02, 1.02025247e+01]),\n",
       " array([6.87366651e-02, 2.75378563e-08, 9.97314604e-97, 6.07783826e-22,\n",
       "        6.74051416e-07, 1.08094210e-01, 1.48470676e-03, 0.00000000e+00,\n",
       "        0.00000000e+00, 7.92037850e-64, 1.40248517e-03]))"
      ]
     },
     "execution_count": 29,
     "metadata": {},
     "output_type": "execute_result"
    }
   ],
   "source": [
    "from sklearn.feature_selection import chi2\n",
    "X = training_data.drop('Survived',axis=1)\n",
    "y = training_data['Survived']\n",
    "chi_scores = chi2(X,y)\n",
    "chi_scores"
   ]
  },
  {
   "cell_type": "code",
   "execution_count": 30,
   "id": "ea65c309",
   "metadata": {
    "execution": {
     "iopub.execute_input": "2023-03-10T18:27:30.793413Z",
     "iopub.status.busy": "2023-03-10T18:27:30.792224Z",
     "iopub.status.idle": "2023-03-10T18:27:31.059905Z",
     "shell.execute_reply": "2023-03-10T18:27:31.058832Z"
    },
    "papermill": {
     "duration": 0.293703,
     "end_time": "2023-03-10T18:27:31.062357",
     "exception": false,
     "start_time": "2023-03-10T18:27:30.768654",
     "status": "completed"
    },
    "tags": []
   },
   "outputs": [
    {
     "data": {
      "text/plain": [
       "<AxesSubplot:>"
      ]
     },
     "execution_count": 30,
     "metadata": {},
     "output_type": "execute_result"
    },
    {
     "data": {
      "image/png": "[encoded data removed]",
      "text/plain": [
       "<Figure size 640x480 with 1 Axes>"
      ]
     },
     "metadata": {},
     "output_type": "display_data"
    }
   ],
   "source": [
    "p_values = pd.Series(chi_scores[1],index = X.columns)\n",
    "p_values.sort_values(ascending = False , inplace = True)\n",
    "p_values.plot.bar()"
   ]
  },
  {
   "cell_type": "markdown",
   "id": "86ebca44",
   "metadata": {
    "papermill": {
     "duration": 0.022764,
     "end_time": "2023-03-10T18:27:31.108274",
     "exception": false,
     "start_time": "2023-03-10T18:27:31.085510",
     "status": "completed"
    },
    "tags": []
   },
   "source": [
    "Features selected from above graph are Parch,Embarked,Age,Pclass,Sex,Cabin,Name,Ticket,Fare"
   ]
  },
  {
   "cell_type": "markdown",
   "id": "fa950129",
   "metadata": {
    "papermill": {
     "duration": 0.022116,
     "end_time": "2023-03-10T18:27:31.153252",
     "exception": false,
     "start_time": "2023-03-10T18:27:31.131136",
     "status": "completed"
    },
    "tags": []
   },
   "source": [
    "# Train-test split"
   ]
  },
  {
   "cell_type": "code",
   "execution_count": 31,
   "id": "dae2aed8",
   "metadata": {
    "execution": {
     "iopub.execute_input": "2023-03-10T18:27:31.200962Z",
     "iopub.status.busy": "2023-03-10T18:27:31.200525Z",
     "iopub.status.idle": "2023-03-10T18:27:31.213865Z",
     "shell.execute_reply": "2023-03-10T18:27:31.212891Z"
    },
    "papermill": {
     "duration": 0.040811,
     "end_time": "2023-03-10T18:27:31.216196",
     "exception": false,
     "start_time": "2023-03-10T18:27:31.175385",
     "status": "completed"
    },
    "tags": []
   },
   "outputs": [],
   "source": [
    "y = training_data[\"Survived\"]\n",
    "\n",
    "features = [\"Pclass\",\"Name\",\"Sex\",\"Age\",\"Parch\",\"Ticket\",\"Fare\",\"Cabin\",\"Embarked\",]\n",
    "X = pd.get_dummies(training_data[features])\n",
    "X_train, X_test, y_train, y_test = train_test_split(X, y,  test_size=0.37, random_state=42)\n",
    "accuracy=[]"
   ]
  },
  {
   "cell_type": "markdown",
   "id": "a00bcfee",
   "metadata": {
    "papermill": {
     "duration": 0.023357,
     "end_time": "2023-03-10T18:27:31.262894",
     "exception": false,
     "start_time": "2023-03-10T18:27:31.239537",
     "status": "completed"
    },
    "tags": []
   },
   "source": [
    "# Model prediction using Linear SVC"
   ]
  },
  {
   "cell_type": "code",
   "execution_count": 32,
   "id": "4c46fe1f",
   "metadata": {
    "execution": {
     "iopub.execute_input": "2023-03-10T18:27:31.309705Z",
     "iopub.status.busy": "2023-03-10T18:27:31.309300Z",
     "iopub.status.idle": "2023-03-10T18:28:25.414585Z",
     "shell.execute_reply": "2023-03-10T18:28:25.413531Z"
    },
    "papermill": {
     "duration": 54.132211,
     "end_time": "2023-03-10T18:28:25.417386",
     "exception": false,
     "start_time": "2023-03-10T18:27:31.285175",
     "status": "completed"
    },
    "tags": []
   },
   "outputs": [],
   "source": [
    "from sklearn import svm\n",
    "linear_svm = svm.SVC(kernel='linear', C = 1.0)\n",
    "linear_svm.fit(X,y)\n",
    "predictions_svm=linear_svm.predict(X_test)\n",
    "accuracy.append(metrics.accuracy_score(y_test,predictions_svm))"
   ]
  },
  {
   "cell_type": "markdown",
   "id": "5e90fb9d",
   "metadata": {
    "papermill": {
     "duration": 0.022869,
     "end_time": "2023-03-10T18:28:25.464104",
     "exception": false,
     "start_time": "2023-03-10T18:28:25.441235",
     "status": "completed"
    },
    "tags": []
   },
   "source": [
    "# Model Prediction using Decision Tree Classifier"
   ]
  },
  {
   "cell_type": "code",
   "execution_count": 33,
   "id": "f7fe9307",
   "metadata": {
    "execution": {
     "iopub.execute_input": "2023-03-10T18:28:25.512801Z",
     "iopub.status.busy": "2023-03-10T18:28:25.512360Z",
     "iopub.status.idle": "2023-03-10T18:28:25.524532Z",
     "shell.execute_reply": "2023-03-10T18:28:25.523632Z"
    },
    "papermill": {
     "duration": 0.039412,
     "end_time": "2023-03-10T18:28:25.527013",
     "exception": false,
     "start_time": "2023-03-10T18:28:25.487601",
     "status": "completed"
    },
    "tags": []
   },
   "outputs": [],
   "source": [
    "from sklearn.tree import DecisionTreeClassifier\n",
    "dc=DecisionTreeClassifier(criterion = \"gini\",random_state = 100,max_depth=3, min_samples_leaf=5)\n",
    "dc.fit(X,y)\n",
    "predictions_dc=dc.predict(X_test)\n",
    "accuracy.append(metrics.accuracy_score(y_test,predictions_dc))"
   ]
  },
  {
   "cell_type": "markdown",
   "id": "9353367e",
   "metadata": {
    "papermill": {
     "duration": 0.022799,
     "end_time": "2023-03-10T18:28:25.572834",
     "exception": false,
     "start_time": "2023-03-10T18:28:25.550035",
     "status": "completed"
    },
    "tags": []
   },
   "source": [
    "# Model prediction using Logisitic Regression classifier\n"
   ]
  },
  {
   "cell_type": "code",
   "execution_count": 34,
   "id": "23781016",
   "metadata": {
    "execution": {
     "iopub.execute_input": "2023-03-10T18:28:25.620778Z",
     "iopub.status.busy": "2023-03-10T18:28:25.620358Z",
     "iopub.status.idle": "2023-03-10T18:28:25.735690Z",
     "shell.execute_reply": "2023-03-10T18:28:25.734751Z"
    },
    "papermill": {
     "duration": 0.142625,
     "end_time": "2023-03-10T18:28:25.738389",
     "exception": false,
     "start_time": "2023-03-10T18:28:25.595764",
     "status": "completed"
    },
    "tags": []
   },
   "outputs": [],
   "source": [
    "from sklearn import linear_model\n",
    "lr_model= linear_model.LogisticRegression(max_iter=1000)  \n",
    "lr_model.fit(X, y)  \n",
    "predictions_lr = lr_model.predict(X_test)\n",
    "accuracy.append(metrics.accuracy_score(y_test,predictions_lr))"
   ]
  },
  {
   "cell_type": "code",
   "execution_count": 35,
   "id": "bd301c29",
   "metadata": {
    "execution": {
     "iopub.execute_input": "2023-03-10T18:28:25.786283Z",
     "iopub.status.busy": "2023-03-10T18:28:25.785914Z",
     "iopub.status.idle": "2023-03-10T18:28:25.796424Z",
     "shell.execute_reply": "2023-03-10T18:28:25.795398Z"
    },
    "papermill": {
     "duration": 0.037006,
     "end_time": "2023-03-10T18:28:25.798630",
     "exception": false,
     "start_time": "2023-03-10T18:28:25.761624",
     "status": "completed"
    },
    "tags": []
   },
   "outputs": [
    {
     "data": {
      "text/plain": [
       "array([0, 0, 0, 0, 1, 0, 1, 0, 1, 0, 0, 0, 1, 0, 1, 1, 0, 0, 1, 1, 0, 0,\n",
       "       1, 0, 1, 0, 1, 0, 0, 0, 0, 0, 0, 0, 1, 0, 1, 1, 0, 0, 0, 0, 0, 1,\n",
       "       1, 0, 0, 0, 1, 0, 0, 0, 1, 1, 0, 0, 0, 0, 0, 1, 0, 0, 0, 1, 1, 1,\n",
       "       1, 0, 1, 1, 1, 0, 1, 0, 1, 1, 0, 1, 0, 1, 0, 0, 0, 0, 0, 0, 1, 1,\n",
       "       1, 0, 1, 0, 1, 0, 1, 0, 1, 0, 1, 0, 1, 0, 0, 0, 1, 0, 0, 0, 0, 0,\n",
       "       0, 1, 1, 1, 1, 0, 0, 1, 1, 1, 1, 0, 1, 0, 0, 1, 0, 1, 0, 0, 0, 0,\n",
       "       0, 0, 0, 0, 0, 0, 1, 0, 1, 1, 0, 0, 0, 0, 0, 0, 1, 0, 1, 0, 0, 0,\n",
       "       0, 0, 1, 1, 0, 0, 1, 0, 1, 0, 0, 1, 0, 0, 1, 1, 0, 0, 0, 0, 0, 1,\n",
       "       1, 0, 1, 1, 0, 0, 1, 0, 1, 0, 1, 0, 0, 0, 0, 0, 0, 0, 0, 0, 1, 1,\n",
       "       0, 1, 1, 0, 0, 1, 0, 1, 1, 0, 1, 0, 0, 0, 0, 1, 0, 0, 1, 0, 1, 0,\n",
       "       1, 0, 1, 0, 1, 1, 0, 1, 0, 0, 0, 1, 0, 0, 0, 0, 0, 0, 1, 1, 1, 1,\n",
       "       0, 0, 0, 0, 1, 0, 1, 1, 1, 0, 1, 0, 0, 0, 0, 0, 1, 0, 0, 0, 1, 1,\n",
       "       0, 0, 0, 0, 1, 0, 0, 0, 1, 1, 0, 1, 0, 0, 0, 0, 1, 0, 1, 1, 1, 0,\n",
       "       0, 0, 0, 0, 0, 1, 0, 0, 0, 0, 1, 0, 0, 0, 0, 0, 0, 0, 1, 1, 0, 0,\n",
       "       0, 1, 0, 0, 0, 1, 1, 1, 0, 0, 0, 0, 0, 0, 0, 0, 1, 0, 1, 0, 0, 0,\n",
       "       1, 0, 0, 1, 0, 0, 0, 0, 0, 0, 0, 0, 0, 1, 0, 1, 0, 1, 0, 1, 1, 0,\n",
       "       0, 0, 1, 0, 1, 0, 0, 1, 0, 1, 1, 0, 1, 0, 0, 1, 1, 0, 0, 1, 0, 0,\n",
       "       1, 1, 1, 0, 0, 0, 0, 0, 1, 1, 0, 1, 0, 0, 0, 0, 0, 1, 0, 0, 0, 1,\n",
       "       0, 1, 0, 0, 1, 0, 1, 1, 0, 0, 0, 0, 1, 1, 1, 1, 1, 0, 1, 0, 0, 0])"
      ]
     },
     "execution_count": 35,
     "metadata": {},
     "output_type": "execute_result"
    }
   ],
   "source": [
    "test_predict = lr_model.predict(testing_data[features])\n",
    "test_predict"
   ]
  },
  {
   "cell_type": "code",
   "execution_count": 36,
   "id": "0be2250f",
   "metadata": {
    "execution": {
     "iopub.execute_input": "2023-03-10T18:28:25.846848Z",
     "iopub.status.busy": "2023-03-10T18:28:25.846389Z",
     "iopub.status.idle": "2023-03-10T18:28:25.855245Z",
     "shell.execute_reply": "2023-03-10T18:28:25.853928Z"
    },
    "papermill": {
     "duration": 0.035904,
     "end_time": "2023-03-10T18:28:25.858013",
     "exception": false,
     "start_time": "2023-03-10T18:28:25.822109",
     "status": "completed"
    },
    "tags": []
   },
   "outputs": [
    {
     "name": "stdout",
     "output_type": "stream",
     "text": [
      "Your submission was successfully saved!\n"
     ]
    }
   ],
   "source": [
    "output = pd.DataFrame({'PassengerId': testing_data.PassengerId, 'Survived': test_predict})\n",
    "output.to_csv('submission_lr.csv', index=False)\n",
    "print(\"Your submission was successfully saved!\")"
   ]
  },
  {
   "cell_type": "markdown",
   "id": "1558bd5d",
   "metadata": {
    "papermill": {
     "duration": 0.022925,
     "end_time": "2023-03-10T18:28:25.904966",
     "exception": false,
     "start_time": "2023-03-10T18:28:25.882041",
     "status": "completed"
    },
    "tags": []
   },
   "source": [
    "# Model prediction using RandomForest classifier"
   ]
  },
  {
   "cell_type": "code",
   "execution_count": 37,
   "id": "db6ff8eb",
   "metadata": {
    "execution": {
     "iopub.execute_input": "2023-03-10T18:28:25.951819Z",
     "iopub.status.busy": "2023-03-10T18:28:25.951423Z",
     "iopub.status.idle": "2023-03-10T18:28:26.302455Z",
     "shell.execute_reply": "2023-03-10T18:28:26.301238Z"
    },
    "papermill": {
     "duration": 0.377616,
     "end_time": "2023-03-10T18:28:26.305135",
     "exception": false,
     "start_time": "2023-03-10T18:28:25.927519",
     "status": "completed"
    },
    "tags": []
   },
   "outputs": [],
   "source": [
    "from sklearn.ensemble import RandomForestClassifier\n",
    "model = RandomForestClassifier(n_estimators=100, max_depth=5, random_state=1)\n",
    "model.fit(X, y)\n",
    "predictions_rf = model.predict(X_test)\n",
    "accuracy.append(metrics.accuracy_score(y_test,predictions_rf))\n"
   ]
  },
  {
   "cell_type": "markdown",
   "id": "58263f13",
   "metadata": {
    "papermill": {
     "duration": 0.024109,
     "end_time": "2023-03-10T18:28:26.353259",
     "exception": false,
     "start_time": "2023-03-10T18:28:26.329150",
     "status": "completed"
    },
    "tags": []
   },
   "source": [
    "# Model prediction on test dataset"
   ]
  },
  {
   "cell_type": "code",
   "execution_count": 38,
   "id": "a2121b4e",
   "metadata": {
    "execution": {
     "iopub.execute_input": "2023-03-10T18:28:26.403313Z",
     "iopub.status.busy": "2023-03-10T18:28:26.402911Z",
     "iopub.status.idle": "2023-03-10T18:28:26.431915Z",
     "shell.execute_reply": "2023-03-10T18:28:26.430701Z"
    },
    "papermill": {
     "duration": 0.056913,
     "end_time": "2023-03-10T18:28:26.434565",
     "exception": false,
     "start_time": "2023-03-10T18:28:26.377652",
     "status": "completed"
    },
    "tags": []
   },
   "outputs": [
    {
     "data": {
      "text/plain": [
       "array([0, 0, 0, 0, 1, 0, 1, 0, 1, 0, 0, 0, 1, 0, 1, 1, 0, 0, 0, 1, 0, 0,\n",
       "       1, 0, 1, 0, 1, 0, 0, 0, 0, 0, 0, 0, 0, 0, 1, 1, 0, 1, 0, 0, 0, 1,\n",
       "       1, 0, 0, 0, 1, 0, 0, 0, 1, 1, 0, 0, 0, 0, 0, 1, 0, 0, 0, 1, 1, 1,\n",
       "       1, 0, 0, 1, 1, 0, 1, 0, 1, 0, 0, 1, 0, 1, 1, 0, 0, 0, 0, 0, 1, 1,\n",
       "       1, 1, 1, 0, 1, 0, 0, 0, 1, 0, 1, 0, 1, 0, 0, 0, 1, 0, 0, 0, 0, 0,\n",
       "       0, 1, 1, 1, 1, 0, 0, 1, 1, 1, 1, 0, 1, 0, 0, 1, 0, 1, 0, 0, 0, 0,\n",
       "       0, 0, 0, 0, 0, 0, 0, 0, 0, 1, 0, 0, 0, 0, 0, 0, 1, 0, 1, 0, 0, 1,\n",
       "       0, 0, 1, 1, 0, 0, 1, 1, 1, 0, 0, 1, 0, 0, 1, 0, 0, 0, 0, 0, 0, 1,\n",
       "       1, 0, 1, 1, 0, 1, 1, 0, 1, 0, 1, 0, 0, 0, 0, 0, 0, 0, 1, 0, 1, 1,\n",
       "       0, 0, 1, 1, 0, 1, 0, 0, 1, 0, 1, 0, 0, 0, 0, 1, 1, 0, 1, 0, 1, 0,\n",
       "       1, 0, 1, 0, 1, 1, 0, 1, 0, 0, 0, 1, 0, 0, 0, 0, 0, 0, 1, 1, 1, 1,\n",
       "       0, 0, 0, 0, 1, 0, 1, 1, 1, 0, 1, 0, 0, 0, 0, 0, 1, 0, 0, 0, 1, 1,\n",
       "       0, 0, 0, 0, 0, 0, 0, 0, 1, 1, 0, 1, 0, 0, 0, 0, 1, 1, 1, 1, 1, 0,\n",
       "       0, 1, 0, 0, 0, 1, 0, 1, 0, 0, 1, 0, 0, 0, 0, 0, 0, 0, 1, 1, 1, 1,\n",
       "       1, 1, 0, 0, 0, 1, 1, 1, 0, 0, 0, 0, 0, 0, 0, 0, 1, 0, 1, 0, 0, 0,\n",
       "       1, 0, 0, 1, 0, 0, 0, 0, 0, 0, 0, 0, 0, 1, 0, 1, 0, 1, 0, 1, 1, 0,\n",
       "       0, 1, 1, 0, 1, 0, 0, 1, 0, 1, 1, 0, 1, 0, 0, 1, 1, 0, 0, 1, 0, 0,\n",
       "       1, 1, 1, 0, 0, 1, 0, 0, 1, 1, 0, 1, 0, 0, 0, 0, 1, 1, 0, 0, 0, 1,\n",
       "       0, 1, 0, 0, 1, 0, 1, 1, 0, 0, 0, 0, 1, 1, 1, 1, 1, 0, 1, 0, 0, 0])"
      ]
     },
     "execution_count": 38,
     "metadata": {},
     "output_type": "execute_result"
    }
   ],
   "source": [
    "test_predict = model.predict(testing_data[features])\n",
    "test_predict"
   ]
  },
  {
   "cell_type": "markdown",
   "id": "badb2a9c",
   "metadata": {
    "papermill": {
     "duration": 0.023413,
     "end_time": "2023-03-10T18:28:26.481981",
     "exception": false,
     "start_time": "2023-03-10T18:28:26.458568",
     "status": "completed"
    },
    "tags": []
   },
   "source": [
    "# Generating output csv"
   ]
  },
  {
   "cell_type": "code",
   "execution_count": 39,
   "id": "650e21e2",
   "metadata": {
    "execution": {
     "iopub.execute_input": "2023-03-10T18:28:26.532403Z",
     "iopub.status.busy": "2023-03-10T18:28:26.531945Z",
     "iopub.status.idle": "2023-03-10T18:28:26.541184Z",
     "shell.execute_reply": "2023-03-10T18:28:26.539965Z"
    },
    "papermill": {
     "duration": 0.037414,
     "end_time": "2023-03-10T18:28:26.543736",
     "exception": false,
     "start_time": "2023-03-10T18:28:26.506322",
     "status": "completed"
    },
    "tags": []
   },
   "outputs": [
    {
     "name": "stdout",
     "output_type": "stream",
     "text": [
      "Your submission was successfully saved!\n"
     ]
    }
   ],
   "source": [
    "output = pd.DataFrame({'PassengerId': testing_data.PassengerId, 'Survived': test_predict})\n",
    "output.to_csv('submission_randomeforest.csv', index=False)\n",
    "print(\"Your submission was successfully saved!\")"
   ]
  },
  {
   "cell_type": "markdown",
   "id": "ec76f8e6",
   "metadata": {
    "papermill": {
     "duration": 0.023031,
     "end_time": "2023-03-10T18:28:26.590490",
     "exception": false,
     "start_time": "2023-03-10T18:28:26.567459",
     "status": "completed"
    },
    "tags": []
   },
   "source": [
    "# Plotting accuracy scores of all classifiers"
   ]
  },
  {
   "cell_type": "code",
   "execution_count": 40,
   "id": "18b72662",
   "metadata": {
    "execution": {
     "iopub.execute_input": "2023-03-10T18:28:26.639299Z",
     "iopub.status.busy": "2023-03-10T18:28:26.638887Z",
     "iopub.status.idle": "2023-03-10T18:28:26.884231Z",
     "shell.execute_reply": "2023-03-10T18:28:26.883027Z"
    },
    "papermill": {
     "duration": 0.27261,
     "end_time": "2023-03-10T18:28:26.886710",
     "exception": false,
     "start_time": "2023-03-10T18:28:26.614100",
     "status": "completed"
    },
    "tags": []
   },
   "outputs": [
    {
     "name": "stdout",
     "output_type": "stream",
     "text": [
      "            Classifiers  Accuracies\n",
      "0            Linear SVM    0.784848\n",
      "1         Decision Tree    0.806061\n",
      "2  Logisitic Regression    0.803030\n",
      "3         Random Forest    0.854545\n"
     ]
    },
    {
     "data": {
      "text/plain": [
       "<AxesSubplot:xlabel='Classifiers', ylabel='Accuracies'>"
      ]
     },
     "execution_count": 40,
     "metadata": {},
     "output_type": "execute_result"
    },
    {
     "data": {
      "image/png": "[encoded data removed]",
      "text/plain": [
       "<Figure size 640x480 with 1 Axes>"
      ]
     },
     "metadata": {},
     "output_type": "display_data"
    }
   ],
   "source": [
    "class_accuracy=[[\"Linear SVM\",accuracy[0]],[\"Decision Tree\",accuracy[1]],[\"Logisitic Regression\",accuracy[2]],[\"Random Forest\",accuracy[3]]]\n",
    "df=pd.DataFrame(class_accuracy,columns=[\"Classifiers\",\"Accuracies\"])\n",
    "print(df)\n",
    "sns.lineplot(data=df,x=df[\"Classifiers\"],y=df[\"Accuracies\"])"
   ]
  }
 ],
 "metadata": {
  "kernelspec": {
   "display_name": "Python 3",
   "language": "python",
   "name": "python3"
  },
  "language_info": {
   "codemirror_mode": {
    "name": "ipython",
    "version": 3
   },
   "file_extension": ".py",
   "mimetype": "text/x-python",
   "name": "python",
   "nbconvert_exporter": "python",
   "pygments_lexer": "ipython3",
   "version": "3.7.12"
  },
  "papermill": {
   "default_parameters": {},
   "duration": 73.569779,
   "end_time": "2023-03-10T18:28:27.732706",
   "environment_variables": {},
   "exception": null,
   "input_path": "__notebook__.ipynb",
   "output_path": "__notebook__.ipynb",
   "parameters": {},
   "start_time": "2023-03-10T18:27:14.162927",
   "version": "2.3.4"
  }
 },
 "nbformat": 4,
 "nbformat_minor": 5
}
