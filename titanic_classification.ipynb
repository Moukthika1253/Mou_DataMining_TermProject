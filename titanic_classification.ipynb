{
 "cells": [
  {
   "cell_type": "code",
   "execution_count": 1,
   "id": "69c4fa07",
   "metadata": {
    "_cell_guid": "b1076dfc-b9ad-4769-8c92-a6c4dae69d19",
    "_uuid": "8f2839f25d086af736a60e9eeb907d3b93b6e0e5",
    "execution": {
     "iopub.execute_input": "2023-03-10T07:13:27.879041Z",
     "iopub.status.busy": "2023-03-10T07:13:27.878337Z",
     "iopub.status.idle": "2023-03-10T07:13:29.096581Z",
     "shell.execute_reply": "2023-03-10T07:13:29.095409Z"
    },
    "papermill": {
     "duration": 1.238918,
     "end_time": "2023-03-10T07:13:29.099212",
     "exception": false,
     "start_time": "2023-03-10T07:13:27.860294",
     "status": "completed"
    },
    "tags": []
   },
   "outputs": [
    {
     "name": "stdout",
     "output_type": "stream",
     "text": [
      "/kaggle/input/titanic/train.csv\n",
      "/kaggle/input/titanic/test.csv\n",
      "/kaggle/input/titanic/gender_submission.csv\n"
     ]
    }
   ],
   "source": [
    "import pandas as pd \n",
    "import numpy as np\n",
    "import os\n",
    "import category_encoders as c\n",
    "import seaborn as sns\n",
    "from sklearn.model_selection import train_test_split\n",
    "from sklearn import metrics\n",
    "\n",
    "for dirname, _, filenames in os.walk('/kaggle/input'):\n",
    "    for filename in filenames:\n",
    "        print(os.path.join(dirname, filename))\n",
    "\n"
   ]
  },
  {
   "cell_type": "markdown",
   "id": "ff9d25e2",
   "metadata": {
    "papermill": {
     "duration": 0.013946,
     "end_time": "2023-03-10T07:13:29.128143",
     "exception": false,
     "start_time": "2023-03-10T07:13:29.114197",
     "status": "completed"
    },
    "tags": []
   },
   "source": [
    "* imported \n",
    "           - pandas,numpy to perform operations on dataframe and nd-array\n",
    "           - category_encoders to do encoding on training,testing data\n",
    "           - seaborn to implement data visualization\n",
    "           - train_test_split to split training data\n",
    "           - metrics to calculate accuracy score"
   ]
  },
  {
   "cell_type": "markdown",
   "id": "77ed4c76",
   "metadata": {
    "papermill": {
     "duration": 0.014044,
     "end_time": "2023-03-10T07:13:29.156432",
     "exception": false,
     "start_time": "2023-03-10T07:13:29.142388",
     "status": "completed"
    },
    "tags": []
   },
   "source": [
    "# Loading training data"
   ]
  },
  {
   "cell_type": "code",
   "execution_count": 2,
   "id": "2ddb9131",
   "metadata": {
    "execution": {
     "iopub.execute_input": "2023-03-10T07:13:29.187384Z",
     "iopub.status.busy": "2023-03-10T07:13:29.186963Z",
     "iopub.status.idle": "2023-03-10T07:13:29.226266Z",
     "shell.execute_reply": "2023-03-10T07:13:29.225055Z"
    },
    "papermill": {
     "duration": 0.057651,
     "end_time": "2023-03-10T07:13:29.228546",
     "exception": false,
     "start_time": "2023-03-10T07:13:29.170895",
     "status": "completed"
    },
    "tags": []
   },
   "outputs": [
    {
     "data": {
      "text/html": [
       "<div>\n",
       "<style scoped>\n",
       "    .dataframe tbody tr th:only-of-type {\n",
       "        vertical-align: middle;\n",
       "    }\n",
       "\n",
       "    .dataframe tbody tr th {\n",
       "        vertical-align: top;\n",
       "    }\n",
       "\n",
       "    .dataframe thead th {\n",
       "        text-align: right;\n",
       "    }\n",
       "</style>\n",
       "<table border=\"1\" class=\"dataframe\">\n",
       "  <thead>\n",
       "    <tr style=\"text-align: right;\">\n",
       "      <th></th>\n",
       "      <th>PassengerId</th>\n",
       "      <th>Survived</th>\n",
       "      <th>Pclass</th>\n",
       "      <th>Name</th>\n",
       "      <th>Sex</th>\n",
       "      <th>Age</th>\n",
       "      <th>SibSp</th>\n",
       "      <th>Parch</th>\n",
       "      <th>Ticket</th>\n",
       "      <th>Fare</th>\n",
       "      <th>Cabin</th>\n",
       "      <th>Embarked</th>\n",
       "    </tr>\n",
       "  </thead>\n",
       "  <tbody>\n",
       "    <tr>\n",
       "      <th>0</th>\n",
       "      <td>1</td>\n",
       "      <td>0</td>\n",
       "      <td>3</td>\n",
       "      <td>Braund, Mr. Owen Harris</td>\n",
       "      <td>male</td>\n",
       "      <td>22.0</td>\n",
       "      <td>1</td>\n",
       "      <td>0</td>\n",
       "      <td>A/5 21171</td>\n",
       "      <td>7.2500</td>\n",
       "      <td>NaN</td>\n",
       "      <td>S</td>\n",
       "    </tr>\n",
       "    <tr>\n",
       "      <th>1</th>\n",
       "      <td>2</td>\n",
       "      <td>1</td>\n",
       "      <td>1</td>\n",
       "      <td>Cumings, Mrs. John Bradley (Florence Briggs Th...</td>\n",
       "      <td>female</td>\n",
       "      <td>38.0</td>\n",
       "      <td>1</td>\n",
       "      <td>0</td>\n",
       "      <td>PC 17599</td>\n",
       "      <td>71.2833</td>\n",
       "      <td>C85</td>\n",
       "      <td>C</td>\n",
       "    </tr>\n",
       "    <tr>\n",
       "      <th>2</th>\n",
       "      <td>3</td>\n",
       "      <td>1</td>\n",
       "      <td>3</td>\n",
       "      <td>Heikkinen, Miss. Laina</td>\n",
       "      <td>female</td>\n",
       "      <td>26.0</td>\n",
       "      <td>0</td>\n",
       "      <td>0</td>\n",
       "      <td>STON/O2. 3101282</td>\n",
       "      <td>7.9250</td>\n",
       "      <td>NaN</td>\n",
       "      <td>S</td>\n",
       "    </tr>\n",
       "    <tr>\n",
       "      <th>3</th>\n",
       "      <td>4</td>\n",
       "      <td>1</td>\n",
       "      <td>1</td>\n",
       "      <td>Futrelle, Mrs. Jacques Heath (Lily May Peel)</td>\n",
       "      <td>female</td>\n",
       "      <td>35.0</td>\n",
       "      <td>1</td>\n",
       "      <td>0</td>\n",
       "      <td>113803</td>\n",
       "      <td>53.1000</td>\n",
       "      <td>C123</td>\n",
       "      <td>S</td>\n",
       "    </tr>\n",
       "    <tr>\n",
       "      <th>4</th>\n",
       "      <td>5</td>\n",
       "      <td>0</td>\n",
       "      <td>3</td>\n",
       "      <td>Allen, Mr. William Henry</td>\n",
       "      <td>male</td>\n",
       "      <td>35.0</td>\n",
       "      <td>0</td>\n",
       "      <td>0</td>\n",
       "      <td>373450</td>\n",
       "      <td>8.0500</td>\n",
       "      <td>NaN</td>\n",
       "      <td>S</td>\n",
       "    </tr>\n",
       "  </tbody>\n",
       "</table>\n",
       "</div>"
      ],
      "text/plain": [
       "   PassengerId  Survived  Pclass  \\\n",
       "0            1         0       3   \n",
       "1            2         1       1   \n",
       "2            3         1       3   \n",
       "3            4         1       1   \n",
       "4            5         0       3   \n",
       "\n",
       "                                                Name     Sex   Age  SibSp  \\\n",
       "0                            Braund, Mr. Owen Harris    male  22.0      1   \n",
       "1  Cumings, Mrs. John Bradley (Florence Briggs Th...  female  38.0      1   \n",
       "2                             Heikkinen, Miss. Laina  female  26.0      0   \n",
       "3       Futrelle, Mrs. Jacques Heath (Lily May Peel)  female  35.0      1   \n",
       "4                           Allen, Mr. William Henry    male  35.0      0   \n",
       "\n",
       "   Parch            Ticket     Fare Cabin Embarked  \n",
       "0      0         A/5 21171   7.2500   NaN        S  \n",
       "1      0          PC 17599  71.2833   C85        C  \n",
       "2      0  STON/O2. 3101282   7.9250   NaN        S  \n",
       "3      0            113803  53.1000  C123        S  \n",
       "4      0            373450   8.0500   NaN        S  "
      ]
     },
     "execution_count": 2,
     "metadata": {},
     "output_type": "execute_result"
    }
   ],
   "source": [
    "training_data = pd.read_csv(\"/kaggle/input/titanic/train.csv\")\n",
    "training_data.head() #displays top 5 rows from training_data"
   ]
  },
  {
   "cell_type": "markdown",
   "id": "c8bae5b9",
   "metadata": {
    "papermill": {
     "duration": 0.014875,
     "end_time": "2023-03-10T07:13:29.258435",
     "exception": false,
     "start_time": "2023-03-10T07:13:29.243560",
     "status": "completed"
    },
    "tags": []
   },
   "source": [
    "# Loading test data"
   ]
  },
  {
   "cell_type": "code",
   "execution_count": 3,
   "id": "8f157b6c",
   "metadata": {
    "execution": {
     "iopub.execute_input": "2023-03-10T07:13:29.290956Z",
     "iopub.status.busy": "2023-03-10T07:13:29.289894Z",
     "iopub.status.idle": "2023-03-10T07:13:29.312913Z",
     "shell.execute_reply": "2023-03-10T07:13:29.311788Z"
    },
    "papermill": {
     "duration": 0.041652,
     "end_time": "2023-03-10T07:13:29.315376",
     "exception": false,
     "start_time": "2023-03-10T07:13:29.273724",
     "status": "completed"
    },
    "tags": []
   },
   "outputs": [
    {
     "data": {
      "text/html": [
       "<div>\n",
       "<style scoped>\n",
       "    .dataframe tbody tr th:only-of-type {\n",
       "        vertical-align: middle;\n",
       "    }\n",
       "\n",
       "    .dataframe tbody tr th {\n",
       "        vertical-align: top;\n",
       "    }\n",
       "\n",
       "    .dataframe thead th {\n",
       "        text-align: right;\n",
       "    }\n",
       "</style>\n",
       "<table border=\"1\" class=\"dataframe\">\n",
       "  <thead>\n",
       "    <tr style=\"text-align: right;\">\n",
       "      <th></th>\n",
       "      <th>PassengerId</th>\n",
       "      <th>Pclass</th>\n",
       "      <th>Name</th>\n",
       "      <th>Sex</th>\n",
       "      <th>Age</th>\n",
       "      <th>SibSp</th>\n",
       "      <th>Parch</th>\n",
       "      <th>Ticket</th>\n",
       "      <th>Fare</th>\n",
       "      <th>Cabin</th>\n",
       "      <th>Embarked</th>\n",
       "    </tr>\n",
       "  </thead>\n",
       "  <tbody>\n",
       "    <tr>\n",
       "      <th>0</th>\n",
       "      <td>892</td>\n",
       "      <td>3</td>\n",
       "      <td>Kelly, Mr. James</td>\n",
       "      <td>male</td>\n",
       "      <td>34.5</td>\n",
       "      <td>0</td>\n",
       "      <td>0</td>\n",
       "      <td>330911</td>\n",
       "      <td>7.8292</td>\n",
       "      <td>NaN</td>\n",
       "      <td>Q</td>\n",
       "    </tr>\n",
       "    <tr>\n",
       "      <th>1</th>\n",
       "      <td>893</td>\n",
       "      <td>3</td>\n",
       "      <td>Wilkes, Mrs. James (Ellen Needs)</td>\n",
       "      <td>female</td>\n",
       "      <td>47.0</td>\n",
       "      <td>1</td>\n",
       "      <td>0</td>\n",
       "      <td>363272</td>\n",
       "      <td>7.0000</td>\n",
       "      <td>NaN</td>\n",
       "      <td>S</td>\n",
       "    </tr>\n",
       "    <tr>\n",
       "      <th>2</th>\n",
       "      <td>894</td>\n",
       "      <td>2</td>\n",
       "      <td>Myles, Mr. Thomas Francis</td>\n",
       "      <td>male</td>\n",
       "      <td>62.0</td>\n",
       "      <td>0</td>\n",
       "      <td>0</td>\n",
       "      <td>240276</td>\n",
       "      <td>9.6875</td>\n",
       "      <td>NaN</td>\n",
       "      <td>Q</td>\n",
       "    </tr>\n",
       "    <tr>\n",
       "      <th>3</th>\n",
       "      <td>895</td>\n",
       "      <td>3</td>\n",
       "      <td>Wirz, Mr. Albert</td>\n",
       "      <td>male</td>\n",
       "      <td>27.0</td>\n",
       "      <td>0</td>\n",
       "      <td>0</td>\n",
       "      <td>315154</td>\n",
       "      <td>8.6625</td>\n",
       "      <td>NaN</td>\n",
       "      <td>S</td>\n",
       "    </tr>\n",
       "    <tr>\n",
       "      <th>4</th>\n",
       "      <td>896</td>\n",
       "      <td>3</td>\n",
       "      <td>Hirvonen, Mrs. Alexander (Helga E Lindqvist)</td>\n",
       "      <td>female</td>\n",
       "      <td>22.0</td>\n",
       "      <td>1</td>\n",
       "      <td>1</td>\n",
       "      <td>3101298</td>\n",
       "      <td>12.2875</td>\n",
       "      <td>NaN</td>\n",
       "      <td>S</td>\n",
       "    </tr>\n",
       "  </tbody>\n",
       "</table>\n",
       "</div>"
      ],
      "text/plain": [
       "   PassengerId  Pclass                                          Name     Sex  \\\n",
       "0          892       3                              Kelly, Mr. James    male   \n",
       "1          893       3              Wilkes, Mrs. James (Ellen Needs)  female   \n",
       "2          894       2                     Myles, Mr. Thomas Francis    male   \n",
       "3          895       3                              Wirz, Mr. Albert    male   \n",
       "4          896       3  Hirvonen, Mrs. Alexander (Helga E Lindqvist)  female   \n",
       "\n",
       "    Age  SibSp  Parch   Ticket     Fare Cabin Embarked  \n",
       "0  34.5      0      0   330911   7.8292   NaN        Q  \n",
       "1  47.0      1      0   363272   7.0000   NaN        S  \n",
       "2  62.0      0      0   240276   9.6875   NaN        Q  \n",
       "3  27.0      0      0   315154   8.6625   NaN        S  \n",
       "4  22.0      1      1  3101298  12.2875   NaN        S  "
      ]
     },
     "execution_count": 3,
     "metadata": {},
     "output_type": "execute_result"
    }
   ],
   "source": [
    "testing_data=pd.read_csv(\"/kaggle/input/titanic/test.csv\")\n",
    "testing_data.head() #displays top 5 rows from test data"
   ]
  },
  {
   "cell_type": "markdown",
   "id": "3a35cea2",
   "metadata": {
    "papermill": {
     "duration": 0.014814,
     "end_time": "2023-03-10T07:13:29.345499",
     "exception": false,
     "start_time": "2023-03-10T07:13:29.330685",
     "status": "completed"
    },
    "tags": []
   },
   "source": [
    "# Data Pre-processing"
   ]
  },
  {
   "cell_type": "markdown",
   "id": "15403a7a",
   "metadata": {
    "papermill": {
     "duration": 0.014815,
     "end_time": "2023-03-10T07:13:29.375401",
     "exception": false,
     "start_time": "2023-03-10T07:13:29.360586",
     "status": "completed"
    },
    "tags": []
   },
   "source": [
    "# Check if any missing values in train data"
   ]
  },
  {
   "cell_type": "code",
   "execution_count": 4,
   "id": "e184ee1b",
   "metadata": {
    "execution": {
     "iopub.execute_input": "2023-03-10T07:13:29.408042Z",
     "iopub.status.busy": "2023-03-10T07:13:29.407345Z",
     "iopub.status.idle": "2023-03-10T07:13:29.415822Z",
     "shell.execute_reply": "2023-03-10T07:13:29.415044Z"
    },
    "papermill": {
     "duration": 0.026869,
     "end_time": "2023-03-10T07:13:29.417834",
     "exception": false,
     "start_time": "2023-03-10T07:13:29.390965",
     "status": "completed"
    },
    "tags": []
   },
   "outputs": [
    {
     "data": {
      "text/plain": [
       "PassengerId      0\n",
       "Survived         0\n",
       "Pclass           0\n",
       "Name             0\n",
       "Sex              0\n",
       "Age            177\n",
       "SibSp            0\n",
       "Parch            0\n",
       "Ticket           0\n",
       "Fare             0\n",
       "Cabin          687\n",
       "Embarked         2\n",
       "dtype: int64"
      ]
     },
     "execution_count": 4,
     "metadata": {},
     "output_type": "execute_result"
    }
   ],
   "source": [
    "training_data.isna().sum()"
   ]
  },
  {
   "cell_type": "markdown",
   "id": "ab2eef47",
   "metadata": {
    "papermill": {
     "duration": 0.015504,
     "end_time": "2023-03-10T07:13:29.448652",
     "exception": false,
     "start_time": "2023-03-10T07:13:29.433148",
     "status": "completed"
    },
    "tags": []
   },
   "source": [
    "Missing values are found in columns Age=177, Cabin=687, Embarked=2"
   ]
  },
  {
   "cell_type": "markdown",
   "id": "631f6e3d",
   "metadata": {
    "papermill": {
     "duration": 0.015323,
     "end_time": "2023-03-10T07:13:29.479179",
     "exception": false,
     "start_time": "2023-03-10T07:13:29.463856",
     "status": "completed"
    },
    "tags": []
   },
   "source": [
    "# Check if any missing values in test data"
   ]
  },
  {
   "cell_type": "code",
   "execution_count": 5,
   "id": "4261bfa9",
   "metadata": {
    "execution": {
     "iopub.execute_input": "2023-03-10T07:13:29.511620Z",
     "iopub.status.busy": "2023-03-10T07:13:29.510938Z",
     "iopub.status.idle": "2023-03-10T07:13:29.519148Z",
     "shell.execute_reply": "2023-03-10T07:13:29.518193Z"
    },
    "papermill": {
     "duration": 0.026858,
     "end_time": "2023-03-10T07:13:29.521289",
     "exception": false,
     "start_time": "2023-03-10T07:13:29.494431",
     "status": "completed"
    },
    "tags": []
   },
   "outputs": [
    {
     "data": {
      "text/plain": [
       "PassengerId      0\n",
       "Pclass           0\n",
       "Name             0\n",
       "Sex              0\n",
       "Age             86\n",
       "SibSp            0\n",
       "Parch            0\n",
       "Ticket           0\n",
       "Fare             1\n",
       "Cabin          327\n",
       "Embarked         0\n",
       "dtype: int64"
      ]
     },
     "execution_count": 5,
     "metadata": {},
     "output_type": "execute_result"
    }
   ],
   "source": [
    "testing_data.isna().sum()"
   ]
  },
  {
   "cell_type": "markdown",
   "id": "8b52f31b",
   "metadata": {
    "papermill": {
     "duration": 0.015001,
     "end_time": "2023-03-10T07:13:29.551767",
     "exception": false,
     "start_time": "2023-03-10T07:13:29.536766",
     "status": "completed"
    },
    "tags": []
   },
   "source": [
    "Missing values are found in columns Age=86, Cabin=327 performance can be increased"
   ]
  },
  {
   "cell_type": "markdown",
   "id": "0d2f43c9",
   "metadata": {
    "papermill": {
     "duration": 0.014862,
     "end_time": "2023-03-10T07:13:29.582396",
     "exception": false,
     "start_time": "2023-03-10T07:13:29.567534",
     "status": "completed"
    },
    "tags": []
   },
   "source": [
    "# Replacing the missing values in training_data"
   ]
  },
  {
   "cell_type": "code",
   "execution_count": 6,
   "id": "50feedfc",
   "metadata": {
    "execution": {
     "iopub.execute_input": "2023-03-10T07:13:29.615087Z",
     "iopub.status.busy": "2023-03-10T07:13:29.614392Z",
     "iopub.status.idle": "2023-03-10T07:13:29.626686Z",
     "shell.execute_reply": "2023-03-10T07:13:29.625537Z"
    },
    "papermill": {
     "duration": 0.031755,
     "end_time": "2023-03-10T07:13:29.629347",
     "exception": false,
     "start_time": "2023-03-10T07:13:29.597592",
     "status": "completed"
    },
    "tags": []
   },
   "outputs": [],
   "source": [
    "training_data['Age']=training_data['Age'].fillna(training_data['Age'].mean())\n",
    "training_data['Cabin']=training_data['Cabin'].fillna(training_data['Cabin'].mode()[0])\n",
    "training_data['Embarked']=training_data['Embarked'].fillna(training_data['Embarked'].mode()[0])"
   ]
  },
  {
   "cell_type": "markdown",
   "id": "4e2f5435",
   "metadata": {
    "papermill": {
     "duration": 0.014805,
     "end_time": "2023-03-10T07:13:29.659482",
     "exception": false,
     "start_time": "2023-03-10T07:13:29.644677",
     "status": "completed"
    },
    "tags": []
   },
   "source": [
    "Since the type of data in Age column is numerical, I have replaced the missing values with their mean. For the categorical data in columns Cabin,Embarked, replaced missing values with their most repeated value(mode)"
   ]
  },
  {
   "cell_type": "markdown",
   "id": "22c31da4",
   "metadata": {
    "papermill": {
     "duration": 0.014581,
     "end_time": "2023-03-10T07:13:29.689091",
     "exception": false,
     "start_time": "2023-03-10T07:13:29.674510",
     "status": "completed"
    },
    "tags": []
   },
   "source": [
    "# Missing values fixed in training_data"
   ]
  },
  {
   "cell_type": "code",
   "execution_count": 7,
   "id": "d0c48d9e",
   "metadata": {
    "execution": {
     "iopub.execute_input": "2023-03-10T07:13:29.721472Z",
     "iopub.status.busy": "2023-03-10T07:13:29.720780Z",
     "iopub.status.idle": "2023-03-10T07:13:29.729888Z",
     "shell.execute_reply": "2023-03-10T07:13:29.729014Z"
    },
    "papermill": {
     "duration": 0.027779,
     "end_time": "2023-03-10T07:13:29.731978",
     "exception": false,
     "start_time": "2023-03-10T07:13:29.704199",
     "status": "completed"
    },
    "tags": []
   },
   "outputs": [
    {
     "data": {
      "text/plain": [
       "PassengerId    0\n",
       "Survived       0\n",
       "Pclass         0\n",
       "Name           0\n",
       "Sex            0\n",
       "Age            0\n",
       "SibSp          0\n",
       "Parch          0\n",
       "Ticket         0\n",
       "Fare           0\n",
       "Cabin          0\n",
       "Embarked       0\n",
       "dtype: int64"
      ]
     },
     "execution_count": 7,
     "metadata": {},
     "output_type": "execute_result"
    }
   ],
   "source": [
    "training_data.isna().sum()"
   ]
  },
  {
   "cell_type": "markdown",
   "id": "3226cc2f",
   "metadata": {
    "papermill": {
     "duration": 0.01467,
     "end_time": "2023-03-10T07:13:29.761841",
     "exception": false,
     "start_time": "2023-03-10T07:13:29.747171",
     "status": "completed"
    },
    "tags": []
   },
   "source": [
    "# Replacing missing values in testing_data"
   ]
  },
  {
   "cell_type": "code",
   "execution_count": 8,
   "id": "a3cd0736",
   "metadata": {
    "execution": {
     "iopub.execute_input": "2023-03-10T07:13:29.794482Z",
     "iopub.status.busy": "2023-03-10T07:13:29.793790Z",
     "iopub.status.idle": "2023-03-10T07:13:29.803736Z",
     "shell.execute_reply": "2023-03-10T07:13:29.802957Z"
    },
    "papermill": {
     "duration": 0.028771,
     "end_time": "2023-03-10T07:13:29.805831",
     "exception": false,
     "start_time": "2023-03-10T07:13:29.777060",
     "status": "completed"
    },
    "tags": []
   },
   "outputs": [],
   "source": [
    "testing_data['Age']=testing_data['Age'].fillna(testing_data['Age'].mean())\n",
    "testing_data['Fare']=testing_data['Fare'].fillna(testing_data['Fare'].mean())\n",
    "testing_data['Cabin']=training_data['Cabin'].fillna(testing_data['Cabin'].mode()[0])"
   ]
  },
  {
   "cell_type": "markdown",
   "id": "8a11c8f5",
   "metadata": {
    "papermill": {
     "duration": 0.014979,
     "end_time": "2023-03-10T07:13:29.836096",
     "exception": false,
     "start_time": "2023-03-10T07:13:29.821117",
     "status": "completed"
    },
    "tags": []
   },
   "source": [
    "Since the type of data in columns Age,Fare is numerical, I have replaced the missing values with their mean. For the categorical data in columns Cabin,Embarked, replaced missing values with their most repeated value(mode)"
   ]
  },
  {
   "cell_type": "markdown",
   "id": "8e937216",
   "metadata": {
    "papermill": {
     "duration": 0.014811,
     "end_time": "2023-03-10T07:13:29.866254",
     "exception": false,
     "start_time": "2023-03-10T07:13:29.851443",
     "status": "completed"
    },
    "tags": []
   },
   "source": [
    "# Missing values fixed in testing_data"
   ]
  },
  {
   "cell_type": "code",
   "execution_count": 9,
   "id": "e2df4d11",
   "metadata": {
    "execution": {
     "iopub.execute_input": "2023-03-10T07:13:29.898859Z",
     "iopub.status.busy": "2023-03-10T07:13:29.898231Z",
     "iopub.status.idle": "2023-03-10T07:13:29.907105Z",
     "shell.execute_reply": "2023-03-10T07:13:29.906194Z"
    },
    "papermill": {
     "duration": 0.027594,
     "end_time": "2023-03-10T07:13:29.909197",
     "exception": false,
     "start_time": "2023-03-10T07:13:29.881603",
     "status": "completed"
    },
    "tags": []
   },
   "outputs": [
    {
     "data": {
      "text/plain": [
       "PassengerId    0\n",
       "Pclass         0\n",
       "Name           0\n",
       "Sex            0\n",
       "Age            0\n",
       "SibSp          0\n",
       "Parch          0\n",
       "Ticket         0\n",
       "Fare           0\n",
       "Cabin          0\n",
       "Embarked       0\n",
       "dtype: int64"
      ]
     },
     "execution_count": 9,
     "metadata": {},
     "output_type": "execute_result"
    }
   ],
   "source": [
    "testing_data.isna().sum()"
   ]
  },
  {
   "cell_type": "markdown",
   "id": "bcab78a1",
   "metadata": {
    "papermill": {
     "duration": 0.014827,
     "end_time": "2023-03-10T07:13:29.939191",
     "exception": false,
     "start_time": "2023-03-10T07:13:29.924364",
     "status": "completed"
    },
    "tags": []
   },
   "source": [
    "# Data Visualization"
   ]
  },
  {
   "cell_type": "markdown",
   "id": "ffa961a7",
   "metadata": {
    "papermill": {
     "duration": 0.014692,
     "end_time": "2023-03-10T07:13:29.968810",
     "exception": false,
     "start_time": "2023-03-10T07:13:29.954118",
     "status": "completed"
    },
    "tags": []
   },
   "source": [
    "# Survival rate with Pclass, Fare plotting"
   ]
  },
  {
   "cell_type": "code",
   "execution_count": 10,
   "id": "570974b5",
   "metadata": {
    "execution": {
     "iopub.execute_input": "2023-03-10T07:13:30.000784Z",
     "iopub.status.busy": "2023-03-10T07:13:30.000147Z",
     "iopub.status.idle": "2023-03-10T07:13:30.410359Z",
     "shell.execute_reply": "2023-03-10T07:13:30.409560Z"
    },
    "papermill": {
     "duration": 0.428741,
     "end_time": "2023-03-10T07:13:30.412427",
     "exception": false,
     "start_time": "2023-03-10T07:13:29.983686",
     "status": "completed"
    },
    "tags": []
   },
   "outputs": [
    {
     "data": {
      "text/plain": [
       "<AxesSubplot:xlabel='Pclass', ylabel='Fare'>"
      ]
     },
     "execution_count": 10,
     "metadata": {},
     "output_type": "execute_result"
    },
    {
     "data": {
      "image/png": "[encoded data removed]",
      "text/plain": [
       "<Figure size 640x480 with 1 Axes>"
      ]
     },
     "metadata": {},
     "output_type": "display_data"
    }
   ],
   "source": [
    "sns.barplot(data=training_data,x=\"Pclass\",y=\"Fare\",hue=\"Survived\")"
   ]
  },
  {
   "cell_type": "markdown",
   "id": "cd465877",
   "metadata": {
    "papermill": {
     "duration": 0.015238,
     "end_time": "2023-03-10T07:13:30.443348",
     "exception": false,
     "start_time": "2023-03-10T07:13:30.428110",
     "status": "completed"
    },
    "tags": []
   },
   "source": [
    "# Dependency of gender on Parch, SibSp with Survival rate"
   ]
  },
  {
   "cell_type": "code",
   "execution_count": 11,
   "id": "0e691fee",
   "metadata": {
    "execution": {
     "iopub.execute_input": "2023-03-10T07:13:30.477077Z",
     "iopub.status.busy": "2023-03-10T07:13:30.476422Z",
     "iopub.status.idle": "2023-03-10T07:13:30.769671Z",
     "shell.execute_reply": "2023-03-10T07:13:30.768873Z"
    },
    "papermill": {
     "duration": 0.312547,
     "end_time": "2023-03-10T07:13:30.771848",
     "exception": false,
     "start_time": "2023-03-10T07:13:30.459301",
     "status": "completed"
    },
    "tags": []
   },
   "outputs": [
    {
     "data": {
      "text/plain": [
       "<AxesSubplot:xlabel='family', ylabel='count'>"
      ]
     },
     "execution_count": 11,
     "metadata": {},
     "output_type": "execute_result"
    },
    {
     "data": {
      "image/png": "[encoded data removed]",
      "text/plain": [
       "<Figure size 640x480 with 1 Axes>"
      ]
     },
     "metadata": {},
     "output_type": "display_data"
    }
   ],
   "source": [
    "df=pd.DataFrame()\n",
    "df[\"family\"]=training_data[\"Parch\"]+training_data[\"SibSp\"]\n",
    "sns.countplot(data=training_data,x=df[\"family\"],hue=\"Survived\")\n"
   ]
  },
  {
   "cell_type": "markdown",
   "id": "8bfb16a2",
   "metadata": {
    "papermill": {
     "duration": 0.015695,
     "end_time": "2023-03-10T07:13:30.803661",
     "exception": false,
     "start_time": "2023-03-10T07:13:30.787966",
     "status": "completed"
    },
    "tags": []
   },
   "source": [
    "# Dependency of Gender and survival rate"
   ]
  },
  {
   "cell_type": "code",
   "execution_count": 12,
   "id": "4cefcfa3",
   "metadata": {
    "execution": {
     "iopub.execute_input": "2023-03-10T07:13:30.837534Z",
     "iopub.status.busy": "2023-03-10T07:13:30.836874Z",
     "iopub.status.idle": "2023-03-10T07:13:30.847418Z",
     "shell.execute_reply": "2023-03-10T07:13:30.846199Z"
    },
    "papermill": {
     "duration": 0.030156,
     "end_time": "2023-03-10T07:13:30.849754",
     "exception": false,
     "start_time": "2023-03-10T07:13:30.819598",
     "status": "completed"
    },
    "tags": []
   },
   "outputs": [
    {
     "name": "stdout",
     "output_type": "stream",
     "text": [
      "percentage of women survived:  0.7420382165605095\n",
      "percentage of men survived:  0.18890814558058924\n"
     ]
    }
   ],
   "source": [
    "women_survived=training_data.loc[training_data.Sex==\"female\"][\"Survived\"]\n",
    "women_per=sum(women_survived)/len(women_survived)\n",
    "print(\"percentage of women survived: \",women_per)\n",
    "men_survived=training_data.loc[training_data.Sex==\"male\"][\"Survived\"]\n",
    "men_per=sum(men_survived)/len(men_survived)\n",
    "print(\"percentage of men survived: \",men_per)\n"
   ]
  },
  {
   "cell_type": "code",
   "execution_count": 13,
   "id": "a1e126b9",
   "metadata": {
    "execution": {
     "iopub.execute_input": "2023-03-10T07:13:30.884526Z",
     "iopub.status.busy": "2023-03-10T07:13:30.883606Z",
     "iopub.status.idle": "2023-03-10T07:13:31.132853Z",
     "shell.execute_reply": "2023-03-10T07:13:31.131649Z"
    },
    "papermill": {
     "duration": 0.269255,
     "end_time": "2023-03-10T07:13:31.135139",
     "exception": false,
     "start_time": "2023-03-10T07:13:30.865884",
     "status": "completed"
    },
    "tags": []
   },
   "outputs": [
    {
     "data": {
      "text/plain": [
       "<AxesSubplot:xlabel='Sex', ylabel='Survived'>"
      ]
     },
     "execution_count": 13,
     "metadata": {},
     "output_type": "execute_result"
    },
    {
     "data": {
      "image/png": "[encoded data removed]",
      "text/plain": [
       "<Figure size 640x480 with 1 Axes>"
      ]
     },
     "metadata": {},
     "output_type": "display_data"
    }
   ],
   "source": [
    "sns.barplot(data=training_data,x=\"Sex\",y=\"Survived\")"
   ]
  },
  {
   "cell_type": "markdown",
   "id": "dfcec35b",
   "metadata": {
    "papermill": {
     "duration": 0.016347,
     "end_time": "2023-03-10T07:13:31.168061",
     "exception": false,
     "start_time": "2023-03-10T07:13:31.151714",
     "status": "completed"
    },
    "tags": []
   },
   "source": [
    "# Different states of Embarked with survival rate"
   ]
  },
  {
   "cell_type": "code",
   "execution_count": 14,
   "id": "0b0375f4",
   "metadata": {
    "execution": {
     "iopub.execute_input": "2023-03-10T07:13:31.203241Z",
     "iopub.status.busy": "2023-03-10T07:13:31.202828Z",
     "iopub.status.idle": "2023-03-10T07:13:31.493814Z",
     "shell.execute_reply": "2023-03-10T07:13:31.492709Z"
    },
    "papermill": {
     "duration": 0.311702,
     "end_time": "2023-03-10T07:13:31.496246",
     "exception": false,
     "start_time": "2023-03-10T07:13:31.184544",
     "status": "completed"
    },
    "tags": []
   },
   "outputs": [
    {
     "data": {
      "text/plain": [
       "<AxesSubplot:xlabel='Embarked', ylabel='Survived'>"
      ]
     },
     "execution_count": 14,
     "metadata": {},
     "output_type": "execute_result"
    },
    {
     "data": {
      "image/png": "[encoded data removed]",
      "text/plain": [
       "<Figure size 640x480 with 1 Axes>"
      ]
     },
     "metadata": {},
     "output_type": "display_data"
    }
   ],
   "source": [
    "sns.lineplot(data=training_data,x=\"Embarked\",y=\"Survived\")"
   ]
  },
  {
   "cell_type": "markdown",
   "id": "ad51e536",
   "metadata": {
    "papermill": {
     "duration": 0.017757,
     "end_time": "2023-03-10T07:13:31.531571",
     "exception": false,
     "start_time": "2023-03-10T07:13:31.513814",
     "status": "completed"
    },
    "tags": []
   },
   "source": [
    "# Converting training categorical data to numerical data"
   ]
  },
  {
   "cell_type": "code",
   "execution_count": 15,
   "id": "c7cd1bdb",
   "metadata": {
    "execution": {
     "iopub.execute_input": "2023-03-10T07:13:31.568942Z",
     "iopub.status.busy": "2023-03-10T07:13:31.568560Z",
     "iopub.status.idle": "2023-03-10T07:13:31.582659Z",
     "shell.execute_reply": "2023-03-10T07:13:31.581719Z"
    },
    "papermill": {
     "duration": 0.035391,
     "end_time": "2023-03-10T07:13:31.584931",
     "exception": false,
     "start_time": "2023-03-10T07:13:31.549540",
     "status": "completed"
    },
    "tags": []
   },
   "outputs": [],
   "source": [
    "training_data['Name'] =training_data['Name'].astype('category').cat.codes\n",
    "training_data['Sex'] =training_data['Sex'].astype('category').cat.codes\n",
    "training_data['Embarked'] =training_data['Embarked'].astype('category').cat.codes\n",
    "training_data['Cabin'] =training_data['Cabin'].astype('category').cat.codes\n",
    "training_data['Ticket'] =training_data['Ticket'].astype('category').cat.codes"
   ]
  },
  {
   "cell_type": "markdown",
   "id": "deadf0cb",
   "metadata": {
    "papermill": {
     "duration": 0.017536,
     "end_time": "2023-03-10T07:13:31.620064",
     "exception": false,
     "start_time": "2023-03-10T07:13:31.602528",
     "status": "completed"
    },
    "tags": []
   },
   "source": [
    "# Data Pre-processing-Converting testing categorical data to numerical data"
   ]
  },
  {
   "cell_type": "code",
   "execution_count": 16,
   "id": "f174658c",
   "metadata": {
    "execution": {
     "iopub.execute_input": "2023-03-10T07:13:31.657746Z",
     "iopub.status.busy": "2023-03-10T07:13:31.656783Z",
     "iopub.status.idle": "2023-03-10T07:13:31.670435Z",
     "shell.execute_reply": "2023-03-10T07:13:31.669561Z"
    },
    "papermill": {
     "duration": 0.034738,
     "end_time": "2023-03-10T07:13:31.672807",
     "exception": false,
     "start_time": "2023-03-10T07:13:31.638069",
     "status": "completed"
    },
    "tags": []
   },
   "outputs": [],
   "source": [
    "testing_data['Name'] =testing_data['Name'].astype('category').cat.codes\n",
    "testing_data['Sex'] =testing_data['Sex'].astype('category').cat.codes\n",
    "testing_data['Embarked'] =testing_data['Embarked'].astype('category').cat.codes\n",
    "testing_data['Cabin'] =testing_data['Cabin'].astype('category').cat.codes\n",
    "testing_data['Ticket'] =testing_data['Ticket'].astype('category').cat.codes"
   ]
  },
  {
   "cell_type": "markdown",
   "id": "35f2230f",
   "metadata": {
    "papermill": {
     "duration": 0.016962,
     "end_time": "2023-03-10T07:13:31.707382",
     "exception": false,
     "start_time": "2023-03-10T07:13:31.690420",
     "status": "completed"
    },
    "tags": []
   },
   "source": [
    "# Encoding training data using Binary Encoder"
   ]
  },
  {
   "cell_type": "code",
   "execution_count": 17,
   "id": "9e6cecf7",
   "metadata": {
    "execution": {
     "iopub.execute_input": "2023-03-10T07:13:31.744176Z",
     "iopub.status.busy": "2023-03-10T07:13:31.743385Z",
     "iopub.status.idle": "2023-03-10T07:13:31.844283Z",
     "shell.execute_reply": "2023-03-10T07:13:31.842954Z"
    },
    "papermill": {
     "duration": 0.122243,
     "end_time": "2023-03-10T07:13:31.846935",
     "exception": false,
     "start_time": "2023-03-10T07:13:31.724692",
     "status": "completed"
    },
    "tags": []
   },
   "outputs": [
    {
     "data": {
      "text/html": [
       "<div>\n",
       "<style scoped>\n",
       "    .dataframe tbody tr th:only-of-type {\n",
       "        vertical-align: middle;\n",
       "    }\n",
       "\n",
       "    .dataframe tbody tr th {\n",
       "        vertical-align: top;\n",
       "    }\n",
       "\n",
       "    .dataframe thead th {\n",
       "        text-align: right;\n",
       "    }\n",
       "</style>\n",
       "<table border=\"1\" class=\"dataframe\">\n",
       "  <thead>\n",
       "    <tr style=\"text-align: right;\">\n",
       "      <th></th>\n",
       "      <th>PassengerId</th>\n",
       "      <th>Survived</th>\n",
       "      <th>Pclass</th>\n",
       "      <th>Name_0</th>\n",
       "      <th>Name_1</th>\n",
       "      <th>Name_2</th>\n",
       "      <th>Name_3</th>\n",
       "      <th>Name_4</th>\n",
       "      <th>Name_5</th>\n",
       "      <th>Name_6</th>\n",
       "      <th>...</th>\n",
       "      <th>Cabin_0</th>\n",
       "      <th>Cabin_1</th>\n",
       "      <th>Cabin_2</th>\n",
       "      <th>Cabin_3</th>\n",
       "      <th>Cabin_4</th>\n",
       "      <th>Cabin_5</th>\n",
       "      <th>Cabin_6</th>\n",
       "      <th>Cabin_7</th>\n",
       "      <th>Embarked_0</th>\n",
       "      <th>Embarked_1</th>\n",
       "    </tr>\n",
       "  </thead>\n",
       "  <tbody>\n",
       "    <tr>\n",
       "      <th>0</th>\n",
       "      <td>1</td>\n",
       "      <td>0</td>\n",
       "      <td>3</td>\n",
       "      <td>0</td>\n",
       "      <td>0</td>\n",
       "      <td>0</td>\n",
       "      <td>0</td>\n",
       "      <td>0</td>\n",
       "      <td>0</td>\n",
       "      <td>0</td>\n",
       "      <td>...</td>\n",
       "      <td>0</td>\n",
       "      <td>0</td>\n",
       "      <td>0</td>\n",
       "      <td>0</td>\n",
       "      <td>0</td>\n",
       "      <td>0</td>\n",
       "      <td>0</td>\n",
       "      <td>1</td>\n",
       "      <td>0</td>\n",
       "      <td>1</td>\n",
       "    </tr>\n",
       "    <tr>\n",
       "      <th>1</th>\n",
       "      <td>2</td>\n",
       "      <td>1</td>\n",
       "      <td>1</td>\n",
       "      <td>0</td>\n",
       "      <td>0</td>\n",
       "      <td>0</td>\n",
       "      <td>0</td>\n",
       "      <td>0</td>\n",
       "      <td>0</td>\n",
       "      <td>0</td>\n",
       "      <td>...</td>\n",
       "      <td>0</td>\n",
       "      <td>0</td>\n",
       "      <td>0</td>\n",
       "      <td>0</td>\n",
       "      <td>0</td>\n",
       "      <td>0</td>\n",
       "      <td>1</td>\n",
       "      <td>0</td>\n",
       "      <td>1</td>\n",
       "      <td>0</td>\n",
       "    </tr>\n",
       "    <tr>\n",
       "      <th>2</th>\n",
       "      <td>3</td>\n",
       "      <td>1</td>\n",
       "      <td>3</td>\n",
       "      <td>0</td>\n",
       "      <td>0</td>\n",
       "      <td>0</td>\n",
       "      <td>0</td>\n",
       "      <td>0</td>\n",
       "      <td>0</td>\n",
       "      <td>0</td>\n",
       "      <td>...</td>\n",
       "      <td>0</td>\n",
       "      <td>0</td>\n",
       "      <td>0</td>\n",
       "      <td>0</td>\n",
       "      <td>0</td>\n",
       "      <td>0</td>\n",
       "      <td>0</td>\n",
       "      <td>1</td>\n",
       "      <td>0</td>\n",
       "      <td>1</td>\n",
       "    </tr>\n",
       "    <tr>\n",
       "      <th>3</th>\n",
       "      <td>4</td>\n",
       "      <td>1</td>\n",
       "      <td>1</td>\n",
       "      <td>0</td>\n",
       "      <td>0</td>\n",
       "      <td>0</td>\n",
       "      <td>0</td>\n",
       "      <td>0</td>\n",
       "      <td>0</td>\n",
       "      <td>0</td>\n",
       "      <td>...</td>\n",
       "      <td>0</td>\n",
       "      <td>0</td>\n",
       "      <td>0</td>\n",
       "      <td>0</td>\n",
       "      <td>0</td>\n",
       "      <td>0</td>\n",
       "      <td>1</td>\n",
       "      <td>1</td>\n",
       "      <td>0</td>\n",
       "      <td>1</td>\n",
       "    </tr>\n",
       "    <tr>\n",
       "      <th>4</th>\n",
       "      <td>5</td>\n",
       "      <td>0</td>\n",
       "      <td>3</td>\n",
       "      <td>0</td>\n",
       "      <td>0</td>\n",
       "      <td>0</td>\n",
       "      <td>0</td>\n",
       "      <td>0</td>\n",
       "      <td>0</td>\n",
       "      <td>0</td>\n",
       "      <td>...</td>\n",
       "      <td>0</td>\n",
       "      <td>0</td>\n",
       "      <td>0</td>\n",
       "      <td>0</td>\n",
       "      <td>0</td>\n",
       "      <td>0</td>\n",
       "      <td>0</td>\n",
       "      <td>1</td>\n",
       "      <td>0</td>\n",
       "      <td>1</td>\n",
       "    </tr>\n",
       "    <tr>\n",
       "      <th>...</th>\n",
       "      <td>...</td>\n",
       "      <td>...</td>\n",
       "      <td>...</td>\n",
       "      <td>...</td>\n",
       "      <td>...</td>\n",
       "      <td>...</td>\n",
       "      <td>...</td>\n",
       "      <td>...</td>\n",
       "      <td>...</td>\n",
       "      <td>...</td>\n",
       "      <td>...</td>\n",
       "      <td>...</td>\n",
       "      <td>...</td>\n",
       "      <td>...</td>\n",
       "      <td>...</td>\n",
       "      <td>...</td>\n",
       "      <td>...</td>\n",
       "      <td>...</td>\n",
       "      <td>...</td>\n",
       "      <td>...</td>\n",
       "      <td>...</td>\n",
       "    </tr>\n",
       "    <tr>\n",
       "      <th>886</th>\n",
       "      <td>887</td>\n",
       "      <td>0</td>\n",
       "      <td>2</td>\n",
       "      <td>1</td>\n",
       "      <td>1</td>\n",
       "      <td>0</td>\n",
       "      <td>1</td>\n",
       "      <td>1</td>\n",
       "      <td>1</td>\n",
       "      <td>0</td>\n",
       "      <td>...</td>\n",
       "      <td>0</td>\n",
       "      <td>0</td>\n",
       "      <td>0</td>\n",
       "      <td>0</td>\n",
       "      <td>0</td>\n",
       "      <td>0</td>\n",
       "      <td>0</td>\n",
       "      <td>1</td>\n",
       "      <td>0</td>\n",
       "      <td>1</td>\n",
       "    </tr>\n",
       "    <tr>\n",
       "      <th>887</th>\n",
       "      <td>888</td>\n",
       "      <td>1</td>\n",
       "      <td>1</td>\n",
       "      <td>1</td>\n",
       "      <td>1</td>\n",
       "      <td>0</td>\n",
       "      <td>1</td>\n",
       "      <td>1</td>\n",
       "      <td>1</td>\n",
       "      <td>1</td>\n",
       "      <td>...</td>\n",
       "      <td>1</td>\n",
       "      <td>0</td>\n",
       "      <td>0</td>\n",
       "      <td>1</td>\n",
       "      <td>0</td>\n",
       "      <td>0</td>\n",
       "      <td>1</td>\n",
       "      <td>0</td>\n",
       "      <td>0</td>\n",
       "      <td>1</td>\n",
       "    </tr>\n",
       "    <tr>\n",
       "      <th>888</th>\n",
       "      <td>889</td>\n",
       "      <td>0</td>\n",
       "      <td>3</td>\n",
       "      <td>1</td>\n",
       "      <td>1</td>\n",
       "      <td>0</td>\n",
       "      <td>1</td>\n",
       "      <td>1</td>\n",
       "      <td>1</td>\n",
       "      <td>1</td>\n",
       "      <td>...</td>\n",
       "      <td>0</td>\n",
       "      <td>0</td>\n",
       "      <td>0</td>\n",
       "      <td>0</td>\n",
       "      <td>0</td>\n",
       "      <td>0</td>\n",
       "      <td>0</td>\n",
       "      <td>1</td>\n",
       "      <td>0</td>\n",
       "      <td>1</td>\n",
       "    </tr>\n",
       "    <tr>\n",
       "      <th>889</th>\n",
       "      <td>890</td>\n",
       "      <td>1</td>\n",
       "      <td>1</td>\n",
       "      <td>1</td>\n",
       "      <td>1</td>\n",
       "      <td>0</td>\n",
       "      <td>1</td>\n",
       "      <td>1</td>\n",
       "      <td>1</td>\n",
       "      <td>1</td>\n",
       "      <td>...</td>\n",
       "      <td>1</td>\n",
       "      <td>0</td>\n",
       "      <td>0</td>\n",
       "      <td>1</td>\n",
       "      <td>0</td>\n",
       "      <td>0</td>\n",
       "      <td>1</td>\n",
       "      <td>1</td>\n",
       "      <td>1</td>\n",
       "      <td>0</td>\n",
       "    </tr>\n",
       "    <tr>\n",
       "      <th>890</th>\n",
       "      <td>891</td>\n",
       "      <td>0</td>\n",
       "      <td>3</td>\n",
       "      <td>1</td>\n",
       "      <td>1</td>\n",
       "      <td>0</td>\n",
       "      <td>1</td>\n",
       "      <td>1</td>\n",
       "      <td>1</td>\n",
       "      <td>1</td>\n",
       "      <td>...</td>\n",
       "      <td>0</td>\n",
       "      <td>0</td>\n",
       "      <td>0</td>\n",
       "      <td>0</td>\n",
       "      <td>0</td>\n",
       "      <td>0</td>\n",
       "      <td>0</td>\n",
       "      <td>1</td>\n",
       "      <td>1</td>\n",
       "      <td>1</td>\n",
       "    </tr>\n",
       "  </tbody>\n",
       "</table>\n",
       "<p>891 rows × 39 columns</p>\n",
       "</div>"
      ],
      "text/plain": [
       "     PassengerId  Survived  Pclass  Name_0  Name_1  Name_2  Name_3  Name_4  \\\n",
       "0              1         0       3       0       0       0       0       0   \n",
       "1              2         1       1       0       0       0       0       0   \n",
       "2              3         1       3       0       0       0       0       0   \n",
       "3              4         1       1       0       0       0       0       0   \n",
       "4              5         0       3       0       0       0       0       0   \n",
       "..           ...       ...     ...     ...     ...     ...     ...     ...   \n",
       "886          887         0       2       1       1       0       1       1   \n",
       "887          888         1       1       1       1       0       1       1   \n",
       "888          889         0       3       1       1       0       1       1   \n",
       "889          890         1       1       1       1       0       1       1   \n",
       "890          891         0       3       1       1       0       1       1   \n",
       "\n",
       "     Name_5  Name_6  ...  Cabin_0  Cabin_1  Cabin_2  Cabin_3  Cabin_4  \\\n",
       "0         0       0  ...        0        0        0        0        0   \n",
       "1         0       0  ...        0        0        0        0        0   \n",
       "2         0       0  ...        0        0        0        0        0   \n",
       "3         0       0  ...        0        0        0        0        0   \n",
       "4         0       0  ...        0        0        0        0        0   \n",
       "..      ...     ...  ...      ...      ...      ...      ...      ...   \n",
       "886       1       0  ...        0        0        0        0        0   \n",
       "887       1       1  ...        1        0        0        1        0   \n",
       "888       1       1  ...        0        0        0        0        0   \n",
       "889       1       1  ...        1        0        0        1        0   \n",
       "890       1       1  ...        0        0        0        0        0   \n",
       "\n",
       "     Cabin_5  Cabin_6  Cabin_7  Embarked_0  Embarked_1  \n",
       "0          0        0        1           0           1  \n",
       "1          0        1        0           1           0  \n",
       "2          0        0        1           0           1  \n",
       "3          0        1        1           0           1  \n",
       "4          0        0        1           0           1  \n",
       "..       ...      ...      ...         ...         ...  \n",
       "886        0        0        1           0           1  \n",
       "887        0        1        0           0           1  \n",
       "888        0        0        1           0           1  \n",
       "889        0        1        1           1           0  \n",
       "890        0        0        1           1           1  \n",
       "\n",
       "[891 rows x 39 columns]"
      ]
     },
     "execution_count": 17,
     "metadata": {},
     "output_type": "execute_result"
    }
   ],
   "source": [
    "encoder=c.BinaryEncoder(cols=['Name','Sex','Ticket','Cabin','Embarked'],return_df=True)\n",
    "encoder.fit_transform(training_data)"
   ]
  },
  {
   "cell_type": "markdown",
   "id": "2c8a3372",
   "metadata": {
    "papermill": {
     "duration": 0.017472,
     "end_time": "2023-03-10T07:13:31.882830",
     "exception": false,
     "start_time": "2023-03-10T07:13:31.865358",
     "status": "completed"
    },
    "tags": []
   },
   "source": [
    "# Encoding testing data"
   ]
  },
  {
   "cell_type": "code",
   "execution_count": 18,
   "id": "bb9d1302",
   "metadata": {
    "execution": {
     "iopub.execute_input": "2023-03-10T07:13:31.921094Z",
     "iopub.status.busy": "2023-03-10T07:13:31.919923Z",
     "iopub.status.idle": "2023-03-10T07:13:32.010037Z",
     "shell.execute_reply": "2023-03-10T07:13:32.008919Z"
    },
    "papermill": {
     "duration": 0.11175,
     "end_time": "2023-03-10T07:13:32.012482",
     "exception": false,
     "start_time": "2023-03-10T07:13:31.900732",
     "status": "completed"
    },
    "tags": []
   },
   "outputs": [
    {
     "data": {
      "text/html": [
       "<div>\n",
       "<style scoped>\n",
       "    .dataframe tbody tr th:only-of-type {\n",
       "        vertical-align: middle;\n",
       "    }\n",
       "\n",
       "    .dataframe tbody tr th {\n",
       "        vertical-align: top;\n",
       "    }\n",
       "\n",
       "    .dataframe thead th {\n",
       "        text-align: right;\n",
       "    }\n",
       "</style>\n",
       "<table border=\"1\" class=\"dataframe\">\n",
       "  <thead>\n",
       "    <tr style=\"text-align: right;\">\n",
       "      <th></th>\n",
       "      <th>PassengerId</th>\n",
       "      <th>Pclass</th>\n",
       "      <th>Name_0</th>\n",
       "      <th>Name_1</th>\n",
       "      <th>Name_2</th>\n",
       "      <th>Name_3</th>\n",
       "      <th>Name_4</th>\n",
       "      <th>Name_5</th>\n",
       "      <th>Name_6</th>\n",
       "      <th>Name_7</th>\n",
       "      <th>...</th>\n",
       "      <th>Fare</th>\n",
       "      <th>Cabin_0</th>\n",
       "      <th>Cabin_1</th>\n",
       "      <th>Cabin_2</th>\n",
       "      <th>Cabin_3</th>\n",
       "      <th>Cabin_4</th>\n",
       "      <th>Cabin_5</th>\n",
       "      <th>Cabin_6</th>\n",
       "      <th>Embarked_0</th>\n",
       "      <th>Embarked_1</th>\n",
       "    </tr>\n",
       "  </thead>\n",
       "  <tbody>\n",
       "    <tr>\n",
       "      <th>0</th>\n",
       "      <td>892</td>\n",
       "      <td>3</td>\n",
       "      <td>0</td>\n",
       "      <td>0</td>\n",
       "      <td>0</td>\n",
       "      <td>0</td>\n",
       "      <td>0</td>\n",
       "      <td>0</td>\n",
       "      <td>0</td>\n",
       "      <td>0</td>\n",
       "      <td>...</td>\n",
       "      <td>7.8292</td>\n",
       "      <td>0</td>\n",
       "      <td>0</td>\n",
       "      <td>0</td>\n",
       "      <td>0</td>\n",
       "      <td>0</td>\n",
       "      <td>0</td>\n",
       "      <td>1</td>\n",
       "      <td>0</td>\n",
       "      <td>1</td>\n",
       "    </tr>\n",
       "    <tr>\n",
       "      <th>1</th>\n",
       "      <td>893</td>\n",
       "      <td>3</td>\n",
       "      <td>0</td>\n",
       "      <td>0</td>\n",
       "      <td>0</td>\n",
       "      <td>0</td>\n",
       "      <td>0</td>\n",
       "      <td>0</td>\n",
       "      <td>0</td>\n",
       "      <td>1</td>\n",
       "      <td>...</td>\n",
       "      <td>7.0000</td>\n",
       "      <td>0</td>\n",
       "      <td>0</td>\n",
       "      <td>0</td>\n",
       "      <td>0</td>\n",
       "      <td>0</td>\n",
       "      <td>1</td>\n",
       "      <td>0</td>\n",
       "      <td>1</td>\n",
       "      <td>0</td>\n",
       "    </tr>\n",
       "    <tr>\n",
       "      <th>2</th>\n",
       "      <td>894</td>\n",
       "      <td>2</td>\n",
       "      <td>0</td>\n",
       "      <td>0</td>\n",
       "      <td>0</td>\n",
       "      <td>0</td>\n",
       "      <td>0</td>\n",
       "      <td>0</td>\n",
       "      <td>0</td>\n",
       "      <td>1</td>\n",
       "      <td>...</td>\n",
       "      <td>9.6875</td>\n",
       "      <td>0</td>\n",
       "      <td>0</td>\n",
       "      <td>0</td>\n",
       "      <td>0</td>\n",
       "      <td>0</td>\n",
       "      <td>0</td>\n",
       "      <td>1</td>\n",
       "      <td>0</td>\n",
       "      <td>1</td>\n",
       "    </tr>\n",
       "    <tr>\n",
       "      <th>3</th>\n",
       "      <td>895</td>\n",
       "      <td>3</td>\n",
       "      <td>0</td>\n",
       "      <td>0</td>\n",
       "      <td>0</td>\n",
       "      <td>0</td>\n",
       "      <td>0</td>\n",
       "      <td>0</td>\n",
       "      <td>1</td>\n",
       "      <td>0</td>\n",
       "      <td>...</td>\n",
       "      <td>8.6625</td>\n",
       "      <td>0</td>\n",
       "      <td>0</td>\n",
       "      <td>0</td>\n",
       "      <td>0</td>\n",
       "      <td>0</td>\n",
       "      <td>1</td>\n",
       "      <td>1</td>\n",
       "      <td>1</td>\n",
       "      <td>0</td>\n",
       "    </tr>\n",
       "    <tr>\n",
       "      <th>4</th>\n",
       "      <td>896</td>\n",
       "      <td>3</td>\n",
       "      <td>0</td>\n",
       "      <td>0</td>\n",
       "      <td>0</td>\n",
       "      <td>0</td>\n",
       "      <td>0</td>\n",
       "      <td>0</td>\n",
       "      <td>1</td>\n",
       "      <td>0</td>\n",
       "      <td>...</td>\n",
       "      <td>12.2875</td>\n",
       "      <td>0</td>\n",
       "      <td>0</td>\n",
       "      <td>0</td>\n",
       "      <td>0</td>\n",
       "      <td>0</td>\n",
       "      <td>0</td>\n",
       "      <td>1</td>\n",
       "      <td>1</td>\n",
       "      <td>0</td>\n",
       "    </tr>\n",
       "    <tr>\n",
       "      <th>...</th>\n",
       "      <td>...</td>\n",
       "      <td>...</td>\n",
       "      <td>...</td>\n",
       "      <td>...</td>\n",
       "      <td>...</td>\n",
       "      <td>...</td>\n",
       "      <td>...</td>\n",
       "      <td>...</td>\n",
       "      <td>...</td>\n",
       "      <td>...</td>\n",
       "      <td>...</td>\n",
       "      <td>...</td>\n",
       "      <td>...</td>\n",
       "      <td>...</td>\n",
       "      <td>...</td>\n",
       "      <td>...</td>\n",
       "      <td>...</td>\n",
       "      <td>...</td>\n",
       "      <td>...</td>\n",
       "      <td>...</td>\n",
       "      <td>...</td>\n",
       "    </tr>\n",
       "    <tr>\n",
       "      <th>413</th>\n",
       "      <td>1305</td>\n",
       "      <td>3</td>\n",
       "      <td>1</td>\n",
       "      <td>1</td>\n",
       "      <td>0</td>\n",
       "      <td>0</td>\n",
       "      <td>1</td>\n",
       "      <td>1</td>\n",
       "      <td>1</td>\n",
       "      <td>1</td>\n",
       "      <td>...</td>\n",
       "      <td>8.0500</td>\n",
       "      <td>0</td>\n",
       "      <td>0</td>\n",
       "      <td>0</td>\n",
       "      <td>0</td>\n",
       "      <td>0</td>\n",
       "      <td>0</td>\n",
       "      <td>1</td>\n",
       "      <td>1</td>\n",
       "      <td>0</td>\n",
       "    </tr>\n",
       "    <tr>\n",
       "      <th>414</th>\n",
       "      <td>1306</td>\n",
       "      <td>1</td>\n",
       "      <td>1</td>\n",
       "      <td>1</td>\n",
       "      <td>0</td>\n",
       "      <td>0</td>\n",
       "      <td>1</td>\n",
       "      <td>1</td>\n",
       "      <td>1</td>\n",
       "      <td>1</td>\n",
       "      <td>...</td>\n",
       "      <td>108.9000</td>\n",
       "      <td>0</td>\n",
       "      <td>0</td>\n",
       "      <td>0</td>\n",
       "      <td>0</td>\n",
       "      <td>0</td>\n",
       "      <td>0</td>\n",
       "      <td>1</td>\n",
       "      <td>1</td>\n",
       "      <td>1</td>\n",
       "    </tr>\n",
       "    <tr>\n",
       "      <th>415</th>\n",
       "      <td>1307</td>\n",
       "      <td>3</td>\n",
       "      <td>1</td>\n",
       "      <td>1</td>\n",
       "      <td>0</td>\n",
       "      <td>1</td>\n",
       "      <td>0</td>\n",
       "      <td>0</td>\n",
       "      <td>0</td>\n",
       "      <td>0</td>\n",
       "      <td>...</td>\n",
       "      <td>7.2500</td>\n",
       "      <td>0</td>\n",
       "      <td>0</td>\n",
       "      <td>0</td>\n",
       "      <td>0</td>\n",
       "      <td>0</td>\n",
       "      <td>0</td>\n",
       "      <td>1</td>\n",
       "      <td>1</td>\n",
       "      <td>0</td>\n",
       "    </tr>\n",
       "    <tr>\n",
       "      <th>416</th>\n",
       "      <td>1308</td>\n",
       "      <td>3</td>\n",
       "      <td>1</td>\n",
       "      <td>1</td>\n",
       "      <td>0</td>\n",
       "      <td>1</td>\n",
       "      <td>0</td>\n",
       "      <td>0</td>\n",
       "      <td>0</td>\n",
       "      <td>0</td>\n",
       "      <td>...</td>\n",
       "      <td>8.0500</td>\n",
       "      <td>0</td>\n",
       "      <td>0</td>\n",
       "      <td>0</td>\n",
       "      <td>0</td>\n",
       "      <td>0</td>\n",
       "      <td>0</td>\n",
       "      <td>1</td>\n",
       "      <td>1</td>\n",
       "      <td>0</td>\n",
       "    </tr>\n",
       "    <tr>\n",
       "      <th>417</th>\n",
       "      <td>1309</td>\n",
       "      <td>3</td>\n",
       "      <td>1</td>\n",
       "      <td>1</td>\n",
       "      <td>0</td>\n",
       "      <td>1</td>\n",
       "      <td>0</td>\n",
       "      <td>0</td>\n",
       "      <td>0</td>\n",
       "      <td>1</td>\n",
       "      <td>...</td>\n",
       "      <td>22.3583</td>\n",
       "      <td>0</td>\n",
       "      <td>0</td>\n",
       "      <td>0</td>\n",
       "      <td>0</td>\n",
       "      <td>0</td>\n",
       "      <td>0</td>\n",
       "      <td>1</td>\n",
       "      <td>1</td>\n",
       "      <td>1</td>\n",
       "    </tr>\n",
       "  </tbody>\n",
       "</table>\n",
       "<p>418 rows × 35 columns</p>\n",
       "</div>"
      ],
      "text/plain": [
       "     PassengerId  Pclass  Name_0  Name_1  Name_2  Name_3  Name_4  Name_5  \\\n",
       "0            892       3       0       0       0       0       0       0   \n",
       "1            893       3       0       0       0       0       0       0   \n",
       "2            894       2       0       0       0       0       0       0   \n",
       "3            895       3       0       0       0       0       0       0   \n",
       "4            896       3       0       0       0       0       0       0   \n",
       "..           ...     ...     ...     ...     ...     ...     ...     ...   \n",
       "413         1305       3       1       1       0       0       1       1   \n",
       "414         1306       1       1       1       0       0       1       1   \n",
       "415         1307       3       1       1       0       1       0       0   \n",
       "416         1308       3       1       1       0       1       0       0   \n",
       "417         1309       3       1       1       0       1       0       0   \n",
       "\n",
       "     Name_6  Name_7  ...      Fare  Cabin_0  Cabin_1  Cabin_2  Cabin_3  \\\n",
       "0         0       0  ...    7.8292        0        0        0        0   \n",
       "1         0       1  ...    7.0000        0        0        0        0   \n",
       "2         0       1  ...    9.6875        0        0        0        0   \n",
       "3         1       0  ...    8.6625        0        0        0        0   \n",
       "4         1       0  ...   12.2875        0        0        0        0   \n",
       "..      ...     ...  ...       ...      ...      ...      ...      ...   \n",
       "413       1       1  ...    8.0500        0        0        0        0   \n",
       "414       1       1  ...  108.9000        0        0        0        0   \n",
       "415       0       0  ...    7.2500        0        0        0        0   \n",
       "416       0       0  ...    8.0500        0        0        0        0   \n",
       "417       0       1  ...   22.3583        0        0        0        0   \n",
       "\n",
       "     Cabin_4  Cabin_5  Cabin_6  Embarked_0  Embarked_1  \n",
       "0          0        0        1           0           1  \n",
       "1          0        1        0           1           0  \n",
       "2          0        0        1           0           1  \n",
       "3          0        1        1           1           0  \n",
       "4          0        0        1           1           0  \n",
       "..       ...      ...      ...         ...         ...  \n",
       "413        0        0        1           1           0  \n",
       "414        0        0        1           1           1  \n",
       "415        0        0        1           1           0  \n",
       "416        0        0        1           1           0  \n",
       "417        0        0        1           1           1  \n",
       "\n",
       "[418 rows x 35 columns]"
      ]
     },
     "execution_count": 18,
     "metadata": {},
     "output_type": "execute_result"
    }
   ],
   "source": [
    "encoder=c.BinaryEncoder(cols=['Name','Sex','Ticket','Cabin','Embarked'],return_df=True)\n",
    "encoder.fit_transform(testing_data)"
   ]
  },
  {
   "cell_type": "markdown",
   "id": "094d09d8",
   "metadata": {
    "papermill": {
     "duration": 0.018426,
     "end_time": "2023-03-10T07:13:32.049572",
     "exception": false,
     "start_time": "2023-03-10T07:13:32.031146",
     "status": "completed"
    },
    "tags": []
   },
   "source": [
    "# Correlation values with Survived column"
   ]
  },
  {
   "cell_type": "code",
   "execution_count": 19,
   "id": "bec30a91",
   "metadata": {
    "execution": {
     "iopub.execute_input": "2023-03-10T07:13:32.088782Z",
     "iopub.status.busy": "2023-03-10T07:13:32.088319Z",
     "iopub.status.idle": "2023-03-10T07:13:32.099492Z",
     "shell.execute_reply": "2023-03-10T07:13:32.098134Z"
    },
    "papermill": {
     "duration": 0.033706,
     "end_time": "2023-03-10T07:13:32.101968",
     "exception": false,
     "start_time": "2023-03-10T07:13:32.068262",
     "status": "completed"
    },
    "tags": []
   },
   "outputs": [
    {
     "name": "stdout",
     "output_type": "stream",
     "text": [
      "PassengerId   -0.005007\n",
      "Survived       1.000000\n",
      "Pclass        -0.338481\n",
      "Name          -0.057343\n",
      "Sex           -0.543351\n",
      "Age           -0.069809\n",
      "SibSp         -0.035322\n",
      "Parch          0.081629\n",
      "Ticket        -0.164549\n",
      "Fare           0.257307\n",
      "Cabin          0.175690\n",
      "Embarked      -0.167675\n",
      "Name: Survived, dtype: float64\n"
     ]
    }
   ],
   "source": [
    "col_names=['PassengerId','Survived','Pclass',\"Name\",\"Sex\",\"Age\",\"SibSp\",\"Parch\",\"Ticket\",\"Fare\",\"Cabin\",\"Embarked\"]\n",
    "corr_values=training_data[training_data.columns[0:]].corr()['Survived']\n",
    "print(corr_values)"
   ]
  },
  {
   "cell_type": "markdown",
   "id": "e84841ad",
   "metadata": {
    "papermill": {
     "duration": 0.018287,
     "end_time": "2023-03-10T07:13:32.139232",
     "exception": false,
     "start_time": "2023-03-10T07:13:32.120945",
     "status": "completed"
    },
    "tags": []
   },
   "source": [
    "# Feature Selection by setting coefficient threshold"
   ]
  },
  {
   "cell_type": "code",
   "execution_count": 20,
   "id": "41146ea6",
   "metadata": {
    "execution": {
     "iopub.execute_input": "2023-03-10T07:13:32.178348Z",
     "iopub.status.busy": "2023-03-10T07:13:32.177951Z",
     "iopub.status.idle": "2023-03-10T07:13:32.183881Z",
     "shell.execute_reply": "2023-03-10T07:13:32.182823Z"
    },
    "papermill": {
     "duration": 0.028956,
     "end_time": "2023-03-10T07:13:32.186806",
     "exception": false,
     "start_time": "2023-03-10T07:13:32.157850",
     "status": "completed"
    },
    "tags": []
   },
   "outputs": [
    {
     "name": "stdout",
     "output_type": "stream",
     "text": [
      "Survived\n",
      "Pclass\n",
      "Sex\n",
      "Parch\n",
      "Ticket\n",
      "Fare\n",
      "Cabin\n",
      "Embarked\n"
     ]
    }
   ],
   "source": [
    "for i in range(len(corr_values)):\n",
    "    if abs(corr_values[i]) > 0.08:\n",
    "        print(col_names[i])"
   ]
  },
  {
   "cell_type": "markdown",
   "id": "e5096273",
   "metadata": {
    "papermill": {
     "duration": 0.018562,
     "end_time": "2023-03-10T07:13:32.225816",
     "exception": false,
     "start_time": "2023-03-10T07:13:32.207254",
     "status": "completed"
    },
    "tags": []
   },
   "source": [
    "# HeatMap generation using correlation values"
   ]
  },
  {
   "cell_type": "code",
   "execution_count": 21,
   "id": "2873948b",
   "metadata": {
    "execution": {
     "iopub.execute_input": "2023-03-10T07:13:32.265535Z",
     "iopub.status.busy": "2023-03-10T07:13:32.265146Z",
     "iopub.status.idle": "2023-03-10T07:13:33.346602Z",
     "shell.execute_reply": "2023-03-10T07:13:33.345679Z"
    },
    "papermill": {
     "duration": 1.104465,
     "end_time": "2023-03-10T07:13:33.349625",
     "exception": false,
     "start_time": "2023-03-10T07:13:32.245160",
     "status": "completed"
    },
    "tags": []
   },
   "outputs": [
    {
     "data": {
      "text/plain": [
       "<AxesSubplot:>"
      ]
     },
     "execution_count": 21,
     "metadata": {},
     "output_type": "execute_result"
    },
    {
     "data": {
      "image/png": "[encoded data removed]",
      "text/plain": [
       "<Figure size 640x480 with 2 Axes>"
      ]
     },
     "metadata": {},
     "output_type": "display_data"
    }
   ],
   "source": [
    "sns.heatmap(training_data.corr(), annot=True,annot_kws={'size': 8})"
   ]
  },
  {
   "cell_type": "markdown",
   "id": "7e31a5d2",
   "metadata": {
    "papermill": {
     "duration": 0.020589,
     "end_time": "2023-03-10T07:13:33.392157",
     "exception": false,
     "start_time": "2023-03-10T07:13:33.371568",
     "status": "completed"
    },
    "tags": []
   },
   "source": [
    "# Feature selection"
   ]
  },
  {
   "cell_type": "markdown",
   "id": "32443002",
   "metadata": {
    "papermill": {
     "duration": 0.020666,
     "end_time": "2023-03-10T07:13:33.433251",
     "exception": false,
     "start_time": "2023-03-10T07:13:33.412585",
     "status": "completed"
    },
    "tags": []
   },
   "source": [
    "Columns Pclass,Sex,Parch,Ticket,Fare,Cabin,Embarked have are positively correlated with Survival rate. Among these Sex,Pclass,Fare are highly correlated."
   ]
  },
  {
   "cell_type": "markdown",
   "id": "ac6a4e83",
   "metadata": {
    "papermill": {
     "duration": 0.021048,
     "end_time": "2023-03-10T07:13:33.474936",
     "exception": false,
     "start_time": "2023-03-10T07:13:33.453888",
     "status": "completed"
    },
    "tags": []
   },
   "source": [
    "# Accuracy score calculation with correlation parameters using Random Forest Classifier"
   ]
  },
  {
   "cell_type": "code",
   "execution_count": 22,
   "id": "3c2437ca",
   "metadata": {
    "execution": {
     "iopub.execute_input": "2023-03-10T07:13:33.518299Z",
     "iopub.status.busy": "2023-03-10T07:13:33.517586Z",
     "iopub.status.idle": "2023-03-10T07:13:33.878150Z",
     "shell.execute_reply": "2023-03-10T07:13:33.876861Z"
    },
    "papermill": {
     "duration": 0.384861,
     "end_time": "2023-03-10T07:13:33.880580",
     "exception": false,
     "start_time": "2023-03-10T07:13:33.495719",
     "status": "completed"
    },
    "tags": []
   },
   "outputs": [
    {
     "name": "stdout",
     "output_type": "stream",
     "text": [
      "0.8333333333333334\n"
     ]
    }
   ],
   "source": [
    "from sklearn.ensemble import RandomForestClassifier\n",
    "from sklearn.model_selection import train_test_split\n",
    "from sklearn import metrics\n",
    "\n",
    "y = training_data[\"Survived\"]\n",
    "features = [\"Pclass\",\"Sex\",\"Parch\",\"Ticket\",\"Fare\",\"Cabin\",\"Embarked\"]\n",
    "X = pd.get_dummies(training_data[features])\n",
    "X_train, X_test, y_train, y_test = train_test_split(X, y,  test_size=0.37, random_state=42)\n",
    "model = RandomForestClassifier(n_estimators=100, max_depth=5, random_state=1)\n",
    "model.fit(X, y)\n",
    "predictions_c = model.predict(X_test)\n",
    "print(metrics.accuracy_score(y_test,predictions_c))"
   ]
  },
  {
   "cell_type": "markdown",
   "id": "ee693ef7",
   "metadata": {
    "papermill": {
     "duration": 0.020245,
     "end_time": "2023-03-10T07:13:33.921560",
     "exception": false,
     "start_time": "2023-03-10T07:13:33.901315",
     "status": "completed"
    },
    "tags": []
   },
   "source": [
    "# Model prediction on test data"
   ]
  },
  {
   "cell_type": "code",
   "execution_count": 23,
   "id": "55234ecc",
   "metadata": {
    "execution": {
     "iopub.execute_input": "2023-03-10T07:13:33.963793Z",
     "iopub.status.busy": "2023-03-10T07:13:33.963399Z",
     "iopub.status.idle": "2023-03-10T07:13:33.988796Z",
     "shell.execute_reply": "2023-03-10T07:13:33.987729Z"
    },
    "papermill": {
     "duration": 0.049105,
     "end_time": "2023-03-10T07:13:33.991069",
     "exception": false,
     "start_time": "2023-03-10T07:13:33.941964",
     "status": "completed"
    },
    "tags": []
   },
   "outputs": [
    {
     "data": {
      "text/plain": [
       "array([0, 1, 0, 0, 1, 0, 1, 0, 1, 0, 0, 0, 1, 0, 1, 1, 0, 0, 0, 1, 0, 0,\n",
       "       1, 0, 1, 0, 1, 0, 0, 0, 0, 0, 1, 0, 0, 0, 1, 1, 0, 0, 0, 0, 0, 1,\n",
       "       1, 0, 0, 0, 1, 1, 0, 0, 1, 1, 0, 0, 0, 0, 0, 1, 0, 0, 0, 1, 0, 1,\n",
       "       1, 0, 0, 1, 1, 0, 1, 0, 1, 0, 0, 1, 0, 1, 1, 0, 0, 0, 0, 0, 1, 0,\n",
       "       1, 0, 1, 0, 1, 0, 0, 0, 1, 0, 1, 0, 1, 0, 0, 0, 1, 0, 0, 0, 0, 0,\n",
       "       0, 1, 1, 1, 1, 0, 0, 0, 0, 1, 1, 0, 1, 0, 0, 1, 0, 1, 0, 0, 0, 0,\n",
       "       0, 0, 0, 0, 0, 0, 0, 0, 0, 1, 0, 0, 0, 0, 0, 0, 0, 0, 1, 0, 0, 1,\n",
       "       0, 0, 1, 1, 0, 0, 1, 0, 1, 0, 0, 1, 0, 0, 1, 0, 0, 0, 0, 0, 0, 1,\n",
       "       1, 0, 1, 1, 0, 0, 1, 0, 1, 0, 1, 0, 0, 0, 0, 0, 0, 0, 0, 0, 1, 1,\n",
       "       0, 1, 1, 0, 0, 1, 0, 0, 1, 0, 1, 0, 0, 0, 0, 1, 1, 0, 1, 0, 1, 0,\n",
       "       1, 0, 1, 0, 1, 1, 0, 1, 0, 0, 0, 1, 0, 0, 0, 0, 1, 0, 1, 1, 1, 1,\n",
       "       1, 0, 0, 0, 1, 0, 1, 1, 1, 0, 0, 0, 0, 0, 0, 0, 1, 0, 0, 0, 1, 1,\n",
       "       0, 0, 0, 0, 0, 0, 0, 0, 1, 1, 0, 1, 0, 0, 0, 0, 1, 0, 1, 1, 1, 0,\n",
       "       0, 1, 0, 0, 0, 1, 0, 0, 0, 0, 1, 0, 0, 0, 0, 0, 0, 0, 1, 1, 1, 0,\n",
       "       1, 1, 0, 0, 0, 1, 1, 1, 0, 0, 0, 0, 0, 0, 0, 0, 1, 0, 1, 0, 0, 0,\n",
       "       1, 0, 0, 1, 0, 0, 0, 0, 0, 0, 0, 0, 0, 1, 0, 1, 0, 1, 0, 1, 1, 0,\n",
       "       0, 1, 1, 0, 1, 0, 0, 1, 0, 1, 1, 0, 1, 0, 0, 1, 1, 0, 0, 1, 0, 0,\n",
       "       1, 1, 1, 0, 0, 0, 0, 0, 1, 1, 0, 1, 0, 0, 0, 0, 1, 1, 0, 0, 0, 1,\n",
       "       0, 1, 0, 0, 1, 0, 1, 0, 0, 0, 0, 1, 1, 0, 1, 1, 1, 0, 1, 0, 0, 0])"
      ]
     },
     "execution_count": 23,
     "metadata": {},
     "output_type": "execute_result"
    }
   ],
   "source": [
    "test_predict = model.predict(testing_data[features])\n",
    "test_predict"
   ]
  },
  {
   "cell_type": "markdown",
   "id": "76af39d5",
   "metadata": {
    "papermill": {
     "duration": 0.020442,
     "end_time": "2023-03-10T07:13:34.032279",
     "exception": false,
     "start_time": "2023-03-10T07:13:34.011837",
     "status": "completed"
    },
    "tags": []
   },
   "source": [
    "# Generating output csv"
   ]
  },
  {
   "cell_type": "code",
   "execution_count": 24,
   "id": "56f1489e",
   "metadata": {
    "execution": {
     "iopub.execute_input": "2023-03-10T07:13:34.075597Z",
     "iopub.status.busy": "2023-03-10T07:13:34.075195Z",
     "iopub.status.idle": "2023-03-10T07:13:34.085111Z",
     "shell.execute_reply": "2023-03-10T07:13:34.083871Z"
    },
    "papermill": {
     "duration": 0.035281,
     "end_time": "2023-03-10T07:13:34.088198",
     "exception": false,
     "start_time": "2023-03-10T07:13:34.052917",
     "status": "completed"
    },
    "tags": []
   },
   "outputs": [
    {
     "name": "stdout",
     "output_type": "stream",
     "text": [
      "Your submission was successfully saved!\n"
     ]
    }
   ],
   "source": [
    "output = pd.DataFrame({'PassengerId': testing_data.PassengerId, 'Survived': test_predict})\n",
    "output.to_csv('submission_corr.csv', index=False)\n",
    "print(\"Your submission was successfully saved!\")"
   ]
  },
  {
   "cell_type": "markdown",
   "id": "679876d7",
   "metadata": {
    "papermill": {
     "duration": 0.0203,
     "end_time": "2023-03-10T07:13:34.129746",
     "exception": false,
     "start_time": "2023-03-10T07:13:34.109446",
     "status": "completed"
    },
    "tags": []
   },
   "source": [
    "# Chi-Square test"
   ]
  },
  {
   "cell_type": "code",
   "execution_count": 25,
   "id": "35b0659f",
   "metadata": {
    "execution": {
     "iopub.execute_input": "2023-03-10T07:13:34.173505Z",
     "iopub.status.busy": "2023-03-10T07:13:34.172705Z",
     "iopub.status.idle": "2023-03-10T07:13:34.194560Z",
     "shell.execute_reply": "2023-03-10T07:13:34.193520Z"
    },
    "papermill": {
     "duration": 0.046297,
     "end_time": "2023-03-10T07:13:34.197086",
     "exception": false,
     "start_time": "2023-03-10T07:13:34.150789",
     "status": "completed"
    },
    "tags": []
   },
   "outputs": [
    {
     "data": {
      "text/plain": [
       "(array([3.31293407e+00, 3.08736994e+01, 4.35568915e+02, 9.27024470e+01,\n",
       "        2.46879258e+01, 2.58186538e+00, 1.00974991e+01, 2.87165547e+03,\n",
       "        4.51831909e+03, 2.84482789e+02, 1.02025247e+01]),\n",
       " array([6.87366651e-02, 2.75378563e-08, 9.97314604e-97, 6.07783826e-22,\n",
       "        6.74051416e-07, 1.08094210e-01, 1.48470676e-03, 0.00000000e+00,\n",
       "        0.00000000e+00, 7.92037850e-64, 1.40248517e-03]))"
      ]
     },
     "execution_count": 25,
     "metadata": {},
     "output_type": "execute_result"
    }
   ],
   "source": [
    "from sklearn.feature_selection import chi2\n",
    "X = training_data.drop('Survived',axis=1)\n",
    "y = training_data['Survived']\n",
    "chi_scores = chi2(X,y)\n",
    "chi_scores"
   ]
  },
  {
   "cell_type": "code",
   "execution_count": 26,
   "id": "f76958a9",
   "metadata": {
    "execution": {
     "iopub.execute_input": "2023-03-10T07:13:34.241624Z",
     "iopub.status.busy": "2023-03-10T07:13:34.240568Z",
     "iopub.status.idle": "2023-03-10T07:13:34.498077Z",
     "shell.execute_reply": "2023-03-10T07:13:34.496831Z"
    },
    "papermill": {
     "duration": 0.28197,
     "end_time": "2023-03-10T07:13:34.500396",
     "exception": false,
     "start_time": "2023-03-10T07:13:34.218426",
     "status": "completed"
    },
    "tags": []
   },
   "outputs": [
    {
     "data": {
      "text/plain": [
       "<AxesSubplot:>"
      ]
     },
     "execution_count": 26,
     "metadata": {},
     "output_type": "execute_result"
    },
    {
     "data": {
      "image/png": "[encoded data removed]",
      "text/plain": [
       "<Figure size 640x480 with 1 Axes>"
      ]
     },
     "metadata": {},
     "output_type": "display_data"
    }
   ],
   "source": [
    "p_values = pd.Series(chi_scores[1],index = X.columns)\n",
    "p_values.sort_values(ascending = False , inplace = True)\n",
    "p_values.plot.bar()"
   ]
  },
  {
   "cell_type": "markdown",
   "id": "a5fb981b",
   "metadata": {
    "papermill": {
     "duration": 0.020836,
     "end_time": "2023-03-10T07:13:34.542799",
     "exception": false,
     "start_time": "2023-03-10T07:13:34.521963",
     "status": "completed"
    },
    "tags": []
   },
   "source": [
    "Features selected from above graph are Parch,Embarked,Age,Pclass,Sex,Cabin,Name,Ticket,Fare"
   ]
  },
  {
   "cell_type": "markdown",
   "id": "256e0105",
   "metadata": {
    "papermill": {
     "duration": 0.020859,
     "end_time": "2023-03-10T07:13:34.584752",
     "exception": false,
     "start_time": "2023-03-10T07:13:34.563893",
     "status": "completed"
    },
    "tags": []
   },
   "source": [
    "# Train-test split"
   ]
  },
  {
   "cell_type": "code",
   "execution_count": 27,
   "id": "1b77c4bf",
   "metadata": {
    "execution": {
     "iopub.execute_input": "2023-03-10T07:13:34.628550Z",
     "iopub.status.busy": "2023-03-10T07:13:34.628138Z",
     "iopub.status.idle": "2023-03-10T07:13:34.643041Z",
     "shell.execute_reply": "2023-03-10T07:13:34.642055Z"
    },
    "papermill": {
     "duration": 0.039548,
     "end_time": "2023-03-10T07:13:34.645288",
     "exception": false,
     "start_time": "2023-03-10T07:13:34.605740",
     "status": "completed"
    },
    "tags": []
   },
   "outputs": [],
   "source": [
    "y = training_data[\"Survived\"]\n",
    "\n",
    "features = [\"Pclass\",\"Name\",\"Sex\",\"Age\",\"Parch\",\"Ticket\",\"Fare\",\"Cabin\",\"Embarked\",]\n",
    "X = pd.get_dummies(training_data[features])\n",
    "X_train, X_test, y_train, y_test = train_test_split(X, y,  test_size=0.37, random_state=42)\n",
    "accuracy=[]"
   ]
  },
  {
   "cell_type": "markdown",
   "id": "f3f8b6d5",
   "metadata": {
    "papermill": {
     "duration": 0.021144,
     "end_time": "2023-03-10T07:13:34.687777",
     "exception": false,
     "start_time": "2023-03-10T07:13:34.666633",
     "status": "completed"
    },
    "tags": []
   },
   "source": [
    "# Model prediction using Linear SVM"
   ]
  },
  {
   "cell_type": "code",
   "execution_count": 28,
   "id": "374abc4c",
   "metadata": {
    "execution": {
     "iopub.execute_input": "2023-03-10T07:13:34.731818Z",
     "iopub.status.busy": "2023-03-10T07:13:34.731410Z",
     "iopub.status.idle": "2023-03-10T07:14:28.571938Z",
     "shell.execute_reply": "2023-03-10T07:14:28.570924Z"
    },
    "papermill": {
     "duration": 53.865758,
     "end_time": "2023-03-10T07:14:28.574736",
     "exception": false,
     "start_time": "2023-03-10T07:13:34.708978",
     "status": "completed"
    },
    "tags": []
   },
   "outputs": [],
   "source": [
    "from sklearn import svm\n",
    "linear_svm = svm.SVC(kernel='linear', C = 1.0)\n",
    "linear_svm.fit(X,y)\n",
    "predictions_svm=linear_svm.predict(X_test)\n",
    "accuracy.append(metrics.accuracy_score(y_test,predictions_svm))"
   ]
  },
  {
   "cell_type": "markdown",
   "id": "d90ba315",
   "metadata": {
    "papermill": {
     "duration": 0.021156,
     "end_time": "2023-03-10T07:14:28.617840",
     "exception": false,
     "start_time": "2023-03-10T07:14:28.596684",
     "status": "completed"
    },
    "tags": []
   },
   "source": [
    "# Model Prediction using Decision Tree Classifier"
   ]
  },
  {
   "cell_type": "code",
   "execution_count": 29,
   "id": "91469b84",
   "metadata": {
    "execution": {
     "iopub.execute_input": "2023-03-10T07:14:28.662441Z",
     "iopub.status.busy": "2023-03-10T07:14:28.662043Z",
     "iopub.status.idle": "2023-03-10T07:14:28.673921Z",
     "shell.execute_reply": "2023-03-10T07:14:28.673035Z"
    },
    "papermill": {
     "duration": 0.036925,
     "end_time": "2023-03-10T07:14:28.676493",
     "exception": false,
     "start_time": "2023-03-10T07:14:28.639568",
     "status": "completed"
    },
    "tags": []
   },
   "outputs": [],
   "source": [
    "from sklearn.tree import DecisionTreeClassifier\n",
    "dc=DecisionTreeClassifier(criterion = \"gini\",random_state = 100,max_depth=3, min_samples_leaf=5)\n",
    "dc.fit(X,y)\n",
    "predictions_dc=dc.predict(X_test)\n",
    "accuracy.append(metrics.accuracy_score(y_test,predictions_dc))"
   ]
  },
  {
   "cell_type": "markdown",
   "id": "b98814e0",
   "metadata": {
    "papermill": {
     "duration": 0.021143,
     "end_time": "2023-03-10T07:14:28.719042",
     "exception": false,
     "start_time": "2023-03-10T07:14:28.697899",
     "status": "completed"
    },
    "tags": []
   },
   "source": [
    "# Model prediction using Logisitic Regression classifier\n"
   ]
  },
  {
   "cell_type": "code",
   "execution_count": 30,
   "id": "5f002b22",
   "metadata": {
    "execution": {
     "iopub.execute_input": "2023-03-10T07:14:28.763394Z",
     "iopub.status.busy": "2023-03-10T07:14:28.762755Z",
     "iopub.status.idle": "2023-03-10T07:14:28.867743Z",
     "shell.execute_reply": "2023-03-10T07:14:28.866580Z"
    },
    "papermill": {
     "duration": 0.130084,
     "end_time": "2023-03-10T07:14:28.870357",
     "exception": false,
     "start_time": "2023-03-10T07:14:28.740273",
     "status": "completed"
    },
    "tags": []
   },
   "outputs": [],
   "source": [
    "from sklearn import linear_model\n",
    "lr_model= linear_model.LogisticRegression(max_iter=1000)  \n",
    "lr_model.fit(X, y)  \n",
    "predictions_lr = lr_model.predict(X_test)\n",
    "accuracy.append(metrics.accuracy_score(y_test,predictions_lr))"
   ]
  },
  {
   "cell_type": "code",
   "execution_count": 31,
   "id": "c3ac9e7c",
   "metadata": {
    "execution": {
     "iopub.execute_input": "2023-03-10T07:14:28.914309Z",
     "iopub.status.busy": "2023-03-10T07:14:28.913927Z",
     "iopub.status.idle": "2023-03-10T07:14:28.924692Z",
     "shell.execute_reply": "2023-03-10T07:14:28.923689Z"
    },
    "papermill": {
     "duration": 0.035148,
     "end_time": "2023-03-10T07:14:28.926780",
     "exception": false,
     "start_time": "2023-03-10T07:14:28.891632",
     "status": "completed"
    },
    "tags": []
   },
   "outputs": [
    {
     "data": {
      "text/plain": [
       "array([0, 0, 0, 0, 1, 0, 1, 0, 1, 0, 0, 0, 1, 0, 1, 1, 0, 0, 1, 1, 0, 0,\n",
       "       1, 0, 1, 0, 1, 0, 0, 0, 0, 0, 0, 0, 1, 0, 1, 1, 0, 0, 0, 0, 0, 1,\n",
       "       1, 0, 0, 0, 1, 0, 0, 0, 1, 1, 0, 0, 0, 0, 0, 1, 0, 0, 0, 1, 1, 1,\n",
       "       1, 0, 1, 1, 1, 0, 1, 0, 1, 1, 0, 1, 0, 1, 0, 0, 0, 0, 0, 0, 1, 1,\n",
       "       1, 0, 1, 0, 1, 0, 1, 0, 1, 0, 1, 0, 1, 0, 0, 0, 1, 0, 0, 0, 0, 0,\n",
       "       0, 1, 1, 1, 1, 0, 0, 1, 1, 1, 1, 0, 1, 0, 0, 1, 0, 1, 0, 0, 0, 0,\n",
       "       0, 0, 0, 0, 0, 0, 1, 0, 1, 1, 0, 0, 0, 0, 0, 0, 1, 0, 1, 0, 0, 0,\n",
       "       0, 0, 1, 1, 0, 0, 1, 0, 1, 0, 0, 1, 0, 0, 1, 1, 0, 0, 0, 0, 0, 1,\n",
       "       1, 0, 1, 1, 0, 0, 1, 0, 1, 0, 1, 0, 0, 0, 0, 0, 0, 0, 0, 0, 1, 1,\n",
       "       0, 1, 1, 0, 0, 1, 0, 1, 1, 0, 1, 0, 0, 0, 0, 1, 0, 0, 1, 0, 1, 0,\n",
       "       1, 0, 1, 0, 1, 1, 0, 1, 0, 0, 0, 1, 0, 0, 0, 0, 0, 0, 1, 1, 1, 1,\n",
       "       0, 0, 0, 0, 1, 0, 1, 1, 1, 0, 1, 0, 0, 0, 0, 0, 1, 0, 0, 0, 1, 1,\n",
       "       0, 0, 0, 0, 1, 0, 0, 0, 1, 1, 0, 1, 0, 0, 0, 0, 1, 0, 1, 1, 1, 0,\n",
       "       0, 0, 0, 0, 0, 1, 0, 0, 0, 0, 1, 0, 0, 0, 0, 0, 0, 0, 1, 1, 0, 0,\n",
       "       0, 1, 0, 0, 0, 1, 1, 1, 0, 0, 0, 0, 0, 0, 0, 0, 1, 0, 1, 0, 0, 0,\n",
       "       1, 0, 0, 1, 0, 0, 0, 0, 0, 0, 0, 0, 0, 1, 0, 1, 0, 1, 0, 1, 1, 0,\n",
       "       0, 0, 1, 0, 1, 0, 0, 1, 0, 1, 1, 0, 1, 0, 0, 1, 1, 0, 0, 1, 0, 0,\n",
       "       1, 1, 1, 0, 0, 0, 0, 0, 1, 1, 0, 1, 0, 0, 0, 0, 0, 1, 0, 0, 0, 1,\n",
       "       0, 1, 0, 0, 1, 0, 1, 1, 0, 0, 0, 0, 1, 1, 1, 1, 1, 0, 1, 0, 0, 0])"
      ]
     },
     "execution_count": 31,
     "metadata": {},
     "output_type": "execute_result"
    }
   ],
   "source": [
    "test_predict = lr_model.predict(testing_data[features])\n",
    "test_predict"
   ]
  },
  {
   "cell_type": "code",
   "execution_count": 32,
   "id": "493b87da",
   "metadata": {
    "execution": {
     "iopub.execute_input": "2023-03-10T07:14:28.970929Z",
     "iopub.status.busy": "2023-03-10T07:14:28.970516Z",
     "iopub.status.idle": "2023-03-10T07:14:28.979626Z",
     "shell.execute_reply": "2023-03-10T07:14:28.978063Z"
    },
    "papermill": {
     "duration": 0.035342,
     "end_time": "2023-03-10T07:14:28.983225",
     "exception": false,
     "start_time": "2023-03-10T07:14:28.947883",
     "status": "completed"
    },
    "tags": []
   },
   "outputs": [
    {
     "name": "stdout",
     "output_type": "stream",
     "text": [
      "Your submission was successfully saved!\n"
     ]
    }
   ],
   "source": [
    "output = pd.DataFrame({'PassengerId': testing_data.PassengerId, 'Survived': test_predict})\n",
    "output.to_csv('submission_lr.csv', index=False)\n",
    "print(\"Your submission was successfully saved!\")"
   ]
  },
  {
   "cell_type": "markdown",
   "id": "f9d5c89e",
   "metadata": {
    "papermill": {
     "duration": 0.021727,
     "end_time": "2023-03-10T07:14:29.027493",
     "exception": false,
     "start_time": "2023-03-10T07:14:29.005766",
     "status": "completed"
    },
    "tags": []
   },
   "source": [
    "# Model prediction using RandomForest classifier"
   ]
  },
  {
   "cell_type": "code",
   "execution_count": 33,
   "id": "0152562a",
   "metadata": {
    "execution": {
     "iopub.execute_input": "2023-03-10T07:14:29.073087Z",
     "iopub.status.busy": "2023-03-10T07:14:29.072689Z",
     "iopub.status.idle": "2023-03-10T07:14:29.284979Z",
     "shell.execute_reply": "2023-03-10T07:14:29.283872Z"
    },
    "papermill": {
     "duration": 0.237917,
     "end_time": "2023-03-10T07:14:29.287715",
     "exception": false,
     "start_time": "2023-03-10T07:14:29.049798",
     "status": "completed"
    },
    "tags": []
   },
   "outputs": [],
   "source": [
    "from sklearn.ensemble import RandomForestClassifier\n",
    "model = RandomForestClassifier(n_estimators=100, max_depth=5, random_state=1)\n",
    "model.fit(X, y)\n",
    "predictions_rf = model.predict(X_test)\n",
    "accuracy.append(metrics.accuracy_score(y_test,predictions_rf))\n"
   ]
  },
  {
   "cell_type": "markdown",
   "id": "aa60f40f",
   "metadata": {
    "papermill": {
     "duration": 0.021607,
     "end_time": "2023-03-10T07:14:29.331289",
     "exception": false,
     "start_time": "2023-03-10T07:14:29.309682",
     "status": "completed"
    },
    "tags": []
   },
   "source": [
    "# Model prediction on test dataset"
   ]
  },
  {
   "cell_type": "code",
   "execution_count": 34,
   "id": "f57dd34a",
   "metadata": {
    "execution": {
     "iopub.execute_input": "2023-03-10T07:14:29.376523Z",
     "iopub.status.busy": "2023-03-10T07:14:29.376136Z",
     "iopub.status.idle": "2023-03-10T07:14:29.402397Z",
     "shell.execute_reply": "2023-03-10T07:14:29.401437Z"
    },
    "papermill": {
     "duration": 0.051702,
     "end_time": "2023-03-10T07:14:29.404669",
     "exception": false,
     "start_time": "2023-03-10T07:14:29.352967",
     "status": "completed"
    },
    "tags": []
   },
   "outputs": [
    {
     "data": {
      "text/plain": [
       "array([0, 0, 0, 0, 1, 0, 1, 0, 1, 0, 0, 0, 1, 0, 1, 1, 0, 0, 0, 1, 0, 0,\n",
       "       1, 0, 1, 0, 1, 0, 0, 0, 0, 0, 0, 0, 0, 0, 1, 1, 0, 1, 0, 0, 0, 1,\n",
       "       1, 0, 0, 0, 1, 0, 0, 0, 1, 1, 0, 0, 0, 0, 0, 1, 0, 0, 0, 1, 1, 1,\n",
       "       1, 0, 0, 1, 1, 0, 1, 0, 1, 0, 0, 1, 0, 1, 1, 0, 0, 0, 0, 0, 1, 1,\n",
       "       1, 1, 1, 0, 1, 0, 0, 0, 1, 0, 1, 0, 1, 0, 0, 0, 1, 0, 0, 0, 0, 0,\n",
       "       0, 1, 1, 1, 1, 0, 0, 1, 1, 1, 1, 0, 1, 0, 0, 1, 0, 1, 0, 0, 0, 0,\n",
       "       0, 0, 0, 0, 0, 0, 0, 0, 0, 1, 0, 0, 0, 0, 0, 0, 1, 0, 1, 0, 0, 1,\n",
       "       0, 0, 1, 1, 0, 0, 1, 1, 1, 0, 0, 1, 0, 0, 1, 0, 0, 0, 0, 0, 0, 1,\n",
       "       1, 0, 1, 1, 0, 1, 1, 0, 1, 0, 1, 0, 0, 0, 0, 0, 0, 0, 1, 0, 1, 1,\n",
       "       0, 0, 1, 1, 0, 1, 0, 0, 1, 0, 1, 0, 0, 0, 0, 1, 1, 0, 1, 0, 1, 0,\n",
       "       1, 0, 1, 0, 1, 1, 0, 1, 0, 0, 0, 1, 0, 0, 0, 0, 0, 0, 1, 1, 1, 1,\n",
       "       0, 0, 0, 0, 1, 0, 1, 1, 1, 0, 1, 0, 0, 0, 0, 0, 1, 0, 0, 0, 1, 1,\n",
       "       0, 0, 0, 0, 0, 0, 0, 0, 1, 1, 0, 1, 0, 0, 0, 0, 1, 1, 1, 1, 1, 0,\n",
       "       0, 1, 0, 0, 0, 1, 0, 1, 0, 0, 1, 0, 0, 0, 0, 0, 0, 0, 1, 1, 1, 1,\n",
       "       1, 1, 0, 0, 0, 1, 1, 1, 0, 0, 0, 0, 0, 0, 0, 0, 1, 0, 1, 0, 0, 0,\n",
       "       1, 0, 0, 1, 0, 0, 0, 0, 0, 0, 0, 0, 0, 1, 0, 1, 0, 1, 0, 1, 1, 0,\n",
       "       0, 1, 1, 0, 1, 0, 0, 1, 0, 1, 1, 0, 1, 0, 0, 1, 1, 0, 0, 1, 0, 0,\n",
       "       1, 1, 1, 0, 0, 1, 0, 0, 1, 1, 0, 1, 0, 0, 0, 0, 1, 1, 0, 0, 0, 1,\n",
       "       0, 1, 0, 0, 1, 0, 1, 1, 0, 0, 0, 0, 1, 1, 1, 1, 1, 0, 1, 0, 0, 0])"
      ]
     },
     "execution_count": 34,
     "metadata": {},
     "output_type": "execute_result"
    }
   ],
   "source": [
    "test_predict = model.predict(testing_data[features])\n",
    "test_predict"
   ]
  },
  {
   "cell_type": "markdown",
   "id": "eb6c99df",
   "metadata": {
    "papermill": {
     "duration": 0.021238,
     "end_time": "2023-03-10T07:14:29.447493",
     "exception": false,
     "start_time": "2023-03-10T07:14:29.426255",
     "status": "completed"
    },
    "tags": []
   },
   "source": [
    "# Generating output csv"
   ]
  },
  {
   "cell_type": "code",
   "execution_count": 35,
   "id": "df21417c",
   "metadata": {
    "execution": {
     "iopub.execute_input": "2023-03-10T07:14:29.492450Z",
     "iopub.status.busy": "2023-03-10T07:14:29.491355Z",
     "iopub.status.idle": "2023-03-10T07:14:29.499874Z",
     "shell.execute_reply": "2023-03-10T07:14:29.498445Z"
    },
    "papermill": {
     "duration": 0.033089,
     "end_time": "2023-03-10T07:14:29.501951",
     "exception": false,
     "start_time": "2023-03-10T07:14:29.468862",
     "status": "completed"
    },
    "tags": []
   },
   "outputs": [
    {
     "name": "stdout",
     "output_type": "stream",
     "text": [
      "Your submission was successfully saved!\n"
     ]
    }
   ],
   "source": [
    "output = pd.DataFrame({'PassengerId': testing_data.PassengerId, 'Survived': test_predict})\n",
    "output.to_csv('submission_randomeforest.csv', index=False)\n",
    "print(\"Your submission was successfully saved!\")"
   ]
  },
  {
   "cell_type": "markdown",
   "id": "1c180422",
   "metadata": {
    "papermill": {
     "duration": 0.021136,
     "end_time": "2023-03-10T07:14:29.544652",
     "exception": false,
     "start_time": "2023-03-10T07:14:29.523516",
     "status": "completed"
    },
    "tags": []
   },
   "source": [
    "# Plotting accuracy scores of all classifiers"
   ]
  },
  {
   "cell_type": "code",
   "execution_count": 36,
   "id": "e22c5456",
   "metadata": {
    "execution": {
     "iopub.execute_input": "2023-03-10T07:14:29.589559Z",
     "iopub.status.busy": "2023-03-10T07:14:29.588436Z",
     "iopub.status.idle": "2023-03-10T07:14:29.812481Z",
     "shell.execute_reply": "2023-03-10T07:14:29.811271Z"
    },
    "papermill": {
     "duration": 0.248855,
     "end_time": "2023-03-10T07:14:29.814836",
     "exception": false,
     "start_time": "2023-03-10T07:14:29.565981",
     "status": "completed"
    },
    "tags": []
   },
   "outputs": [
    {
     "name": "stdout",
     "output_type": "stream",
     "text": [
      "            Classifiers  Accuracies\n",
      "0            Linear SVM    0.784848\n",
      "1         Decision Tree    0.806061\n",
      "2  Logisitic Regression    0.803030\n",
      "3         Random Forest    0.854545\n"
     ]
    },
    {
     "data": {
      "text/plain": [
       "<AxesSubplot:xlabel='Classifiers', ylabel='Accuracies'>"
      ]
     },
     "execution_count": 36,
     "metadata": {},
     "output_type": "execute_result"
    },
    {
     "data": {
      "image/png": "[encoded data removed]",
      "text/plain": [
       "<Figure size 640x480 with 1 Axes>"
      ]
     },
     "metadata": {},
     "output_type": "display_data"
    }
   ],
   "source": [
    "class_accuracy=[[\"Linear SVM\",accuracy[0]],[\"Decision Tree\",accuracy[1]],[\"Logisitic Regression\",accuracy[2]],[\"Random Forest\",accuracy[3]]]\n",
    "df=pd.DataFrame(class_accuracy,columns=[\"Classifiers\",\"Accuracies\"])\n",
    "print(df)\n",
    "sns.lineplot(data=df,x=df[\"Classifiers\"],y=df[\"Accuracies\"])"
   ]
  }
 ],
 "metadata": {
  "kernelspec": {
   "display_name": "Python 3",
   "language": "python",
   "name": "python3"
  },
  "language_info": {
   "codemirror_mode": {
    "name": "ipython",
    "version": 3
   },
   "file_extension": ".py",
   "mimetype": "text/x-python",
   "name": "python",
   "nbconvert_exporter": "python",
   "pygments_lexer": "ipython3",
   "version": "3.7.12"
  },
  "papermill": {
   "default_parameters": {},
   "duration": 71.572755,
   "end_time": "2023-03-10T07:14:30.557954",
   "environment_variables": {},
   "exception": null,
   "input_path": "__notebook__.ipynb",
   "output_path": "__notebook__.ipynb",
   "parameters": {},
   "start_time": "2023-03-10T07:13:18.985199",
   "version": "2.3.4"
  }
 },
 "nbformat": 4,
 "nbformat_minor": 5
}
