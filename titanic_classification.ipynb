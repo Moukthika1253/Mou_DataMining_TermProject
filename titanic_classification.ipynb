{
 "cells": [
  {
   "cell_type": "code",
   "execution_count": 1,
   "id": "98b143b6",
   "metadata": {
    "_cell_guid": "b1076dfc-b9ad-4769-8c92-a6c4dae69d19",
    "_uuid": "8f2839f25d086af736a60e9eeb907d3b93b6e0e5",
    "execution": {
     "iopub.execute_input": "2023-03-10T23:45:23.651329Z",
     "iopub.status.busy": "2023-03-10T23:45:23.650072Z",
     "iopub.status.idle": "2023-03-10T23:45:25.641524Z",
     "shell.execute_reply": "2023-03-10T23:45:25.640023Z"
    },
    "papermill": {
     "duration": 2.017062,
     "end_time": "2023-03-10T23:45:25.646183",
     "exception": false,
     "start_time": "2023-03-10T23:45:23.629121",
     "status": "completed"
    },
    "tags": []
   },
   "outputs": [
    {
     "name": "stdout",
     "output_type": "stream",
     "text": [
      "/kaggle/input/titanic/train.csv\n",
      "/kaggle/input/titanic/test.csv\n",
      "/kaggle/input/titanic/gender_submission.csv\n"
     ]
    }
   ],
   "source": [
    "import pandas as pd \n",
    "import numpy as np\n",
    "import os\n",
    "import category_encoders as c\n",
    "import seaborn as sns\n",
    "from sklearn.model_selection import train_test_split\n",
    "from sklearn import metrics\n",
    "\n",
    "for dirname, _, filenames in os.walk('/kaggle/input'):\n",
    "    for filename in filenames:\n",
    "        print(os.path.join(dirname, filename))\n",
    "\n"
   ]
  },
  {
   "cell_type": "markdown",
   "id": "a830ebbd",
   "metadata": {
    "papermill": {
     "duration": 0.015467,
     "end_time": "2023-03-10T23:45:25.679879",
     "exception": false,
     "start_time": "2023-03-10T23:45:25.664412",
     "status": "completed"
    },
    "tags": []
   },
   "source": [
    "* imported \n",
    "           - pandas,numpy to perform operations on dataframe and nd-array\n",
    "           - category_encoders to do encoding on training,testing data\n",
    "           - seaborn to implement data visualization\n",
    "           - train_test_split to split training data\n",
    "           - metrics to calculate accuracy score"
   ]
  },
  {
   "cell_type": "markdown",
   "id": "e496c9b9",
   "metadata": {
    "papermill": {
     "duration": 0.0156,
     "end_time": "2023-03-10T23:45:25.712214",
     "exception": false,
     "start_time": "2023-03-10T23:45:25.696614",
     "status": "completed"
    },
    "tags": []
   },
   "source": [
    "# Loading training data"
   ]
  },
  {
   "cell_type": "code",
   "execution_count": 2,
   "id": "279fc76e",
   "metadata": {
    "execution": {
     "iopub.execute_input": "2023-03-10T23:45:25.750219Z",
     "iopub.status.busy": "2023-03-10T23:45:25.749666Z",
     "iopub.status.idle": "2023-03-10T23:45:25.796627Z",
     "shell.execute_reply": "2023-03-10T23:45:25.795447Z"
    },
    "papermill": {
     "duration": 0.070424,
     "end_time": "2023-03-10T23:45:25.799537",
     "exception": false,
     "start_time": "2023-03-10T23:45:25.729113",
     "status": "completed"
    },
    "tags": []
   },
   "outputs": [
    {
     "data": {
      "text/html": [
       "<div>\n",
       "<style scoped>\n",
       "    .dataframe tbody tr th:only-of-type {\n",
       "        vertical-align: middle;\n",
       "    }\n",
       "\n",
       "    .dataframe tbody tr th {\n",
       "        vertical-align: top;\n",
       "    }\n",
       "\n",
       "    .dataframe thead th {\n",
       "        text-align: right;\n",
       "    }\n",
       "</style>\n",
       "<table border=\"1\" class=\"dataframe\">\n",
       "  <thead>\n",
       "    <tr style=\"text-align: right;\">\n",
       "      <th></th>\n",
       "      <th>PassengerId</th>\n",
       "      <th>Survived</th>\n",
       "      <th>Pclass</th>\n",
       "      <th>Name</th>\n",
       "      <th>Sex</th>\n",
       "      <th>Age</th>\n",
       "      <th>SibSp</th>\n",
       "      <th>Parch</th>\n",
       "      <th>Ticket</th>\n",
       "      <th>Fare</th>\n",
       "      <th>Cabin</th>\n",
       "      <th>Embarked</th>\n",
       "    </tr>\n",
       "  </thead>\n",
       "  <tbody>\n",
       "    <tr>\n",
       "      <th>0</th>\n",
       "      <td>1</td>\n",
       "      <td>0</td>\n",
       "      <td>3</td>\n",
       "      <td>Braund, Mr. Owen Harris</td>\n",
       "      <td>male</td>\n",
       "      <td>22.0</td>\n",
       "      <td>1</td>\n",
       "      <td>0</td>\n",
       "      <td>A/5 21171</td>\n",
       "      <td>7.2500</td>\n",
       "      <td>NaN</td>\n",
       "      <td>S</td>\n",
       "    </tr>\n",
       "    <tr>\n",
       "      <th>1</th>\n",
       "      <td>2</td>\n",
       "      <td>1</td>\n",
       "      <td>1</td>\n",
       "      <td>Cumings, Mrs. John Bradley (Florence Briggs Th...</td>\n",
       "      <td>female</td>\n",
       "      <td>38.0</td>\n",
       "      <td>1</td>\n",
       "      <td>0</td>\n",
       "      <td>PC 17599</td>\n",
       "      <td>71.2833</td>\n",
       "      <td>C85</td>\n",
       "      <td>C</td>\n",
       "    </tr>\n",
       "    <tr>\n",
       "      <th>2</th>\n",
       "      <td>3</td>\n",
       "      <td>1</td>\n",
       "      <td>3</td>\n",
       "      <td>Heikkinen, Miss. Laina</td>\n",
       "      <td>female</td>\n",
       "      <td>26.0</td>\n",
       "      <td>0</td>\n",
       "      <td>0</td>\n",
       "      <td>STON/O2. 3101282</td>\n",
       "      <td>7.9250</td>\n",
       "      <td>NaN</td>\n",
       "      <td>S</td>\n",
       "    </tr>\n",
       "    <tr>\n",
       "      <th>3</th>\n",
       "      <td>4</td>\n",
       "      <td>1</td>\n",
       "      <td>1</td>\n",
       "      <td>Futrelle, Mrs. Jacques Heath (Lily May Peel)</td>\n",
       "      <td>female</td>\n",
       "      <td>35.0</td>\n",
       "      <td>1</td>\n",
       "      <td>0</td>\n",
       "      <td>113803</td>\n",
       "      <td>53.1000</td>\n",
       "      <td>C123</td>\n",
       "      <td>S</td>\n",
       "    </tr>\n",
       "    <tr>\n",
       "      <th>4</th>\n",
       "      <td>5</td>\n",
       "      <td>0</td>\n",
       "      <td>3</td>\n",
       "      <td>Allen, Mr. William Henry</td>\n",
       "      <td>male</td>\n",
       "      <td>35.0</td>\n",
       "      <td>0</td>\n",
       "      <td>0</td>\n",
       "      <td>373450</td>\n",
       "      <td>8.0500</td>\n",
       "      <td>NaN</td>\n",
       "      <td>S</td>\n",
       "    </tr>\n",
       "  </tbody>\n",
       "</table>\n",
       "</div>"
      ],
      "text/plain": [
       "   PassengerId  Survived  Pclass  \\\n",
       "0            1         0       3   \n",
       "1            2         1       1   \n",
       "2            3         1       3   \n",
       "3            4         1       1   \n",
       "4            5         0       3   \n",
       "\n",
       "                                                Name     Sex   Age  SibSp  \\\n",
       "0                            Braund, Mr. Owen Harris    male  22.0      1   \n",
       "1  Cumings, Mrs. John Bradley (Florence Briggs Th...  female  38.0      1   \n",
       "2                             Heikkinen, Miss. Laina  female  26.0      0   \n",
       "3       Futrelle, Mrs. Jacques Heath (Lily May Peel)  female  35.0      1   \n",
       "4                           Allen, Mr. William Henry    male  35.0      0   \n",
       "\n",
       "   Parch            Ticket     Fare Cabin Embarked  \n",
       "0      0         A/5 21171   7.2500   NaN        S  \n",
       "1      0          PC 17599  71.2833   C85        C  \n",
       "2      0  STON/O2. 3101282   7.9250   NaN        S  \n",
       "3      0            113803  53.1000  C123        S  \n",
       "4      0            373450   8.0500   NaN        S  "
      ]
     },
     "execution_count": 2,
     "metadata": {},
     "output_type": "execute_result"
    }
   ],
   "source": [
    "training_data = pd.read_csv(\"/kaggle/input/titanic/train.csv\")\n",
    "training_data.head() #displays top 5 rows from training_data"
   ]
  },
  {
   "cell_type": "markdown",
   "id": "a1d3f424",
   "metadata": {
    "papermill": {
     "duration": 0.015458,
     "end_time": "2023-03-10T23:45:25.832240",
     "exception": false,
     "start_time": "2023-03-10T23:45:25.816782",
     "status": "completed"
    },
    "tags": []
   },
   "source": [
    "# Loading test data"
   ]
  },
  {
   "cell_type": "code",
   "execution_count": 3,
   "id": "1602705e",
   "metadata": {
    "execution": {
     "iopub.execute_input": "2023-03-10T23:45:25.867112Z",
     "iopub.status.busy": "2023-03-10T23:45:25.866355Z",
     "iopub.status.idle": "2023-03-10T23:45:25.892844Z",
     "shell.execute_reply": "2023-03-10T23:45:25.891612Z"
    },
    "papermill": {
     "duration": 0.047009,
     "end_time": "2023-03-10T23:45:25.895484",
     "exception": false,
     "start_time": "2023-03-10T23:45:25.848475",
     "status": "completed"
    },
    "tags": []
   },
   "outputs": [
    {
     "data": {
      "text/html": [
       "<div>\n",
       "<style scoped>\n",
       "    .dataframe tbody tr th:only-of-type {\n",
       "        vertical-align: middle;\n",
       "    }\n",
       "\n",
       "    .dataframe tbody tr th {\n",
       "        vertical-align: top;\n",
       "    }\n",
       "\n",
       "    .dataframe thead th {\n",
       "        text-align: right;\n",
       "    }\n",
       "</style>\n",
       "<table border=\"1\" class=\"dataframe\">\n",
       "  <thead>\n",
       "    <tr style=\"text-align: right;\">\n",
       "      <th></th>\n",
       "      <th>PassengerId</th>\n",
       "      <th>Pclass</th>\n",
       "      <th>Name</th>\n",
       "      <th>Sex</th>\n",
       "      <th>Age</th>\n",
       "      <th>SibSp</th>\n",
       "      <th>Parch</th>\n",
       "      <th>Ticket</th>\n",
       "      <th>Fare</th>\n",
       "      <th>Cabin</th>\n",
       "      <th>Embarked</th>\n",
       "    </tr>\n",
       "  </thead>\n",
       "  <tbody>\n",
       "    <tr>\n",
       "      <th>0</th>\n",
       "      <td>892</td>\n",
       "      <td>3</td>\n",
       "      <td>Kelly, Mr. James</td>\n",
       "      <td>male</td>\n",
       "      <td>34.5</td>\n",
       "      <td>0</td>\n",
       "      <td>0</td>\n",
       "      <td>330911</td>\n",
       "      <td>7.8292</td>\n",
       "      <td>NaN</td>\n",
       "      <td>Q</td>\n",
       "    </tr>\n",
       "    <tr>\n",
       "      <th>1</th>\n",
       "      <td>893</td>\n",
       "      <td>3</td>\n",
       "      <td>Wilkes, Mrs. James (Ellen Needs)</td>\n",
       "      <td>female</td>\n",
       "      <td>47.0</td>\n",
       "      <td>1</td>\n",
       "      <td>0</td>\n",
       "      <td>363272</td>\n",
       "      <td>7.0000</td>\n",
       "      <td>NaN</td>\n",
       "      <td>S</td>\n",
       "    </tr>\n",
       "    <tr>\n",
       "      <th>2</th>\n",
       "      <td>894</td>\n",
       "      <td>2</td>\n",
       "      <td>Myles, Mr. Thomas Francis</td>\n",
       "      <td>male</td>\n",
       "      <td>62.0</td>\n",
       "      <td>0</td>\n",
       "      <td>0</td>\n",
       "      <td>240276</td>\n",
       "      <td>9.6875</td>\n",
       "      <td>NaN</td>\n",
       "      <td>Q</td>\n",
       "    </tr>\n",
       "    <tr>\n",
       "      <th>3</th>\n",
       "      <td>895</td>\n",
       "      <td>3</td>\n",
       "      <td>Wirz, Mr. Albert</td>\n",
       "      <td>male</td>\n",
       "      <td>27.0</td>\n",
       "      <td>0</td>\n",
       "      <td>0</td>\n",
       "      <td>315154</td>\n",
       "      <td>8.6625</td>\n",
       "      <td>NaN</td>\n",
       "      <td>S</td>\n",
       "    </tr>\n",
       "    <tr>\n",
       "      <th>4</th>\n",
       "      <td>896</td>\n",
       "      <td>3</td>\n",
       "      <td>Hirvonen, Mrs. Alexander (Helga E Lindqvist)</td>\n",
       "      <td>female</td>\n",
       "      <td>22.0</td>\n",
       "      <td>1</td>\n",
       "      <td>1</td>\n",
       "      <td>3101298</td>\n",
       "      <td>12.2875</td>\n",
       "      <td>NaN</td>\n",
       "      <td>S</td>\n",
       "    </tr>\n",
       "  </tbody>\n",
       "</table>\n",
       "</div>"
      ],
      "text/plain": [
       "   PassengerId  Pclass                                          Name     Sex  \\\n",
       "0          892       3                              Kelly, Mr. James    male   \n",
       "1          893       3              Wilkes, Mrs. James (Ellen Needs)  female   \n",
       "2          894       2                     Myles, Mr. Thomas Francis    male   \n",
       "3          895       3                              Wirz, Mr. Albert    male   \n",
       "4          896       3  Hirvonen, Mrs. Alexander (Helga E Lindqvist)  female   \n",
       "\n",
       "    Age  SibSp  Parch   Ticket     Fare Cabin Embarked  \n",
       "0  34.5      0      0   330911   7.8292   NaN        Q  \n",
       "1  47.0      1      0   363272   7.0000   NaN        S  \n",
       "2  62.0      0      0   240276   9.6875   NaN        Q  \n",
       "3  27.0      0      0   315154   8.6625   NaN        S  \n",
       "4  22.0      1      1  3101298  12.2875   NaN        S  "
      ]
     },
     "execution_count": 3,
     "metadata": {},
     "output_type": "execute_result"
    }
   ],
   "source": [
    "testing_data=pd.read_csv(\"/kaggle/input/titanic/test.csv\")\n",
    "testing_data.head() #displays top 5 rows from test data"
   ]
  },
  {
   "cell_type": "markdown",
   "id": "0f0dfbc1",
   "metadata": {
    "papermill": {
     "duration": 0.015671,
     "end_time": "2023-03-10T23:45:25.927169",
     "exception": false,
     "start_time": "2023-03-10T23:45:25.911498",
     "status": "completed"
    },
    "tags": []
   },
   "source": [
    "# Data Pre-processing"
   ]
  },
  {
   "cell_type": "markdown",
   "id": "3c5ae1e7",
   "metadata": {
    "papermill": {
     "duration": 0.015672,
     "end_time": "2023-03-10T23:45:25.958961",
     "exception": false,
     "start_time": "2023-03-10T23:45:25.943289",
     "status": "completed"
    },
    "tags": []
   },
   "source": [
    "# Check if any missing values in train data"
   ]
  },
  {
   "cell_type": "code",
   "execution_count": 4,
   "id": "9d413ef7",
   "metadata": {
    "execution": {
     "iopub.execute_input": "2023-03-10T23:45:25.994084Z",
     "iopub.status.busy": "2023-03-10T23:45:25.993326Z",
     "iopub.status.idle": "2023-03-10T23:45:26.004857Z",
     "shell.execute_reply": "2023-03-10T23:45:26.003501Z"
    },
    "papermill": {
     "duration": 0.032015,
     "end_time": "2023-03-10T23:45:26.007473",
     "exception": false,
     "start_time": "2023-03-10T23:45:25.975458",
     "status": "completed"
    },
    "tags": []
   },
   "outputs": [
    {
     "data": {
      "text/plain": [
       "PassengerId      0\n",
       "Survived         0\n",
       "Pclass           0\n",
       "Name             0\n",
       "Sex              0\n",
       "Age            177\n",
       "SibSp            0\n",
       "Parch            0\n",
       "Ticket           0\n",
       "Fare             0\n",
       "Cabin          687\n",
       "Embarked         2\n",
       "dtype: int64"
      ]
     },
     "execution_count": 4,
     "metadata": {},
     "output_type": "execute_result"
    }
   ],
   "source": [
    "training_data.isna().sum()"
   ]
  },
  {
   "cell_type": "markdown",
   "id": "7261e788",
   "metadata": {
    "papermill": {
     "duration": 0.015859,
     "end_time": "2023-03-10T23:45:26.039340",
     "exception": false,
     "start_time": "2023-03-10T23:45:26.023481",
     "status": "completed"
    },
    "tags": []
   },
   "source": [
    "Missing values are found in columns Age=177, Cabin=687, Embarked=2"
   ]
  },
  {
   "cell_type": "markdown",
   "id": "777c29a4",
   "metadata": {
    "papermill": {
     "duration": 0.015632,
     "end_time": "2023-03-10T23:45:26.071616",
     "exception": false,
     "start_time": "2023-03-10T23:45:26.055984",
     "status": "completed"
    },
    "tags": []
   },
   "source": [
    "# Check if any missing values in test data"
   ]
  },
  {
   "cell_type": "code",
   "execution_count": 5,
   "id": "c48f0cae",
   "metadata": {
    "execution": {
     "iopub.execute_input": "2023-03-10T23:45:26.106070Z",
     "iopub.status.busy": "2023-03-10T23:45:26.105570Z",
     "iopub.status.idle": "2023-03-10T23:45:26.118503Z",
     "shell.execute_reply": "2023-03-10T23:45:26.117161Z"
    },
    "papermill": {
     "duration": 0.03365,
     "end_time": "2023-03-10T23:45:26.121410",
     "exception": false,
     "start_time": "2023-03-10T23:45:26.087760",
     "status": "completed"
    },
    "tags": []
   },
   "outputs": [
    {
     "data": {
      "text/plain": [
       "PassengerId      0\n",
       "Pclass           0\n",
       "Name             0\n",
       "Sex              0\n",
       "Age             86\n",
       "SibSp            0\n",
       "Parch            0\n",
       "Ticket           0\n",
       "Fare             1\n",
       "Cabin          327\n",
       "Embarked         0\n",
       "dtype: int64"
      ]
     },
     "execution_count": 5,
     "metadata": {},
     "output_type": "execute_result"
    }
   ],
   "source": [
    "testing_data.isna().sum()"
   ]
  },
  {
   "cell_type": "markdown",
   "id": "36e7cfb6",
   "metadata": {
    "papermill": {
     "duration": 0.01585,
     "end_time": "2023-03-10T23:45:26.154220",
     "exception": false,
     "start_time": "2023-03-10T23:45:26.138370",
     "status": "completed"
    },
    "tags": []
   },
   "source": [
    "Missing values are found in columns Age=86, Cabin=327 performance can be increased"
   ]
  },
  {
   "cell_type": "markdown",
   "id": "e25684a2",
   "metadata": {
    "papermill": {
     "duration": 0.015893,
     "end_time": "2023-03-10T23:45:26.187492",
     "exception": false,
     "start_time": "2023-03-10T23:45:26.171599",
     "status": "completed"
    },
    "tags": []
   },
   "source": [
    "# Replacing the missing values in training_data"
   ]
  },
  {
   "cell_type": "code",
   "execution_count": 6,
   "id": "cc7ef968",
   "metadata": {
    "execution": {
     "iopub.execute_input": "2023-03-10T23:45:26.222421Z",
     "iopub.status.busy": "2023-03-10T23:45:26.221938Z",
     "iopub.status.idle": "2023-03-10T23:45:26.239032Z",
     "shell.execute_reply": "2023-03-10T23:45:26.237852Z"
    },
    "papermill": {
     "duration": 0.038448,
     "end_time": "2023-03-10T23:45:26.242119",
     "exception": false,
     "start_time": "2023-03-10T23:45:26.203671",
     "status": "completed"
    },
    "tags": []
   },
   "outputs": [],
   "source": [
    "training_data['Age']=training_data['Age'].fillna(training_data['Age'].mean())\n",
    "training_data['Cabin']=training_data['Cabin'].fillna(training_data['Cabin'].mode()[0])\n",
    "training_data['Embarked']=training_data['Embarked'].fillna(training_data['Embarked'].mode()[0])"
   ]
  },
  {
   "cell_type": "markdown",
   "id": "b89481ae",
   "metadata": {
    "papermill": {
     "duration": 0.016712,
     "end_time": "2023-03-10T23:45:26.275012",
     "exception": false,
     "start_time": "2023-03-10T23:45:26.258300",
     "status": "completed"
    },
    "tags": []
   },
   "source": [
    "Since the type of data in Age column is numerical, I have replaced the missing values with their mean. For the categorical data in columns Cabin,Embarked, replaced missing values with their most repeated value(mode)"
   ]
  },
  {
   "cell_type": "markdown",
   "id": "1b4d9b01",
   "metadata": {
    "papermill": {
     "duration": 0.015788,
     "end_time": "2023-03-10T23:45:26.307110",
     "exception": false,
     "start_time": "2023-03-10T23:45:26.291322",
     "status": "completed"
    },
    "tags": []
   },
   "source": [
    "# Missing values fixed in training_data"
   ]
  },
  {
   "cell_type": "code",
   "execution_count": 7,
   "id": "8c623422",
   "metadata": {
    "execution": {
     "iopub.execute_input": "2023-03-10T23:45:26.343949Z",
     "iopub.status.busy": "2023-03-10T23:45:26.343419Z",
     "iopub.status.idle": "2023-03-10T23:45:26.355285Z",
     "shell.execute_reply": "2023-03-10T23:45:26.353896Z"
    },
    "papermill": {
     "duration": 0.033483,
     "end_time": "2023-03-10T23:45:26.358052",
     "exception": false,
     "start_time": "2023-03-10T23:45:26.324569",
     "status": "completed"
    },
    "tags": []
   },
   "outputs": [
    {
     "data": {
      "text/plain": [
       "PassengerId    0\n",
       "Survived       0\n",
       "Pclass         0\n",
       "Name           0\n",
       "Sex            0\n",
       "Age            0\n",
       "SibSp          0\n",
       "Parch          0\n",
       "Ticket         0\n",
       "Fare           0\n",
       "Cabin          0\n",
       "Embarked       0\n",
       "dtype: int64"
      ]
     },
     "execution_count": 7,
     "metadata": {},
     "output_type": "execute_result"
    }
   ],
   "source": [
    "training_data.isna().sum()"
   ]
  },
  {
   "cell_type": "markdown",
   "id": "97c0062a",
   "metadata": {
    "papermill": {
     "duration": 0.016645,
     "end_time": "2023-03-10T23:45:26.391731",
     "exception": false,
     "start_time": "2023-03-10T23:45:26.375086",
     "status": "completed"
    },
    "tags": []
   },
   "source": [
    "# Replacing missing values in testing_data"
   ]
  },
  {
   "cell_type": "code",
   "execution_count": 8,
   "id": "cdd0a6b3",
   "metadata": {
    "execution": {
     "iopub.execute_input": "2023-03-10T23:45:26.428968Z",
     "iopub.status.busy": "2023-03-10T23:45:26.428407Z",
     "iopub.status.idle": "2023-03-10T23:45:26.441387Z",
     "shell.execute_reply": "2023-03-10T23:45:26.439768Z"
    },
    "papermill": {
     "duration": 0.034628,
     "end_time": "2023-03-10T23:45:26.444370",
     "exception": false,
     "start_time": "2023-03-10T23:45:26.409742",
     "status": "completed"
    },
    "tags": []
   },
   "outputs": [],
   "source": [
    "testing_data['Age']=testing_data['Age'].fillna(testing_data['Age'].mean())\n",
    "testing_data['Fare']=testing_data['Fare'].fillna(testing_data['Fare'].mean())\n",
    "testing_data['Cabin']=training_data['Cabin'].fillna(testing_data['Cabin'].mode()[0])"
   ]
  },
  {
   "cell_type": "markdown",
   "id": "a6e8e01c",
   "metadata": {
    "papermill": {
     "duration": 0.016381,
     "end_time": "2023-03-10T23:45:26.478160",
     "exception": false,
     "start_time": "2023-03-10T23:45:26.461779",
     "status": "completed"
    },
    "tags": []
   },
   "source": [
    "Since the type of data in columns Age,Fare is numerical, I have replaced the missing values with their mean. For the categorical data in columns Cabin,Embarked, replaced missing values with their most repeated value(mode)"
   ]
  },
  {
   "cell_type": "markdown",
   "id": "bad2351d",
   "metadata": {
    "papermill": {
     "duration": 0.018881,
     "end_time": "2023-03-10T23:45:26.513595",
     "exception": false,
     "start_time": "2023-03-10T23:45:26.494714",
     "status": "completed"
    },
    "tags": []
   },
   "source": [
    "# Missing values fixed in testing_data"
   ]
  },
  {
   "cell_type": "code",
   "execution_count": 9,
   "id": "1bac7863",
   "metadata": {
    "execution": {
     "iopub.execute_input": "2023-03-10T23:45:26.549948Z",
     "iopub.status.busy": "2023-03-10T23:45:26.549414Z",
     "iopub.status.idle": "2023-03-10T23:45:26.561609Z",
     "shell.execute_reply": "2023-03-10T23:45:26.560309Z"
    },
    "papermill": {
     "duration": 0.033222,
     "end_time": "2023-03-10T23:45:26.564354",
     "exception": false,
     "start_time": "2023-03-10T23:45:26.531132",
     "status": "completed"
    },
    "tags": []
   },
   "outputs": [
    {
     "data": {
      "text/plain": [
       "PassengerId    0\n",
       "Pclass         0\n",
       "Name           0\n",
       "Sex            0\n",
       "Age            0\n",
       "SibSp          0\n",
       "Parch          0\n",
       "Ticket         0\n",
       "Fare           0\n",
       "Cabin          0\n",
       "Embarked       0\n",
       "dtype: int64"
      ]
     },
     "execution_count": 9,
     "metadata": {},
     "output_type": "execute_result"
    }
   ],
   "source": [
    "testing_data.isna().sum()"
   ]
  },
  {
   "cell_type": "markdown",
   "id": "3d753965",
   "metadata": {
    "papermill": {
     "duration": 0.016566,
     "end_time": "2023-03-10T23:45:26.597672",
     "exception": false,
     "start_time": "2023-03-10T23:45:26.581106",
     "status": "completed"
    },
    "tags": []
   },
   "source": [
    "# Data Visualization"
   ]
  },
  {
   "cell_type": "markdown",
   "id": "6c30a43a",
   "metadata": {
    "papermill": {
     "duration": 0.016973,
     "end_time": "2023-03-10T23:45:26.631057",
     "exception": false,
     "start_time": "2023-03-10T23:45:26.614084",
     "status": "completed"
    },
    "tags": []
   },
   "source": [
    "# Survival rate with Pclass, Fare plotting"
   ]
  },
  {
   "cell_type": "code",
   "execution_count": 10,
   "id": "354f7826",
   "metadata": {
    "execution": {
     "iopub.execute_input": "2023-03-10T23:45:26.667429Z",
     "iopub.status.busy": "2023-03-10T23:45:26.666953Z",
     "iopub.status.idle": "2023-03-10T23:45:27.149219Z",
     "shell.execute_reply": "2023-03-10T23:45:27.147780Z"
    },
    "papermill": {
     "duration": 0.503593,
     "end_time": "2023-03-10T23:45:27.152271",
     "exception": false,
     "start_time": "2023-03-10T23:45:26.648678",
     "status": "completed"
    },
    "tags": []
   },
   "outputs": [
    {
     "data": {
      "text/plain": [
       "<AxesSubplot:xlabel='Pclass', ylabel='Fare'>"
      ]
     },
     "execution_count": 10,
     "metadata": {},
     "output_type": "execute_result"
    },
    {
     "data": {
      "image/png": "[encoded data removed]",
      "text/plain": [
       "<Figure size 640x480 with 1 Axes>"
      ]
     },
     "metadata": {},
     "output_type": "display_data"
    }
   ],
   "source": [
    "sns.barplot(data=training_data,x=\"Pclass\",y=\"Fare\",hue=\"Survived\")"
   ]
  },
  {
   "cell_type": "markdown",
   "id": "b6301ef2",
   "metadata": {
    "papermill": {
     "duration": 0.016496,
     "end_time": "2023-03-10T23:45:27.185864",
     "exception": false,
     "start_time": "2023-03-10T23:45:27.169368",
     "status": "completed"
    },
    "tags": []
   },
   "source": [
    "# Dependency of gender on Parch, SibSp with Survival rate"
   ]
  },
  {
   "cell_type": "code",
   "execution_count": 11,
   "id": "3a903da5",
   "metadata": {
    "execution": {
     "iopub.execute_input": "2023-03-10T23:45:27.221982Z",
     "iopub.status.busy": "2023-03-10T23:45:27.221457Z",
     "iopub.status.idle": "2023-03-10T23:45:27.499012Z",
     "shell.execute_reply": "2023-03-10T23:45:27.497571Z"
    },
    "papermill": {
     "duration": 0.2993,
     "end_time": "2023-03-10T23:45:27.502033",
     "exception": false,
     "start_time": "2023-03-10T23:45:27.202733",
     "status": "completed"
    },
    "tags": []
   },
   "outputs": [
    {
     "data": {
      "text/plain": [
       "<AxesSubplot:xlabel='family', ylabel='count'>"
      ]
     },
     "execution_count": 11,
     "metadata": {},
     "output_type": "execute_result"
    },
    {
     "data": {
      "image/png": "[encoded data removed]",
      "text/plain": [
       "<Figure size 640x480 with 1 Axes>"
      ]
     },
     "metadata": {},
     "output_type": "display_data"
    }
   ],
   "source": [
    "df=pd.DataFrame()\n",
    "df[\"family\"]=training_data[\"SibSp\"]+training_data[\"Parch\"]\n",
    "sns.countplot(data=training_data,x=df[\"family\"])"
   ]
  },
  {
   "cell_type": "markdown",
   "id": "1cfef867",
   "metadata": {
    "papermill": {
     "duration": 0.01954,
     "end_time": "2023-03-10T23:45:27.540138",
     "exception": false,
     "start_time": "2023-03-10T23:45:27.520598",
     "status": "completed"
    },
    "tags": []
   },
   "source": [
    "# Dependency of Gender and survival rate"
   ]
  },
  {
   "cell_type": "code",
   "execution_count": 12,
   "id": "5d84acfc",
   "metadata": {
    "execution": {
     "iopub.execute_input": "2023-03-10T23:45:27.577488Z",
     "iopub.status.busy": "2023-03-10T23:45:27.576963Z",
     "iopub.status.idle": "2023-03-10T23:45:27.592915Z",
     "shell.execute_reply": "2023-03-10T23:45:27.590609Z"
    },
    "papermill": {
     "duration": 0.038163,
     "end_time": "2023-03-10T23:45:27.596321",
     "exception": false,
     "start_time": "2023-03-10T23:45:27.558158",
     "status": "completed"
    },
    "tags": []
   },
   "outputs": [
    {
     "name": "stdout",
     "output_type": "stream",
     "text": [
      "percentage of women survived:  0.7420382165605095\n",
      "percentage of men survived:  0.18890814558058924\n"
     ]
    }
   ],
   "source": [
    "women_survived=training_data.loc[training_data.Sex==\"female\"][\"Survived\"]\n",
    "women_per=sum(women_survived)/len(women_survived)\n",
    "print(\"percentage of women survived: \",women_per)\n",
    "men_survived=training_data.loc[training_data.Sex==\"male\"][\"Survived\"]\n",
    "men_per=sum(men_survived)/len(men_survived)\n",
    "print(\"percentage of men survived: \",men_per)\n"
   ]
  },
  {
   "cell_type": "code",
   "execution_count": 13,
   "id": "22a7dda6",
   "metadata": {
    "execution": {
     "iopub.execute_input": "2023-03-10T23:45:27.634093Z",
     "iopub.status.busy": "2023-03-10T23:45:27.632708Z",
     "iopub.status.idle": "2023-03-10T23:45:27.936720Z",
     "shell.execute_reply": "2023-03-10T23:45:27.935120Z"
    },
    "papermill": {
     "duration": 0.325679,
     "end_time": "2023-03-10T23:45:27.939734",
     "exception": false,
     "start_time": "2023-03-10T23:45:27.614055",
     "status": "completed"
    },
    "tags": []
   },
   "outputs": [
    {
     "data": {
      "text/plain": [
       "<AxesSubplot:xlabel='Sex', ylabel='Survived'>"
      ]
     },
     "execution_count": 13,
     "metadata": {},
     "output_type": "execute_result"
    },
    {
     "data": {
      "image/png": "[encoded data removed]",
      "text/plain": [
       "<Figure size 640x480 with 1 Axes>"
      ]
     },
     "metadata": {},
     "output_type": "display_data"
    }
   ],
   "source": [
    "sns.barplot(data=training_data,x=\"Sex\",y=\"Survived\")"
   ]
  },
  {
   "cell_type": "markdown",
   "id": "a675130e",
   "metadata": {
    "papermill": {
     "duration": 0.01691,
     "end_time": "2023-03-10T23:45:27.974203",
     "exception": false,
     "start_time": "2023-03-10T23:45:27.957293",
     "status": "completed"
    },
    "tags": []
   },
   "source": [
    "# Different states of Embarked with survival rate"
   ]
  },
  {
   "cell_type": "code",
   "execution_count": 14,
   "id": "6da81100",
   "metadata": {
    "execution": {
     "iopub.execute_input": "2023-03-10T23:45:28.010812Z",
     "iopub.status.busy": "2023-03-10T23:45:28.010384Z",
     "iopub.status.idle": "2023-03-10T23:45:28.350086Z",
     "shell.execute_reply": "2023-03-10T23:45:28.348941Z"
    },
    "papermill": {
     "duration": 0.361087,
     "end_time": "2023-03-10T23:45:28.352626",
     "exception": false,
     "start_time": "2023-03-10T23:45:27.991539",
     "status": "completed"
    },
    "tags": []
   },
   "outputs": [
    {
     "data": {
      "text/plain": [
       "<AxesSubplot:xlabel='Embarked', ylabel='Survived'>"
      ]
     },
     "execution_count": 14,
     "metadata": {},
     "output_type": "execute_result"
    },
    {
     "data": {
      "image/png": "[encoded data removed]",
      "text/plain": [
       "<Figure size 640x480 with 1 Axes>"
      ]
     },
     "metadata": {},
     "output_type": "display_data"
    }
   ],
   "source": [
    "sns.lineplot(data=training_data,x=\"Embarked\",y=\"Survived\")"
   ]
  },
  {
   "cell_type": "markdown",
   "id": "8ddc1f3f",
   "metadata": {
    "papermill": {
     "duration": 0.018435,
     "end_time": "2023-03-10T23:45:28.389643",
     "exception": false,
     "start_time": "2023-03-10T23:45:28.371208",
     "status": "completed"
    },
    "tags": []
   },
   "source": [
    "# Pclass vs Ticket"
   ]
  },
  {
   "cell_type": "code",
   "execution_count": 15,
   "id": "c0a5c825",
   "metadata": {
    "execution": {
     "iopub.execute_input": "2023-03-10T23:45:28.429541Z",
     "iopub.status.busy": "2023-03-10T23:45:28.428701Z",
     "iopub.status.idle": "2023-03-10T23:45:28.770129Z",
     "shell.execute_reply": "2023-03-10T23:45:28.768861Z"
    },
    "papermill": {
     "duration": 0.364279,
     "end_time": "2023-03-10T23:45:28.772784",
     "exception": false,
     "start_time": "2023-03-10T23:45:28.408505",
     "status": "completed"
    },
    "tags": []
   },
   "outputs": [
    {
     "data": {
      "text/plain": [
       "<AxesSubplot:xlabel='Pclass', ylabel='Fare'>"
      ]
     },
     "execution_count": 15,
     "metadata": {},
     "output_type": "execute_result"
    },
    {
     "data": {
      "image/png": "[encoded data removed]",
      "text/plain": [
       "<Figure size 640x480 with 1 Axes>"
      ]
     },
     "metadata": {},
     "output_type": "display_data"
    }
   ],
   "source": [
    "sns.lineplot(data=training_data,x=\"Pclass\",y=\"Fare\")"
   ]
  },
  {
   "cell_type": "markdown",
   "id": "69ab3c80",
   "metadata": {
    "papermill": {
     "duration": 0.019207,
     "end_time": "2023-03-10T23:45:28.812060",
     "exception": false,
     "start_time": "2023-03-10T23:45:28.792853",
     "status": "completed"
    },
    "tags": []
   },
   "source": [
    "# Converting training categorical data to numerical data"
   ]
  },
  {
   "cell_type": "code",
   "execution_count": 16,
   "id": "5dbed92e",
   "metadata": {
    "execution": {
     "iopub.execute_input": "2023-03-10T23:45:28.853450Z",
     "iopub.status.busy": "2023-03-10T23:45:28.852661Z",
     "iopub.status.idle": "2023-03-10T23:45:28.866596Z",
     "shell.execute_reply": "2023-03-10T23:45:28.865191Z"
    },
    "papermill": {
     "duration": 0.038281,
     "end_time": "2023-03-10T23:45:28.869780",
     "exception": false,
     "start_time": "2023-03-10T23:45:28.831499",
     "status": "completed"
    },
    "tags": []
   },
   "outputs": [],
   "source": [
    "training_data['Name'] =training_data['Name'].astype('category').cat.codes\n",
    "training_data['Sex'] =training_data['Sex'].astype('category').cat.codes\n",
    "training_data['Embarked'] =training_data['Embarked'].astype('category').cat.codes\n",
    "training_data['Cabin'] =training_data['Cabin'].astype('category').cat.codes\n",
    "training_data['Ticket'] =training_data['Ticket'].astype('category').cat.codes"
   ]
  },
  {
   "cell_type": "markdown",
   "id": "98c02677",
   "metadata": {
    "papermill": {
     "duration": 0.019093,
     "end_time": "2023-03-10T23:45:28.908443",
     "exception": false,
     "start_time": "2023-03-10T23:45:28.889350",
     "status": "completed"
    },
    "tags": []
   },
   "source": [
    "# Data Pre-processing-Converting testing categorical data to numerical data"
   ]
  },
  {
   "cell_type": "code",
   "execution_count": 17,
   "id": "db5f7c89",
   "metadata": {
    "execution": {
     "iopub.execute_input": "2023-03-10T23:45:28.950337Z",
     "iopub.status.busy": "2023-03-10T23:45:28.949895Z",
     "iopub.status.idle": "2023-03-10T23:45:28.964121Z",
     "shell.execute_reply": "2023-03-10T23:45:28.962802Z"
    },
    "papermill": {
     "duration": 0.039108,
     "end_time": "2023-03-10T23:45:28.967319",
     "exception": false,
     "start_time": "2023-03-10T23:45:28.928211",
     "status": "completed"
    },
    "tags": []
   },
   "outputs": [],
   "source": [
    "testing_data['Name'] =testing_data['Name'].astype('category').cat.codes\n",
    "testing_data['Sex'] =testing_data['Sex'].astype('category').cat.codes\n",
    "testing_data['Embarked'] =testing_data['Embarked'].astype('category').cat.codes\n",
    "testing_data['Cabin'] =testing_data['Cabin'].astype('category').cat.codes\n",
    "testing_data['Ticket'] =testing_data['Ticket'].astype('category').cat.codes"
   ]
  },
  {
   "cell_type": "markdown",
   "id": "c80664d8",
   "metadata": {
    "papermill": {
     "duration": 0.021142,
     "end_time": "2023-03-10T23:45:29.007819",
     "exception": false,
     "start_time": "2023-03-10T23:45:28.986677",
     "status": "completed"
    },
    "tags": []
   },
   "source": [
    "# Encoding training data using Binary Encoder"
   ]
  },
  {
   "cell_type": "code",
   "execution_count": 18,
   "id": "0c4d1e88",
   "metadata": {
    "execution": {
     "iopub.execute_input": "2023-03-10T23:45:29.048901Z",
     "iopub.status.busy": "2023-03-10T23:45:29.047701Z",
     "iopub.status.idle": "2023-03-10T23:45:29.156428Z",
     "shell.execute_reply": "2023-03-10T23:45:29.155191Z"
    },
    "papermill": {
     "duration": 0.132075,
     "end_time": "2023-03-10T23:45:29.159282",
     "exception": false,
     "start_time": "2023-03-10T23:45:29.027207",
     "status": "completed"
    },
    "tags": []
   },
   "outputs": [
    {
     "data": {
      "text/html": [
       "<div>\n",
       "<style scoped>\n",
       "    .dataframe tbody tr th:only-of-type {\n",
       "        vertical-align: middle;\n",
       "    }\n",
       "\n",
       "    .dataframe tbody tr th {\n",
       "        vertical-align: top;\n",
       "    }\n",
       "\n",
       "    .dataframe thead th {\n",
       "        text-align: right;\n",
       "    }\n",
       "</style>\n",
       "<table border=\"1\" class=\"dataframe\">\n",
       "  <thead>\n",
       "    <tr style=\"text-align: right;\">\n",
       "      <th></th>\n",
       "      <th>PassengerId</th>\n",
       "      <th>Survived</th>\n",
       "      <th>Pclass</th>\n",
       "      <th>Name_0</th>\n",
       "      <th>Name_1</th>\n",
       "      <th>Name_2</th>\n",
       "      <th>Name_3</th>\n",
       "      <th>Name_4</th>\n",
       "      <th>Name_5</th>\n",
       "      <th>Name_6</th>\n",
       "      <th>...</th>\n",
       "      <th>Cabin_0</th>\n",
       "      <th>Cabin_1</th>\n",
       "      <th>Cabin_2</th>\n",
       "      <th>Cabin_3</th>\n",
       "      <th>Cabin_4</th>\n",
       "      <th>Cabin_5</th>\n",
       "      <th>Cabin_6</th>\n",
       "      <th>Cabin_7</th>\n",
       "      <th>Embarked_0</th>\n",
       "      <th>Embarked_1</th>\n",
       "    </tr>\n",
       "  </thead>\n",
       "  <tbody>\n",
       "    <tr>\n",
       "      <th>0</th>\n",
       "      <td>1</td>\n",
       "      <td>0</td>\n",
       "      <td>3</td>\n",
       "      <td>0</td>\n",
       "      <td>0</td>\n",
       "      <td>0</td>\n",
       "      <td>0</td>\n",
       "      <td>0</td>\n",
       "      <td>0</td>\n",
       "      <td>0</td>\n",
       "      <td>...</td>\n",
       "      <td>0</td>\n",
       "      <td>0</td>\n",
       "      <td>0</td>\n",
       "      <td>0</td>\n",
       "      <td>0</td>\n",
       "      <td>0</td>\n",
       "      <td>0</td>\n",
       "      <td>1</td>\n",
       "      <td>0</td>\n",
       "      <td>1</td>\n",
       "    </tr>\n",
       "    <tr>\n",
       "      <th>1</th>\n",
       "      <td>2</td>\n",
       "      <td>1</td>\n",
       "      <td>1</td>\n",
       "      <td>0</td>\n",
       "      <td>0</td>\n",
       "      <td>0</td>\n",
       "      <td>0</td>\n",
       "      <td>0</td>\n",
       "      <td>0</td>\n",
       "      <td>0</td>\n",
       "      <td>...</td>\n",
       "      <td>0</td>\n",
       "      <td>0</td>\n",
       "      <td>0</td>\n",
       "      <td>0</td>\n",
       "      <td>0</td>\n",
       "      <td>0</td>\n",
       "      <td>1</td>\n",
       "      <td>0</td>\n",
       "      <td>1</td>\n",
       "      <td>0</td>\n",
       "    </tr>\n",
       "    <tr>\n",
       "      <th>2</th>\n",
       "      <td>3</td>\n",
       "      <td>1</td>\n",
       "      <td>3</td>\n",
       "      <td>0</td>\n",
       "      <td>0</td>\n",
       "      <td>0</td>\n",
       "      <td>0</td>\n",
       "      <td>0</td>\n",
       "      <td>0</td>\n",
       "      <td>0</td>\n",
       "      <td>...</td>\n",
       "      <td>0</td>\n",
       "      <td>0</td>\n",
       "      <td>0</td>\n",
       "      <td>0</td>\n",
       "      <td>0</td>\n",
       "      <td>0</td>\n",
       "      <td>0</td>\n",
       "      <td>1</td>\n",
       "      <td>0</td>\n",
       "      <td>1</td>\n",
       "    </tr>\n",
       "    <tr>\n",
       "      <th>3</th>\n",
       "      <td>4</td>\n",
       "      <td>1</td>\n",
       "      <td>1</td>\n",
       "      <td>0</td>\n",
       "      <td>0</td>\n",
       "      <td>0</td>\n",
       "      <td>0</td>\n",
       "      <td>0</td>\n",
       "      <td>0</td>\n",
       "      <td>0</td>\n",
       "      <td>...</td>\n",
       "      <td>0</td>\n",
       "      <td>0</td>\n",
       "      <td>0</td>\n",
       "      <td>0</td>\n",
       "      <td>0</td>\n",
       "      <td>0</td>\n",
       "      <td>1</td>\n",
       "      <td>1</td>\n",
       "      <td>0</td>\n",
       "      <td>1</td>\n",
       "    </tr>\n",
       "    <tr>\n",
       "      <th>4</th>\n",
       "      <td>5</td>\n",
       "      <td>0</td>\n",
       "      <td>3</td>\n",
       "      <td>0</td>\n",
       "      <td>0</td>\n",
       "      <td>0</td>\n",
       "      <td>0</td>\n",
       "      <td>0</td>\n",
       "      <td>0</td>\n",
       "      <td>0</td>\n",
       "      <td>...</td>\n",
       "      <td>0</td>\n",
       "      <td>0</td>\n",
       "      <td>0</td>\n",
       "      <td>0</td>\n",
       "      <td>0</td>\n",
       "      <td>0</td>\n",
       "      <td>0</td>\n",
       "      <td>1</td>\n",
       "      <td>0</td>\n",
       "      <td>1</td>\n",
       "    </tr>\n",
       "    <tr>\n",
       "      <th>...</th>\n",
       "      <td>...</td>\n",
       "      <td>...</td>\n",
       "      <td>...</td>\n",
       "      <td>...</td>\n",
       "      <td>...</td>\n",
       "      <td>...</td>\n",
       "      <td>...</td>\n",
       "      <td>...</td>\n",
       "      <td>...</td>\n",
       "      <td>...</td>\n",
       "      <td>...</td>\n",
       "      <td>...</td>\n",
       "      <td>...</td>\n",
       "      <td>...</td>\n",
       "      <td>...</td>\n",
       "      <td>...</td>\n",
       "      <td>...</td>\n",
       "      <td>...</td>\n",
       "      <td>...</td>\n",
       "      <td>...</td>\n",
       "      <td>...</td>\n",
       "    </tr>\n",
       "    <tr>\n",
       "      <th>886</th>\n",
       "      <td>887</td>\n",
       "      <td>0</td>\n",
       "      <td>2</td>\n",
       "      <td>1</td>\n",
       "      <td>1</td>\n",
       "      <td>0</td>\n",
       "      <td>1</td>\n",
       "      <td>1</td>\n",
       "      <td>1</td>\n",
       "      <td>0</td>\n",
       "      <td>...</td>\n",
       "      <td>0</td>\n",
       "      <td>0</td>\n",
       "      <td>0</td>\n",
       "      <td>0</td>\n",
       "      <td>0</td>\n",
       "      <td>0</td>\n",
       "      <td>0</td>\n",
       "      <td>1</td>\n",
       "      <td>0</td>\n",
       "      <td>1</td>\n",
       "    </tr>\n",
       "    <tr>\n",
       "      <th>887</th>\n",
       "      <td>888</td>\n",
       "      <td>1</td>\n",
       "      <td>1</td>\n",
       "      <td>1</td>\n",
       "      <td>1</td>\n",
       "      <td>0</td>\n",
       "      <td>1</td>\n",
       "      <td>1</td>\n",
       "      <td>1</td>\n",
       "      <td>1</td>\n",
       "      <td>...</td>\n",
       "      <td>1</td>\n",
       "      <td>0</td>\n",
       "      <td>0</td>\n",
       "      <td>1</td>\n",
       "      <td>0</td>\n",
       "      <td>0</td>\n",
       "      <td>1</td>\n",
       "      <td>0</td>\n",
       "      <td>0</td>\n",
       "      <td>1</td>\n",
       "    </tr>\n",
       "    <tr>\n",
       "      <th>888</th>\n",
       "      <td>889</td>\n",
       "      <td>0</td>\n",
       "      <td>3</td>\n",
       "      <td>1</td>\n",
       "      <td>1</td>\n",
       "      <td>0</td>\n",
       "      <td>1</td>\n",
       "      <td>1</td>\n",
       "      <td>1</td>\n",
       "      <td>1</td>\n",
       "      <td>...</td>\n",
       "      <td>0</td>\n",
       "      <td>0</td>\n",
       "      <td>0</td>\n",
       "      <td>0</td>\n",
       "      <td>0</td>\n",
       "      <td>0</td>\n",
       "      <td>0</td>\n",
       "      <td>1</td>\n",
       "      <td>0</td>\n",
       "      <td>1</td>\n",
       "    </tr>\n",
       "    <tr>\n",
       "      <th>889</th>\n",
       "      <td>890</td>\n",
       "      <td>1</td>\n",
       "      <td>1</td>\n",
       "      <td>1</td>\n",
       "      <td>1</td>\n",
       "      <td>0</td>\n",
       "      <td>1</td>\n",
       "      <td>1</td>\n",
       "      <td>1</td>\n",
       "      <td>1</td>\n",
       "      <td>...</td>\n",
       "      <td>1</td>\n",
       "      <td>0</td>\n",
       "      <td>0</td>\n",
       "      <td>1</td>\n",
       "      <td>0</td>\n",
       "      <td>0</td>\n",
       "      <td>1</td>\n",
       "      <td>1</td>\n",
       "      <td>1</td>\n",
       "      <td>0</td>\n",
       "    </tr>\n",
       "    <tr>\n",
       "      <th>890</th>\n",
       "      <td>891</td>\n",
       "      <td>0</td>\n",
       "      <td>3</td>\n",
       "      <td>1</td>\n",
       "      <td>1</td>\n",
       "      <td>0</td>\n",
       "      <td>1</td>\n",
       "      <td>1</td>\n",
       "      <td>1</td>\n",
       "      <td>1</td>\n",
       "      <td>...</td>\n",
       "      <td>0</td>\n",
       "      <td>0</td>\n",
       "      <td>0</td>\n",
       "      <td>0</td>\n",
       "      <td>0</td>\n",
       "      <td>0</td>\n",
       "      <td>0</td>\n",
       "      <td>1</td>\n",
       "      <td>1</td>\n",
       "      <td>1</td>\n",
       "    </tr>\n",
       "  </tbody>\n",
       "</table>\n",
       "<p>891 rows × 39 columns</p>\n",
       "</div>"
      ],
      "text/plain": [
       "     PassengerId  Survived  Pclass  Name_0  Name_1  Name_2  Name_3  Name_4  \\\n",
       "0              1         0       3       0       0       0       0       0   \n",
       "1              2         1       1       0       0       0       0       0   \n",
       "2              3         1       3       0       0       0       0       0   \n",
       "3              4         1       1       0       0       0       0       0   \n",
       "4              5         0       3       0       0       0       0       0   \n",
       "..           ...       ...     ...     ...     ...     ...     ...     ...   \n",
       "886          887         0       2       1       1       0       1       1   \n",
       "887          888         1       1       1       1       0       1       1   \n",
       "888          889         0       3       1       1       0       1       1   \n",
       "889          890         1       1       1       1       0       1       1   \n",
       "890          891         0       3       1       1       0       1       1   \n",
       "\n",
       "     Name_5  Name_6  ...  Cabin_0  Cabin_1  Cabin_2  Cabin_3  Cabin_4  \\\n",
       "0         0       0  ...        0        0        0        0        0   \n",
       "1         0       0  ...        0        0        0        0        0   \n",
       "2         0       0  ...        0        0        0        0        0   \n",
       "3         0       0  ...        0        0        0        0        0   \n",
       "4         0       0  ...        0        0        0        0        0   \n",
       "..      ...     ...  ...      ...      ...      ...      ...      ...   \n",
       "886       1       0  ...        0        0        0        0        0   \n",
       "887       1       1  ...        1        0        0        1        0   \n",
       "888       1       1  ...        0        0        0        0        0   \n",
       "889       1       1  ...        1        0        0        1        0   \n",
       "890       1       1  ...        0        0        0        0        0   \n",
       "\n",
       "     Cabin_5  Cabin_6  Cabin_7  Embarked_0  Embarked_1  \n",
       "0          0        0        1           0           1  \n",
       "1          0        1        0           1           0  \n",
       "2          0        0        1           0           1  \n",
       "3          0        1        1           0           1  \n",
       "4          0        0        1           0           1  \n",
       "..       ...      ...      ...         ...         ...  \n",
       "886        0        0        1           0           1  \n",
       "887        0        1        0           0           1  \n",
       "888        0        0        1           0           1  \n",
       "889        0        1        1           1           0  \n",
       "890        0        0        1           1           1  \n",
       "\n",
       "[891 rows x 39 columns]"
      ]
     },
     "execution_count": 18,
     "metadata": {},
     "output_type": "execute_result"
    }
   ],
   "source": [
    "encoder=c.BinaryEncoder(cols=['Name','Sex','Ticket','Cabin','Embarked'],return_df=True)\n",
    "encoder.fit_transform(training_data)"
   ]
  },
  {
   "cell_type": "markdown",
   "id": "1936b252",
   "metadata": {
    "papermill": {
     "duration": 0.019047,
     "end_time": "2023-03-10T23:45:29.197776",
     "exception": false,
     "start_time": "2023-03-10T23:45:29.178729",
     "status": "completed"
    },
    "tags": []
   },
   "source": [
    "# Encoding testing data"
   ]
  },
  {
   "cell_type": "code",
   "execution_count": 19,
   "id": "78f736ee",
   "metadata": {
    "execution": {
     "iopub.execute_input": "2023-03-10T23:45:29.239294Z",
     "iopub.status.busy": "2023-03-10T23:45:29.238291Z",
     "iopub.status.idle": "2023-03-10T23:45:29.335677Z",
     "shell.execute_reply": "2023-03-10T23:45:29.334341Z"
    },
    "papermill": {
     "duration": 0.121418,
     "end_time": "2023-03-10T23:45:29.338598",
     "exception": false,
     "start_time": "2023-03-10T23:45:29.217180",
     "status": "completed"
    },
    "tags": []
   },
   "outputs": [
    {
     "data": {
      "text/html": [
       "<div>\n",
       "<style scoped>\n",
       "    .dataframe tbody tr th:only-of-type {\n",
       "        vertical-align: middle;\n",
       "    }\n",
       "\n",
       "    .dataframe tbody tr th {\n",
       "        vertical-align: top;\n",
       "    }\n",
       "\n",
       "    .dataframe thead th {\n",
       "        text-align: right;\n",
       "    }\n",
       "</style>\n",
       "<table border=\"1\" class=\"dataframe\">\n",
       "  <thead>\n",
       "    <tr style=\"text-align: right;\">\n",
       "      <th></th>\n",
       "      <th>PassengerId</th>\n",
       "      <th>Pclass</th>\n",
       "      <th>Name_0</th>\n",
       "      <th>Name_1</th>\n",
       "      <th>Name_2</th>\n",
       "      <th>Name_3</th>\n",
       "      <th>Name_4</th>\n",
       "      <th>Name_5</th>\n",
       "      <th>Name_6</th>\n",
       "      <th>Name_7</th>\n",
       "      <th>...</th>\n",
       "      <th>Fare</th>\n",
       "      <th>Cabin_0</th>\n",
       "      <th>Cabin_1</th>\n",
       "      <th>Cabin_2</th>\n",
       "      <th>Cabin_3</th>\n",
       "      <th>Cabin_4</th>\n",
       "      <th>Cabin_5</th>\n",
       "      <th>Cabin_6</th>\n",
       "      <th>Embarked_0</th>\n",
       "      <th>Embarked_1</th>\n",
       "    </tr>\n",
       "  </thead>\n",
       "  <tbody>\n",
       "    <tr>\n",
       "      <th>0</th>\n",
       "      <td>892</td>\n",
       "      <td>3</td>\n",
       "      <td>0</td>\n",
       "      <td>0</td>\n",
       "      <td>0</td>\n",
       "      <td>0</td>\n",
       "      <td>0</td>\n",
       "      <td>0</td>\n",
       "      <td>0</td>\n",
       "      <td>0</td>\n",
       "      <td>...</td>\n",
       "      <td>7.8292</td>\n",
       "      <td>0</td>\n",
       "      <td>0</td>\n",
       "      <td>0</td>\n",
       "      <td>0</td>\n",
       "      <td>0</td>\n",
       "      <td>0</td>\n",
       "      <td>1</td>\n",
       "      <td>0</td>\n",
       "      <td>1</td>\n",
       "    </tr>\n",
       "    <tr>\n",
       "      <th>1</th>\n",
       "      <td>893</td>\n",
       "      <td>3</td>\n",
       "      <td>0</td>\n",
       "      <td>0</td>\n",
       "      <td>0</td>\n",
       "      <td>0</td>\n",
       "      <td>0</td>\n",
       "      <td>0</td>\n",
       "      <td>0</td>\n",
       "      <td>1</td>\n",
       "      <td>...</td>\n",
       "      <td>7.0000</td>\n",
       "      <td>0</td>\n",
       "      <td>0</td>\n",
       "      <td>0</td>\n",
       "      <td>0</td>\n",
       "      <td>0</td>\n",
       "      <td>1</td>\n",
       "      <td>0</td>\n",
       "      <td>1</td>\n",
       "      <td>0</td>\n",
       "    </tr>\n",
       "    <tr>\n",
       "      <th>2</th>\n",
       "      <td>894</td>\n",
       "      <td>2</td>\n",
       "      <td>0</td>\n",
       "      <td>0</td>\n",
       "      <td>0</td>\n",
       "      <td>0</td>\n",
       "      <td>0</td>\n",
       "      <td>0</td>\n",
       "      <td>0</td>\n",
       "      <td>1</td>\n",
       "      <td>...</td>\n",
       "      <td>9.6875</td>\n",
       "      <td>0</td>\n",
       "      <td>0</td>\n",
       "      <td>0</td>\n",
       "      <td>0</td>\n",
       "      <td>0</td>\n",
       "      <td>0</td>\n",
       "      <td>1</td>\n",
       "      <td>0</td>\n",
       "      <td>1</td>\n",
       "    </tr>\n",
       "    <tr>\n",
       "      <th>3</th>\n",
       "      <td>895</td>\n",
       "      <td>3</td>\n",
       "      <td>0</td>\n",
       "      <td>0</td>\n",
       "      <td>0</td>\n",
       "      <td>0</td>\n",
       "      <td>0</td>\n",
       "      <td>0</td>\n",
       "      <td>1</td>\n",
       "      <td>0</td>\n",
       "      <td>...</td>\n",
       "      <td>8.6625</td>\n",
       "      <td>0</td>\n",
       "      <td>0</td>\n",
       "      <td>0</td>\n",
       "      <td>0</td>\n",
       "      <td>0</td>\n",
       "      <td>1</td>\n",
       "      <td>1</td>\n",
       "      <td>1</td>\n",
       "      <td>0</td>\n",
       "    </tr>\n",
       "    <tr>\n",
       "      <th>4</th>\n",
       "      <td>896</td>\n",
       "      <td>3</td>\n",
       "      <td>0</td>\n",
       "      <td>0</td>\n",
       "      <td>0</td>\n",
       "      <td>0</td>\n",
       "      <td>0</td>\n",
       "      <td>0</td>\n",
       "      <td>1</td>\n",
       "      <td>0</td>\n",
       "      <td>...</td>\n",
       "      <td>12.2875</td>\n",
       "      <td>0</td>\n",
       "      <td>0</td>\n",
       "      <td>0</td>\n",
       "      <td>0</td>\n",
       "      <td>0</td>\n",
       "      <td>0</td>\n",
       "      <td>1</td>\n",
       "      <td>1</td>\n",
       "      <td>0</td>\n",
       "    </tr>\n",
       "    <tr>\n",
       "      <th>...</th>\n",
       "      <td>...</td>\n",
       "      <td>...</td>\n",
       "      <td>...</td>\n",
       "      <td>...</td>\n",
       "      <td>...</td>\n",
       "      <td>...</td>\n",
       "      <td>...</td>\n",
       "      <td>...</td>\n",
       "      <td>...</td>\n",
       "      <td>...</td>\n",
       "      <td>...</td>\n",
       "      <td>...</td>\n",
       "      <td>...</td>\n",
       "      <td>...</td>\n",
       "      <td>...</td>\n",
       "      <td>...</td>\n",
       "      <td>...</td>\n",
       "      <td>...</td>\n",
       "      <td>...</td>\n",
       "      <td>...</td>\n",
       "      <td>...</td>\n",
       "    </tr>\n",
       "    <tr>\n",
       "      <th>413</th>\n",
       "      <td>1305</td>\n",
       "      <td>3</td>\n",
       "      <td>1</td>\n",
       "      <td>1</td>\n",
       "      <td>0</td>\n",
       "      <td>0</td>\n",
       "      <td>1</td>\n",
       "      <td>1</td>\n",
       "      <td>1</td>\n",
       "      <td>1</td>\n",
       "      <td>...</td>\n",
       "      <td>8.0500</td>\n",
       "      <td>0</td>\n",
       "      <td>0</td>\n",
       "      <td>0</td>\n",
       "      <td>0</td>\n",
       "      <td>0</td>\n",
       "      <td>0</td>\n",
       "      <td>1</td>\n",
       "      <td>1</td>\n",
       "      <td>0</td>\n",
       "    </tr>\n",
       "    <tr>\n",
       "      <th>414</th>\n",
       "      <td>1306</td>\n",
       "      <td>1</td>\n",
       "      <td>1</td>\n",
       "      <td>1</td>\n",
       "      <td>0</td>\n",
       "      <td>0</td>\n",
       "      <td>1</td>\n",
       "      <td>1</td>\n",
       "      <td>1</td>\n",
       "      <td>1</td>\n",
       "      <td>...</td>\n",
       "      <td>108.9000</td>\n",
       "      <td>0</td>\n",
       "      <td>0</td>\n",
       "      <td>0</td>\n",
       "      <td>0</td>\n",
       "      <td>0</td>\n",
       "      <td>0</td>\n",
       "      <td>1</td>\n",
       "      <td>1</td>\n",
       "      <td>1</td>\n",
       "    </tr>\n",
       "    <tr>\n",
       "      <th>415</th>\n",
       "      <td>1307</td>\n",
       "      <td>3</td>\n",
       "      <td>1</td>\n",
       "      <td>1</td>\n",
       "      <td>0</td>\n",
       "      <td>1</td>\n",
       "      <td>0</td>\n",
       "      <td>0</td>\n",
       "      <td>0</td>\n",
       "      <td>0</td>\n",
       "      <td>...</td>\n",
       "      <td>7.2500</td>\n",
       "      <td>0</td>\n",
       "      <td>0</td>\n",
       "      <td>0</td>\n",
       "      <td>0</td>\n",
       "      <td>0</td>\n",
       "      <td>0</td>\n",
       "      <td>1</td>\n",
       "      <td>1</td>\n",
       "      <td>0</td>\n",
       "    </tr>\n",
       "    <tr>\n",
       "      <th>416</th>\n",
       "      <td>1308</td>\n",
       "      <td>3</td>\n",
       "      <td>1</td>\n",
       "      <td>1</td>\n",
       "      <td>0</td>\n",
       "      <td>1</td>\n",
       "      <td>0</td>\n",
       "      <td>0</td>\n",
       "      <td>0</td>\n",
       "      <td>0</td>\n",
       "      <td>...</td>\n",
       "      <td>8.0500</td>\n",
       "      <td>0</td>\n",
       "      <td>0</td>\n",
       "      <td>0</td>\n",
       "      <td>0</td>\n",
       "      <td>0</td>\n",
       "      <td>0</td>\n",
       "      <td>1</td>\n",
       "      <td>1</td>\n",
       "      <td>0</td>\n",
       "    </tr>\n",
       "    <tr>\n",
       "      <th>417</th>\n",
       "      <td>1309</td>\n",
       "      <td>3</td>\n",
       "      <td>1</td>\n",
       "      <td>1</td>\n",
       "      <td>0</td>\n",
       "      <td>1</td>\n",
       "      <td>0</td>\n",
       "      <td>0</td>\n",
       "      <td>0</td>\n",
       "      <td>1</td>\n",
       "      <td>...</td>\n",
       "      <td>22.3583</td>\n",
       "      <td>0</td>\n",
       "      <td>0</td>\n",
       "      <td>0</td>\n",
       "      <td>0</td>\n",
       "      <td>0</td>\n",
       "      <td>0</td>\n",
       "      <td>1</td>\n",
       "      <td>1</td>\n",
       "      <td>1</td>\n",
       "    </tr>\n",
       "  </tbody>\n",
       "</table>\n",
       "<p>418 rows × 35 columns</p>\n",
       "</div>"
      ],
      "text/plain": [
       "     PassengerId  Pclass  Name_0  Name_1  Name_2  Name_3  Name_4  Name_5  \\\n",
       "0            892       3       0       0       0       0       0       0   \n",
       "1            893       3       0       0       0       0       0       0   \n",
       "2            894       2       0       0       0       0       0       0   \n",
       "3            895       3       0       0       0       0       0       0   \n",
       "4            896       3       0       0       0       0       0       0   \n",
       "..           ...     ...     ...     ...     ...     ...     ...     ...   \n",
       "413         1305       3       1       1       0       0       1       1   \n",
       "414         1306       1       1       1       0       0       1       1   \n",
       "415         1307       3       1       1       0       1       0       0   \n",
       "416         1308       3       1       1       0       1       0       0   \n",
       "417         1309       3       1       1       0       1       0       0   \n",
       "\n",
       "     Name_6  Name_7  ...      Fare  Cabin_0  Cabin_1  Cabin_2  Cabin_3  \\\n",
       "0         0       0  ...    7.8292        0        0        0        0   \n",
       "1         0       1  ...    7.0000        0        0        0        0   \n",
       "2         0       1  ...    9.6875        0        0        0        0   \n",
       "3         1       0  ...    8.6625        0        0        0        0   \n",
       "4         1       0  ...   12.2875        0        0        0        0   \n",
       "..      ...     ...  ...       ...      ...      ...      ...      ...   \n",
       "413       1       1  ...    8.0500        0        0        0        0   \n",
       "414       1       1  ...  108.9000        0        0        0        0   \n",
       "415       0       0  ...    7.2500        0        0        0        0   \n",
       "416       0       0  ...    8.0500        0        0        0        0   \n",
       "417       0       1  ...   22.3583        0        0        0        0   \n",
       "\n",
       "     Cabin_4  Cabin_5  Cabin_6  Embarked_0  Embarked_1  \n",
       "0          0        0        1           0           1  \n",
       "1          0        1        0           1           0  \n",
       "2          0        0        1           0           1  \n",
       "3          0        1        1           1           0  \n",
       "4          0        0        1           1           0  \n",
       "..       ...      ...      ...         ...         ...  \n",
       "413        0        0        1           1           0  \n",
       "414        0        0        1           1           1  \n",
       "415        0        0        1           1           0  \n",
       "416        0        0        1           1           0  \n",
       "417        0        0        1           1           1  \n",
       "\n",
       "[418 rows x 35 columns]"
      ]
     },
     "execution_count": 19,
     "metadata": {},
     "output_type": "execute_result"
    }
   ],
   "source": [
    "encoder=c.BinaryEncoder(cols=['Name','Sex','Ticket','Cabin','Embarked'],return_df=True)\n",
    "encoder.fit_transform(testing_data)"
   ]
  },
  {
   "cell_type": "markdown",
   "id": "1eadf153",
   "metadata": {
    "papermill": {
     "duration": 0.019625,
     "end_time": "2023-03-10T23:45:29.379007",
     "exception": false,
     "start_time": "2023-03-10T23:45:29.359382",
     "status": "completed"
    },
    "tags": []
   },
   "source": [
    "# Feature Selection"
   ]
  },
  {
   "cell_type": "markdown",
   "id": "ac0a7512",
   "metadata": {
    "papermill": {
     "duration": 0.01983,
     "end_time": "2023-03-10T23:45:29.418862",
     "exception": false,
     "start_time": "2023-03-10T23:45:29.399032",
     "status": "completed"
    },
    "tags": []
   },
   "source": [
    "# Using the features given by Kaggle"
   ]
  },
  {
   "cell_type": "code",
   "execution_count": 20,
   "id": "e09daca6",
   "metadata": {
    "execution": {
     "iopub.execute_input": "2023-03-10T23:45:29.462338Z",
     "iopub.status.busy": "2023-03-10T23:45:29.461884Z",
     "iopub.status.idle": "2023-03-10T23:45:29.907559Z",
     "shell.execute_reply": "2023-03-10T23:45:29.905448Z"
    },
    "papermill": {
     "duration": 0.472116,
     "end_time": "2023-03-10T23:45:29.911503",
     "exception": false,
     "start_time": "2023-03-10T23:45:29.439387",
     "status": "completed"
    },
    "tags": []
   },
   "outputs": [
    {
     "name": "stdout",
     "output_type": "stream",
     "text": [
      "0.806060606060606\n"
     ]
    }
   ],
   "source": [
    "from sklearn.ensemble import RandomForestClassifier\n",
    "\n",
    "y = training_data[\"Survived\"]\n",
    "\n",
    "features = [\"Pclass\", \"Sex\", \"SibSp\", \"Parch\"]\n",
    "X = pd.get_dummies(training_data[features])\n",
    "X_train, X_test, y_train, y_test = train_test_split(X, y,  test_size=0.37, random_state=42)\n",
    "model = RandomForestClassifier(n_estimators=100, max_depth=5, random_state=1)\n",
    "model.fit(X, y)\n",
    "predictions = model.predict(X_test)\n",
    "print(metrics.accuracy_score(y_test,predictions))"
   ]
  },
  {
   "cell_type": "code",
   "execution_count": 21,
   "id": "6bbfd8d5",
   "metadata": {
    "execution": {
     "iopub.execute_input": "2023-03-10T23:45:29.958384Z",
     "iopub.status.busy": "2023-03-10T23:45:29.957378Z",
     "iopub.status.idle": "2023-03-10T23:45:29.989513Z",
     "shell.execute_reply": "2023-03-10T23:45:29.988089Z"
    },
    "papermill": {
     "duration": 0.058139,
     "end_time": "2023-03-10T23:45:29.992216",
     "exception": false,
     "start_time": "2023-03-10T23:45:29.934077",
     "status": "completed"
    },
    "tags": []
   },
   "outputs": [
    {
     "data": {
      "text/plain": [
       "array([0, 1, 0, 0, 1, 0, 1, 0, 1, 0, 0, 0, 1, 0, 1, 1, 0, 0, 1, 1, 0, 0,\n",
       "       1, 0, 1, 0, 1, 0, 0, 0, 0, 0, 0, 0, 0, 0, 1, 1, 0, 0, 0, 0, 0, 1,\n",
       "       1, 0, 0, 0, 1, 1, 0, 0, 1, 1, 0, 0, 0, 0, 0, 1, 0, 0, 0, 1, 1, 1,\n",
       "       1, 0, 0, 1, 1, 0, 1, 0, 1, 0, 0, 1, 0, 1, 0, 0, 0, 0, 0, 0, 1, 1,\n",
       "       1, 0, 1, 0, 1, 0, 0, 0, 1, 0, 1, 0, 1, 0, 0, 0, 1, 0, 0, 0, 0, 0,\n",
       "       0, 1, 1, 1, 1, 0, 0, 1, 0, 1, 1, 0, 1, 0, 0, 1, 0, 1, 0, 0, 0, 0,\n",
       "       0, 0, 0, 0, 0, 0, 1, 0, 0, 1, 1, 0, 0, 0, 0, 0, 0, 0, 1, 0, 0, 1,\n",
       "       0, 0, 1, 1, 0, 1, 1, 0, 1, 0, 0, 1, 0, 0, 1, 1, 0, 0, 0, 0, 0, 1,\n",
       "       1, 0, 1, 1, 0, 0, 1, 0, 1, 0, 1, 0, 0, 0, 0, 0, 0, 0, 1, 0, 1, 1,\n",
       "       0, 1, 1, 0, 0, 1, 0, 0, 1, 0, 1, 0, 0, 0, 0, 1, 0, 0, 1, 0, 1, 0,\n",
       "       1, 0, 1, 0, 1, 1, 0, 1, 0, 0, 0, 1, 0, 0, 0, 0, 0, 0, 1, 1, 1, 1,\n",
       "       0, 0, 0, 0, 1, 0, 1, 1, 1, 0, 0, 0, 0, 0, 0, 0, 1, 0, 0, 0, 1, 1,\n",
       "       0, 0, 0, 0, 1, 0, 0, 0, 1, 1, 0, 1, 0, 0, 0, 0, 1, 0, 1, 1, 1, 0,\n",
       "       0, 0, 0, 0, 0, 1, 0, 0, 0, 0, 1, 0, 0, 0, 0, 0, 0, 0, 1, 1, 1, 0,\n",
       "       0, 1, 0, 0, 0, 1, 1, 1, 0, 0, 0, 0, 0, 0, 0, 0, 1, 0, 1, 0, 0, 0,\n",
       "       1, 0, 0, 1, 0, 0, 0, 0, 0, 0, 0, 0, 0, 1, 0, 1, 0, 1, 0, 1, 1, 0,\n",
       "       0, 0, 0, 0, 1, 0, 0, 1, 0, 1, 1, 0, 1, 0, 0, 1, 1, 0, 0, 1, 0, 0,\n",
       "       1, 1, 1, 0, 0, 0, 0, 0, 1, 1, 0, 1, 0, 0, 0, 0, 0, 1, 0, 0, 0, 1,\n",
       "       0, 1, 0, 0, 1, 0, 1, 0, 0, 0, 0, 0, 1, 1, 1, 1, 1, 0, 1, 0, 0, 0])"
      ]
     },
     "execution_count": 21,
     "metadata": {},
     "output_type": "execute_result"
    }
   ],
   "source": [
    "test_predict = model.predict(testing_data[features])\n",
    "test_predict\n"
   ]
  },
  {
   "cell_type": "code",
   "execution_count": 22,
   "id": "e81ad255",
   "metadata": {
    "execution": {
     "iopub.execute_input": "2023-03-10T23:45:30.038158Z",
     "iopub.status.busy": "2023-03-10T23:45:30.036909Z",
     "iopub.status.idle": "2023-03-10T23:45:30.050943Z",
     "shell.execute_reply": "2023-03-10T23:45:30.049491Z"
    },
    "papermill": {
     "duration": 0.04111,
     "end_time": "2023-03-10T23:45:30.054450",
     "exception": false,
     "start_time": "2023-03-10T23:45:30.013340",
     "status": "completed"
    },
    "tags": []
   },
   "outputs": [
    {
     "name": "stdout",
     "output_type": "stream",
     "text": [
      "Your submission was successfully saved!\n"
     ]
    }
   ],
   "source": [
    "output = pd.DataFrame({'PassengerId': testing_data.PassengerId, 'Survived': test_predict})\n",
    "output.to_csv('submission_original.csv', index=False)\n",
    "print(\"Your submission was successfully saved!\")"
   ]
  },
  {
   "cell_type": "markdown",
   "id": "4f470f4d",
   "metadata": {
    "papermill": {
     "duration": 0.020723,
     "end_time": "2023-03-10T23:45:30.098650",
     "exception": false,
     "start_time": "2023-03-10T23:45:30.077927",
     "status": "completed"
    },
    "tags": []
   },
   "source": [
    "# Correlation values with Survived column"
   ]
  },
  {
   "cell_type": "code",
   "execution_count": 23,
   "id": "a519c759",
   "metadata": {
    "execution": {
     "iopub.execute_input": "2023-03-10T23:45:30.145558Z",
     "iopub.status.busy": "2023-03-10T23:45:30.144558Z",
     "iopub.status.idle": "2023-03-10T23:45:30.156212Z",
     "shell.execute_reply": "2023-03-10T23:45:30.154944Z"
    },
    "papermill": {
     "duration": 0.039742,
     "end_time": "2023-03-10T23:45:30.159147",
     "exception": false,
     "start_time": "2023-03-10T23:45:30.119405",
     "status": "completed"
    },
    "tags": []
   },
   "outputs": [
    {
     "name": "stdout",
     "output_type": "stream",
     "text": [
      "PassengerId   -0.005007\n",
      "Survived       1.000000\n",
      "Pclass        -0.338481\n",
      "Name          -0.057343\n",
      "Sex           -0.543351\n",
      "Age           -0.069809\n",
      "SibSp         -0.035322\n",
      "Parch          0.081629\n",
      "Ticket        -0.164549\n",
      "Fare           0.257307\n",
      "Cabin          0.175690\n",
      "Embarked      -0.167675\n",
      "Name: Survived, dtype: float64\n"
     ]
    }
   ],
   "source": [
    "col_names=['PassengerId','Survived','Pclass',\"Name\",\"Sex\",\"Age\",\"SibSp\",\"Parch\",\"Ticket\",\"Fare\",\"Cabin\",\"Embarked\"]\n",
    "corr_values=training_data[training_data.columns[0:]].corr()['Survived']\n",
    "print(corr_values)"
   ]
  },
  {
   "cell_type": "markdown",
   "id": "6c802a77",
   "metadata": {
    "papermill": {
     "duration": 0.021925,
     "end_time": "2023-03-10T23:45:30.203747",
     "exception": false,
     "start_time": "2023-03-10T23:45:30.181822",
     "status": "completed"
    },
    "tags": []
   },
   "source": [
    "# Setting coefficient threshold"
   ]
  },
  {
   "cell_type": "code",
   "execution_count": 24,
   "id": "f7ff8575",
   "metadata": {
    "execution": {
     "iopub.execute_input": "2023-03-10T23:45:30.248885Z",
     "iopub.status.busy": "2023-03-10T23:45:30.247987Z",
     "iopub.status.idle": "2023-03-10T23:45:30.254614Z",
     "shell.execute_reply": "2023-03-10T23:45:30.253592Z"
    },
    "papermill": {
     "duration": 0.032162,
     "end_time": "2023-03-10T23:45:30.257254",
     "exception": false,
     "start_time": "2023-03-10T23:45:30.225092",
     "status": "completed"
    },
    "tags": []
   },
   "outputs": [
    {
     "name": "stdout",
     "output_type": "stream",
     "text": [
      "Survived\n",
      "Pclass\n",
      "Sex\n",
      "Ticket\n",
      "Fare\n",
      "Cabin\n",
      "Embarked\n"
     ]
    }
   ],
   "source": [
    "for i in range(len(corr_values)):\n",
    "    if abs(corr_values[i]) > 0.1:\n",
    "        print(col_names[i])"
   ]
  },
  {
   "cell_type": "markdown",
   "id": "e00ec725",
   "metadata": {
    "papermill": {
     "duration": 0.020569,
     "end_time": "2023-03-10T23:45:30.298815",
     "exception": false,
     "start_time": "2023-03-10T23:45:30.278246",
     "status": "completed"
    },
    "tags": []
   },
   "source": [
    "# HeatMap generation using correlation values"
   ]
  },
  {
   "cell_type": "code",
   "execution_count": 25,
   "id": "955ee4b3",
   "metadata": {
    "execution": {
     "iopub.execute_input": "2023-03-10T23:45:30.342921Z",
     "iopub.status.busy": "2023-03-10T23:45:30.342400Z",
     "iopub.status.idle": "2023-03-10T23:45:31.534368Z",
     "shell.execute_reply": "2023-03-10T23:45:31.533293Z"
    },
    "papermill": {
     "duration": 1.218313,
     "end_time": "2023-03-10T23:45:31.537992",
     "exception": false,
     "start_time": "2023-03-10T23:45:30.319679",
     "status": "completed"
    },
    "tags": []
   },
   "outputs": [
    {
     "data": {
      "text/plain": [
       "<AxesSubplot:>"
      ]
     },
     "execution_count": 25,
     "metadata": {},
     "output_type": "execute_result"
    },
    {
     "data": {
      "image/png": "[encoded data removed]",
      "text/plain": [
       "<Figure size 640x480 with 2 Axes>"
      ]
     },
     "metadata": {},
     "output_type": "display_data"
    }
   ],
   "source": [
    "sns.heatmap(training_data.corr(), annot=True,annot_kws={'size': 8})"
   ]
  },
  {
   "cell_type": "markdown",
   "id": "685b1df5",
   "metadata": {
    "papermill": {
     "duration": 0.02252,
     "end_time": "2023-03-10T23:45:31.584245",
     "exception": false,
     "start_time": "2023-03-10T23:45:31.561725",
     "status": "completed"
    },
    "tags": []
   },
   "source": [
    "Columns Pclass,Sex,Parch,Ticket,Fare,Cabin,Embarked have are positively correlated with Survival rate. Among these Sex,Pclass,Fare are highly correlated."
   ]
  },
  {
   "cell_type": "markdown",
   "id": "a3f805e3",
   "metadata": {
    "papermill": {
     "duration": 0.022398,
     "end_time": "2023-03-10T23:45:31.629574",
     "exception": false,
     "start_time": "2023-03-10T23:45:31.607176",
     "status": "completed"
    },
    "tags": []
   },
   "source": [
    "# Accuracy score calculation with correlation parameters using Random Forest Classifier"
   ]
  },
  {
   "cell_type": "code",
   "execution_count": 26,
   "id": "3cdce4d7",
   "metadata": {
    "execution": {
     "iopub.execute_input": "2023-03-10T23:45:31.680923Z",
     "iopub.status.busy": "2023-03-10T23:45:31.679898Z",
     "iopub.status.idle": "2023-03-10T23:45:31.892614Z",
     "shell.execute_reply": "2023-03-10T23:45:31.890845Z"
    },
    "papermill": {
     "duration": 0.241225,
     "end_time": "2023-03-10T23:45:31.895979",
     "exception": false,
     "start_time": "2023-03-10T23:45:31.654754",
     "status": "completed"
    },
    "tags": []
   },
   "outputs": [
    {
     "name": "stdout",
     "output_type": "stream",
     "text": [
      "0.8406779661016949\n"
     ]
    }
   ],
   "source": [
    "from sklearn.ensemble import RandomForestClassifier\n",
    "from sklearn.model_selection import train_test_split\n",
    "from sklearn import metrics\n",
    "\n",
    "y = training_data[\"Survived\"]\n",
    "features = [\"Pclass\",\"SibSp\",\"Parch\",\"Sex\",\"Fare\",\"Cabin\",\"Embarked\"]\n",
    "X = pd.get_dummies(training_data[features])\n",
    "X_train, X_test, y_train, y_test = train_test_split(X, y,  test_size=0.33, random_state=42)\n",
    "model = RandomForestClassifier(n_estimators=100, max_depth=5, random_state=1)\n",
    "model.fit(X, y)\n",
    "predictions_c = model.predict(X_test)\n",
    "print(metrics.accuracy_score(y_test,predictions_c))"
   ]
  },
  {
   "cell_type": "markdown",
   "id": "79ee75c2",
   "metadata": {
    "papermill": {
     "duration": 0.023853,
     "end_time": "2023-03-10T23:45:31.942466",
     "exception": false,
     "start_time": "2023-03-10T23:45:31.918613",
     "status": "completed"
    },
    "tags": []
   },
   "source": [
    "# Model prediction on test data"
   ]
  },
  {
   "cell_type": "code",
   "execution_count": 27,
   "id": "775f25f2",
   "metadata": {
    "execution": {
     "iopub.execute_input": "2023-03-10T23:45:31.990390Z",
     "iopub.status.busy": "2023-03-10T23:45:31.989574Z",
     "iopub.status.idle": "2023-03-10T23:45:32.021037Z",
     "shell.execute_reply": "2023-03-10T23:45:32.019713Z"
    },
    "papermill": {
     "duration": 0.058621,
     "end_time": "2023-03-10T23:45:32.023665",
     "exception": false,
     "start_time": "2023-03-10T23:45:31.965044",
     "status": "completed"
    },
    "tags": []
   },
   "outputs": [
    {
     "data": {
      "text/plain": [
       "array([0, 0, 0, 0, 1, 0, 1, 0, 1, 0, 0, 0, 1, 0, 1, 1, 0, 0, 0, 1, 1, 0,\n",
       "       1, 1, 1, 0, 1, 0, 0, 0, 0, 0, 0, 0, 1, 0, 0, 0, 0, 0, 0, 0, 0, 1,\n",
       "       1, 0, 0, 0, 1, 1, 0, 0, 1, 1, 0, 0, 0, 0, 0, 1, 0, 0, 0, 1, 1, 1,\n",
       "       1, 0, 0, 1, 1, 0, 0, 0, 1, 0, 0, 1, 0, 1, 0, 1, 0, 0, 0, 0, 1, 0,\n",
       "       1, 0, 1, 0, 1, 0, 0, 0, 1, 0, 0, 0, 1, 0, 0, 0, 1, 0, 0, 0, 0, 0,\n",
       "       0, 1, 1, 1, 1, 0, 0, 1, 1, 1, 1, 0, 1, 0, 0, 1, 0, 1, 0, 0, 0, 0,\n",
       "       0, 0, 0, 0, 0, 0, 0, 0, 0, 1, 1, 0, 0, 0, 0, 0, 0, 0, 1, 0, 0, 1,\n",
       "       0, 0, 1, 0, 0, 1, 1, 0, 1, 0, 0, 0, 0, 0, 1, 0, 0, 0, 0, 0, 0, 1,\n",
       "       1, 1, 1, 1, 0, 1, 1, 0, 1, 0, 1, 0, 0, 0, 0, 0, 0, 0, 0, 0, 1, 0,\n",
       "       0, 0, 1, 0, 1, 1, 0, 0, 1, 0, 1, 0, 0, 0, 0, 1, 0, 0, 1, 1, 1, 0,\n",
       "       1, 0, 1, 0, 1, 1, 0, 1, 0, 0, 0, 1, 0, 0, 1, 0, 1, 0, 1, 1, 1, 1,\n",
       "       1, 0, 0, 0, 1, 0, 1, 1, 1, 0, 0, 0, 0, 0, 0, 0, 1, 0, 0, 0, 1, 1,\n",
       "       0, 0, 0, 0, 0, 0, 0, 0, 1, 1, 0, 1, 0, 0, 0, 0, 0, 0, 1, 1, 1, 0,\n",
       "       0, 0, 0, 0, 0, 1, 0, 1, 0, 0, 1, 0, 0, 0, 0, 0, 0, 0, 1, 1, 1, 0,\n",
       "       1, 1, 0, 0, 0, 1, 1, 1, 1, 0, 0, 0, 0, 0, 0, 0, 1, 0, 1, 0, 0, 0,\n",
       "       1, 0, 0, 1, 0, 0, 0, 0, 0, 0, 0, 0, 0, 1, 0, 1, 0, 1, 0, 1, 1, 0,\n",
       "       0, 0, 0, 0, 1, 0, 0, 1, 0, 1, 1, 0, 1, 0, 0, 1, 1, 0, 0, 1, 0, 0,\n",
       "       1, 1, 0, 0, 0, 0, 0, 0, 1, 1, 0, 1, 0, 0, 0, 0, 0, 1, 0, 0, 0, 1,\n",
       "       0, 1, 0, 0, 1, 0, 1, 0, 0, 0, 0, 1, 1, 1, 1, 1, 0, 0, 1, 0, 0, 0])"
      ]
     },
     "execution_count": 27,
     "metadata": {},
     "output_type": "execute_result"
    }
   ],
   "source": [
    "test_predict = model.predict(testing_data[features])\n",
    "test_predict"
   ]
  },
  {
   "cell_type": "markdown",
   "id": "2774f6e6",
   "metadata": {
    "papermill": {
     "duration": 0.022585,
     "end_time": "2023-03-10T23:45:32.069401",
     "exception": false,
     "start_time": "2023-03-10T23:45:32.046816",
     "status": "completed"
    },
    "tags": []
   },
   "source": [
    "# Generating output csv"
   ]
  },
  {
   "cell_type": "code",
   "execution_count": 28,
   "id": "27159371",
   "metadata": {
    "execution": {
     "iopub.execute_input": "2023-03-10T23:45:32.121862Z",
     "iopub.status.busy": "2023-03-10T23:45:32.121079Z",
     "iopub.status.idle": "2023-03-10T23:45:32.131958Z",
     "shell.execute_reply": "2023-03-10T23:45:32.130393Z"
    },
    "papermill": {
     "duration": 0.040641,
     "end_time": "2023-03-10T23:45:32.135234",
     "exception": false,
     "start_time": "2023-03-10T23:45:32.094593",
     "status": "completed"
    },
    "tags": []
   },
   "outputs": [
    {
     "name": "stdout",
     "output_type": "stream",
     "text": [
      "Your submission was successfully saved!\n"
     ]
    }
   ],
   "source": [
    "output = pd.DataFrame({'PassengerId': testing_data.PassengerId, 'Survived': test_predict})\n",
    "output.to_csv('submission_corr.csv', index=False)\n",
    "print(\"Your submission was successfully saved!\")"
   ]
  },
  {
   "cell_type": "markdown",
   "id": "8decc6fe",
   "metadata": {
    "papermill": {
     "duration": 0.022617,
     "end_time": "2023-03-10T23:45:32.183250",
     "exception": false,
     "start_time": "2023-03-10T23:45:32.160633",
     "status": "completed"
    },
    "tags": []
   },
   "source": [
    "# Chi-Square test"
   ]
  },
  {
   "cell_type": "code",
   "execution_count": 29,
   "id": "de0d7aaf",
   "metadata": {
    "execution": {
     "iopub.execute_input": "2023-03-10T23:45:32.232834Z",
     "iopub.status.busy": "2023-03-10T23:45:32.232069Z",
     "iopub.status.idle": "2023-03-10T23:45:32.261544Z",
     "shell.execute_reply": "2023-03-10T23:45:32.260134Z"
    },
    "papermill": {
     "duration": 0.057502,
     "end_time": "2023-03-10T23:45:32.264552",
     "exception": false,
     "start_time": "2023-03-10T23:45:32.207050",
     "status": "completed"
    },
    "tags": []
   },
   "outputs": [
    {
     "data": {
      "text/plain": [
       "(array([3.31293407e+00, 3.08736994e+01, 4.35568915e+02, 9.27024470e+01,\n",
       "        2.46879258e+01, 2.58186538e+00, 1.00974991e+01, 2.87165547e+03,\n",
       "        4.51831909e+03, 2.84482789e+02, 1.02025247e+01]),\n",
       " array([6.87366651e-02, 2.75378563e-08, 9.97314604e-97, 6.07783826e-22,\n",
       "        6.74051416e-07, 1.08094210e-01, 1.48470676e-03, 0.00000000e+00,\n",
       "        0.00000000e+00, 7.92037850e-64, 1.40248517e-03]))"
      ]
     },
     "execution_count": 29,
     "metadata": {},
     "output_type": "execute_result"
    }
   ],
   "source": [
    "from sklearn.feature_selection import chi2\n",
    "X = training_data.drop('Survived',axis=1)\n",
    "y = training_data['Survived']\n",
    "chi_scores = chi2(X,y)\n",
    "chi_scores"
   ]
  },
  {
   "cell_type": "code",
   "execution_count": 30,
   "id": "2988fd2e",
   "metadata": {
    "execution": {
     "iopub.execute_input": "2023-03-10T23:45:32.315020Z",
     "iopub.status.busy": "2023-03-10T23:45:32.313757Z",
     "iopub.status.idle": "2023-03-10T23:45:32.614823Z",
     "shell.execute_reply": "2023-03-10T23:45:32.613784Z"
    },
    "papermill": {
     "duration": 0.328536,
     "end_time": "2023-03-10T23:45:32.617222",
     "exception": false,
     "start_time": "2023-03-10T23:45:32.288686",
     "status": "completed"
    },
    "tags": []
   },
   "outputs": [
    {
     "data": {
      "text/plain": [
       "<AxesSubplot:>"
      ]
     },
     "execution_count": 30,
     "metadata": {},
     "output_type": "execute_result"
    },
    {
     "data": {
      "image/png": "[encoded data removed]",
      "text/plain": [
       "<Figure size 640x480 with 1 Axes>"
      ]
     },
     "metadata": {},
     "output_type": "display_data"
    }
   ],
   "source": [
    "p_values = pd.Series(chi_scores[1],index = X.columns)\n",
    "p_values.sort_values(ascending = False , inplace = True)\n",
    "p_values.plot.bar()"
   ]
  },
  {
   "cell_type": "markdown",
   "id": "df04de59",
   "metadata": {
    "papermill": {
     "duration": 0.024034,
     "end_time": "2023-03-10T23:45:32.666000",
     "exception": false,
     "start_time": "2023-03-10T23:45:32.641966",
     "status": "completed"
    },
    "tags": []
   },
   "source": [
    "Features selected from above graph are Parch,Embarked,Age,Pclass,Sex,Cabin,Name,Ticket,Fare"
   ]
  },
  {
   "cell_type": "markdown",
   "id": "0336ead0",
   "metadata": {
    "papermill": {
     "duration": 0.023401,
     "end_time": "2023-03-10T23:45:32.714750",
     "exception": false,
     "start_time": "2023-03-10T23:45:32.691349",
     "status": "completed"
    },
    "tags": []
   },
   "source": [
    "# Train-test split"
   ]
  },
  {
   "cell_type": "code",
   "execution_count": 31,
   "id": "7d2930f4",
   "metadata": {
    "execution": {
     "iopub.execute_input": "2023-03-10T23:45:32.766332Z",
     "iopub.status.busy": "2023-03-10T23:45:32.765131Z",
     "iopub.status.idle": "2023-03-10T23:45:32.781255Z",
     "shell.execute_reply": "2023-03-10T23:45:32.779667Z"
    },
    "papermill": {
     "duration": 0.045359,
     "end_time": "2023-03-10T23:45:32.784764",
     "exception": false,
     "start_time": "2023-03-10T23:45:32.739405",
     "status": "completed"
    },
    "tags": []
   },
   "outputs": [],
   "source": [
    "y = training_data[\"Survived\"]\n",
    "\n",
    "features = [\"Pclass\",\"Name\",\"Sex\",\"Age\",\"Parch\",\"Ticket\",\"Fare\",\"Cabin\",\"Embarked\",]\n",
    "X = pd.get_dummies(training_data[features])\n",
    "X_train, X_test, y_train, y_test = train_test_split(X, y,  test_size=0.33, random_state=42)\n",
    "accuracy=[]"
   ]
  },
  {
   "cell_type": "markdown",
   "id": "93879cd3",
   "metadata": {
    "papermill": {
     "duration": 0.024145,
     "end_time": "2023-03-10T23:45:32.833310",
     "exception": false,
     "start_time": "2023-03-10T23:45:32.809165",
     "status": "completed"
    },
    "tags": []
   },
   "source": [
    "# Model prediction using Linear SVC"
   ]
  },
  {
   "cell_type": "code",
   "execution_count": 32,
   "id": "56046a5e",
   "metadata": {
    "execution": {
     "iopub.execute_input": "2023-03-10T23:45:32.885412Z",
     "iopub.status.busy": "2023-03-10T23:45:32.883863Z",
     "iopub.status.idle": "2023-03-10T23:46:27.263445Z",
     "shell.execute_reply": "2023-03-10T23:46:27.262098Z"
    },
    "papermill": {
     "duration": 54.40816,
     "end_time": "2023-03-10T23:46:27.266632",
     "exception": false,
     "start_time": "2023-03-10T23:45:32.858472",
     "status": "completed"
    },
    "tags": []
   },
   "outputs": [],
   "source": [
    "from sklearn import svm\n",
    "linear_svm = svm.SVC(kernel='linear', C = 1.0)\n",
    "linear_svm.fit(X,y)\n",
    "predictions_svm=linear_svm.predict(X_test)\n",
    "accuracy.append(metrics.accuracy_score(y_test,predictions_svm))"
   ]
  },
  {
   "cell_type": "markdown",
   "id": "ff905711",
   "metadata": {
    "papermill": {
     "duration": 0.022504,
     "end_time": "2023-03-10T23:46:27.312473",
     "exception": false,
     "start_time": "2023-03-10T23:46:27.289969",
     "status": "completed"
    },
    "tags": []
   },
   "source": [
    "# Model Prediction using Decision Tree Classifier"
   ]
  },
  {
   "cell_type": "code",
   "execution_count": 33,
   "id": "35623de7",
   "metadata": {
    "execution": {
     "iopub.execute_input": "2023-03-10T23:46:27.360411Z",
     "iopub.status.busy": "2023-03-10T23:46:27.360011Z",
     "iopub.status.idle": "2023-03-10T23:46:27.372900Z",
     "shell.execute_reply": "2023-03-10T23:46:27.372063Z"
    },
    "papermill": {
     "duration": 0.040038,
     "end_time": "2023-03-10T23:46:27.375313",
     "exception": false,
     "start_time": "2023-03-10T23:46:27.335275",
     "status": "completed"
    },
    "tags": []
   },
   "outputs": [],
   "source": [
    "from sklearn.tree import DecisionTreeClassifier\n",
    "dc=DecisionTreeClassifier(criterion = \"gini\",random_state = 100,max_depth=3, min_samples_leaf=5)\n",
    "dc.fit(X,y)\n",
    "predictions_dc=dc.predict(X_test)\n",
    "accuracy.append(metrics.accuracy_score(y_test,predictions_dc))"
   ]
  },
  {
   "cell_type": "markdown",
   "id": "ed210015",
   "metadata": {
    "papermill": {
     "duration": 0.022626,
     "end_time": "2023-03-10T23:46:27.420739",
     "exception": false,
     "start_time": "2023-03-10T23:46:27.398113",
     "status": "completed"
    },
    "tags": []
   },
   "source": [
    "# Model prediction using Logisitic Regression classifier\n"
   ]
  },
  {
   "cell_type": "code",
   "execution_count": 34,
   "id": "753f0ab2",
   "metadata": {
    "execution": {
     "iopub.execute_input": "2023-03-10T23:46:27.468536Z",
     "iopub.status.busy": "2023-03-10T23:46:27.467907Z",
     "iopub.status.idle": "2023-03-10T23:46:27.596542Z",
     "shell.execute_reply": "2023-03-10T23:46:27.595161Z"
    },
    "papermill": {
     "duration": 0.1562,
     "end_time": "2023-03-10T23:46:27.599685",
     "exception": false,
     "start_time": "2023-03-10T23:46:27.443485",
     "status": "completed"
    },
    "tags": []
   },
   "outputs": [],
   "source": [
    "from sklearn import linear_model\n",
    "lr_model= linear_model.LogisticRegression(max_iter=1000)  \n",
    "lr_model.fit(X, y)  \n",
    "predictions_lr = lr_model.predict(X_test)\n",
    "accuracy.append(metrics.accuracy_score(y_test,predictions_lr))"
   ]
  },
  {
   "cell_type": "markdown",
   "id": "94055473",
   "metadata": {
    "papermill": {
     "duration": 0.024129,
     "end_time": "2023-03-10T23:46:27.649954",
     "exception": false,
     "start_time": "2023-03-10T23:46:27.625825",
     "status": "completed"
    },
    "tags": []
   },
   "source": [
    "# Model prediction using RandomForest classifier"
   ]
  },
  {
   "cell_type": "code",
   "execution_count": 35,
   "id": "19a5e364",
   "metadata": {
    "execution": {
     "iopub.execute_input": "2023-03-10T23:46:27.701103Z",
     "iopub.status.busy": "2023-03-10T23:46:27.700496Z",
     "iopub.status.idle": "2023-03-10T23:46:28.148314Z",
     "shell.execute_reply": "2023-03-10T23:46:28.146416Z"
    },
    "papermill": {
     "duration": 0.477669,
     "end_time": "2023-03-10T23:46:28.151752",
     "exception": false,
     "start_time": "2023-03-10T23:46:27.674083",
     "status": "completed"
    },
    "tags": []
   },
   "outputs": [],
   "source": [
    "from sklearn.ensemble import RandomForestClassifier\n",
    "model = RandomForestClassifier(n_estimators=100, max_depth=5, random_state=1)\n",
    "model.fit(X, y)\n",
    "predictions_rf = model.predict(X_test)\n",
    "accuracy.append(metrics.accuracy_score(y_test,predictions_rf))\n"
   ]
  },
  {
   "cell_type": "markdown",
   "id": "bd81082c",
   "metadata": {
    "papermill": {
     "duration": 0.026136,
     "end_time": "2023-03-10T23:46:28.202901",
     "exception": false,
     "start_time": "2023-03-10T23:46:28.176765",
     "status": "completed"
    },
    "tags": []
   },
   "source": [
    "# Model prediction on test dataset"
   ]
  },
  {
   "cell_type": "code",
   "execution_count": 36,
   "id": "16ae4ba0",
   "metadata": {
    "execution": {
     "iopub.execute_input": "2023-03-10T23:46:28.254836Z",
     "iopub.status.busy": "2023-03-10T23:46:28.253954Z",
     "iopub.status.idle": "2023-03-10T23:46:28.286372Z",
     "shell.execute_reply": "2023-03-10T23:46:28.284887Z"
    },
    "papermill": {
     "duration": 0.062014,
     "end_time": "2023-03-10T23:46:28.289540",
     "exception": false,
     "start_time": "2023-03-10T23:46:28.227526",
     "status": "completed"
    },
    "tags": []
   },
   "outputs": [
    {
     "data": {
      "text/plain": [
       "array([0, 0, 0, 0, 1, 0, 1, 0, 1, 0, 0, 0, 1, 0, 1, 1, 0, 0, 0, 1, 0, 0,\n",
       "       1, 0, 1, 0, 1, 0, 0, 0, 0, 0, 0, 0, 0, 0, 1, 1, 0, 1, 0, 0, 0, 1,\n",
       "       1, 0, 0, 0, 1, 0, 0, 0, 1, 1, 0, 0, 0, 0, 0, 1, 0, 0, 0, 1, 1, 1,\n",
       "       1, 0, 0, 1, 1, 0, 1, 0, 1, 0, 0, 1, 0, 1, 1, 0, 0, 0, 0, 0, 1, 1,\n",
       "       1, 1, 1, 0, 1, 0, 0, 0, 1, 0, 1, 0, 1, 0, 0, 0, 1, 0, 0, 0, 0, 0,\n",
       "       0, 1, 1, 1, 1, 0, 0, 1, 1, 1, 1, 0, 1, 0, 0, 1, 0, 1, 0, 0, 0, 0,\n",
       "       0, 0, 0, 0, 0, 0, 0, 0, 0, 1, 0, 0, 0, 0, 0, 0, 1, 0, 1, 0, 0, 1,\n",
       "       0, 0, 1, 1, 0, 0, 1, 1, 1, 0, 0, 1, 0, 0, 1, 0, 0, 0, 0, 0, 0, 1,\n",
       "       1, 0, 1, 1, 0, 1, 1, 0, 1, 0, 1, 0, 0, 0, 0, 0, 0, 0, 1, 0, 1, 1,\n",
       "       0, 0, 1, 1, 0, 1, 0, 0, 1, 0, 1, 0, 0, 0, 0, 1, 1, 0, 1, 0, 1, 0,\n",
       "       1, 0, 1, 0, 1, 1, 0, 1, 0, 0, 0, 1, 0, 0, 0, 0, 0, 0, 1, 1, 1, 1,\n",
       "       0, 0, 0, 0, 1, 0, 1, 1, 1, 0, 1, 0, 0, 0, 0, 0, 1, 0, 0, 0, 1, 1,\n",
       "       0, 0, 0, 0, 0, 0, 0, 0, 1, 1, 0, 1, 0, 0, 0, 0, 1, 1, 1, 1, 1, 0,\n",
       "       0, 1, 0, 0, 0, 1, 0, 1, 0, 0, 1, 0, 0, 0, 0, 0, 0, 0, 1, 1, 1, 1,\n",
       "       1, 1, 0, 0, 0, 1, 1, 1, 0, 0, 0, 0, 0, 0, 0, 0, 1, 0, 1, 0, 0, 0,\n",
       "       1, 0, 0, 1, 0, 0, 0, 0, 0, 0, 0, 0, 0, 1, 0, 1, 0, 1, 0, 1, 1, 0,\n",
       "       0, 1, 1, 0, 1, 0, 0, 1, 0, 1, 1, 0, 1, 0, 0, 1, 1, 0, 0, 1, 0, 0,\n",
       "       1, 1, 1, 0, 0, 1, 0, 0, 1, 1, 0, 1, 0, 0, 0, 0, 1, 1, 0, 0, 0, 1,\n",
       "       0, 1, 0, 0, 1, 0, 1, 1, 0, 0, 0, 0, 1, 1, 1, 1, 1, 0, 1, 0, 0, 0])"
      ]
     },
     "execution_count": 36,
     "metadata": {},
     "output_type": "execute_result"
    }
   ],
   "source": [
    "test_predict = model.predict(testing_data[features])\n",
    "test_predict"
   ]
  },
  {
   "cell_type": "markdown",
   "id": "7b02252b",
   "metadata": {
    "papermill": {
     "duration": 0.024555,
     "end_time": "2023-03-10T23:46:28.338426",
     "exception": false,
     "start_time": "2023-03-10T23:46:28.313871",
     "status": "completed"
    },
    "tags": []
   },
   "source": [
    "# Plotting accuracy scores of all classifiers"
   ]
  },
  {
   "cell_type": "code",
   "execution_count": 37,
   "id": "89db1198",
   "metadata": {
    "execution": {
     "iopub.execute_input": "2023-03-10T23:46:28.390915Z",
     "iopub.status.busy": "2023-03-10T23:46:28.390063Z",
     "iopub.status.idle": "2023-03-10T23:46:28.654858Z",
     "shell.execute_reply": "2023-03-10T23:46:28.653782Z"
    },
    "papermill": {
     "duration": 0.294582,
     "end_time": "2023-03-10T23:46:28.657368",
     "exception": false,
     "start_time": "2023-03-10T23:46:28.362786",
     "status": "completed"
    },
    "tags": []
   },
   "outputs": [
    {
     "name": "stdout",
     "output_type": "stream",
     "text": [
      "            Classifiers  Accuracies\n",
      "0            Linear SVM    0.803390\n",
      "1         Decision Tree    0.827119\n",
      "2  Logisitic Regression    0.816949\n",
      "3         Random Forest    0.864407\n"
     ]
    },
    {
     "data": {
      "text/plain": [
       "<AxesSubplot:xlabel='Classifiers', ylabel='Accuracies'>"
      ]
     },
     "execution_count": 37,
     "metadata": {},
     "output_type": "execute_result"
    },
    {
     "data": {
      "image/png": "[encoded data removed]",
      "text/plain": [
       "<Figure size 640x480 with 1 Axes>"
      ]
     },
     "metadata": {},
     "output_type": "display_data"
    }
   ],
   "source": [
    "class_accuracy=[[\"Linear SVM\",accuracy[0]],[\"Decision Tree\",accuracy[1]],[\"Logisitic Regression\",accuracy[2]],[\"Random Forest\",accuracy[3]]]\n",
    "df=pd.DataFrame(class_accuracy,columns=[\"Classifiers\",\"Accuracies\"])\n",
    "print(df)\n",
    "sns.lineplot(data=df,x=df[\"Classifiers\"],y=df[\"Accuracies\"])"
   ]
  },
  {
   "cell_type": "markdown",
   "id": "8c60c150",
   "metadata": {
    "papermill": {
     "duration": 0.024933,
     "end_time": "2023-03-10T23:46:28.707819",
     "exception": false,
     "start_time": "2023-03-10T23:46:28.682886",
     "status": "completed"
    },
    "tags": []
   },
   "source": [
    "# Generating output csv"
   ]
  },
  {
   "cell_type": "code",
   "execution_count": 38,
   "id": "c73ba465",
   "metadata": {
    "execution": {
     "iopub.execute_input": "2023-03-10T23:46:28.761427Z",
     "iopub.status.busy": "2023-03-10T23:46:28.760302Z",
     "iopub.status.idle": "2023-03-10T23:46:28.771201Z",
     "shell.execute_reply": "2023-03-10T23:46:28.769883Z"
    },
    "papermill": {
     "duration": 0.041135,
     "end_time": "2023-03-10T23:46:28.774430",
     "exception": false,
     "start_time": "2023-03-10T23:46:28.733295",
     "status": "completed"
    },
    "tags": []
   },
   "outputs": [
    {
     "name": "stdout",
     "output_type": "stream",
     "text": [
      "Your submission was successfully saved!\n"
     ]
    }
   ],
   "source": [
    "output = pd.DataFrame({'PassengerId': testing_data.PassengerId, 'Survived': test_predict})\n",
    "output.to_csv('submission_randomforest.csv', index=False)\n",
    "print(\"Your submission was successfully saved!\")"
   ]
  }
 ],
 "metadata": {
  "kernelspec": {
   "display_name": "Python 3",
   "language": "python",
   "name": "python3"
  },
  "language_info": {
   "codemirror_mode": {
    "name": "ipython",
    "version": 3
   },
   "file_extension": ".py",
   "mimetype": "text/x-python",
   "name": "python",
   "nbconvert_exporter": "python",
   "pygments_lexer": "ipython3",
   "version": "3.7.12"
  },
  "papermill": {
   "default_parameters": {},
   "duration": 77.886326,
   "end_time": "2023-03-10T23:46:30.028556",
   "environment_variables": {},
   "exception": null,
   "input_path": "__notebook__.ipynb",
   "output_path": "__notebook__.ipynb",
   "parameters": {},
   "start_time": "2023-03-10T23:45:12.142230",
   "version": "2.3.4"
  }
 },
 "nbformat": 4,
 "nbformat_minor": 5
}
